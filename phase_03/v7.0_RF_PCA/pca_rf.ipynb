{
 "cells": [
  {
   "cell_type": "markdown",
   "source": [
    "## Imports"
   ],
   "metadata": {}
  },
  {
   "cell_type": "code",
   "execution_count": 11,
   "source": [
    "import pandas as pd \n",
    "import numpy as np \n",
    "from matplotlib import pyplot as plt \n",
    "from sklearn.decomposition import PCA\n",
    "from tqdm import tqdm\n",
    "import seaborn as sns\n",
    "\n",
    "from sklearn.ensemble import RandomForestClassifier\n",
    "from sklearn.model_selection import train_test_split\n",
    "from sklearn.metrics import confusion_matrix \n",
    "\n",
    "from IPython.display import display"
   ],
   "outputs": [],
   "metadata": {}
  },
  {
   "cell_type": "markdown",
   "source": [
    "## Load Data"
   ],
   "metadata": {}
  },
  {
   "cell_type": "code",
   "execution_count": null,
   "source": [],
   "outputs": [],
   "metadata": {}
  },
  {
   "cell_type": "code",
   "execution_count": 2,
   "source": [
    "import seaborn as sns"
   ],
   "outputs": [],
   "metadata": {}
  },
  {
   "cell_type": "code",
   "execution_count": 3,
   "source": [
    "data =  pd.read_csv('processed_data/train_norm_no' , index_col = 0)\n",
    "data = data.sample(frac=1).reset_index(drop=True)\n",
    "data.head()"
   ],
   "outputs": [
    {
     "output_type": "execute_result",
     "data": {
      "text/plain": [
       "  class                 src_n  src_id  significance  flux_aper_hilim_s  \\\n",
       "0    NS  XMMU J004245.2+41172  NS0044         49.26           0.853540   \n",
       "1    BH  J1745-2900            BH0027        337.00           0.201677   \n",
       "2    BH  J1745-2900            BH0027        337.00           0.250868   \n",
       "3    NS  1A 1742-289           NS0001        167.36           0.206103   \n",
       "4    NS  XMMU J004245.2+41172  NS0044         49.26           0.642950   \n",
       "\n",
       "   flux_aper_hilim_u  flux_aper_hilim_m  flux_aper_hilim_h  flux_aper_hilim_b  \\\n",
       "0           0.584997           0.604768           0.609744           0.724001   \n",
       "1           0.405622           0.284089           0.527613           0.516858   \n",
       "2           0.305995           0.286632           0.566775           0.559071   \n",
       "3           0.401787           0.203195           0.451015           0.438906   \n",
       "4           0.711407           0.555852           0.639998           0.651953   \n",
       "\n",
       "   flux_aper_lolim_s  ...  flux_brems  flux_brems_lolim  flux_brems_hilim  \\\n",
       "0           0.826792  ...         NaN               NaN               NaN   \n",
       "1                NaN  ...         NaN               NaN               NaN   \n",
       "2           0.183077  ...     0.00816          0.001723          0.010962   \n",
       "3                NaN  ...         NaN               NaN               NaN   \n",
       "4           0.646214  ...         NaN               NaN               NaN   \n",
       "\n",
       "   brems_kt  brems_kt_hilim  brems_kt_lolim  brems_nh  brems_nh_hilim  \\\n",
       "0       NaN             NaN             NaN       NaN             NaN   \n",
       "1       NaN             NaN             NaN       NaN             NaN   \n",
       "2   0.04663        0.696288        0.027771  0.391576        0.440033   \n",
       "3       NaN             NaN             NaN       NaN             NaN   \n",
       "4       NaN             NaN             NaN       NaN             NaN   \n",
       "\n",
       "   brems_nh_lolim  brems_stat  \n",
       "0             NaN         NaN  \n",
       "1             NaN         NaN  \n",
       "2        0.313944     0.09888  \n",
       "3             NaN         NaN  \n",
       "4             NaN         NaN  \n",
       "\n",
       "[5 rows x 96 columns]"
      ],
      "text/html": [
       "<div>\n",
       "<style scoped>\n",
       "    .dataframe tbody tr th:only-of-type {\n",
       "        vertical-align: middle;\n",
       "    }\n",
       "\n",
       "    .dataframe tbody tr th {\n",
       "        vertical-align: top;\n",
       "    }\n",
       "\n",
       "    .dataframe thead th {\n",
       "        text-align: right;\n",
       "    }\n",
       "</style>\n",
       "<table border=\"1\" class=\"dataframe\">\n",
       "  <thead>\n",
       "    <tr style=\"text-align: right;\">\n",
       "      <th></th>\n",
       "      <th>class</th>\n",
       "      <th>src_n</th>\n",
       "      <th>src_id</th>\n",
       "      <th>significance</th>\n",
       "      <th>flux_aper_hilim_s</th>\n",
       "      <th>flux_aper_hilim_u</th>\n",
       "      <th>flux_aper_hilim_m</th>\n",
       "      <th>flux_aper_hilim_h</th>\n",
       "      <th>flux_aper_hilim_b</th>\n",
       "      <th>flux_aper_lolim_s</th>\n",
       "      <th>...</th>\n",
       "      <th>flux_brems</th>\n",
       "      <th>flux_brems_lolim</th>\n",
       "      <th>flux_brems_hilim</th>\n",
       "      <th>brems_kt</th>\n",
       "      <th>brems_kt_hilim</th>\n",
       "      <th>brems_kt_lolim</th>\n",
       "      <th>brems_nh</th>\n",
       "      <th>brems_nh_hilim</th>\n",
       "      <th>brems_nh_lolim</th>\n",
       "      <th>brems_stat</th>\n",
       "    </tr>\n",
       "  </thead>\n",
       "  <tbody>\n",
       "    <tr>\n",
       "      <th>0</th>\n",
       "      <td>NS</td>\n",
       "      <td>XMMU J004245.2+41172</td>\n",
       "      <td>NS0044</td>\n",
       "      <td>49.26</td>\n",
       "      <td>0.853540</td>\n",
       "      <td>0.584997</td>\n",
       "      <td>0.604768</td>\n",
       "      <td>0.609744</td>\n",
       "      <td>0.724001</td>\n",
       "      <td>0.826792</td>\n",
       "      <td>...</td>\n",
       "      <td>NaN</td>\n",
       "      <td>NaN</td>\n",
       "      <td>NaN</td>\n",
       "      <td>NaN</td>\n",
       "      <td>NaN</td>\n",
       "      <td>NaN</td>\n",
       "      <td>NaN</td>\n",
       "      <td>NaN</td>\n",
       "      <td>NaN</td>\n",
       "      <td>NaN</td>\n",
       "    </tr>\n",
       "    <tr>\n",
       "      <th>1</th>\n",
       "      <td>BH</td>\n",
       "      <td>J1745-2900</td>\n",
       "      <td>BH0027</td>\n",
       "      <td>337.00</td>\n",
       "      <td>0.201677</td>\n",
       "      <td>0.405622</td>\n",
       "      <td>0.284089</td>\n",
       "      <td>0.527613</td>\n",
       "      <td>0.516858</td>\n",
       "      <td>NaN</td>\n",
       "      <td>...</td>\n",
       "      <td>NaN</td>\n",
       "      <td>NaN</td>\n",
       "      <td>NaN</td>\n",
       "      <td>NaN</td>\n",
       "      <td>NaN</td>\n",
       "      <td>NaN</td>\n",
       "      <td>NaN</td>\n",
       "      <td>NaN</td>\n",
       "      <td>NaN</td>\n",
       "      <td>NaN</td>\n",
       "    </tr>\n",
       "    <tr>\n",
       "      <th>2</th>\n",
       "      <td>BH</td>\n",
       "      <td>J1745-2900</td>\n",
       "      <td>BH0027</td>\n",
       "      <td>337.00</td>\n",
       "      <td>0.250868</td>\n",
       "      <td>0.305995</td>\n",
       "      <td>0.286632</td>\n",
       "      <td>0.566775</td>\n",
       "      <td>0.559071</td>\n",
       "      <td>0.183077</td>\n",
       "      <td>...</td>\n",
       "      <td>0.00816</td>\n",
       "      <td>0.001723</td>\n",
       "      <td>0.010962</td>\n",
       "      <td>0.04663</td>\n",
       "      <td>0.696288</td>\n",
       "      <td>0.027771</td>\n",
       "      <td>0.391576</td>\n",
       "      <td>0.440033</td>\n",
       "      <td>0.313944</td>\n",
       "      <td>0.09888</td>\n",
       "    </tr>\n",
       "    <tr>\n",
       "      <th>3</th>\n",
       "      <td>NS</td>\n",
       "      <td>1A 1742-289</td>\n",
       "      <td>NS0001</td>\n",
       "      <td>167.36</td>\n",
       "      <td>0.206103</td>\n",
       "      <td>0.401787</td>\n",
       "      <td>0.203195</td>\n",
       "      <td>0.451015</td>\n",
       "      <td>0.438906</td>\n",
       "      <td>NaN</td>\n",
       "      <td>...</td>\n",
       "      <td>NaN</td>\n",
       "      <td>NaN</td>\n",
       "      <td>NaN</td>\n",
       "      <td>NaN</td>\n",
       "      <td>NaN</td>\n",
       "      <td>NaN</td>\n",
       "      <td>NaN</td>\n",
       "      <td>NaN</td>\n",
       "      <td>NaN</td>\n",
       "      <td>NaN</td>\n",
       "    </tr>\n",
       "    <tr>\n",
       "      <th>4</th>\n",
       "      <td>NS</td>\n",
       "      <td>XMMU J004245.2+41172</td>\n",
       "      <td>NS0044</td>\n",
       "      <td>49.26</td>\n",
       "      <td>0.642950</td>\n",
       "      <td>0.711407</td>\n",
       "      <td>0.555852</td>\n",
       "      <td>0.639998</td>\n",
       "      <td>0.651953</td>\n",
       "      <td>0.646214</td>\n",
       "      <td>...</td>\n",
       "      <td>NaN</td>\n",
       "      <td>NaN</td>\n",
       "      <td>NaN</td>\n",
       "      <td>NaN</td>\n",
       "      <td>NaN</td>\n",
       "      <td>NaN</td>\n",
       "      <td>NaN</td>\n",
       "      <td>NaN</td>\n",
       "      <td>NaN</td>\n",
       "      <td>NaN</td>\n",
       "    </tr>\n",
       "  </tbody>\n",
       "</table>\n",
       "<p>5 rows × 96 columns</p>\n",
       "</div>"
      ]
     },
     "metadata": {},
     "execution_count": 3
    }
   ],
   "metadata": {}
  },
  {
   "cell_type": "code",
   "execution_count": 4,
   "source": [
    "info_col = [ 'class' , 'src_n' , 'src_id' , 'significance']\n",
    "data_info = data[info_col]\n",
    "data_val = data.drop(columns=info_col) \n",
    "data_label = data['class']"
   ],
   "outputs": [],
   "metadata": {}
  },
  {
   "cell_type": "code",
   "execution_count": 5,
   "source": [
    "from sklearn.model_selection import validation_curve\n",
    "from sklearn.ensemble import RandomForestClassifier \n",
    "clf = RandomForestClassifier()"
   ],
   "outputs": [],
   "metadata": {}
  },
  {
   "cell_type": "markdown",
   "source": [
    "# PCA"
   ],
   "metadata": {}
  },
  {
   "cell_type": "markdown",
   "source": [
    "### Acc Function"
   ],
   "metadata": {}
  },
  {
   "cell_type": "code",
   "execution_count": 6,
   "source": [
    "def acc_df(train_scores , valid_scores , param_range, n_dim):\n",
    "    df = pd.DataFrame(train_scores)\n",
    "    df.insert(0 , 'num_trees' , param_range)\n",
    "    df = df.set_index('num_trees')\n",
    "    df_train = df.stack().reset_index().drop(columns=['level_1']).set_index('num_trees')\n",
    "    df_train.columns = ['acc_val']\n",
    "    df_train.insert(1 , 'acc_type' , ['train_acc']*len(df_train))\n",
    "    df_train.insert(0 , 'n_dim' , [n_dim]*len(df_train))\n",
    "    df_train\n",
    "\n",
    "    df = pd.DataFrame(valid_scores)\n",
    "    df.insert(0 , 'num_trees' , param_range)\n",
    "    df = df.set_index('num_trees')\n",
    "    df_test = df.stack().reset_index().drop(columns=['level_1']).set_index('num_trees')\n",
    "    df_test.columns = ['acc_val']\n",
    "    df_test.insert(1 , 'acc_type' , ['test_acc']*len(df_test))\n",
    "    df_test.insert(0 , 'n_dim' , [n_dim]*len(df_test))\n",
    "    df_test\n",
    "    acc = pd.concat([df_train , df_test] , axis=0).reset_index()\n",
    "    return acc"
   ],
   "outputs": [],
   "metadata": {}
  },
  {
   "cell_type": "code",
   "execution_count": 7,
   "source": [
    "def pca_wrap(param_name , param_range , n_dim = 10 , ):\n",
    "    np.random.seed(29832)\n",
    "    indices = np.arange(data_label.shape[0])\n",
    "    if(n_dim < data_val.shape[1]):\n",
    "        data_pca = PCA(n_components=n_dim , whiten=True ).fit_transform(data_val)\n",
    "    else : data_pca = data_val.copy().values\n",
    "    X, y = data_pca[indices], data_label.iloc[indices]\n",
    "    train_scores, valid_scores = validation_curve(clf, X, y, param_name=param_name, param_range=param_range,cv=5)\n",
    "    acc = acc_df(train_scores , valid_scores, param_range , n_dim)\n",
    "    return acc\n"
   ],
   "outputs": [],
   "metadata": {}
  },
  {
   "cell_type": "code",
   "execution_count": null,
   "source": [
    "n_tree_range=np.arange(100,500 , 150)\n",
    "n_dim_range = np.linspace(1.1,1.325 , num=16)**16\n",
    "n_dim_range = [int(ti) for ti in n_dim_range ]\n",
    "n_dim_range= np.append(n_dim_range[:-1],92)\n",
    "n_dim_range= np.append(n_dim_range[:],6)\n",
    "print(n_dim_range[:])\n",
    "print(n_tree_range[:])\n",
    "acc_02 = []\n",
    "\n",
    "for pi in tqdm(n_dim_range):\n",
    "    acc_02.append(pca_wrap('n_estimators' , n_tree_range , pi)) \n",
    "\n"
   ],
   "outputs": [],
   "metadata": {}
  },
  {
   "cell_type": "code",
   "execution_count": 52,
   "source": [
    "acc_all_02 = pd.concat(acc_02).reset_index(drop=True)\n",
    "acc_all_02.insert(2 , 'impute_type' , ['Mean_impute']*len(acc_all_02))\n",
    "acc_all_02"
   ],
   "outputs": [
    {
     "output_type": "execute_result",
     "data": {
      "text/plain": [
       "     num_trees  n_dim  impute_type   acc_val   acc_type\n",
       "0          100      4  Mean_impute  1.000000  train_acc\n",
       "1          100      4  Mean_impute  1.000000  train_acc\n",
       "2          100      4  Mean_impute  1.000000  train_acc\n",
       "3          100      4  Mean_impute  1.000000  train_acc\n",
       "4          100      4  Mean_impute  1.000000  train_acc\n",
       "..         ...    ...          ...       ...        ...\n",
       "505        400      6  Mean_impute  0.891304   test_acc\n",
       "506        400      6  Mean_impute  0.815217   test_acc\n",
       "507        400      6  Mean_impute  0.858696   test_acc\n",
       "508        400      6  Mean_impute  0.815217   test_acc\n",
       "509        400      6  Mean_impute  0.782609   test_acc\n",
       "\n",
       "[510 rows x 5 columns]"
      ],
      "text/html": [
       "<div>\n",
       "<style scoped>\n",
       "    .dataframe tbody tr th:only-of-type {\n",
       "        vertical-align: middle;\n",
       "    }\n",
       "\n",
       "    .dataframe tbody tr th {\n",
       "        vertical-align: top;\n",
       "    }\n",
       "\n",
       "    .dataframe thead th {\n",
       "        text-align: right;\n",
       "    }\n",
       "</style>\n",
       "<table border=\"1\" class=\"dataframe\">\n",
       "  <thead>\n",
       "    <tr style=\"text-align: right;\">\n",
       "      <th></th>\n",
       "      <th>num_trees</th>\n",
       "      <th>n_dim</th>\n",
       "      <th>impute_type</th>\n",
       "      <th>acc_val</th>\n",
       "      <th>acc_type</th>\n",
       "    </tr>\n",
       "  </thead>\n",
       "  <tbody>\n",
       "    <tr>\n",
       "      <th>0</th>\n",
       "      <td>100</td>\n",
       "      <td>4</td>\n",
       "      <td>Mean_impute</td>\n",
       "      <td>1.000000</td>\n",
       "      <td>train_acc</td>\n",
       "    </tr>\n",
       "    <tr>\n",
       "      <th>1</th>\n",
       "      <td>100</td>\n",
       "      <td>4</td>\n",
       "      <td>Mean_impute</td>\n",
       "      <td>1.000000</td>\n",
       "      <td>train_acc</td>\n",
       "    </tr>\n",
       "    <tr>\n",
       "      <th>2</th>\n",
       "      <td>100</td>\n",
       "      <td>4</td>\n",
       "      <td>Mean_impute</td>\n",
       "      <td>1.000000</td>\n",
       "      <td>train_acc</td>\n",
       "    </tr>\n",
       "    <tr>\n",
       "      <th>3</th>\n",
       "      <td>100</td>\n",
       "      <td>4</td>\n",
       "      <td>Mean_impute</td>\n",
       "      <td>1.000000</td>\n",
       "      <td>train_acc</td>\n",
       "    </tr>\n",
       "    <tr>\n",
       "      <th>4</th>\n",
       "      <td>100</td>\n",
       "      <td>4</td>\n",
       "      <td>Mean_impute</td>\n",
       "      <td>1.000000</td>\n",
       "      <td>train_acc</td>\n",
       "    </tr>\n",
       "    <tr>\n",
       "      <th>...</th>\n",
       "      <td>...</td>\n",
       "      <td>...</td>\n",
       "      <td>...</td>\n",
       "      <td>...</td>\n",
       "      <td>...</td>\n",
       "    </tr>\n",
       "    <tr>\n",
       "      <th>505</th>\n",
       "      <td>400</td>\n",
       "      <td>6</td>\n",
       "      <td>Mean_impute</td>\n",
       "      <td>0.891304</td>\n",
       "      <td>test_acc</td>\n",
       "    </tr>\n",
       "    <tr>\n",
       "      <th>506</th>\n",
       "      <td>400</td>\n",
       "      <td>6</td>\n",
       "      <td>Mean_impute</td>\n",
       "      <td>0.815217</td>\n",
       "      <td>test_acc</td>\n",
       "    </tr>\n",
       "    <tr>\n",
       "      <th>507</th>\n",
       "      <td>400</td>\n",
       "      <td>6</td>\n",
       "      <td>Mean_impute</td>\n",
       "      <td>0.858696</td>\n",
       "      <td>test_acc</td>\n",
       "    </tr>\n",
       "    <tr>\n",
       "      <th>508</th>\n",
       "      <td>400</td>\n",
       "      <td>6</td>\n",
       "      <td>Mean_impute</td>\n",
       "      <td>0.815217</td>\n",
       "      <td>test_acc</td>\n",
       "    </tr>\n",
       "    <tr>\n",
       "      <th>509</th>\n",
       "      <td>400</td>\n",
       "      <td>6</td>\n",
       "      <td>Mean_impute</td>\n",
       "      <td>0.782609</td>\n",
       "      <td>test_acc</td>\n",
       "    </tr>\n",
       "  </tbody>\n",
       "</table>\n",
       "<p>510 rows × 5 columns</p>\n",
       "</div>"
      ]
     },
     "metadata": {},
     "execution_count": 52
    }
   ],
   "metadata": {}
  },
  {
   "cell_type": "code",
   "execution_count": 26,
   "source": [
    "acc_all = pd.concat(acc).reset_index(drop=True)\n",
    "acc_all.insert(2 , 'impute_type' , ['Median_impute']*len(acc_all))\n",
    "acc_all"
   ],
   "outputs": [
    {
     "output_type": "execute_result",
     "data": {
      "text/plain": [
       "     num_trees  n_dim    impute_type   acc_val   acc_type\n",
       "0          100      4  Median_impute  1.000000  train_acc\n",
       "1          100      4  Median_impute  1.000000  train_acc\n",
       "2          100      4  Median_impute  1.000000  train_acc\n",
       "3          100      4  Median_impute  1.000000  train_acc\n",
       "4          100      4  Median_impute  1.000000  train_acc\n",
       "..         ...    ...            ...       ...        ...\n",
       "505        400     92  Median_impute  0.880435   test_acc\n",
       "506        400     92  Median_impute  0.945652   test_acc\n",
       "507        400     92  Median_impute  0.858696   test_acc\n",
       "508        400     92  Median_impute  0.913043   test_acc\n",
       "509        400     92  Median_impute  0.913043   test_acc\n",
       "\n",
       "[510 rows x 5 columns]"
      ],
      "text/html": [
       "<div>\n",
       "<style scoped>\n",
       "    .dataframe tbody tr th:only-of-type {\n",
       "        vertical-align: middle;\n",
       "    }\n",
       "\n",
       "    .dataframe tbody tr th {\n",
       "        vertical-align: top;\n",
       "    }\n",
       "\n",
       "    .dataframe thead th {\n",
       "        text-align: right;\n",
       "    }\n",
       "</style>\n",
       "<table border=\"1\" class=\"dataframe\">\n",
       "  <thead>\n",
       "    <tr style=\"text-align: right;\">\n",
       "      <th></th>\n",
       "      <th>num_trees</th>\n",
       "      <th>n_dim</th>\n",
       "      <th>impute_type</th>\n",
       "      <th>acc_val</th>\n",
       "      <th>acc_type</th>\n",
       "    </tr>\n",
       "  </thead>\n",
       "  <tbody>\n",
       "    <tr>\n",
       "      <th>0</th>\n",
       "      <td>100</td>\n",
       "      <td>4</td>\n",
       "      <td>Median_impute</td>\n",
       "      <td>1.000000</td>\n",
       "      <td>train_acc</td>\n",
       "    </tr>\n",
       "    <tr>\n",
       "      <th>1</th>\n",
       "      <td>100</td>\n",
       "      <td>4</td>\n",
       "      <td>Median_impute</td>\n",
       "      <td>1.000000</td>\n",
       "      <td>train_acc</td>\n",
       "    </tr>\n",
       "    <tr>\n",
       "      <th>2</th>\n",
       "      <td>100</td>\n",
       "      <td>4</td>\n",
       "      <td>Median_impute</td>\n",
       "      <td>1.000000</td>\n",
       "      <td>train_acc</td>\n",
       "    </tr>\n",
       "    <tr>\n",
       "      <th>3</th>\n",
       "      <td>100</td>\n",
       "      <td>4</td>\n",
       "      <td>Median_impute</td>\n",
       "      <td>1.000000</td>\n",
       "      <td>train_acc</td>\n",
       "    </tr>\n",
       "    <tr>\n",
       "      <th>4</th>\n",
       "      <td>100</td>\n",
       "      <td>4</td>\n",
       "      <td>Median_impute</td>\n",
       "      <td>1.000000</td>\n",
       "      <td>train_acc</td>\n",
       "    </tr>\n",
       "    <tr>\n",
       "      <th>...</th>\n",
       "      <td>...</td>\n",
       "      <td>...</td>\n",
       "      <td>...</td>\n",
       "      <td>...</td>\n",
       "      <td>...</td>\n",
       "    </tr>\n",
       "    <tr>\n",
       "      <th>505</th>\n",
       "      <td>400</td>\n",
       "      <td>92</td>\n",
       "      <td>Median_impute</td>\n",
       "      <td>0.880435</td>\n",
       "      <td>test_acc</td>\n",
       "    </tr>\n",
       "    <tr>\n",
       "      <th>506</th>\n",
       "      <td>400</td>\n",
       "      <td>92</td>\n",
       "      <td>Median_impute</td>\n",
       "      <td>0.945652</td>\n",
       "      <td>test_acc</td>\n",
       "    </tr>\n",
       "    <tr>\n",
       "      <th>507</th>\n",
       "      <td>400</td>\n",
       "      <td>92</td>\n",
       "      <td>Median_impute</td>\n",
       "      <td>0.858696</td>\n",
       "      <td>test_acc</td>\n",
       "    </tr>\n",
       "    <tr>\n",
       "      <th>508</th>\n",
       "      <td>400</td>\n",
       "      <td>92</td>\n",
       "      <td>Median_impute</td>\n",
       "      <td>0.913043</td>\n",
       "      <td>test_acc</td>\n",
       "    </tr>\n",
       "    <tr>\n",
       "      <th>509</th>\n",
       "      <td>400</td>\n",
       "      <td>92</td>\n",
       "      <td>Median_impute</td>\n",
       "      <td>0.913043</td>\n",
       "      <td>test_acc</td>\n",
       "    </tr>\n",
       "  </tbody>\n",
       "</table>\n",
       "<p>510 rows × 5 columns</p>\n",
       "</div>"
      ]
     },
     "metadata": {},
     "execution_count": 26
    }
   ],
   "metadata": {}
  },
  {
   "cell_type": "code",
   "execution_count": 53,
   "source": [
    "acc_all = pd.concat([acc_all , acc_all_02]).reset_index(drop=True)"
   ],
   "outputs": [],
   "metadata": {}
  },
  {
   "cell_type": "code",
   "execution_count": 60,
   "source": [
    "#sns.set_theme('paper')\n",
    "sns.set_style('whitegrid')\n",
    "colors = sns.color_palette('mako' ,n_colors=2)\n",
    "#colors = sns.diverging_palette(240, 10, s=80, l=55, n=2 , center='dark')\n",
    "to_plot = acc_all[acc_all['acc_type']=='test_acc']\n",
    "to_plot = to_plot[to_plot['impute_type'].isin(['Zero_impute' , 'Corr_impute'])]\n",
    "#to_plot = to_plot[to_plot['num_trees']>10]\n",
    "acc_plot = sns.relplot(\n",
    "    data = to_plot , kind='line' , \n",
    "    x = 'n_dim' , y = 'acc_val' , \n",
    "    hue = 'impute_type' ,\n",
    "    height = 6 , aspect = 8/6,\n",
    "    color = 'crest',\n",
    "    #alpha=0.1\n",
    "    palette= colors\n",
    ")\n",
    "acc_plot.set(xscale='log')\n",
    "#acc_plot.set(yscale='log')\n",
    "acc_plot.set(xticks=n_dim_range)\n",
    "acc_plot.set(xticklabels=n_dim_range)\n",
    "#plt.title('Perfomance on Lower decomposed dim')\n",
    "#plt.ylabel('Test Accuracy')\n",
    "#plt.xlabel('Dimensions')\n",
    "plt.savefig('result/pca_dim_plot.png')\n",
    "plt.show()"
   ],
   "outputs": [],
   "metadata": {}
  },
  {
   "cell_type": "code",
   "execution_count": 20,
   "source": [
    "sns.set_theme('paper')\n",
    "sns.set_style('whitegrid')\n",
    "palette = sns.color_palette(\"mako_r\", 4)\n",
    "to_plot = acc_all[acc_all['acc_type']=='test_acc']\n",
    "to_plot = to_plot[to_plot['n_dim']==7]\n",
    "acc_plot = sns.relplot(\n",
    "    data = to_plot , kind='line' , \n",
    "    x = 'num_trees' , y = 'acc_val' , \n",
    "    #hue = 'num_trees' ,\n",
    "    height = 6 , aspect = 8/6,\n",
    "    palette='copper'\n",
    ")\n",
    "#acc_plot.set(xscale='log')\n",
    "#acc_plot.set(yscale='log')\n",
    "#acc_plot.set(xticks=n_dim_range)\n",
    "#acc_plot.set(xticklabels=n_dim_range)\n",
    "plt.show()"
   ],
   "outputs": [
    {
     "output_type": "display_data",
     "data": {
      "text/plain": [
       "<Figure size 576x432 with 1 Axes>"
      ],
      "image/svg+xml": "<?xml version=\"1.0\" encoding=\"utf-8\" standalone=\"no\"?>\n<!DOCTYPE svg PUBLIC \"-//W3C//DTD SVG 1.1//EN\"\n  \"http://www.w3.org/Graphics/SVG/1.1/DTD/svg11.dtd\">\n<!-- Created with matplotlib (https://matplotlib.org/) -->\n<svg height=\"424.315062pt\" version=\"1.1\" viewBox=\"0 0 569.31575 424.315062\" width=\"569.31575pt\" xmlns=\"http://www.w3.org/2000/svg\" xmlns:xlink=\"http://www.w3.org/1999/xlink\">\n <metadata>\n  <rdf:RDF xmlns:cc=\"http://creativecommons.org/ns#\" xmlns:dc=\"http://purl.org/dc/elements/1.1/\" xmlns:rdf=\"http://www.w3.org/1999/02/22-rdf-syntax-ns#\">\n   <cc:Work>\n    <dc:type rdf:resource=\"http://purl.org/dc/dcmitype/StillImage\"/>\n    <dc:date>2021-10-15T03:38:57.105299</dc:date>\n    <dc:format>image/svg+xml</dc:format>\n    <dc:creator>\n     <cc:Agent>\n      <dc:title>Matplotlib v3.3.4, https://matplotlib.org/</dc:title>\n     </cc:Agent>\n    </dc:creator>\n   </cc:Work>\n  </rdf:RDF>\n </metadata>\n <defs>\n  <style type=\"text/css\">*{stroke-linecap:butt;stroke-linejoin:round;}</style>\n </defs>\n <g id=\"figure_1\">\n  <g id=\"patch_1\">\n   <path d=\"M 0 424.315062 \nL 569.31575 424.315062 \nL 569.31575 0 \nL 0 0 \nz\n\" style=\"fill:#ffffff;\"/>\n  </g>\n  <g id=\"axes_1\">\n   <g id=\"patch_2\">\n    <path d=\"M 48.65175 387.007312 \nL 562.11575 387.007312 \nL 562.11575 10.543313 \nL 48.65175 10.543313 \nz\n\" style=\"fill:#ffffff;\"/>\n   </g>\n   <g id=\"matplotlib.axis_1\">\n    <g id=\"xtick_1\">\n     <g id=\"line2d_1\">\n      <path clip-path=\"url(#p4739452485)\" d=\"M 71.991023 387.007312 \nL 71.991023 10.543313 \n\" style=\"fill:none;stroke:#cccccc;stroke-linecap:round;stroke-width:0.8;\"/>\n     </g>\n     <g id=\"text_1\">\n      <!-- 100 -->\n      <g style=\"fill:#262626;\" transform=\"translate(63.592523 401.993937)scale(0.088 -0.088)\">\n       <defs>\n        <path d=\"M 12.40625 8.296875 \nL 28.515625 8.296875 \nL 28.515625 63.921875 \nL 10.984375 60.40625 \nL 10.984375 69.390625 \nL 28.421875 72.90625 \nL 38.28125 72.90625 \nL 38.28125 8.296875 \nL 54.390625 8.296875 \nL 54.390625 0 \nL 12.40625 0 \nz\n\" id=\"DejaVuSans-49\"/>\n        <path d=\"M 31.78125 66.40625 \nQ 24.171875 66.40625 20.328125 58.90625 \nQ 16.5 51.421875 16.5 36.375 \nQ 16.5 21.390625 20.328125 13.890625 \nQ 24.171875 6.390625 31.78125 6.390625 \nQ 39.453125 6.390625 43.28125 13.890625 \nQ 47.125 21.390625 47.125 36.375 \nQ 47.125 51.421875 43.28125 58.90625 \nQ 39.453125 66.40625 31.78125 66.40625 \nz\nM 31.78125 74.21875 \nQ 44.046875 74.21875 50.515625 64.515625 \nQ 56.984375 54.828125 56.984375 36.375 \nQ 56.984375 17.96875 50.515625 8.265625 \nQ 44.046875 -1.421875 31.78125 -1.421875 \nQ 19.53125 -1.421875 13.0625 8.265625 \nQ 6.59375 17.96875 6.59375 36.375 \nQ 6.59375 54.828125 13.0625 64.515625 \nQ 19.53125 74.21875 31.78125 74.21875 \nz\n\" id=\"DejaVuSans-48\"/>\n       </defs>\n       <use xlink:href=\"#DejaVuSans-49\"/>\n       <use x=\"63.623047\" xlink:href=\"#DejaVuSans-48\"/>\n       <use x=\"127.246094\" xlink:href=\"#DejaVuSans-48\"/>\n      </g>\n     </g>\n    </g>\n    <g id=\"xtick_2\">\n     <g id=\"line2d_2\">\n      <path clip-path=\"url(#p4739452485)\" d=\"M 149.788598 387.007312 \nL 149.788598 10.543313 \n\" style=\"fill:none;stroke:#cccccc;stroke-linecap:round;stroke-width:0.8;\"/>\n     </g>\n     <g id=\"text_2\">\n      <!-- 150 -->\n      <g style=\"fill:#262626;\" transform=\"translate(141.390098 401.993937)scale(0.088 -0.088)\">\n       <defs>\n        <path d=\"M 10.796875 72.90625 \nL 49.515625 72.90625 \nL 49.515625 64.59375 \nL 19.828125 64.59375 \nL 19.828125 46.734375 \nQ 21.96875 47.46875 24.109375 47.828125 \nQ 26.265625 48.1875 28.421875 48.1875 \nQ 40.625 48.1875 47.75 41.5 \nQ 54.890625 34.8125 54.890625 23.390625 \nQ 54.890625 11.625 47.5625 5.09375 \nQ 40.234375 -1.421875 26.90625 -1.421875 \nQ 22.3125 -1.421875 17.546875 -0.640625 \nQ 12.796875 0.140625 7.71875 1.703125 \nL 7.71875 11.625 \nQ 12.109375 9.234375 16.796875 8.0625 \nQ 21.484375 6.890625 26.703125 6.890625 \nQ 35.15625 6.890625 40.078125 11.328125 \nQ 45.015625 15.765625 45.015625 23.390625 \nQ 45.015625 31 40.078125 35.4375 \nQ 35.15625 39.890625 26.703125 39.890625 \nQ 22.75 39.890625 18.8125 39.015625 \nQ 14.890625 38.140625 10.796875 36.28125 \nz\n\" id=\"DejaVuSans-53\"/>\n       </defs>\n       <use xlink:href=\"#DejaVuSans-49\"/>\n       <use x=\"63.623047\" xlink:href=\"#DejaVuSans-53\"/>\n       <use x=\"127.246094\" xlink:href=\"#DejaVuSans-48\"/>\n      </g>\n     </g>\n    </g>\n    <g id=\"xtick_3\">\n     <g id=\"line2d_3\">\n      <path clip-path=\"url(#p4739452485)\" d=\"M 227.586174 387.007312 \nL 227.586174 10.543313 \n\" style=\"fill:none;stroke:#cccccc;stroke-linecap:round;stroke-width:0.8;\"/>\n     </g>\n     <g id=\"text_3\">\n      <!-- 200 -->\n      <g style=\"fill:#262626;\" transform=\"translate(219.187674 401.993937)scale(0.088 -0.088)\">\n       <defs>\n        <path d=\"M 19.1875 8.296875 \nL 53.609375 8.296875 \nL 53.609375 0 \nL 7.328125 0 \nL 7.328125 8.296875 \nQ 12.9375 14.109375 22.625 23.890625 \nQ 32.328125 33.6875 34.8125 36.53125 \nQ 39.546875 41.84375 41.421875 45.53125 \nQ 43.3125 49.21875 43.3125 52.78125 \nQ 43.3125 58.59375 39.234375 62.25 \nQ 35.15625 65.921875 28.609375 65.921875 \nQ 23.96875 65.921875 18.8125 64.3125 \nQ 13.671875 62.703125 7.8125 59.421875 \nL 7.8125 69.390625 \nQ 13.765625 71.78125 18.9375 73 \nQ 24.125 74.21875 28.421875 74.21875 \nQ 39.75 74.21875 46.484375 68.546875 \nQ 53.21875 62.890625 53.21875 53.421875 \nQ 53.21875 48.921875 51.53125 44.890625 \nQ 49.859375 40.875 45.40625 35.40625 \nQ 44.1875 33.984375 37.640625 27.21875 \nQ 31.109375 20.453125 19.1875 8.296875 \nz\n\" id=\"DejaVuSans-50\"/>\n       </defs>\n       <use xlink:href=\"#DejaVuSans-50\"/>\n       <use x=\"63.623047\" xlink:href=\"#DejaVuSans-48\"/>\n       <use x=\"127.246094\" xlink:href=\"#DejaVuSans-48\"/>\n      </g>\n     </g>\n    </g>\n    <g id=\"xtick_4\">\n     <g id=\"line2d_4\">\n      <path clip-path=\"url(#p4739452485)\" d=\"M 305.38375 387.007312 \nL 305.38375 10.543313 \n\" style=\"fill:none;stroke:#cccccc;stroke-linecap:round;stroke-width:0.8;\"/>\n     </g>\n     <g id=\"text_4\">\n      <!-- 250 -->\n      <g style=\"fill:#262626;\" transform=\"translate(296.98525 401.993937)scale(0.088 -0.088)\">\n       <use xlink:href=\"#DejaVuSans-50\"/>\n       <use x=\"63.623047\" xlink:href=\"#DejaVuSans-53\"/>\n       <use x=\"127.246094\" xlink:href=\"#DejaVuSans-48\"/>\n      </g>\n     </g>\n    </g>\n    <g id=\"xtick_5\">\n     <g id=\"line2d_5\">\n      <path clip-path=\"url(#p4739452485)\" d=\"M 383.181326 387.007312 \nL 383.181326 10.543313 \n\" style=\"fill:none;stroke:#cccccc;stroke-linecap:round;stroke-width:0.8;\"/>\n     </g>\n     <g id=\"text_5\">\n      <!-- 300 -->\n      <g style=\"fill:#262626;\" transform=\"translate(374.782826 401.993937)scale(0.088 -0.088)\">\n       <defs>\n        <path d=\"M 40.578125 39.3125 \nQ 47.65625 37.796875 51.625 33 \nQ 55.609375 28.21875 55.609375 21.1875 \nQ 55.609375 10.40625 48.1875 4.484375 \nQ 40.765625 -1.421875 27.09375 -1.421875 \nQ 22.515625 -1.421875 17.65625 -0.515625 \nQ 12.796875 0.390625 7.625 2.203125 \nL 7.625 11.71875 \nQ 11.71875 9.328125 16.59375 8.109375 \nQ 21.484375 6.890625 26.8125 6.890625 \nQ 36.078125 6.890625 40.9375 10.546875 \nQ 45.796875 14.203125 45.796875 21.1875 \nQ 45.796875 27.640625 41.28125 31.265625 \nQ 36.765625 34.90625 28.71875 34.90625 \nL 20.21875 34.90625 \nL 20.21875 43.015625 \nL 29.109375 43.015625 \nQ 36.375 43.015625 40.234375 45.921875 \nQ 44.09375 48.828125 44.09375 54.296875 \nQ 44.09375 59.90625 40.109375 62.90625 \nQ 36.140625 65.921875 28.71875 65.921875 \nQ 24.65625 65.921875 20.015625 65.03125 \nQ 15.375 64.15625 9.8125 62.3125 \nL 9.8125 71.09375 \nQ 15.4375 72.65625 20.34375 73.4375 \nQ 25.25 74.21875 29.59375 74.21875 \nQ 40.828125 74.21875 47.359375 69.109375 \nQ 53.90625 64.015625 53.90625 55.328125 \nQ 53.90625 49.265625 50.4375 45.09375 \nQ 46.96875 40.921875 40.578125 39.3125 \nz\n\" id=\"DejaVuSans-51\"/>\n       </defs>\n       <use xlink:href=\"#DejaVuSans-51\"/>\n       <use x=\"63.623047\" xlink:href=\"#DejaVuSans-48\"/>\n       <use x=\"127.246094\" xlink:href=\"#DejaVuSans-48\"/>\n      </g>\n     </g>\n    </g>\n    <g id=\"xtick_6\">\n     <g id=\"line2d_6\">\n      <path clip-path=\"url(#p4739452485)\" d=\"M 460.978902 387.007312 \nL 460.978902 10.543313 \n\" style=\"fill:none;stroke:#cccccc;stroke-linecap:round;stroke-width:0.8;\"/>\n     </g>\n     <g id=\"text_6\">\n      <!-- 350 -->\n      <g style=\"fill:#262626;\" transform=\"translate(452.580402 401.993937)scale(0.088 -0.088)\">\n       <use xlink:href=\"#DejaVuSans-51\"/>\n       <use x=\"63.623047\" xlink:href=\"#DejaVuSans-53\"/>\n       <use x=\"127.246094\" xlink:href=\"#DejaVuSans-48\"/>\n      </g>\n     </g>\n    </g>\n    <g id=\"xtick_7\">\n     <g id=\"line2d_7\">\n      <path clip-path=\"url(#p4739452485)\" d=\"M 538.776477 387.007312 \nL 538.776477 10.543313 \n\" style=\"fill:none;stroke:#cccccc;stroke-linecap:round;stroke-width:0.8;\"/>\n     </g>\n     <g id=\"text_7\">\n      <!-- 400 -->\n      <g style=\"fill:#262626;\" transform=\"translate(530.377977 401.993937)scale(0.088 -0.088)\">\n       <defs>\n        <path d=\"M 37.796875 64.3125 \nL 12.890625 25.390625 \nL 37.796875 25.390625 \nz\nM 35.203125 72.90625 \nL 47.609375 72.90625 \nL 47.609375 25.390625 \nL 58.015625 25.390625 \nL 58.015625 17.1875 \nL 47.609375 17.1875 \nL 47.609375 0 \nL 37.796875 0 \nL 37.796875 17.1875 \nL 4.890625 17.1875 \nL 4.890625 26.703125 \nz\n\" id=\"DejaVuSans-52\"/>\n       </defs>\n       <use xlink:href=\"#DejaVuSans-52\"/>\n       <use x=\"63.623047\" xlink:href=\"#DejaVuSans-48\"/>\n       <use x=\"127.246094\" xlink:href=\"#DejaVuSans-48\"/>\n      </g>\n     </g>\n    </g>\n    <g id=\"text_8\">\n     <!-- num_trees -->\n     <g style=\"fill:#262626;\" transform=\"translate(280.06975 414.851562)scale(0.096 -0.096)\">\n      <defs>\n       <path d=\"M 54.890625 33.015625 \nL 54.890625 0 \nL 45.90625 0 \nL 45.90625 32.71875 \nQ 45.90625 40.484375 42.875 44.328125 \nQ 39.84375 48.1875 33.796875 48.1875 \nQ 26.515625 48.1875 22.3125 43.546875 \nQ 18.109375 38.921875 18.109375 30.90625 \nL 18.109375 0 \nL 9.078125 0 \nL 9.078125 54.6875 \nL 18.109375 54.6875 \nL 18.109375 46.1875 \nQ 21.34375 51.125 25.703125 53.5625 \nQ 30.078125 56 35.796875 56 \nQ 45.21875 56 50.046875 50.171875 \nQ 54.890625 44.34375 54.890625 33.015625 \nz\n\" id=\"DejaVuSans-110\"/>\n       <path d=\"M 8.5 21.578125 \nL 8.5 54.6875 \nL 17.484375 54.6875 \nL 17.484375 21.921875 \nQ 17.484375 14.15625 20.5 10.265625 \nQ 23.53125 6.390625 29.59375 6.390625 \nQ 36.859375 6.390625 41.078125 11.03125 \nQ 45.3125 15.671875 45.3125 23.6875 \nL 45.3125 54.6875 \nL 54.296875 54.6875 \nL 54.296875 0 \nL 45.3125 0 \nL 45.3125 8.40625 \nQ 42.046875 3.421875 37.71875 1 \nQ 33.40625 -1.421875 27.6875 -1.421875 \nQ 18.265625 -1.421875 13.375 4.4375 \nQ 8.5 10.296875 8.5 21.578125 \nz\nM 31.109375 56 \nz\n\" id=\"DejaVuSans-117\"/>\n       <path d=\"M 52 44.1875 \nQ 55.375 50.25 60.0625 53.125 \nQ 64.75 56 71.09375 56 \nQ 79.640625 56 84.28125 50.015625 \nQ 88.921875 44.046875 88.921875 33.015625 \nL 88.921875 0 \nL 79.890625 0 \nL 79.890625 32.71875 \nQ 79.890625 40.578125 77.09375 44.375 \nQ 74.3125 48.1875 68.609375 48.1875 \nQ 61.625 48.1875 57.5625 43.546875 \nQ 53.515625 38.921875 53.515625 30.90625 \nL 53.515625 0 \nL 44.484375 0 \nL 44.484375 32.71875 \nQ 44.484375 40.625 41.703125 44.40625 \nQ 38.921875 48.1875 33.109375 48.1875 \nQ 26.21875 48.1875 22.15625 43.53125 \nQ 18.109375 38.875 18.109375 30.90625 \nL 18.109375 0 \nL 9.078125 0 \nL 9.078125 54.6875 \nL 18.109375 54.6875 \nL 18.109375 46.1875 \nQ 21.1875 51.21875 25.484375 53.609375 \nQ 29.78125 56 35.6875 56 \nQ 41.65625 56 45.828125 52.96875 \nQ 50 49.953125 52 44.1875 \nz\n\" id=\"DejaVuSans-109\"/>\n       <path d=\"M 50.984375 -16.609375 \nL 50.984375 -23.578125 \nL -0.984375 -23.578125 \nL -0.984375 -16.609375 \nz\n\" id=\"DejaVuSans-95\"/>\n       <path d=\"M 18.3125 70.21875 \nL 18.3125 54.6875 \nL 36.8125 54.6875 \nL 36.8125 47.703125 \nL 18.3125 47.703125 \nL 18.3125 18.015625 \nQ 18.3125 11.328125 20.140625 9.421875 \nQ 21.96875 7.515625 27.59375 7.515625 \nL 36.8125 7.515625 \nL 36.8125 0 \nL 27.59375 0 \nQ 17.1875 0 13.234375 3.875 \nQ 9.28125 7.765625 9.28125 18.015625 \nL 9.28125 47.703125 \nL 2.6875 47.703125 \nL 2.6875 54.6875 \nL 9.28125 54.6875 \nL 9.28125 70.21875 \nz\n\" id=\"DejaVuSans-116\"/>\n       <path d=\"M 41.109375 46.296875 \nQ 39.59375 47.171875 37.8125 47.578125 \nQ 36.03125 48 33.890625 48 \nQ 26.265625 48 22.1875 43.046875 \nQ 18.109375 38.09375 18.109375 28.8125 \nL 18.109375 0 \nL 9.078125 0 \nL 9.078125 54.6875 \nL 18.109375 54.6875 \nL 18.109375 46.1875 \nQ 20.953125 51.171875 25.484375 53.578125 \nQ 30.03125 56 36.53125 56 \nQ 37.453125 56 38.578125 55.875 \nQ 39.703125 55.765625 41.0625 55.515625 \nz\n\" id=\"DejaVuSans-114\"/>\n       <path d=\"M 56.203125 29.59375 \nL 56.203125 25.203125 \nL 14.890625 25.203125 \nQ 15.484375 15.921875 20.484375 11.0625 \nQ 25.484375 6.203125 34.421875 6.203125 \nQ 39.59375 6.203125 44.453125 7.46875 \nQ 49.3125 8.734375 54.109375 11.28125 \nL 54.109375 2.78125 \nQ 49.265625 0.734375 44.1875 -0.34375 \nQ 39.109375 -1.421875 33.890625 -1.421875 \nQ 20.796875 -1.421875 13.15625 6.1875 \nQ 5.515625 13.8125 5.515625 26.8125 \nQ 5.515625 40.234375 12.765625 48.109375 \nQ 20.015625 56 32.328125 56 \nQ 43.359375 56 49.78125 48.890625 \nQ 56.203125 41.796875 56.203125 29.59375 \nz\nM 47.21875 32.234375 \nQ 47.125 39.59375 43.09375 43.984375 \nQ 39.0625 48.390625 32.421875 48.390625 \nQ 24.90625 48.390625 20.390625 44.140625 \nQ 15.875 39.890625 15.1875 32.171875 \nz\n\" id=\"DejaVuSans-101\"/>\n       <path d=\"M 44.28125 53.078125 \nL 44.28125 44.578125 \nQ 40.484375 46.53125 36.375 47.5 \nQ 32.28125 48.484375 27.875 48.484375 \nQ 21.1875 48.484375 17.84375 46.4375 \nQ 14.5 44.390625 14.5 40.28125 \nQ 14.5 37.15625 16.890625 35.375 \nQ 19.28125 33.59375 26.515625 31.984375 \nL 29.59375 31.296875 \nQ 39.15625 29.25 43.1875 25.515625 \nQ 47.21875 21.78125 47.21875 15.09375 \nQ 47.21875 7.46875 41.1875 3.015625 \nQ 35.15625 -1.421875 24.609375 -1.421875 \nQ 20.21875 -1.421875 15.453125 -0.5625 \nQ 10.6875 0.296875 5.421875 2 \nL 5.421875 11.28125 \nQ 10.40625 8.6875 15.234375 7.390625 \nQ 20.0625 6.109375 24.8125 6.109375 \nQ 31.15625 6.109375 34.5625 8.28125 \nQ 37.984375 10.453125 37.984375 14.40625 \nQ 37.984375 18.0625 35.515625 20.015625 \nQ 33.0625 21.96875 24.703125 23.78125 \nL 21.578125 24.515625 \nQ 13.234375 26.265625 9.515625 29.90625 \nQ 5.8125 33.546875 5.8125 39.890625 \nQ 5.8125 47.609375 11.28125 51.796875 \nQ 16.75 56 26.8125 56 \nQ 31.78125 56 36.171875 55.265625 \nQ 40.578125 54.546875 44.28125 53.078125 \nz\n\" id=\"DejaVuSans-115\"/>\n      </defs>\n      <use xlink:href=\"#DejaVuSans-110\"/>\n      <use x=\"63.378906\" xlink:href=\"#DejaVuSans-117\"/>\n      <use x=\"126.757812\" xlink:href=\"#DejaVuSans-109\"/>\n      <use x=\"224.169922\" xlink:href=\"#DejaVuSans-95\"/>\n      <use x=\"274.169922\" xlink:href=\"#DejaVuSans-116\"/>\n      <use x=\"313.378906\" xlink:href=\"#DejaVuSans-114\"/>\n      <use x=\"352.242188\" xlink:href=\"#DejaVuSans-101\"/>\n      <use x=\"413.765625\" xlink:href=\"#DejaVuSans-101\"/>\n      <use x=\"475.289062\" xlink:href=\"#DejaVuSans-115\"/>\n     </g>\n    </g>\n   </g>\n   <g id=\"matplotlib.axis_2\">\n    <g id=\"ytick_1\">\n     <g id=\"line2d_8\">\n      <path clip-path=\"url(#p4739452485)\" d=\"M 48.65175 338.523313 \nL 562.11575 338.523313 \n\" style=\"fill:none;stroke:#cccccc;stroke-linecap:round;stroke-width:0.8;\"/>\n     </g>\n     <g id=\"text_9\">\n      <!-- 0.82 -->\n      <g style=\"fill:#262626;\" transform=\"translate(20.758 341.866625)scale(0.088 -0.088)\">\n       <defs>\n        <path d=\"M 10.6875 12.40625 \nL 21 12.40625 \nL 21 0 \nL 10.6875 0 \nz\n\" id=\"DejaVuSans-46\"/>\n        <path d=\"M 31.78125 34.625 \nQ 24.75 34.625 20.71875 30.859375 \nQ 16.703125 27.09375 16.703125 20.515625 \nQ 16.703125 13.921875 20.71875 10.15625 \nQ 24.75 6.390625 31.78125 6.390625 \nQ 38.8125 6.390625 42.859375 10.171875 \nQ 46.921875 13.96875 46.921875 20.515625 \nQ 46.921875 27.09375 42.890625 30.859375 \nQ 38.875 34.625 31.78125 34.625 \nz\nM 21.921875 38.8125 \nQ 15.578125 40.375 12.03125 44.71875 \nQ 8.5 49.078125 8.5 55.328125 \nQ 8.5 64.0625 14.71875 69.140625 \nQ 20.953125 74.21875 31.78125 74.21875 \nQ 42.671875 74.21875 48.875 69.140625 \nQ 55.078125 64.0625 55.078125 55.328125 \nQ 55.078125 49.078125 51.53125 44.71875 \nQ 48 40.375 41.703125 38.8125 \nQ 48.828125 37.15625 52.796875 32.3125 \nQ 56.78125 27.484375 56.78125 20.515625 \nQ 56.78125 9.90625 50.3125 4.234375 \nQ 43.84375 -1.421875 31.78125 -1.421875 \nQ 19.734375 -1.421875 13.25 4.234375 \nQ 6.78125 9.90625 6.78125 20.515625 \nQ 6.78125 27.484375 10.78125 32.3125 \nQ 14.796875 37.15625 21.921875 38.8125 \nz\nM 18.3125 54.390625 \nQ 18.3125 48.734375 21.84375 45.5625 \nQ 25.390625 42.390625 31.78125 42.390625 \nQ 38.140625 42.390625 41.71875 45.5625 \nQ 45.3125 48.734375 45.3125 54.390625 \nQ 45.3125 60.0625 41.71875 63.234375 \nQ 38.140625 66.40625 31.78125 66.40625 \nQ 25.390625 66.40625 21.84375 63.234375 \nQ 18.3125 60.0625 18.3125 54.390625 \nz\n\" id=\"DejaVuSans-56\"/>\n       </defs>\n       <use xlink:href=\"#DejaVuSans-48\"/>\n       <use x=\"63.623047\" xlink:href=\"#DejaVuSans-46\"/>\n       <use x=\"95.410156\" xlink:href=\"#DejaVuSans-56\"/>\n       <use x=\"159.033203\" xlink:href=\"#DejaVuSans-50\"/>\n      </g>\n     </g>\n    </g>\n    <g id=\"ytick_2\">\n     <g id=\"line2d_9\">\n      <path clip-path=\"url(#p4739452485)\" d=\"M 48.65175 272.927312 \nL 562.11575 272.927312 \n\" style=\"fill:none;stroke:#cccccc;stroke-linecap:round;stroke-width:0.8;\"/>\n     </g>\n     <g id=\"text_10\">\n      <!-- 0.83 -->\n      <g style=\"fill:#262626;\" transform=\"translate(20.758 276.270625)scale(0.088 -0.088)\">\n       <use xlink:href=\"#DejaVuSans-48\"/>\n       <use x=\"63.623047\" xlink:href=\"#DejaVuSans-46\"/>\n       <use x=\"95.410156\" xlink:href=\"#DejaVuSans-56\"/>\n       <use x=\"159.033203\" xlink:href=\"#DejaVuSans-51\"/>\n      </g>\n     </g>\n    </g>\n    <g id=\"ytick_3\">\n     <g id=\"line2d_10\">\n      <path clip-path=\"url(#p4739452485)\" d=\"M 48.65175 207.331313 \nL 562.11575 207.331313 \n\" style=\"fill:none;stroke:#cccccc;stroke-linecap:round;stroke-width:0.8;\"/>\n     </g>\n     <g id=\"text_11\">\n      <!-- 0.84 -->\n      <g style=\"fill:#262626;\" transform=\"translate(20.758 210.674625)scale(0.088 -0.088)\">\n       <use xlink:href=\"#DejaVuSans-48\"/>\n       <use x=\"63.623047\" xlink:href=\"#DejaVuSans-46\"/>\n       <use x=\"95.410156\" xlink:href=\"#DejaVuSans-56\"/>\n       <use x=\"159.033203\" xlink:href=\"#DejaVuSans-52\"/>\n      </g>\n     </g>\n    </g>\n    <g id=\"ytick_4\">\n     <g id=\"line2d_11\">\n      <path clip-path=\"url(#p4739452485)\" d=\"M 48.65175 141.735312 \nL 562.11575 141.735312 \n\" style=\"fill:none;stroke:#cccccc;stroke-linecap:round;stroke-width:0.8;\"/>\n     </g>\n     <g id=\"text_12\">\n      <!-- 0.85 -->\n      <g style=\"fill:#262626;\" transform=\"translate(20.758 145.078625)scale(0.088 -0.088)\">\n       <use xlink:href=\"#DejaVuSans-48\"/>\n       <use x=\"63.623047\" xlink:href=\"#DejaVuSans-46\"/>\n       <use x=\"95.410156\" xlink:href=\"#DejaVuSans-56\"/>\n       <use x=\"159.033203\" xlink:href=\"#DejaVuSans-53\"/>\n      </g>\n     </g>\n    </g>\n    <g id=\"ytick_5\">\n     <g id=\"line2d_12\">\n      <path clip-path=\"url(#p4739452485)\" d=\"M 48.65175 76.139313 \nL 562.11575 76.139313 \n\" style=\"fill:none;stroke:#cccccc;stroke-linecap:round;stroke-width:0.8;\"/>\n     </g>\n     <g id=\"text_13\">\n      <!-- 0.86 -->\n      <g style=\"fill:#262626;\" transform=\"translate(20.758 79.482625)scale(0.088 -0.088)\">\n       <defs>\n        <path d=\"M 33.015625 40.375 \nQ 26.375 40.375 22.484375 35.828125 \nQ 18.609375 31.296875 18.609375 23.390625 \nQ 18.609375 15.53125 22.484375 10.953125 \nQ 26.375 6.390625 33.015625 6.390625 \nQ 39.65625 6.390625 43.53125 10.953125 \nQ 47.40625 15.53125 47.40625 23.390625 \nQ 47.40625 31.296875 43.53125 35.828125 \nQ 39.65625 40.375 33.015625 40.375 \nz\nM 52.59375 71.296875 \nL 52.59375 62.3125 \nQ 48.875 64.0625 45.09375 64.984375 \nQ 41.3125 65.921875 37.59375 65.921875 \nQ 27.828125 65.921875 22.671875 59.328125 \nQ 17.53125 52.734375 16.796875 39.40625 \nQ 19.671875 43.65625 24.015625 45.921875 \nQ 28.375 48.1875 33.59375 48.1875 \nQ 44.578125 48.1875 50.953125 41.515625 \nQ 57.328125 34.859375 57.328125 23.390625 \nQ 57.328125 12.15625 50.6875 5.359375 \nQ 44.046875 -1.421875 33.015625 -1.421875 \nQ 20.359375 -1.421875 13.671875 8.265625 \nQ 6.984375 17.96875 6.984375 36.375 \nQ 6.984375 53.65625 15.1875 63.9375 \nQ 23.390625 74.21875 37.203125 74.21875 \nQ 40.921875 74.21875 44.703125 73.484375 \nQ 48.484375 72.75 52.59375 71.296875 \nz\n\" id=\"DejaVuSans-54\"/>\n       </defs>\n       <use xlink:href=\"#DejaVuSans-48\"/>\n       <use x=\"63.623047\" xlink:href=\"#DejaVuSans-46\"/>\n       <use x=\"95.410156\" xlink:href=\"#DejaVuSans-56\"/>\n       <use x=\"159.033203\" xlink:href=\"#DejaVuSans-54\"/>\n      </g>\n     </g>\n    </g>\n    <g id=\"ytick_6\">\n     <g id=\"line2d_13\">\n      <path clip-path=\"url(#p4739452485)\" d=\"M 48.65175 10.543312 \nL 562.11575 10.543312 \n\" style=\"fill:none;stroke:#cccccc;stroke-linecap:round;stroke-width:0.8;\"/>\n     </g>\n     <g id=\"text_14\">\n      <!-- 0.87 -->\n      <g style=\"fill:#262626;\" transform=\"translate(20.758 13.886625)scale(0.088 -0.088)\">\n       <defs>\n        <path d=\"M 8.203125 72.90625 \nL 55.078125 72.90625 \nL 55.078125 68.703125 \nL 28.609375 0 \nL 18.3125 0 \nL 43.21875 64.59375 \nL 8.203125 64.59375 \nz\n\" id=\"DejaVuSans-55\"/>\n       </defs>\n       <use xlink:href=\"#DejaVuSans-48\"/>\n       <use x=\"63.623047\" xlink:href=\"#DejaVuSans-46\"/>\n       <use x=\"95.410156\" xlink:href=\"#DejaVuSans-56\"/>\n       <use x=\"159.033203\" xlink:href=\"#DejaVuSans-55\"/>\n      </g>\n     </g>\n    </g>\n    <g id=\"text_15\">\n     <!-- acc_val -->\n     <g style=\"fill:#262626;\" transform=\"translate(14.4945 216.511313)rotate(-90)scale(0.096 -0.096)\">\n      <defs>\n       <path d=\"M 34.28125 27.484375 \nQ 23.390625 27.484375 19.1875 25 \nQ 14.984375 22.515625 14.984375 16.5 \nQ 14.984375 11.71875 18.140625 8.90625 \nQ 21.296875 6.109375 26.703125 6.109375 \nQ 34.1875 6.109375 38.703125 11.40625 \nQ 43.21875 16.703125 43.21875 25.484375 \nL 43.21875 27.484375 \nz\nM 52.203125 31.203125 \nL 52.203125 0 \nL 43.21875 0 \nL 43.21875 8.296875 \nQ 40.140625 3.328125 35.546875 0.953125 \nQ 30.953125 -1.421875 24.3125 -1.421875 \nQ 15.921875 -1.421875 10.953125 3.296875 \nQ 6 8.015625 6 15.921875 \nQ 6 25.140625 12.171875 29.828125 \nQ 18.359375 34.515625 30.609375 34.515625 \nL 43.21875 34.515625 \nL 43.21875 35.40625 \nQ 43.21875 41.609375 39.140625 45 \nQ 35.0625 48.390625 27.6875 48.390625 \nQ 23 48.390625 18.546875 47.265625 \nQ 14.109375 46.140625 10.015625 43.890625 \nL 10.015625 52.203125 \nQ 14.9375 54.109375 19.578125 55.046875 \nQ 24.21875 56 28.609375 56 \nQ 40.484375 56 46.34375 49.84375 \nQ 52.203125 43.703125 52.203125 31.203125 \nz\n\" id=\"DejaVuSans-97\"/>\n       <path d=\"M 48.78125 52.59375 \nL 48.78125 44.1875 \nQ 44.96875 46.296875 41.140625 47.34375 \nQ 37.3125 48.390625 33.40625 48.390625 \nQ 24.65625 48.390625 19.8125 42.84375 \nQ 14.984375 37.3125 14.984375 27.296875 \nQ 14.984375 17.28125 19.8125 11.734375 \nQ 24.65625 6.203125 33.40625 6.203125 \nQ 37.3125 6.203125 41.140625 7.25 \nQ 44.96875 8.296875 48.78125 10.40625 \nL 48.78125 2.09375 \nQ 45.015625 0.34375 40.984375 -0.53125 \nQ 36.96875 -1.421875 32.421875 -1.421875 \nQ 20.0625 -1.421875 12.78125 6.34375 \nQ 5.515625 14.109375 5.515625 27.296875 \nQ 5.515625 40.671875 12.859375 48.328125 \nQ 20.21875 56 33.015625 56 \nQ 37.15625 56 41.109375 55.140625 \nQ 45.0625 54.296875 48.78125 52.59375 \nz\n\" id=\"DejaVuSans-99\"/>\n       <path d=\"M 2.984375 54.6875 \nL 12.5 54.6875 \nL 29.59375 8.796875 \nL 46.6875 54.6875 \nL 56.203125 54.6875 \nL 35.6875 0 \nL 23.484375 0 \nz\n\" id=\"DejaVuSans-118\"/>\n       <path d=\"M 9.421875 75.984375 \nL 18.40625 75.984375 \nL 18.40625 0 \nL 9.421875 0 \nz\n\" id=\"DejaVuSans-108\"/>\n      </defs>\n      <use xlink:href=\"#DejaVuSans-97\"/>\n      <use x=\"61.279297\" xlink:href=\"#DejaVuSans-99\"/>\n      <use x=\"116.259766\" xlink:href=\"#DejaVuSans-99\"/>\n      <use x=\"171.240234\" xlink:href=\"#DejaVuSans-95\"/>\n      <use x=\"221.240234\" xlink:href=\"#DejaVuSans-118\"/>\n      <use x=\"280.419922\" xlink:href=\"#DejaVuSans-97\"/>\n      <use x=\"341.699219\" xlink:href=\"#DejaVuSans-108\"/>\n     </g>\n    </g>\n   </g>\n   <g id=\"PolyCollection_1\">\n    <defs>\n     <path d=\"M 71.991023 -282.57975 \nL 71.991023 -139.97975 \nL 305.38375 -54.41975 \nL 538.776477 -111.45975 \nL 538.776477 -396.65975 \nL 538.776477 -396.65975 \nL 305.38375 -382.39975 \nL 71.991023 -282.57975 \nz\n\" id=\"m2e94fd7be0\" style=\"stroke:#4c72b0;stroke-opacity:0.2;stroke-width:0.8;\"/>\n    </defs>\n    <g clip-path=\"url(#p4739452485)\">\n     <use style=\"fill:#4c72b0;fill-opacity:0.2;stroke:#4c72b0;stroke-opacity:0.2;stroke-width:0.8;\" x=\"0\" xlink:href=\"#m2e94fd7be0\" y=\"424.315062\"/>\n    </g>\n   </g>\n   <g id=\"line2d_14\">\n    <path clip-path=\"url(#p4739452485)\" d=\"M 71.991023 213.035313 \nL 305.38375 198.775313 \nL 538.776477 170.255313 \n\" style=\"fill:none;stroke:#4c72b0;stroke-linecap:round;stroke-width:1.2;\"/>\n   </g>\n   <g id=\"patch_3\">\n    <path d=\"M 48.65175 387.007312 \nL 48.65175 10.543313 \n\" style=\"fill:none;stroke:#cccccc;stroke-linecap:square;stroke-linejoin:miter;\"/>\n   </g>\n   <g id=\"patch_4\">\n    <path d=\"M 48.65175 387.007312 \nL 562.11575 387.007312 \n\" style=\"fill:none;stroke:#cccccc;stroke-linecap:square;stroke-linejoin:miter;\"/>\n   </g>\n  </g>\n </g>\n <defs>\n  <clipPath id=\"p4739452485\">\n   <rect height=\"376.464\" width=\"513.464\" x=\"48.65175\" y=\"10.543313\"/>\n  </clipPath>\n </defs>\n</svg>\n",
      "image/png": "[encoded data removed]"
     },
     "metadata": {}
    }
   ],
   "metadata": {}
  },
  {
   "cell_type": "markdown",
   "source": [
    "# Hyper Parameter Tuning"
   ],
   "metadata": {}
  },
  {
   "cell_type": "code",
   "execution_count": 52,
   "source": [
    "rfc_v2 = RandomForestClassifier()"
   ],
   "outputs": [],
   "metadata": {}
  },
  {
   "cell_type": "markdown",
   "source": [
    "## Random Search"
   ],
   "metadata": {}
  },
  {
   "cell_type": "code",
   "execution_count": 53,
   "source": [
    "from sklearn.model_selection import RandomizedSearchCV"
   ],
   "outputs": [],
   "metadata": {}
  },
  {
   "cell_type": "code",
   "execution_count": 112,
   "source": [
    "n_estimators = [int(x) for x in np.linspace(80 , 450 , num=40)]\n",
    "max_features = ['log2' , 'sqrt']\n",
    "max_depth = [int(x) for x in np.linspace(start = 1, stop = 150, num = 40)]\n",
    "min_samples_split = [int(x) for x in np.linspace(2,20 ,num = 30)]\n",
    "min_samples_leaf = [int(x) for x in np.linspace(2,30 , num = 30)]\n",
    "bootstrap = [True , False]"
   ],
   "outputs": [],
   "metadata": {}
  },
  {
   "cell_type": "code",
   "execution_count": 113,
   "source": [
    "params_dict = {\n",
    "    'n_estimators' : n_estimators , \n",
    "    'max_features' : max_features ,\n",
    "    'max_depth' :max_depth , \n",
    "    'min_samples_split' : min_samples_split , \n",
    "    'min_samples_leaf' : min_samples_leaf, \n",
    "    'bootstrap' : bootstrap \n",
    "}"
   ],
   "outputs": [],
   "metadata": {}
  },
  {
   "cell_type": "code",
   "execution_count": 114,
   "source": [
    "rs = RandomizedSearchCV(\n",
    "    rfc_v2 , \n",
    "    params_dict , \n",
    "    n_iter = 600,\n",
    "    cv = 5 ,\n",
    "    verbose = 5 ,\n",
    "    n_jobs=-1 , \n",
    "    random_state= 0 \n",
    ")"
   ],
   "outputs": [],
   "metadata": {}
  },
  {
   "cell_type": "code",
   "execution_count": 115,
   "source": [
    "rs.fit(data_val , data_label)\n",
    "rs.best_params_"
   ],
   "outputs": [
    {
     "output_type": "stream",
     "name": "stdout",
     "text": [
      "Fitting 5 folds for each of 600 candidates, totalling 3000 fits\n"
     ]
    },
    {
     "output_type": "execute_result",
     "data": {
      "text/plain": [
       "{'n_estimators': 345,\n",
       " 'min_samples_split': 5,\n",
       " 'min_samples_leaf': 2,\n",
       " 'max_features': 'sqrt',\n",
       " 'max_depth': 43,\n",
       " 'bootstrap': False}"
      ]
     },
     "metadata": {},
     "execution_count": 115
    }
   ],
   "metadata": {}
  },
  {
   "cell_type": "code",
   "execution_count": 116,
   "source": [
    "rs_df = pd.DataFrame(rs.cv_results_).sort_values('rank_test_score').reset_index(drop=True)\n",
    "rs_df = rs_df.drop([\n",
    "            'mean_fit_time', \n",
    "            'std_fit_time', \n",
    "            'mean_score_time',\n",
    "            'std_score_time', \n",
    "            'params', \n",
    "            'split0_test_score', \n",
    "            'split1_test_score', \n",
    "            'split2_test_score', \n",
    "            'std_test_score'],\n",
    "            axis=1)\n",
    "rs_df.head(10)"
   ],
   "outputs": [
    {
     "output_type": "execute_result",
     "data": {
      "text/plain": [
       "  param_n_estimators param_min_samples_split param_min_samples_leaf  \\\n",
       "0                345                       5                      2   \n",
       "1                250                       6                      2   \n",
       "2                174                       2                      2   \n",
       "3                288                       8                      2   \n",
       "4                193                      11                      4   \n",
       "5                402                       7                      2   \n",
       "6                 89                       8                      2   \n",
       "7                184                      12                      2   \n",
       "8                326                       6                      5   \n",
       "9                155                      16                      2   \n",
       "\n",
       "  param_max_features param_max_depth param_bootstrap  split3_test_score  \\\n",
       "0               sqrt              43           False           0.967391   \n",
       "1               sqrt             104           False           0.967391   \n",
       "2               sqrt              81           False           0.967391   \n",
       "3               sqrt             130           False           0.956522   \n",
       "4               sqrt             119           False           0.956522   \n",
       "5               sqrt             146           False           0.945652   \n",
       "6               sqrt              27           False           0.956522   \n",
       "7               sqrt             127           False           0.967391   \n",
       "8               sqrt              16           False           0.956522   \n",
       "9               sqrt              88           False           0.923913   \n",
       "\n",
       "   split4_test_score  mean_test_score  rank_test_score  \n",
       "0           0.945652         0.934783                1  \n",
       "1           0.945652         0.932609                2  \n",
       "2           0.945652         0.932609                2  \n",
       "3           0.945652         0.932609                2  \n",
       "4           0.934783         0.930435                5  \n",
       "5           0.945652         0.930435                5  \n",
       "6           0.923913         0.930435                5  \n",
       "7           0.945652         0.930435                5  \n",
       "8           0.945652         0.928261                9  \n",
       "9           0.934783         0.928261               10  "
      ],
      "text/html": [
       "<div>\n",
       "<style scoped>\n",
       "    .dataframe tbody tr th:only-of-type {\n",
       "        vertical-align: middle;\n",
       "    }\n",
       "\n",
       "    .dataframe tbody tr th {\n",
       "        vertical-align: top;\n",
       "    }\n",
       "\n",
       "    .dataframe thead th {\n",
       "        text-align: right;\n",
       "    }\n",
       "</style>\n",
       "<table border=\"1\" class=\"dataframe\">\n",
       "  <thead>\n",
       "    <tr style=\"text-align: right;\">\n",
       "      <th></th>\n",
       "      <th>param_n_estimators</th>\n",
       "      <th>param_min_samples_split</th>\n",
       "      <th>param_min_samples_leaf</th>\n",
       "      <th>param_max_features</th>\n",
       "      <th>param_max_depth</th>\n",
       "      <th>param_bootstrap</th>\n",
       "      <th>split3_test_score</th>\n",
       "      <th>split4_test_score</th>\n",
       "      <th>mean_test_score</th>\n",
       "      <th>rank_test_score</th>\n",
       "    </tr>\n",
       "  </thead>\n",
       "  <tbody>\n",
       "    <tr>\n",
       "      <th>0</th>\n",
       "      <td>345</td>\n",
       "      <td>5</td>\n",
       "      <td>2</td>\n",
       "      <td>sqrt</td>\n",
       "      <td>43</td>\n",
       "      <td>False</td>\n",
       "      <td>0.967391</td>\n",
       "      <td>0.945652</td>\n",
       "      <td>0.934783</td>\n",
       "      <td>1</td>\n",
       "    </tr>\n",
       "    <tr>\n",
       "      <th>1</th>\n",
       "      <td>250</td>\n",
       "      <td>6</td>\n",
       "      <td>2</td>\n",
       "      <td>sqrt</td>\n",
       "      <td>104</td>\n",
       "      <td>False</td>\n",
       "      <td>0.967391</td>\n",
       "      <td>0.945652</td>\n",
       "      <td>0.932609</td>\n",
       "      <td>2</td>\n",
       "    </tr>\n",
       "    <tr>\n",
       "      <th>2</th>\n",
       "      <td>174</td>\n",
       "      <td>2</td>\n",
       "      <td>2</td>\n",
       "      <td>sqrt</td>\n",
       "      <td>81</td>\n",
       "      <td>False</td>\n",
       "      <td>0.967391</td>\n",
       "      <td>0.945652</td>\n",
       "      <td>0.932609</td>\n",
       "      <td>2</td>\n",
       "    </tr>\n",
       "    <tr>\n",
       "      <th>3</th>\n",
       "      <td>288</td>\n",
       "      <td>8</td>\n",
       "      <td>2</td>\n",
       "      <td>sqrt</td>\n",
       "      <td>130</td>\n",
       "      <td>False</td>\n",
       "      <td>0.956522</td>\n",
       "      <td>0.945652</td>\n",
       "      <td>0.932609</td>\n",
       "      <td>2</td>\n",
       "    </tr>\n",
       "    <tr>\n",
       "      <th>4</th>\n",
       "      <td>193</td>\n",
       "      <td>11</td>\n",
       "      <td>4</td>\n",
       "      <td>sqrt</td>\n",
       "      <td>119</td>\n",
       "      <td>False</td>\n",
       "      <td>0.956522</td>\n",
       "      <td>0.934783</td>\n",
       "      <td>0.930435</td>\n",
       "      <td>5</td>\n",
       "    </tr>\n",
       "    <tr>\n",
       "      <th>5</th>\n",
       "      <td>402</td>\n",
       "      <td>7</td>\n",
       "      <td>2</td>\n",
       "      <td>sqrt</td>\n",
       "      <td>146</td>\n",
       "      <td>False</td>\n",
       "      <td>0.945652</td>\n",
       "      <td>0.945652</td>\n",
       "      <td>0.930435</td>\n",
       "      <td>5</td>\n",
       "    </tr>\n",
       "    <tr>\n",
       "      <th>6</th>\n",
       "      <td>89</td>\n",
       "      <td>8</td>\n",
       "      <td>2</td>\n",
       "      <td>sqrt</td>\n",
       "      <td>27</td>\n",
       "      <td>False</td>\n",
       "      <td>0.956522</td>\n",
       "      <td>0.923913</td>\n",
       "      <td>0.930435</td>\n",
       "      <td>5</td>\n",
       "    </tr>\n",
       "    <tr>\n",
       "      <th>7</th>\n",
       "      <td>184</td>\n",
       "      <td>12</td>\n",
       "      <td>2</td>\n",
       "      <td>sqrt</td>\n",
       "      <td>127</td>\n",
       "      <td>False</td>\n",
       "      <td>0.967391</td>\n",
       "      <td>0.945652</td>\n",
       "      <td>0.930435</td>\n",
       "      <td>5</td>\n",
       "    </tr>\n",
       "    <tr>\n",
       "      <th>8</th>\n",
       "      <td>326</td>\n",
       "      <td>6</td>\n",
       "      <td>5</td>\n",
       "      <td>sqrt</td>\n",
       "      <td>16</td>\n",
       "      <td>False</td>\n",
       "      <td>0.956522</td>\n",
       "      <td>0.945652</td>\n",
       "      <td>0.928261</td>\n",
       "      <td>9</td>\n",
       "    </tr>\n",
       "    <tr>\n",
       "      <th>9</th>\n",
       "      <td>155</td>\n",
       "      <td>16</td>\n",
       "      <td>2</td>\n",
       "      <td>sqrt</td>\n",
       "      <td>88</td>\n",
       "      <td>False</td>\n",
       "      <td>0.923913</td>\n",
       "      <td>0.934783</td>\n",
       "      <td>0.928261</td>\n",
       "      <td>10</td>\n",
       "    </tr>\n",
       "  </tbody>\n",
       "</table>\n",
       "</div>"
      ]
     },
     "metadata": {},
     "execution_count": 116
    }
   ],
   "metadata": {}
  },
  {
   "cell_type": "code",
   "execution_count": 120,
   "source": [
    "sns.set(style=\"whitegrid\", color_codes=True, font_scale = 1)\n",
    "fig, axs = plt.subplots(ncols=3, nrows=2  , sharey=True)\n",
    "fig.set_size_inches(24,10)\n",
    "colors = sns.diverging_palette(240, 0, n=6 , center='dark')\n",
    "sns.lineplot(x='param_n_estimators', y='mean_test_score', data=rs_df, ax=axs[0,0],color=colors[5]) \n",
    "axs[0,0].set_ylim([.72,.95])\n",
    "axs[0,0].set_title(label = 'n_estimators', size=10, weight='bold')\n",
    "sns.lineplot(x='param_min_samples_split', y='mean_test_score', data=rs_df, ax=axs[0,1],color=colors[4])\n",
    "#axs[0,1].set_ylim([.85,.93])\n",
    "axs[0,1].set_title(label = 'min_samples_split', size=10, weight='bold')\n",
    "sns.lineplot(x='param_min_samples_leaf', y='mean_test_score', data=rs_df, ax=axs[0,2],color=colors[3])\n",
    "#axs[0,2].set_ylim([.80,.93])\n",
    "axs[0,2].set_title(label = 'min_samples_leaf', size=10, weight='bold')\n",
    "sns.boxplot(x='param_max_features', y='mean_test_score', data=rs_df, ax=axs[1,0],color=colors[0])\n",
    "#axs[1,0].set_ylim([.88,.92])\n",
    "axs[1,0].set_title(label = 'max_features', size=10, weight='bold')\n",
    "sns.lineplot(x='param_max_depth', y='mean_test_score', data=rs_df, ax=axs[1,1],color=colors[1])\n",
    "#axs[1,1].set_ylim([.80,.93])\n",
    "axs[1,1].set_title(label = 'max_depth', size=10, weight='bold')\n",
    "sns.boxplot(x='param_bootstrap',y='mean_test_score', data=rs_df, ax=axs[1,2] , color=colors[2])\n",
    "#axs[1,2].set_ylim([.88,.92])\n",
    "axs[1,2].set_title(label = 'bootstrap', size=10, weight='bold')\n",
    "fig.subplots_adjust(wspace=0.1 , hspace=0.3)\n",
    "\n",
    "plt.show()\n"
   ],
   "outputs": [
    {
     "output_type": "display_data",
     "data": {
      "text/plain": [
       "<Figure size 1728x720 with 6 Axes>"
      ],
      "image/svg+xml": "<?xml version=\"1.0\" encoding=\"utf-8\" standalone=\"no\"?>\n<!DOCTYPE svg PUBLIC \"-//W3C//DTD SVG 1.1//EN\"\n  \"http://www.w3.org/Graphics/SVG/1.1/DTD/svg11.dtd\">\n<!-- Created with matplotlib (https://matplotlib.org/) -->\n<svg height=\"607.691875pt\" version=\"1.1\" viewBox=\"0 0 1403.205937 607.691875\" width=\"1403.205937pt\" xmlns=\"http://www.w3.org/2000/svg\" xmlns:xlink=\"http://www.w3.org/1999/xlink\">\n <metadata>\n  <rdf:RDF xmlns:cc=\"http://creativecommons.org/ns#\" xmlns:dc=\"http://purl.org/dc/elements/1.1/\" xmlns:rdf=\"http://www.w3.org/1999/02/22-rdf-syntax-ns#\">\n   <cc:Work>\n    <dc:type rdf:resource=\"http://purl.org/dc/dcmitype/StillImage\"/>\n    <dc:date>2021-10-15T03:08:30.378250</dc:date>\n    <dc:format>image/svg+xml</dc:format>\n    <dc:creator>\n     <cc:Agent>\n      <dc:title>Matplotlib v3.3.4, https://matplotlib.org/</dc:title>\n     </cc:Agent>\n    </dc:creator>\n   </cc:Work>\n  </rdf:RDF>\n </metadata>\n <defs>\n  <style type=\"text/css\">*{stroke-linecap:butt;stroke-linejoin:round;}</style>\n </defs>\n <g id=\"figure_1\">\n  <g id=\"patch_1\">\n   <path d=\"M 0 607.691875 \nL 1403.205937 607.691875 \nL 1403.205937 0 \nL 0 0 \nz\n\" style=\"fill:#ffffff;\"/>\n  </g>\n  <g id=\"axes_1\">\n   <g id=\"patch_2\">\n    <path d=\"M 56.805938 257.146264 \nL 475.305938 257.146264 \nL 475.305938 20.798437 \nL 56.805938 20.798437 \nz\n\" style=\"fill:#ffffff;\"/>\n   </g>\n   <g id=\"matplotlib.axis_1\">\n    <g id=\"xtick_1\">\n     <g id=\"line2d_1\">\n      <path clip-path=\"url(#p8e983fe327)\" d=\"M 96.393775 257.146264 \nL 96.393775 20.798437 \n\" style=\"fill:none;stroke:#cccccc;stroke-linecap:round;\"/>\n     </g>\n     <g id=\"text_1\">\n      <!-- 100 -->\n      <g style=\"fill:#262626;\" transform=\"translate(85.89565 275.004545)scale(0.11 -0.11)\">\n       <defs>\n        <path d=\"M 12.40625 8.296875 \nL 28.515625 8.296875 \nL 28.515625 63.921875 \nL 10.984375 60.40625 \nL 10.984375 69.390625 \nL 28.421875 72.90625 \nL 38.28125 72.90625 \nL 38.28125 8.296875 \nL 54.390625 8.296875 \nL 54.390625 0 \nL 12.40625 0 \nz\n\" id=\"DejaVuSans-49\"/>\n        <path d=\"M 31.78125 66.40625 \nQ 24.171875 66.40625 20.328125 58.90625 \nQ 16.5 51.421875 16.5 36.375 \nQ 16.5 21.390625 20.328125 13.890625 \nQ 24.171875 6.390625 31.78125 6.390625 \nQ 39.453125 6.390625 43.28125 13.890625 \nQ 47.125 21.390625 47.125 36.375 \nQ 47.125 51.421875 43.28125 58.90625 \nQ 39.453125 66.40625 31.78125 66.40625 \nz\nM 31.78125 74.21875 \nQ 44.046875 74.21875 50.515625 64.515625 \nQ 56.984375 54.828125 56.984375 36.375 \nQ 56.984375 17.96875 50.515625 8.265625 \nQ 44.046875 -1.421875 31.78125 -1.421875 \nQ 19.53125 -1.421875 13.0625 8.265625 \nQ 6.59375 17.96875 6.59375 36.375 \nQ 6.59375 54.828125 13.0625 64.515625 \nQ 19.53125 74.21875 31.78125 74.21875 \nz\n\" id=\"DejaVuSans-48\"/>\n       </defs>\n       <use xlink:href=\"#DejaVuSans-49\"/>\n       <use x=\"63.623047\" xlink:href=\"#DejaVuSans-48\"/>\n       <use x=\"127.246094\" xlink:href=\"#DejaVuSans-48\"/>\n      </g>\n     </g>\n    </g>\n    <g id=\"xtick_2\">\n     <g id=\"line2d_2\">\n      <path clip-path=\"url(#p8e983fe327)\" d=\"M 147.806552 257.146264 \nL 147.806552 20.798437 \n\" style=\"fill:none;stroke:#cccccc;stroke-linecap:round;\"/>\n     </g>\n     <g id=\"text_2\">\n      <!-- 150 -->\n      <g style=\"fill:#262626;\" transform=\"translate(137.308427 275.004545)scale(0.11 -0.11)\">\n       <defs>\n        <path d=\"M 10.796875 72.90625 \nL 49.515625 72.90625 \nL 49.515625 64.59375 \nL 19.828125 64.59375 \nL 19.828125 46.734375 \nQ 21.96875 47.46875 24.109375 47.828125 \nQ 26.265625 48.1875 28.421875 48.1875 \nQ 40.625 48.1875 47.75 41.5 \nQ 54.890625 34.8125 54.890625 23.390625 \nQ 54.890625 11.625 47.5625 5.09375 \nQ 40.234375 -1.421875 26.90625 -1.421875 \nQ 22.3125 -1.421875 17.546875 -0.640625 \nQ 12.796875 0.140625 7.71875 1.703125 \nL 7.71875 11.625 \nQ 12.109375 9.234375 16.796875 8.0625 \nQ 21.484375 6.890625 26.703125 6.890625 \nQ 35.15625 6.890625 40.078125 11.328125 \nQ 45.015625 15.765625 45.015625 23.390625 \nQ 45.015625 31 40.078125 35.4375 \nQ 35.15625 39.890625 26.703125 39.890625 \nQ 22.75 39.890625 18.8125 39.015625 \nQ 14.890625 38.140625 10.796875 36.28125 \nz\n\" id=\"DejaVuSans-53\"/>\n       </defs>\n       <use xlink:href=\"#DejaVuSans-49\"/>\n       <use x=\"63.623047\" xlink:href=\"#DejaVuSans-53\"/>\n       <use x=\"127.246094\" xlink:href=\"#DejaVuSans-48\"/>\n      </g>\n     </g>\n    </g>\n    <g id=\"xtick_3\">\n     <g id=\"line2d_3\">\n      <path clip-path=\"url(#p8e983fe327)\" d=\"M 199.219328 257.146264 \nL 199.219328 20.798437 \n\" style=\"fill:none;stroke:#cccccc;stroke-linecap:round;\"/>\n     </g>\n     <g id=\"text_3\">\n      <!-- 200 -->\n      <g style=\"fill:#262626;\" transform=\"translate(188.721203 275.004545)scale(0.11 -0.11)\">\n       <defs>\n        <path d=\"M 19.1875 8.296875 \nL 53.609375 8.296875 \nL 53.609375 0 \nL 7.328125 0 \nL 7.328125 8.296875 \nQ 12.9375 14.109375 22.625 23.890625 \nQ 32.328125 33.6875 34.8125 36.53125 \nQ 39.546875 41.84375 41.421875 45.53125 \nQ 43.3125 49.21875 43.3125 52.78125 \nQ 43.3125 58.59375 39.234375 62.25 \nQ 35.15625 65.921875 28.609375 65.921875 \nQ 23.96875 65.921875 18.8125 64.3125 \nQ 13.671875 62.703125 7.8125 59.421875 \nL 7.8125 69.390625 \nQ 13.765625 71.78125 18.9375 73 \nQ 24.125 74.21875 28.421875 74.21875 \nQ 39.75 74.21875 46.484375 68.546875 \nQ 53.21875 62.890625 53.21875 53.421875 \nQ 53.21875 48.921875 51.53125 44.890625 \nQ 49.859375 40.875 45.40625 35.40625 \nQ 44.1875 33.984375 37.640625 27.21875 \nQ 31.109375 20.453125 19.1875 8.296875 \nz\n\" id=\"DejaVuSans-50\"/>\n       </defs>\n       <use xlink:href=\"#DejaVuSans-50\"/>\n       <use x=\"63.623047\" xlink:href=\"#DejaVuSans-48\"/>\n       <use x=\"127.246094\" xlink:href=\"#DejaVuSans-48\"/>\n      </g>\n     </g>\n    </g>\n    <g id=\"xtick_4\">\n     <g id=\"line2d_4\">\n      <path clip-path=\"url(#p8e983fe327)\" d=\"M 250.632105 257.146264 \nL 250.632105 20.798437 \n\" style=\"fill:none;stroke:#cccccc;stroke-linecap:round;\"/>\n     </g>\n     <g id=\"text_4\">\n      <!-- 250 -->\n      <g style=\"fill:#262626;\" transform=\"translate(240.13398 275.004545)scale(0.11 -0.11)\">\n       <use xlink:href=\"#DejaVuSans-50\"/>\n       <use x=\"63.623047\" xlink:href=\"#DejaVuSans-53\"/>\n       <use x=\"127.246094\" xlink:href=\"#DejaVuSans-48\"/>\n      </g>\n     </g>\n    </g>\n    <g id=\"xtick_5\">\n     <g id=\"line2d_5\">\n      <path clip-path=\"url(#p8e983fe327)\" d=\"M 302.044881 257.146264 \nL 302.044881 20.798437 \n\" style=\"fill:none;stroke:#cccccc;stroke-linecap:round;\"/>\n     </g>\n     <g id=\"text_5\">\n      <!-- 300 -->\n      <g style=\"fill:#262626;\" transform=\"translate(291.546756 275.004545)scale(0.11 -0.11)\">\n       <defs>\n        <path d=\"M 40.578125 39.3125 \nQ 47.65625 37.796875 51.625 33 \nQ 55.609375 28.21875 55.609375 21.1875 \nQ 55.609375 10.40625 48.1875 4.484375 \nQ 40.765625 -1.421875 27.09375 -1.421875 \nQ 22.515625 -1.421875 17.65625 -0.515625 \nQ 12.796875 0.390625 7.625 2.203125 \nL 7.625 11.71875 \nQ 11.71875 9.328125 16.59375 8.109375 \nQ 21.484375 6.890625 26.8125 6.890625 \nQ 36.078125 6.890625 40.9375 10.546875 \nQ 45.796875 14.203125 45.796875 21.1875 \nQ 45.796875 27.640625 41.28125 31.265625 \nQ 36.765625 34.90625 28.71875 34.90625 \nL 20.21875 34.90625 \nL 20.21875 43.015625 \nL 29.109375 43.015625 \nQ 36.375 43.015625 40.234375 45.921875 \nQ 44.09375 48.828125 44.09375 54.296875 \nQ 44.09375 59.90625 40.109375 62.90625 \nQ 36.140625 65.921875 28.71875 65.921875 \nQ 24.65625 65.921875 20.015625 65.03125 \nQ 15.375 64.15625 9.8125 62.3125 \nL 9.8125 71.09375 \nQ 15.4375 72.65625 20.34375 73.4375 \nQ 25.25 74.21875 29.59375 74.21875 \nQ 40.828125 74.21875 47.359375 69.109375 \nQ 53.90625 64.015625 53.90625 55.328125 \nQ 53.90625 49.265625 50.4375 45.09375 \nQ 46.96875 40.921875 40.578125 39.3125 \nz\n\" id=\"DejaVuSans-51\"/>\n       </defs>\n       <use xlink:href=\"#DejaVuSans-51\"/>\n       <use x=\"63.623047\" xlink:href=\"#DejaVuSans-48\"/>\n       <use x=\"127.246094\" xlink:href=\"#DejaVuSans-48\"/>\n      </g>\n     </g>\n    </g>\n    <g id=\"xtick_6\">\n     <g id=\"line2d_6\">\n      <path clip-path=\"url(#p8e983fe327)\" d=\"M 353.457657 257.146264 \nL 353.457657 20.798437 \n\" style=\"fill:none;stroke:#cccccc;stroke-linecap:round;\"/>\n     </g>\n     <g id=\"text_6\">\n      <!-- 350 -->\n      <g style=\"fill:#262626;\" transform=\"translate(342.959532 275.004545)scale(0.11 -0.11)\">\n       <use xlink:href=\"#DejaVuSans-51\"/>\n       <use x=\"63.623047\" xlink:href=\"#DejaVuSans-53\"/>\n       <use x=\"127.246094\" xlink:href=\"#DejaVuSans-48\"/>\n      </g>\n     </g>\n    </g>\n    <g id=\"xtick_7\">\n     <g id=\"line2d_7\">\n      <path clip-path=\"url(#p8e983fe327)\" d=\"M 404.870434 257.146264 \nL 404.870434 20.798437 \n\" style=\"fill:none;stroke:#cccccc;stroke-linecap:round;\"/>\n     </g>\n     <g id=\"text_7\">\n      <!-- 400 -->\n      <g style=\"fill:#262626;\" transform=\"translate(394.372309 275.004545)scale(0.11 -0.11)\">\n       <defs>\n        <path d=\"M 37.796875 64.3125 \nL 12.890625 25.390625 \nL 37.796875 25.390625 \nz\nM 35.203125 72.90625 \nL 47.609375 72.90625 \nL 47.609375 25.390625 \nL 58.015625 25.390625 \nL 58.015625 17.1875 \nL 47.609375 17.1875 \nL 47.609375 0 \nL 37.796875 0 \nL 37.796875 17.1875 \nL 4.890625 17.1875 \nL 4.890625 26.703125 \nz\n\" id=\"DejaVuSans-52\"/>\n       </defs>\n       <use xlink:href=\"#DejaVuSans-52\"/>\n       <use x=\"63.623047\" xlink:href=\"#DejaVuSans-48\"/>\n       <use x=\"127.246094\" xlink:href=\"#DejaVuSans-48\"/>\n      </g>\n     </g>\n    </g>\n    <g id=\"xtick_8\">\n     <g id=\"line2d_8\">\n      <path clip-path=\"url(#p8e983fe327)\" d=\"M 456.28321 257.146264 \nL 456.28321 20.798437 \n\" style=\"fill:none;stroke:#cccccc;stroke-linecap:round;\"/>\n     </g>\n     <g id=\"text_8\">\n      <!-- 450 -->\n      <g style=\"fill:#262626;\" transform=\"translate(445.785085 275.004545)scale(0.11 -0.11)\">\n       <use xlink:href=\"#DejaVuSans-52\"/>\n       <use x=\"63.623047\" xlink:href=\"#DejaVuSans-53\"/>\n       <use x=\"127.246094\" xlink:href=\"#DejaVuSans-48\"/>\n      </g>\n     </g>\n    </g>\n    <g id=\"text_9\">\n     <!-- param_n_estimators -->\n     <g style=\"fill:#262626;\" transform=\"translate(204.80625 290.410326)scale(0.12 -0.12)\">\n      <defs>\n       <path d=\"M 18.109375 8.203125 \nL 18.109375 -20.796875 \nL 9.078125 -20.796875 \nL 9.078125 54.6875 \nL 18.109375 54.6875 \nL 18.109375 46.390625 \nQ 20.953125 51.265625 25.265625 53.625 \nQ 29.59375 56 35.59375 56 \nQ 45.5625 56 51.78125 48.09375 \nQ 58.015625 40.1875 58.015625 27.296875 \nQ 58.015625 14.40625 51.78125 6.484375 \nQ 45.5625 -1.421875 35.59375 -1.421875 \nQ 29.59375 -1.421875 25.265625 0.953125 \nQ 20.953125 3.328125 18.109375 8.203125 \nz\nM 48.6875 27.296875 \nQ 48.6875 37.203125 44.609375 42.84375 \nQ 40.53125 48.484375 33.40625 48.484375 \nQ 26.265625 48.484375 22.1875 42.84375 \nQ 18.109375 37.203125 18.109375 27.296875 \nQ 18.109375 17.390625 22.1875 11.75 \nQ 26.265625 6.109375 33.40625 6.109375 \nQ 40.53125 6.109375 44.609375 11.75 \nQ 48.6875 17.390625 48.6875 27.296875 \nz\n\" id=\"DejaVuSans-112\"/>\n       <path d=\"M 34.28125 27.484375 \nQ 23.390625 27.484375 19.1875 25 \nQ 14.984375 22.515625 14.984375 16.5 \nQ 14.984375 11.71875 18.140625 8.90625 \nQ 21.296875 6.109375 26.703125 6.109375 \nQ 34.1875 6.109375 38.703125 11.40625 \nQ 43.21875 16.703125 43.21875 25.484375 \nL 43.21875 27.484375 \nz\nM 52.203125 31.203125 \nL 52.203125 0 \nL 43.21875 0 \nL 43.21875 8.296875 \nQ 40.140625 3.328125 35.546875 0.953125 \nQ 30.953125 -1.421875 24.3125 -1.421875 \nQ 15.921875 -1.421875 10.953125 3.296875 \nQ 6 8.015625 6 15.921875 \nQ 6 25.140625 12.171875 29.828125 \nQ 18.359375 34.515625 30.609375 34.515625 \nL 43.21875 34.515625 \nL 43.21875 35.40625 \nQ 43.21875 41.609375 39.140625 45 \nQ 35.0625 48.390625 27.6875 48.390625 \nQ 23 48.390625 18.546875 47.265625 \nQ 14.109375 46.140625 10.015625 43.890625 \nL 10.015625 52.203125 \nQ 14.9375 54.109375 19.578125 55.046875 \nQ 24.21875 56 28.609375 56 \nQ 40.484375 56 46.34375 49.84375 \nQ 52.203125 43.703125 52.203125 31.203125 \nz\n\" id=\"DejaVuSans-97\"/>\n       <path d=\"M 41.109375 46.296875 \nQ 39.59375 47.171875 37.8125 47.578125 \nQ 36.03125 48 33.890625 48 \nQ 26.265625 48 22.1875 43.046875 \nQ 18.109375 38.09375 18.109375 28.8125 \nL 18.109375 0 \nL 9.078125 0 \nL 9.078125 54.6875 \nL 18.109375 54.6875 \nL 18.109375 46.1875 \nQ 20.953125 51.171875 25.484375 53.578125 \nQ 30.03125 56 36.53125 56 \nQ 37.453125 56 38.578125 55.875 \nQ 39.703125 55.765625 41.0625 55.515625 \nz\n\" id=\"DejaVuSans-114\"/>\n       <path d=\"M 52 44.1875 \nQ 55.375 50.25 60.0625 53.125 \nQ 64.75 56 71.09375 56 \nQ 79.640625 56 84.28125 50.015625 \nQ 88.921875 44.046875 88.921875 33.015625 \nL 88.921875 0 \nL 79.890625 0 \nL 79.890625 32.71875 \nQ 79.890625 40.578125 77.09375 44.375 \nQ 74.3125 48.1875 68.609375 48.1875 \nQ 61.625 48.1875 57.5625 43.546875 \nQ 53.515625 38.921875 53.515625 30.90625 \nL 53.515625 0 \nL 44.484375 0 \nL 44.484375 32.71875 \nQ 44.484375 40.625 41.703125 44.40625 \nQ 38.921875 48.1875 33.109375 48.1875 \nQ 26.21875 48.1875 22.15625 43.53125 \nQ 18.109375 38.875 18.109375 30.90625 \nL 18.109375 0 \nL 9.078125 0 \nL 9.078125 54.6875 \nL 18.109375 54.6875 \nL 18.109375 46.1875 \nQ 21.1875 51.21875 25.484375 53.609375 \nQ 29.78125 56 35.6875 56 \nQ 41.65625 56 45.828125 52.96875 \nQ 50 49.953125 52 44.1875 \nz\n\" id=\"DejaVuSans-109\"/>\n       <path d=\"M 50.984375 -16.609375 \nL 50.984375 -23.578125 \nL -0.984375 -23.578125 \nL -0.984375 -16.609375 \nz\n\" id=\"DejaVuSans-95\"/>\n       <path d=\"M 54.890625 33.015625 \nL 54.890625 0 \nL 45.90625 0 \nL 45.90625 32.71875 \nQ 45.90625 40.484375 42.875 44.328125 \nQ 39.84375 48.1875 33.796875 48.1875 \nQ 26.515625 48.1875 22.3125 43.546875 \nQ 18.109375 38.921875 18.109375 30.90625 \nL 18.109375 0 \nL 9.078125 0 \nL 9.078125 54.6875 \nL 18.109375 54.6875 \nL 18.109375 46.1875 \nQ 21.34375 51.125 25.703125 53.5625 \nQ 30.078125 56 35.796875 56 \nQ 45.21875 56 50.046875 50.171875 \nQ 54.890625 44.34375 54.890625 33.015625 \nz\n\" id=\"DejaVuSans-110\"/>\n       <path d=\"M 56.203125 29.59375 \nL 56.203125 25.203125 \nL 14.890625 25.203125 \nQ 15.484375 15.921875 20.484375 11.0625 \nQ 25.484375 6.203125 34.421875 6.203125 \nQ 39.59375 6.203125 44.453125 7.46875 \nQ 49.3125 8.734375 54.109375 11.28125 \nL 54.109375 2.78125 \nQ 49.265625 0.734375 44.1875 -0.34375 \nQ 39.109375 -1.421875 33.890625 -1.421875 \nQ 20.796875 -1.421875 13.15625 6.1875 \nQ 5.515625 13.8125 5.515625 26.8125 \nQ 5.515625 40.234375 12.765625 48.109375 \nQ 20.015625 56 32.328125 56 \nQ 43.359375 56 49.78125 48.890625 \nQ 56.203125 41.796875 56.203125 29.59375 \nz\nM 47.21875 32.234375 \nQ 47.125 39.59375 43.09375 43.984375 \nQ 39.0625 48.390625 32.421875 48.390625 \nQ 24.90625 48.390625 20.390625 44.140625 \nQ 15.875 39.890625 15.1875 32.171875 \nz\n\" id=\"DejaVuSans-101\"/>\n       <path d=\"M 44.28125 53.078125 \nL 44.28125 44.578125 \nQ 40.484375 46.53125 36.375 47.5 \nQ 32.28125 48.484375 27.875 48.484375 \nQ 21.1875 48.484375 17.84375 46.4375 \nQ 14.5 44.390625 14.5 40.28125 \nQ 14.5 37.15625 16.890625 35.375 \nQ 19.28125 33.59375 26.515625 31.984375 \nL 29.59375 31.296875 \nQ 39.15625 29.25 43.1875 25.515625 \nQ 47.21875 21.78125 47.21875 15.09375 \nQ 47.21875 7.46875 41.1875 3.015625 \nQ 35.15625 -1.421875 24.609375 -1.421875 \nQ 20.21875 -1.421875 15.453125 -0.5625 \nQ 10.6875 0.296875 5.421875 2 \nL 5.421875 11.28125 \nQ 10.40625 8.6875 15.234375 7.390625 \nQ 20.0625 6.109375 24.8125 6.109375 \nQ 31.15625 6.109375 34.5625 8.28125 \nQ 37.984375 10.453125 37.984375 14.40625 \nQ 37.984375 18.0625 35.515625 20.015625 \nQ 33.0625 21.96875 24.703125 23.78125 \nL 21.578125 24.515625 \nQ 13.234375 26.265625 9.515625 29.90625 \nQ 5.8125 33.546875 5.8125 39.890625 \nQ 5.8125 47.609375 11.28125 51.796875 \nQ 16.75 56 26.8125 56 \nQ 31.78125 56 36.171875 55.265625 \nQ 40.578125 54.546875 44.28125 53.078125 \nz\n\" id=\"DejaVuSans-115\"/>\n       <path d=\"M 18.3125 70.21875 \nL 18.3125 54.6875 \nL 36.8125 54.6875 \nL 36.8125 47.703125 \nL 18.3125 47.703125 \nL 18.3125 18.015625 \nQ 18.3125 11.328125 20.140625 9.421875 \nQ 21.96875 7.515625 27.59375 7.515625 \nL 36.8125 7.515625 \nL 36.8125 0 \nL 27.59375 0 \nQ 17.1875 0 13.234375 3.875 \nQ 9.28125 7.765625 9.28125 18.015625 \nL 9.28125 47.703125 \nL 2.6875 47.703125 \nL 2.6875 54.6875 \nL 9.28125 54.6875 \nL 9.28125 70.21875 \nz\n\" id=\"DejaVuSans-116\"/>\n       <path d=\"M 9.421875 54.6875 \nL 18.40625 54.6875 \nL 18.40625 0 \nL 9.421875 0 \nz\nM 9.421875 75.984375 \nL 18.40625 75.984375 \nL 18.40625 64.59375 \nL 9.421875 64.59375 \nz\n\" id=\"DejaVuSans-105\"/>\n       <path d=\"M 30.609375 48.390625 \nQ 23.390625 48.390625 19.1875 42.75 \nQ 14.984375 37.109375 14.984375 27.296875 \nQ 14.984375 17.484375 19.15625 11.84375 \nQ 23.34375 6.203125 30.609375 6.203125 \nQ 37.796875 6.203125 41.984375 11.859375 \nQ 46.1875 17.53125 46.1875 27.296875 \nQ 46.1875 37.015625 41.984375 42.703125 \nQ 37.796875 48.390625 30.609375 48.390625 \nz\nM 30.609375 56 \nQ 42.328125 56 49.015625 48.375 \nQ 55.71875 40.765625 55.71875 27.296875 \nQ 55.71875 13.875 49.015625 6.21875 \nQ 42.328125 -1.421875 30.609375 -1.421875 \nQ 18.84375 -1.421875 12.171875 6.21875 \nQ 5.515625 13.875 5.515625 27.296875 \nQ 5.515625 40.765625 12.171875 48.375 \nQ 18.84375 56 30.609375 56 \nz\n\" id=\"DejaVuSans-111\"/>\n      </defs>\n      <use xlink:href=\"#DejaVuSans-112\"/>\n      <use x=\"63.476562\" xlink:href=\"#DejaVuSans-97\"/>\n      <use x=\"124.755859\" xlink:href=\"#DejaVuSans-114\"/>\n      <use x=\"165.869141\" xlink:href=\"#DejaVuSans-97\"/>\n      <use x=\"227.148438\" xlink:href=\"#DejaVuSans-109\"/>\n      <use x=\"324.560547\" xlink:href=\"#DejaVuSans-95\"/>\n      <use x=\"374.560547\" xlink:href=\"#DejaVuSans-110\"/>\n      <use x=\"437.939453\" xlink:href=\"#DejaVuSans-95\"/>\n      <use x=\"487.939453\" xlink:href=\"#DejaVuSans-101\"/>\n      <use x=\"549.462891\" xlink:href=\"#DejaVuSans-115\"/>\n      <use x=\"601.5625\" xlink:href=\"#DejaVuSans-116\"/>\n      <use x=\"640.771484\" xlink:href=\"#DejaVuSans-105\"/>\n      <use x=\"668.554688\" xlink:href=\"#DejaVuSans-109\"/>\n      <use x=\"765.966797\" xlink:href=\"#DejaVuSans-97\"/>\n      <use x=\"827.246094\" xlink:href=\"#DejaVuSans-116\"/>\n      <use x=\"866.455078\" xlink:href=\"#DejaVuSans-111\"/>\n      <use x=\"927.636719\" xlink:href=\"#DejaVuSans-114\"/>\n      <use x=\"968.75\" xlink:href=\"#DejaVuSans-115\"/>\n     </g>\n    </g>\n   </g>\n   <g id=\"matplotlib.axis_2\">\n    <g id=\"ytick_1\">\n     <g id=\"line2d_9\">\n      <path clip-path=\"url(#p8e983fe327)\" d=\"M 56.805938 226.318286 \nL 475.305938 226.318286 \n\" style=\"fill:none;stroke:#cccccc;stroke-linecap:round;\"/>\n     </g>\n     <g id=\"text_10\">\n      <!-- 0.75 -->\n      <g style=\"fill:#262626;\" transform=\"translate(22.81375 230.497427)scale(0.11 -0.11)\">\n       <defs>\n        <path d=\"M 10.6875 12.40625 \nL 21 12.40625 \nL 21 0 \nL 10.6875 0 \nz\n\" id=\"DejaVuSans-46\"/>\n        <path d=\"M 8.203125 72.90625 \nL 55.078125 72.90625 \nL 55.078125 68.703125 \nL 28.609375 0 \nL 18.3125 0 \nL 43.21875 64.59375 \nL 8.203125 64.59375 \nz\n\" id=\"DejaVuSans-55\"/>\n       </defs>\n       <use xlink:href=\"#DejaVuSans-48\"/>\n       <use x=\"63.623047\" xlink:href=\"#DejaVuSans-46\"/>\n       <use x=\"95.410156\" xlink:href=\"#DejaVuSans-55\"/>\n       <use x=\"159.033203\" xlink:href=\"#DejaVuSans-53\"/>\n      </g>\n     </g>\n    </g>\n    <g id=\"ytick_2\">\n     <g id=\"line2d_10\">\n      <path clip-path=\"url(#p8e983fe327)\" d=\"M 56.805938 174.938324 \nL 475.305938 174.938324 \n\" style=\"fill:none;stroke:#cccccc;stroke-linecap:round;\"/>\n     </g>\n     <g id=\"text_11\">\n      <!-- 0.80 -->\n      <g style=\"fill:#262626;\" transform=\"translate(22.81375 179.117465)scale(0.11 -0.11)\">\n       <defs>\n        <path d=\"M 31.78125 34.625 \nQ 24.75 34.625 20.71875 30.859375 \nQ 16.703125 27.09375 16.703125 20.515625 \nQ 16.703125 13.921875 20.71875 10.15625 \nQ 24.75 6.390625 31.78125 6.390625 \nQ 38.8125 6.390625 42.859375 10.171875 \nQ 46.921875 13.96875 46.921875 20.515625 \nQ 46.921875 27.09375 42.890625 30.859375 \nQ 38.875 34.625 31.78125 34.625 \nz\nM 21.921875 38.8125 \nQ 15.578125 40.375 12.03125 44.71875 \nQ 8.5 49.078125 8.5 55.328125 \nQ 8.5 64.0625 14.71875 69.140625 \nQ 20.953125 74.21875 31.78125 74.21875 \nQ 42.671875 74.21875 48.875 69.140625 \nQ 55.078125 64.0625 55.078125 55.328125 \nQ 55.078125 49.078125 51.53125 44.71875 \nQ 48 40.375 41.703125 38.8125 \nQ 48.828125 37.15625 52.796875 32.3125 \nQ 56.78125 27.484375 56.78125 20.515625 \nQ 56.78125 9.90625 50.3125 4.234375 \nQ 43.84375 -1.421875 31.78125 -1.421875 \nQ 19.734375 -1.421875 13.25 4.234375 \nQ 6.78125 9.90625 6.78125 20.515625 \nQ 6.78125 27.484375 10.78125 32.3125 \nQ 14.796875 37.15625 21.921875 38.8125 \nz\nM 18.3125 54.390625 \nQ 18.3125 48.734375 21.84375 45.5625 \nQ 25.390625 42.390625 31.78125 42.390625 \nQ 38.140625 42.390625 41.71875 45.5625 \nQ 45.3125 48.734375 45.3125 54.390625 \nQ 45.3125 60.0625 41.71875 63.234375 \nQ 38.140625 66.40625 31.78125 66.40625 \nQ 25.390625 66.40625 21.84375 63.234375 \nQ 18.3125 60.0625 18.3125 54.390625 \nz\n\" id=\"DejaVuSans-56\"/>\n       </defs>\n       <use xlink:href=\"#DejaVuSans-48\"/>\n       <use x=\"63.623047\" xlink:href=\"#DejaVuSans-46\"/>\n       <use x=\"95.410156\" xlink:href=\"#DejaVuSans-56\"/>\n       <use x=\"159.033203\" xlink:href=\"#DejaVuSans-48\"/>\n      </g>\n     </g>\n    </g>\n    <g id=\"ytick_3\">\n     <g id=\"line2d_11\">\n      <path clip-path=\"url(#p8e983fe327)\" d=\"M 56.805938 123.558362 \nL 475.305938 123.558362 \n\" style=\"fill:none;stroke:#cccccc;stroke-linecap:round;\"/>\n     </g>\n     <g id=\"text_12\">\n      <!-- 0.85 -->\n      <g style=\"fill:#262626;\" transform=\"translate(22.81375 127.737503)scale(0.11 -0.11)\">\n       <use xlink:href=\"#DejaVuSans-48\"/>\n       <use x=\"63.623047\" xlink:href=\"#DejaVuSans-46\"/>\n       <use x=\"95.410156\" xlink:href=\"#DejaVuSans-56\"/>\n       <use x=\"159.033203\" xlink:href=\"#DejaVuSans-53\"/>\n      </g>\n     </g>\n    </g>\n    <g id=\"ytick_4\">\n     <g id=\"line2d_12\">\n      <path clip-path=\"url(#p8e983fe327)\" d=\"M 56.805938 72.1784 \nL 475.305938 72.1784 \n\" style=\"fill:none;stroke:#cccccc;stroke-linecap:round;\"/>\n     </g>\n     <g id=\"text_13\">\n      <!-- 0.90 -->\n      <g style=\"fill:#262626;\" transform=\"translate(22.81375 76.35754)scale(0.11 -0.11)\">\n       <defs>\n        <path d=\"M 10.984375 1.515625 \nL 10.984375 10.5 \nQ 14.703125 8.734375 18.5 7.8125 \nQ 22.3125 6.890625 25.984375 6.890625 \nQ 35.75 6.890625 40.890625 13.453125 \nQ 46.046875 20.015625 46.78125 33.40625 \nQ 43.953125 29.203125 39.59375 26.953125 \nQ 35.25 24.703125 29.984375 24.703125 \nQ 19.046875 24.703125 12.671875 31.3125 \nQ 6.296875 37.9375 6.296875 49.421875 \nQ 6.296875 60.640625 12.9375 67.421875 \nQ 19.578125 74.21875 30.609375 74.21875 \nQ 43.265625 74.21875 49.921875 64.515625 \nQ 56.59375 54.828125 56.59375 36.375 \nQ 56.59375 19.140625 48.40625 8.859375 \nQ 40.234375 -1.421875 26.421875 -1.421875 \nQ 22.703125 -1.421875 18.890625 -0.6875 \nQ 15.09375 0.046875 10.984375 1.515625 \nz\nM 30.609375 32.421875 \nQ 37.25 32.421875 41.125 36.953125 \nQ 45.015625 41.5 45.015625 49.421875 \nQ 45.015625 57.28125 41.125 61.84375 \nQ 37.25 66.40625 30.609375 66.40625 \nQ 23.96875 66.40625 20.09375 61.84375 \nQ 16.21875 57.28125 16.21875 49.421875 \nQ 16.21875 41.5 20.09375 36.953125 \nQ 23.96875 32.421875 30.609375 32.421875 \nz\n\" id=\"DejaVuSans-57\"/>\n       </defs>\n       <use xlink:href=\"#DejaVuSans-48\"/>\n       <use x=\"63.623047\" xlink:href=\"#DejaVuSans-46\"/>\n       <use x=\"95.410156\" xlink:href=\"#DejaVuSans-57\"/>\n       <use x=\"159.033203\" xlink:href=\"#DejaVuSans-48\"/>\n      </g>\n     </g>\n    </g>\n    <g id=\"ytick_5\">\n     <g id=\"line2d_13\">\n      <path clip-path=\"url(#p8e983fe327)\" d=\"M 56.805938 20.798437 \nL 475.305938 20.798437 \n\" style=\"fill:none;stroke:#cccccc;stroke-linecap:round;\"/>\n     </g>\n     <g id=\"text_14\">\n      <!-- 0.95 -->\n      <g style=\"fill:#262626;\" transform=\"translate(22.81375 24.977578)scale(0.11 -0.11)\">\n       <use xlink:href=\"#DejaVuSans-48\"/>\n       <use x=\"63.623047\" xlink:href=\"#DejaVuSans-46\"/>\n       <use x=\"95.410156\" xlink:href=\"#DejaVuSans-57\"/>\n       <use x=\"159.033203\" xlink:href=\"#DejaVuSans-53\"/>\n      </g>\n     </g>\n    </g>\n    <g id=\"text_15\">\n     <!-- mean_test_score -->\n     <g style=\"fill:#262626;\" transform=\"translate(15.984375 189.629226)rotate(-90)scale(0.12 -0.12)\">\n      <defs>\n       <path d=\"M 48.78125 52.59375 \nL 48.78125 44.1875 \nQ 44.96875 46.296875 41.140625 47.34375 \nQ 37.3125 48.390625 33.40625 48.390625 \nQ 24.65625 48.390625 19.8125 42.84375 \nQ 14.984375 37.3125 14.984375 27.296875 \nQ 14.984375 17.28125 19.8125 11.734375 \nQ 24.65625 6.203125 33.40625 6.203125 \nQ 37.3125 6.203125 41.140625 7.25 \nQ 44.96875 8.296875 48.78125 10.40625 \nL 48.78125 2.09375 \nQ 45.015625 0.34375 40.984375 -0.53125 \nQ 36.96875 -1.421875 32.421875 -1.421875 \nQ 20.0625 -1.421875 12.78125 6.34375 \nQ 5.515625 14.109375 5.515625 27.296875 \nQ 5.515625 40.671875 12.859375 48.328125 \nQ 20.21875 56 33.015625 56 \nQ 37.15625 56 41.109375 55.140625 \nQ 45.0625 54.296875 48.78125 52.59375 \nz\n\" id=\"DejaVuSans-99\"/>\n      </defs>\n      <use xlink:href=\"#DejaVuSans-109\"/>\n      <use x=\"97.412109\" xlink:href=\"#DejaVuSans-101\"/>\n      <use x=\"158.935547\" xlink:href=\"#DejaVuSans-97\"/>\n      <use x=\"220.214844\" xlink:href=\"#DejaVuSans-110\"/>\n      <use x=\"283.59375\" xlink:href=\"#DejaVuSans-95\"/>\n      <use x=\"333.59375\" xlink:href=\"#DejaVuSans-116\"/>\n      <use x=\"372.802734\" xlink:href=\"#DejaVuSans-101\"/>\n      <use x=\"434.326172\" xlink:href=\"#DejaVuSans-115\"/>\n      <use x=\"486.425781\" xlink:href=\"#DejaVuSans-116\"/>\n      <use x=\"525.634766\" xlink:href=\"#DejaVuSans-95\"/>\n      <use x=\"575.634766\" xlink:href=\"#DejaVuSans-115\"/>\n      <use x=\"627.734375\" xlink:href=\"#DejaVuSans-99\"/>\n      <use x=\"682.714844\" xlink:href=\"#DejaVuSans-111\"/>\n      <use x=\"743.896484\" xlink:href=\"#DejaVuSans-114\"/>\n      <use x=\"782.759766\" xlink:href=\"#DejaVuSans-101\"/>\n     </g>\n    </g>\n   </g>\n   <g id=\"PolyCollection_1\">\n    <defs>\n     <path d=\"M 75.828665 -517.421585 \nL 75.828665 -488.713031 \nL 85.082965 -489.487454 \nL 94.337264 -471.324062 \nL 104.61982 -489.38649 \nL 113.874119 -486.602573 \nL 124.156675 -509.876683 \nL 133.410974 -495.087657 \nL 143.69353 -505.209071 \nL 152.947829 -508.566919 \nL 163.230385 -500.724294 \nL 172.484684 -497.257743 \nL 182.76724 -490.75347 \nL 192.021539 -486.530314 \nL 202.304095 -501.585946 \nL 211.558395 -488.873594 \nL 221.84095 -475.942505 \nL 231.09525 -495.638157 \nL 241.377805 -465.145266 \nL 250.632105 -493.412837 \nL 260.91466 -515.611356 \nL 270.16896 -496.334106 \nL 280.451515 -504.229408 \nL 289.705815 -501.107517 \nL 299.98837 -482.537862 \nL 309.24267 -478.483031 \nL 319.525225 -495.818588 \nL 328.779525 -478.548735 \nL 339.06208 -495.191375 \nL 348.31638 -483.617995 \nL 358.598935 -462.066657 \nL 367.853235 -486.20387 \nL 378.13579 -506.866847 \nL 387.39009 -469.764676 \nL 397.672645 -517.340606 \nL 406.926945 -501.163597 \nL 417.2095 -497.285666 \nL 426.4638 -469.802971 \nL 436.746355 -506.134748 \nL 446.000655 -506.286468 \nL 456.28321 -488.257657 \nL 456.28321 -513.178657 \nL 456.28321 -513.178657 \nL 446.000655 -531.608784 \nL 436.746355 -536.409832 \nL 426.4638 -529.928697 \nL 417.2095 -521.241264 \nL 406.926945 -535.516966 \nL 397.672645 -537.00275 \nL 387.39009 -514.291317 \nL 378.13579 -526.315017 \nL 367.853235 -520.354791 \nL 358.598935 -523.792421 \nL 348.31638 -535.857154 \nL 339.06208 -516.83493 \nL 328.779525 -524.024788 \nL 319.525225 -525.37925 \nL 309.24267 -525.398456 \nL 299.98837 -532.322173 \nL 289.705815 -537.896314 \nL 280.451515 -526.210165 \nL 270.16896 -520.219774 \nL 260.91466 -547.495364 \nL 250.632105 -528.132976 \nL 241.377805 -511.100015 \nL 231.09525 -526.242743 \nL 221.84095 -537.250962 \nL 211.558395 -520.993051 \nL 202.304095 -523.090834 \nL 192.021539 -528.444077 \nL 182.76724 -517.009907 \nL 172.484684 -529.932187 \nL 163.230385 -521.631312 \nL 152.947829 -532.022989 \nL 143.69353 -527.555166 \nL 133.410974 -524.359875 \nL 124.156675 -529.239907 \nL 113.874119 -516.348867 \nL 104.61982 -528.026587 \nL 94.337264 -518.04835 \nL 85.082965 -527.918177 \nL 75.828665 -517.421585 \nz\n\" id=\"m9bf4c1949d\" style=\"stroke:#d53d69;stroke-opacity:0.2;\"/>\n    </defs>\n    <g clip-path=\"url(#p8e983fe327)\">\n     <use style=\"fill:#d53d69;fill-opacity:0.2;stroke:#d53d69;stroke-opacity:0.2;\" x=\"0\" xlink:href=\"#m9bf4c1949d\" y=\"607.691875\"/>\n    </g>\n   </g>\n   <g id=\"line2d_14\">\n    <path clip-path=\"url(#p8e983fe327)\" d=\"M 75.828665 104.346724 \nL 85.082965 97.793917 \nL 94.337264 109.951811 \nL 104.61982 96.620019 \nL 113.874119 104.864051 \nL 124.156675 87.390273 \nL 133.410974 97.496062 \nL 143.69353 90.887408 \nL 152.947829 86.698824 \nL 163.230385 95.634469 \nL 172.484684 93.400558 \nL 182.76724 104.011637 \nL 192.021539 100.66077 \nL 202.304095 95.774089 \nL 211.558395 103.453159 \nL 221.84095 97.744275 \nL 231.09525 94.629209 \nL 241.377805 118.930974 \nL 250.632105 95.720389 \nL 260.91466 74.818477 \nL 270.16896 99.500855 \nL 280.451515 92.097443 \nL 289.705815 87.517925 \nL 299.98837 99.942727 \nL 309.24267 105.424258 \nL 319.525225 96.064068 \nL 328.779525 104.41055 \nL 339.06208 101.117706 \nL 348.31638 95.033032 \nL 358.598935 110.434132 \nL 367.853235 103.293594 \nL 378.13579 91.363756 \nL 387.39009 113.346195 \nL 397.672645 79.773698 \nL 406.926945 88.793116 \nL 417.2095 98.364806 \nL 426.4638 105.016897 \nL 436.746355 84.911695 \nL 446.000655 88.001939 \nL 456.28321 106.718107 \n\" style=\"fill:none;stroke:#d53d69;stroke-linecap:round;stroke-width:1.5;\"/>\n   </g>\n   <g id=\"patch_3\">\n    <path d=\"M 56.805938 257.146264 \nL 56.805938 20.798437 \n\" style=\"fill:none;stroke:#cccccc;stroke-linecap:square;stroke-linejoin:miter;stroke-width:1.25;\"/>\n   </g>\n   <g id=\"patch_4\">\n    <path d=\"M 475.305938 257.146264 \nL 475.305938 20.798437 \n\" style=\"fill:none;stroke:#cccccc;stroke-linecap:square;stroke-linejoin:miter;stroke-width:1.25;\"/>\n   </g>\n   <g id=\"patch_5\">\n    <path d=\"M 56.805938 257.146264 \nL 475.305937 257.146264 \n\" style=\"fill:none;stroke:#cccccc;stroke-linecap:square;stroke-linejoin:miter;stroke-width:1.25;\"/>\n   </g>\n   <g id=\"patch_6\">\n    <path d=\"M 56.805938 20.798437 \nL 475.305937 20.798437 \n\" style=\"fill:none;stroke:#cccccc;stroke-linecap:square;stroke-linejoin:miter;stroke-width:1.25;\"/>\n   </g>\n   <g id=\"text_16\">\n    <!-- n_estimators -->\n    <g style=\"fill:#262626;\" transform=\"translate(229.674688 14.798437)scale(0.1 -0.1)\">\n     <defs>\n      <path d=\"M 63.375 33.296875 \nL 63.375 0 \nL 45.796875 0 \nL 45.796875 5.421875 \nL 45.796875 25.484375 \nQ 45.796875 32.5625 45.484375 35.25 \nQ 45.171875 37.9375 44.390625 39.203125 \nQ 43.359375 40.921875 41.59375 41.875 \nQ 39.84375 42.828125 37.59375 42.828125 \nQ 32.125 42.828125 29 38.59375 \nQ 25.875 34.375 25.875 26.90625 \nL 25.875 0 \nL 8.40625 0 \nL 8.40625 54.6875 \nL 25.875 54.6875 \nL 25.875 46.6875 \nQ 29.828125 51.46875 34.265625 53.734375 \nQ 38.71875 56 44.09375 56 \nQ 53.5625 56 58.46875 50.1875 \nQ 63.375 44.390625 63.375 33.296875 \nz\n\" id=\"DejaVuSans-Bold-110\"/>\n      <path d=\"M 50 -14.3125 \nL 50 -23.578125 \nL 0 -23.578125 \nL 0 -14.3125 \nz\n\" id=\"DejaVuSans-Bold-95\"/>\n      <path d=\"M 62.984375 27.484375 \nL 62.984375 22.515625 \nL 22.125 22.515625 \nQ 22.75 16.359375 26.5625 13.28125 \nQ 30.375 10.203125 37.203125 10.203125 \nQ 42.71875 10.203125 48.5 11.84375 \nQ 54.296875 13.484375 60.40625 16.796875 \nL 60.40625 3.328125 \nQ 54.203125 0.984375 48 -0.21875 \nQ 41.796875 -1.421875 35.59375 -1.421875 \nQ 20.75 -1.421875 12.515625 6.125 \nQ 4.296875 13.671875 4.296875 27.296875 \nQ 4.296875 40.671875 12.375 48.328125 \nQ 20.453125 56 34.625 56 \nQ 47.515625 56 55.25 48.234375 \nQ 62.984375 40.484375 62.984375 27.484375 \nz\nM 45.015625 33.296875 \nQ 45.015625 38.28125 42.109375 41.328125 \nQ 39.203125 44.390625 34.515625 44.390625 \nQ 29.4375 44.390625 26.265625 41.53125 \nQ 23.09375 38.671875 22.3125 33.296875 \nz\n\" id=\"DejaVuSans-Bold-101\"/>\n      <path d=\"M 51.125 52.984375 \nL 51.125 39.703125 \nQ 45.515625 42.046875 40.28125 43.21875 \nQ 35.0625 44.390625 30.421875 44.390625 \nQ 25.4375 44.390625 23.015625 43.140625 \nQ 20.609375 41.890625 20.609375 39.3125 \nQ 20.609375 37.203125 22.4375 36.078125 \nQ 24.265625 34.96875 29 34.421875 \nL 32.078125 33.984375 \nQ 45.515625 32.28125 50.140625 28.375 \nQ 54.78125 24.46875 54.78125 16.109375 \nQ 54.78125 7.375 48.328125 2.96875 \nQ 41.890625 -1.421875 29.109375 -1.421875 \nQ 23.6875 -1.421875 17.890625 -0.5625 \nQ 12.109375 0.296875 6 2 \nL 6 15.28125 \nQ 11.234375 12.75 16.71875 11.46875 \nQ 22.21875 10.203125 27.875 10.203125 \nQ 33.015625 10.203125 35.59375 11.609375 \nQ 38.1875 13.03125 38.1875 15.828125 \nQ 38.1875 18.171875 36.40625 19.3125 \nQ 34.625 20.453125 29.296875 21.09375 \nL 26.21875 21.484375 \nQ 14.546875 22.953125 9.859375 26.90625 \nQ 5.171875 30.859375 5.171875 38.921875 \nQ 5.171875 47.609375 11.125 51.796875 \nQ 17.09375 56 29.390625 56 \nQ 34.234375 56 39.546875 55.265625 \nQ 44.875 54.546875 51.125 52.984375 \nz\n\" id=\"DejaVuSans-Bold-115\"/>\n      <path d=\"M 27.484375 70.21875 \nL 27.484375 54.6875 \nL 45.515625 54.6875 \nL 45.515625 42.1875 \nL 27.484375 42.1875 \nL 27.484375 19 \nQ 27.484375 15.1875 29 13.84375 \nQ 30.515625 12.5 35.015625 12.5 \nL 44 12.5 \nL 44 0 \nL 29 0 \nQ 18.65625 0 14.328125 4.3125 \nQ 10.015625 8.640625 10.015625 19 \nL 10.015625 42.1875 \nL 1.3125 42.1875 \nL 1.3125 54.6875 \nL 10.015625 54.6875 \nL 10.015625 70.21875 \nz\n\" id=\"DejaVuSans-Bold-116\"/>\n      <path d=\"M 8.40625 54.6875 \nL 25.875 54.6875 \nL 25.875 0 \nL 8.40625 0 \nz\nM 8.40625 75.984375 \nL 25.875 75.984375 \nL 25.875 61.71875 \nL 8.40625 61.71875 \nz\n\" id=\"DejaVuSans-Bold-105\"/>\n      <path d=\"M 59.078125 45.609375 \nQ 62.40625 50.6875 66.96875 53.34375 \nQ 71.53125 56 77 56 \nQ 86.421875 56 91.359375 50.1875 \nQ 96.296875 44.390625 96.296875 33.296875 \nL 96.296875 0 \nL 78.71875 0 \nL 78.71875 28.515625 \nQ 78.765625 29.15625 78.78125 29.828125 \nQ 78.8125 30.515625 78.8125 31.78125 \nQ 78.8125 37.59375 77.09375 40.203125 \nQ 75.390625 42.828125 71.578125 42.828125 \nQ 66.609375 42.828125 63.890625 38.71875 \nQ 61.1875 34.625 61.078125 26.859375 \nL 61.078125 0 \nL 43.5 0 \nL 43.5 28.515625 \nQ 43.5 37.59375 41.9375 40.203125 \nQ 40.375 42.828125 36.375 42.828125 \nQ 31.34375 42.828125 28.609375 38.703125 \nQ 25.875 34.578125 25.875 26.90625 \nL 25.875 0 \nL 8.296875 0 \nL 8.296875 54.6875 \nL 25.875 54.6875 \nL 25.875 46.6875 \nQ 29.109375 51.3125 33.28125 53.65625 \nQ 37.453125 56 42.484375 56 \nQ 48.140625 56 52.484375 53.265625 \nQ 56.84375 50.53125 59.078125 45.609375 \nz\n\" id=\"DejaVuSans-Bold-109\"/>\n      <path d=\"M 32.90625 24.609375 \nQ 27.4375 24.609375 24.671875 22.75 \nQ 21.921875 20.90625 21.921875 17.28125 \nQ 21.921875 13.96875 24.140625 12.078125 \nQ 26.375 10.203125 30.328125 10.203125 \nQ 35.25 10.203125 38.625 13.734375 \nQ 42 17.28125 42 22.609375 \nL 42 24.609375 \nz\nM 59.625 31.203125 \nL 59.625 0 \nL 42 0 \nL 42 8.109375 \nQ 38.484375 3.125 34.078125 0.84375 \nQ 29.6875 -1.421875 23.390625 -1.421875 \nQ 14.890625 -1.421875 9.59375 3.53125 \nQ 4.296875 8.5 4.296875 16.40625 \nQ 4.296875 26.03125 10.90625 30.515625 \nQ 17.53125 35.015625 31.6875 35.015625 \nL 42 35.015625 \nL 42 36.375 \nQ 42 40.53125 38.71875 42.453125 \nQ 35.453125 44.390625 28.515625 44.390625 \nQ 22.90625 44.390625 18.0625 43.265625 \nQ 13.234375 42.140625 9.078125 39.890625 \nL 9.078125 53.21875 \nQ 14.703125 54.59375 20.359375 55.296875 \nQ 26.03125 56 31.6875 56 \nQ 46.484375 56 53.046875 50.171875 \nQ 59.625 44.34375 59.625 31.203125 \nz\n\" id=\"DejaVuSans-Bold-97\"/>\n      <path d=\"M 34.421875 43.5 \nQ 28.609375 43.5 25.5625 39.328125 \nQ 22.515625 35.15625 22.515625 27.296875 \nQ 22.515625 19.4375 25.5625 15.25 \nQ 28.609375 11.078125 34.421875 11.078125 \nQ 40.140625 11.078125 43.15625 15.25 \nQ 46.1875 19.4375 46.1875 27.296875 \nQ 46.1875 35.15625 43.15625 39.328125 \nQ 40.140625 43.5 34.421875 43.5 \nz\nM 34.421875 56 \nQ 48.53125 56 56.46875 48.375 \nQ 64.40625 40.765625 64.40625 27.296875 \nQ 64.40625 13.8125 56.46875 6.1875 \nQ 48.53125 -1.421875 34.421875 -1.421875 \nQ 20.265625 -1.421875 12.28125 6.1875 \nQ 4.296875 13.8125 4.296875 27.296875 \nQ 4.296875 40.765625 12.28125 48.375 \nQ 20.265625 56 34.421875 56 \nz\n\" id=\"DejaVuSans-Bold-111\"/>\n      <path d=\"M 49.03125 39.796875 \nQ 46.734375 40.875 44.453125 41.375 \nQ 42.1875 41.890625 39.890625 41.890625 \nQ 33.15625 41.890625 29.515625 37.5625 \nQ 25.875 33.25 25.875 25.203125 \nL 25.875 0 \nL 8.40625 0 \nL 8.40625 54.6875 \nL 25.875 54.6875 \nL 25.875 45.703125 \nQ 29.25 51.078125 33.609375 53.53125 \nQ 37.984375 56 44.09375 56 \nQ 44.96875 56 45.984375 55.921875 \nQ 47.015625 55.859375 48.96875 55.609375 \nz\n\" id=\"DejaVuSans-Bold-114\"/>\n     </defs>\n     <use xlink:href=\"#DejaVuSans-Bold-110\"/>\n     <use x=\"71.191406\" xlink:href=\"#DejaVuSans-Bold-95\"/>\n     <use x=\"121.191406\" xlink:href=\"#DejaVuSans-Bold-101\"/>\n     <use x=\"189.013672\" xlink:href=\"#DejaVuSans-Bold-115\"/>\n     <use x=\"248.535156\" xlink:href=\"#DejaVuSans-Bold-116\"/>\n     <use x=\"296.337891\" xlink:href=\"#DejaVuSans-Bold-105\"/>\n     <use x=\"330.615234\" xlink:href=\"#DejaVuSans-Bold-109\"/>\n     <use x=\"434.814453\" xlink:href=\"#DejaVuSans-Bold-97\"/>\n     <use x=\"502.294922\" xlink:href=\"#DejaVuSans-Bold-116\"/>\n     <use x=\"550.097656\" xlink:href=\"#DejaVuSans-Bold-111\"/>\n     <use x=\"618.798828\" xlink:href=\"#DejaVuSans-Bold-114\"/>\n     <use x=\"668.115234\" xlink:href=\"#DejaVuSans-Bold-115\"/>\n    </g>\n   </g>\n  </g>\n  <g id=\"axes_2\">\n   <g id=\"patch_7\">\n    <path d=\"M 517.155938 257.146264 \nL 935.655937 257.146264 \nL 935.655937 20.798437 \nL 517.155938 20.798437 \nz\n\" style=\"fill:#ffffff;\"/>\n   </g>\n   <g id=\"matplotlib.axis_3\">\n    <g id=\"xtick_9\">\n     <g id=\"line2d_15\">\n      <path clip-path=\"url(#pb18be8ea1f)\" d=\"M 546.746847 257.146264 \nL 546.746847 20.798437 \n\" style=\"fill:none;stroke:#cccccc;stroke-linecap:round;\"/>\n     </g>\n     <g id=\"text_17\">\n      <!-- 2.5 -->\n      <g style=\"fill:#262626;\" transform=\"translate(538.000128 275.004545)scale(0.11 -0.11)\">\n       <use xlink:href=\"#DejaVuSans-50\"/>\n       <use x=\"63.623047\" xlink:href=\"#DejaVuSans-46\"/>\n       <use x=\"95.410156\" xlink:href=\"#DejaVuSans-53\"/>\n      </g>\n     </g>\n    </g>\n    <g id=\"xtick_10\">\n     <g id=\"line2d_16\">\n      <path clip-path=\"url(#pb18be8ea1f)\" d=\"M 599.587756 257.146264 \nL 599.587756 20.798437 \n\" style=\"fill:none;stroke:#cccccc;stroke-linecap:round;\"/>\n     </g>\n     <g id=\"text_18\">\n      <!-- 5.0 -->\n      <g style=\"fill:#262626;\" transform=\"translate(590.841037 275.004545)scale(0.11 -0.11)\">\n       <use xlink:href=\"#DejaVuSans-53\"/>\n       <use x=\"63.623047\" xlink:href=\"#DejaVuSans-46\"/>\n       <use x=\"95.410156\" xlink:href=\"#DejaVuSans-48\"/>\n      </g>\n     </g>\n    </g>\n    <g id=\"xtick_11\">\n     <g id=\"line2d_17\">\n      <path clip-path=\"url(#pb18be8ea1f)\" d=\"M 652.428665 257.146264 \nL 652.428665 20.798437 \n\" style=\"fill:none;stroke:#cccccc;stroke-linecap:round;\"/>\n     </g>\n     <g id=\"text_19\">\n      <!-- 7.5 -->\n      <g style=\"fill:#262626;\" transform=\"translate(643.681946 275.004545)scale(0.11 -0.11)\">\n       <use xlink:href=\"#DejaVuSans-55\"/>\n       <use x=\"63.623047\" xlink:href=\"#DejaVuSans-46\"/>\n       <use x=\"95.410156\" xlink:href=\"#DejaVuSans-53\"/>\n      </g>\n     </g>\n    </g>\n    <g id=\"xtick_12\">\n     <g id=\"line2d_18\">\n      <path clip-path=\"url(#pb18be8ea1f)\" d=\"M 705.269574 257.146264 \nL 705.269574 20.798437 \n\" style=\"fill:none;stroke:#cccccc;stroke-linecap:round;\"/>\n     </g>\n     <g id=\"text_20\">\n      <!-- 10.0 -->\n      <g style=\"fill:#262626;\" transform=\"translate(693.02348 275.004545)scale(0.11 -0.11)\">\n       <use xlink:href=\"#DejaVuSans-49\"/>\n       <use x=\"63.623047\" xlink:href=\"#DejaVuSans-48\"/>\n       <use x=\"127.246094\" xlink:href=\"#DejaVuSans-46\"/>\n       <use x=\"159.033203\" xlink:href=\"#DejaVuSans-48\"/>\n      </g>\n     </g>\n    </g>\n    <g id=\"xtick_13\">\n     <g id=\"line2d_19\">\n      <path clip-path=\"url(#pb18be8ea1f)\" d=\"M 758.110483 257.146264 \nL 758.110483 20.798437 \n\" style=\"fill:none;stroke:#cccccc;stroke-linecap:round;\"/>\n     </g>\n     <g id=\"text_21\">\n      <!-- 12.5 -->\n      <g style=\"fill:#262626;\" transform=\"translate(745.864389 275.004545)scale(0.11 -0.11)\">\n       <use xlink:href=\"#DejaVuSans-49\"/>\n       <use x=\"63.623047\" xlink:href=\"#DejaVuSans-50\"/>\n       <use x=\"127.246094\" xlink:href=\"#DejaVuSans-46\"/>\n       <use x=\"159.033203\" xlink:href=\"#DejaVuSans-53\"/>\n      </g>\n     </g>\n    </g>\n    <g id=\"xtick_14\">\n     <g id=\"line2d_20\">\n      <path clip-path=\"url(#pb18be8ea1f)\" d=\"M 810.951392 257.146264 \nL 810.951392 20.798437 \n\" style=\"fill:none;stroke:#cccccc;stroke-linecap:round;\"/>\n     </g>\n     <g id=\"text_22\">\n      <!-- 15.0 -->\n      <g style=\"fill:#262626;\" transform=\"translate(798.705298 275.004545)scale(0.11 -0.11)\">\n       <use xlink:href=\"#DejaVuSans-49\"/>\n       <use x=\"63.623047\" xlink:href=\"#DejaVuSans-53\"/>\n       <use x=\"127.246094\" xlink:href=\"#DejaVuSans-46\"/>\n       <use x=\"159.033203\" xlink:href=\"#DejaVuSans-48\"/>\n      </g>\n     </g>\n    </g>\n    <g id=\"xtick_15\">\n     <g id=\"line2d_21\">\n      <path clip-path=\"url(#pb18be8ea1f)\" d=\"M 863.792301 257.146264 \nL 863.792301 20.798437 \n\" style=\"fill:none;stroke:#cccccc;stroke-linecap:round;\"/>\n     </g>\n     <g id=\"text_23\">\n      <!-- 17.5 -->\n      <g style=\"fill:#262626;\" transform=\"translate(851.546207 275.004545)scale(0.11 -0.11)\">\n       <use xlink:href=\"#DejaVuSans-49\"/>\n       <use x=\"63.623047\" xlink:href=\"#DejaVuSans-55\"/>\n       <use x=\"127.246094\" xlink:href=\"#DejaVuSans-46\"/>\n       <use x=\"159.033203\" xlink:href=\"#DejaVuSans-53\"/>\n      </g>\n     </g>\n    </g>\n    <g id=\"xtick_16\">\n     <g id=\"line2d_22\">\n      <path clip-path=\"url(#pb18be8ea1f)\" d=\"M 916.63321 257.146264 \nL 916.63321 20.798437 \n\" style=\"fill:none;stroke:#cccccc;stroke-linecap:round;\"/>\n     </g>\n     <g id=\"text_24\">\n      <!-- 20.0 -->\n      <g style=\"fill:#262626;\" transform=\"translate(904.387116 275.004545)scale(0.11 -0.11)\">\n       <use xlink:href=\"#DejaVuSans-50\"/>\n       <use x=\"63.623047\" xlink:href=\"#DejaVuSans-48\"/>\n       <use x=\"127.246094\" xlink:href=\"#DejaVuSans-46\"/>\n       <use x=\"159.033203\" xlink:href=\"#DejaVuSans-48\"/>\n      </g>\n     </g>\n    </g>\n    <g id=\"text_25\">\n     <!-- param_min_samples_split -->\n     <g style=\"fill:#262626;\" transform=\"translate(649.0575 290.410326)scale(0.12 -0.12)\">\n      <defs>\n       <path d=\"M 9.421875 75.984375 \nL 18.40625 75.984375 \nL 18.40625 0 \nL 9.421875 0 \nz\n\" id=\"DejaVuSans-108\"/>\n      </defs>\n      <use xlink:href=\"#DejaVuSans-112\"/>\n      <use x=\"63.476562\" xlink:href=\"#DejaVuSans-97\"/>\n      <use x=\"124.755859\" xlink:href=\"#DejaVuSans-114\"/>\n      <use x=\"165.869141\" xlink:href=\"#DejaVuSans-97\"/>\n      <use x=\"227.148438\" xlink:href=\"#DejaVuSans-109\"/>\n      <use x=\"324.560547\" xlink:href=\"#DejaVuSans-95\"/>\n      <use x=\"374.560547\" xlink:href=\"#DejaVuSans-109\"/>\n      <use x=\"471.972656\" xlink:href=\"#DejaVuSans-105\"/>\n      <use x=\"499.755859\" xlink:href=\"#DejaVuSans-110\"/>\n      <use x=\"563.134766\" xlink:href=\"#DejaVuSans-95\"/>\n      <use x=\"613.134766\" xlink:href=\"#DejaVuSans-115\"/>\n      <use x=\"665.234375\" xlink:href=\"#DejaVuSans-97\"/>\n      <use x=\"726.513672\" xlink:href=\"#DejaVuSans-109\"/>\n      <use x=\"823.925781\" xlink:href=\"#DejaVuSans-112\"/>\n      <use x=\"887.402344\" xlink:href=\"#DejaVuSans-108\"/>\n      <use x=\"915.185547\" xlink:href=\"#DejaVuSans-101\"/>\n      <use x=\"976.708984\" xlink:href=\"#DejaVuSans-115\"/>\n      <use x=\"1028.808594\" xlink:href=\"#DejaVuSans-95\"/>\n      <use x=\"1078.808594\" xlink:href=\"#DejaVuSans-115\"/>\n      <use x=\"1130.908203\" xlink:href=\"#DejaVuSans-112\"/>\n      <use x=\"1194.384766\" xlink:href=\"#DejaVuSans-108\"/>\n      <use x=\"1222.167969\" xlink:href=\"#DejaVuSans-105\"/>\n      <use x=\"1249.951172\" xlink:href=\"#DejaVuSans-116\"/>\n     </g>\n    </g>\n   </g>\n   <g id=\"matplotlib.axis_4\">\n    <g id=\"ytick_6\">\n     <g id=\"line2d_23\">\n      <path clip-path=\"url(#pb18be8ea1f)\" d=\"M 517.155938 226.318286 \nL 935.655937 226.318286 \n\" style=\"fill:none;stroke:#cccccc;stroke-linecap:round;\"/>\n     </g>\n    </g>\n    <g id=\"ytick_7\">\n     <g id=\"line2d_24\">\n      <path clip-path=\"url(#pb18be8ea1f)\" d=\"M 517.155938 174.938324 \nL 935.655937 174.938324 \n\" style=\"fill:none;stroke:#cccccc;stroke-linecap:round;\"/>\n     </g>\n    </g>\n    <g id=\"ytick_8\">\n     <g id=\"line2d_25\">\n      <path clip-path=\"url(#pb18be8ea1f)\" d=\"M 517.155938 123.558362 \nL 935.655937 123.558362 \n\" style=\"fill:none;stroke:#cccccc;stroke-linecap:round;\"/>\n     </g>\n    </g>\n    <g id=\"ytick_9\">\n     <g id=\"line2d_26\">\n      <path clip-path=\"url(#pb18be8ea1f)\" d=\"M 517.155938 72.1784 \nL 935.655937 72.1784 \n\" style=\"fill:none;stroke:#cccccc;stroke-linecap:round;\"/>\n     </g>\n    </g>\n    <g id=\"ytick_10\">\n     <g id=\"line2d_27\">\n      <path clip-path=\"url(#pb18be8ea1f)\" d=\"M 517.155938 20.798437 \nL 935.655937 20.798437 \n\" style=\"fill:none;stroke:#cccccc;stroke-linecap:round;\"/>\n     </g>\n    </g>\n   </g>\n   <g id=\"PolyCollection_2\">\n    <defs>\n     <path d=\"M 536.178665 -523.476726 \nL 536.178665 -499.455973 \nL 557.315028 -501.036776 \nL 578.451392 -509.315787 \nL 599.587756 -486.310278 \nL 620.724119 -498.92412 \nL 641.860483 -505.552781 \nL 662.996847 -513.481524 \nL 684.13321 -480.820623 \nL 705.269574 -500.441066 \nL 726.405938 -508.762386 \nL 747.542301 -509.869629 \nL 768.678665 -497.704525 \nL 789.815028 -501.388553 \nL 810.951392 -498.390146 \nL 832.087756 -495.170631 \nL 853.224119 -482.162415 \nL 874.360483 -486.99607 \nL 895.496847 -497.9093 \nL 916.63321 -498.380017 \nL 916.63321 -528.075082 \nL 916.63321 -528.075082 \nL 895.496847 -519.317618 \nL 874.360483 -513.918998 \nL 853.224119 -518.174381 \nL 832.087756 -520.771256 \nL 810.951392 -515.648299 \nL 789.815028 -520.032084 \nL 768.678665 -518.144814 \nL 747.542301 -535.127397 \nL 726.405938 -526.234151 \nL 705.269574 -519.152867 \nL 684.13321 -514.695655 \nL 662.996847 -528.690738 \nL 641.860483 -527.89518 \nL 620.724119 -521.989255 \nL 599.587756 -513.489966 \nL 578.451392 -529.217907 \nL 557.315028 -525.539061 \nL 536.178665 -523.476726 \nz\n\" id=\"me0831aa9d0\" style=\"stroke:#91324e;stroke-opacity:0.2;\"/>\n    </defs>\n    <g clip-path=\"url(#pb18be8ea1f)\">\n     <use style=\"fill:#91324e;fill-opacity:0.2;stroke:#91324e;stroke-opacity:0.2;\" x=\"0\" xlink:href=\"#me0831aa9d0\" y=\"607.691875\"/>\n    </g>\n   </g>\n   <g id=\"line2d_28\">\n    <path clip-path=\"url(#pb18be8ea1f)\" d=\"M 536.178665 95.262151 \nL 557.315028 92.953776 \nL 578.451392 88.323487 \nL 599.587756 107.245614 \nL 620.724119 96.570297 \nL 641.860483 91.23235 \nL 662.996847 86.636771 \nL 684.13321 108.72519 \nL 705.269574 97.868381 \nL 726.405938 89.820572 \nL 747.542301 84.707729 \nL 768.678665 99.15288 \nL 789.815028 96.751425 \nL 810.951392 100.886538 \nL 832.087756 98.60238 \nL 853.224119 105.949884 \nL 874.360483 107.061785 \nL 895.496847 99.357655 \nL 916.63321 92.283602 \n\" style=\"fill:none;stroke:#91324e;stroke-linecap:round;stroke-width:1.5;\"/>\n   </g>\n   <g id=\"patch_8\">\n    <path d=\"M 517.155938 257.146264 \nL 517.155938 20.798437 \n\" style=\"fill:none;stroke:#cccccc;stroke-linecap:square;stroke-linejoin:miter;stroke-width:1.25;\"/>\n   </g>\n   <g id=\"patch_9\">\n    <path d=\"M 935.655937 257.146264 \nL 935.655937 20.798437 \n\" style=\"fill:none;stroke:#cccccc;stroke-linecap:square;stroke-linejoin:miter;stroke-width:1.25;\"/>\n   </g>\n   <g id=\"patch_10\">\n    <path d=\"M 517.155938 257.146264 \nL 935.655937 257.146264 \n\" style=\"fill:none;stroke:#cccccc;stroke-linecap:square;stroke-linejoin:miter;stroke-width:1.25;\"/>\n   </g>\n   <g id=\"patch_11\">\n    <path d=\"M 517.155938 20.798437 \nL 935.655937 20.798437 \n\" style=\"fill:none;stroke:#cccccc;stroke-linecap:square;stroke-linejoin:miter;stroke-width:1.25;\"/>\n   </g>\n   <g id=\"text_26\">\n    <!-- min_samples_split -->\n    <g style=\"fill:#262626;\" transform=\"translate(675.329375 14.798437)scale(0.1 -0.1)\">\n     <defs>\n      <path d=\"M 25.875 7.90625 \nL 25.875 -20.796875 \nL 8.40625 -20.796875 \nL 8.40625 54.6875 \nL 25.875 54.6875 \nL 25.875 46.6875 \nQ 29.5 51.46875 33.890625 53.734375 \nQ 38.28125 56 44 56 \nQ 54.109375 56 60.59375 47.96875 \nQ 67.09375 39.9375 67.09375 27.296875 \nQ 67.09375 14.65625 60.59375 6.609375 \nQ 54.109375 -1.421875 44 -1.421875 \nQ 38.28125 -1.421875 33.890625 0.84375 \nQ 29.5 3.125 25.875 7.90625 \nz\nM 37.5 43.3125 \nQ 31.890625 43.3125 28.875 39.1875 \nQ 25.875 35.0625 25.875 27.296875 \nQ 25.875 19.53125 28.875 15.40625 \nQ 31.890625 11.28125 37.5 11.28125 \nQ 43.109375 11.28125 46.0625 15.375 \nQ 49.03125 19.484375 49.03125 27.296875 \nQ 49.03125 35.109375 46.0625 39.203125 \nQ 43.109375 43.3125 37.5 43.3125 \nz\n\" id=\"DejaVuSans-Bold-112\"/>\n      <path d=\"M 8.40625 75.984375 \nL 25.875 75.984375 \nL 25.875 0 \nL 8.40625 0 \nz\n\" id=\"DejaVuSans-Bold-108\"/>\n     </defs>\n     <use xlink:href=\"#DejaVuSans-Bold-109\"/>\n     <use x=\"104.199219\" xlink:href=\"#DejaVuSans-Bold-105\"/>\n     <use x=\"138.476562\" xlink:href=\"#DejaVuSans-Bold-110\"/>\n     <use x=\"209.667969\" xlink:href=\"#DejaVuSans-Bold-95\"/>\n     <use x=\"259.667969\" xlink:href=\"#DejaVuSans-Bold-115\"/>\n     <use x=\"319.189453\" xlink:href=\"#DejaVuSans-Bold-97\"/>\n     <use x=\"386.669922\" xlink:href=\"#DejaVuSans-Bold-109\"/>\n     <use x=\"490.869141\" xlink:href=\"#DejaVuSans-Bold-112\"/>\n     <use x=\"562.451172\" xlink:href=\"#DejaVuSans-Bold-108\"/>\n     <use x=\"596.728516\" xlink:href=\"#DejaVuSans-Bold-101\"/>\n     <use x=\"664.550781\" xlink:href=\"#DejaVuSans-Bold-115\"/>\n     <use x=\"724.072266\" xlink:href=\"#DejaVuSans-Bold-95\"/>\n     <use x=\"774.072266\" xlink:href=\"#DejaVuSans-Bold-115\"/>\n     <use x=\"833.59375\" xlink:href=\"#DejaVuSans-Bold-112\"/>\n     <use x=\"905.175781\" xlink:href=\"#DejaVuSans-Bold-108\"/>\n     <use x=\"939.453125\" xlink:href=\"#DejaVuSans-Bold-105\"/>\n     <use x=\"973.730469\" xlink:href=\"#DejaVuSans-Bold-116\"/>\n    </g>\n   </g>\n  </g>\n  <g id=\"axes_3\">\n   <g id=\"patch_12\">\n    <path d=\"M 977.505937 257.146264 \nL 1396.005937 257.146264 \nL 1396.005937 20.798437 \nL 977.505937 20.798437 \nz\n\" style=\"fill:#ffffff;\"/>\n   </g>\n   <g id=\"matplotlib.axis_5\">\n    <g id=\"xtick_17\">\n     <g id=\"line2d_29\">\n      <path clip-path=\"url(#p49cbeba73b)\" d=\"M 1037.291652 257.146264 \nL 1037.291652 20.798437 \n\" style=\"fill:none;stroke:#cccccc;stroke-linecap:round;\"/>\n     </g>\n     <g id=\"text_27\">\n      <!-- 5 -->\n      <g style=\"fill:#262626;\" transform=\"translate(1033.792277 275.004545)scale(0.11 -0.11)\">\n       <use xlink:href=\"#DejaVuSans-53\"/>\n      </g>\n     </g>\n    </g>\n    <g id=\"xtick_18\">\n     <g id=\"line2d_30\">\n      <path clip-path=\"url(#p49cbeba73b)\" d=\"M 1105.229963 257.146264 \nL 1105.229963 20.798437 \n\" style=\"fill:none;stroke:#cccccc;stroke-linecap:round;\"/>\n     </g>\n     <g id=\"text_28\">\n      <!-- 10 -->\n      <g style=\"fill:#262626;\" transform=\"translate(1098.231213 275.004545)scale(0.11 -0.11)\">\n       <use xlink:href=\"#DejaVuSans-49\"/>\n       <use x=\"63.623047\" xlink:href=\"#DejaVuSans-48\"/>\n      </g>\n     </g>\n    </g>\n    <g id=\"xtick_19\">\n     <g id=\"line2d_31\">\n      <path clip-path=\"url(#p49cbeba73b)\" d=\"M 1173.168275 257.146264 \nL 1173.168275 20.798437 \n\" style=\"fill:none;stroke:#cccccc;stroke-linecap:round;\"/>\n     </g>\n     <g id=\"text_29\">\n      <!-- 15 -->\n      <g style=\"fill:#262626;\" transform=\"translate(1166.169525 275.004545)scale(0.11 -0.11)\">\n       <use xlink:href=\"#DejaVuSans-49\"/>\n       <use x=\"63.623047\" xlink:href=\"#DejaVuSans-53\"/>\n      </g>\n     </g>\n    </g>\n    <g id=\"xtick_20\">\n     <g id=\"line2d_32\">\n      <path clip-path=\"url(#p49cbeba73b)\" d=\"M 1241.106587 257.146264 \nL 1241.106587 20.798437 \n\" style=\"fill:none;stroke:#cccccc;stroke-linecap:round;\"/>\n     </g>\n     <g id=\"text_30\">\n      <!-- 20 -->\n      <g style=\"fill:#262626;\" transform=\"translate(1234.107837 275.004545)scale(0.11 -0.11)\">\n       <use xlink:href=\"#DejaVuSans-50\"/>\n       <use x=\"63.623047\" xlink:href=\"#DejaVuSans-48\"/>\n      </g>\n     </g>\n    </g>\n    <g id=\"xtick_21\">\n     <g id=\"line2d_33\">\n      <path clip-path=\"url(#p49cbeba73b)\" d=\"M 1309.044899 257.146264 \nL 1309.044899 20.798437 \n\" style=\"fill:none;stroke:#cccccc;stroke-linecap:round;\"/>\n     </g>\n     <g id=\"text_31\">\n      <!-- 25 -->\n      <g style=\"fill:#262626;\" transform=\"translate(1302.046149 275.004545)scale(0.11 -0.11)\">\n       <use xlink:href=\"#DejaVuSans-50\"/>\n       <use x=\"63.623047\" xlink:href=\"#DejaVuSans-53\"/>\n      </g>\n     </g>\n    </g>\n    <g id=\"xtick_22\">\n     <g id=\"line2d_34\">\n      <path clip-path=\"url(#p49cbeba73b)\" d=\"M 1376.98321 257.146264 \nL 1376.98321 20.798437 \n\" style=\"fill:none;stroke:#cccccc;stroke-linecap:round;\"/>\n     </g>\n     <g id=\"text_32\">\n      <!-- 30 -->\n      <g style=\"fill:#262626;\" transform=\"translate(1369.98446 275.004545)scale(0.11 -0.11)\">\n       <use xlink:href=\"#DejaVuSans-51\"/>\n       <use x=\"63.623047\" xlink:href=\"#DejaVuSans-48\"/>\n      </g>\n     </g>\n    </g>\n    <g id=\"text_33\">\n     <!-- param_min_samples_leaf -->\n     <g style=\"fill:#262626;\" transform=\"translate(1110.880312 290.410326)scale(0.12 -0.12)\">\n      <defs>\n       <path d=\"M 37.109375 75.984375 \nL 37.109375 68.5 \nL 28.515625 68.5 \nQ 23.6875 68.5 21.796875 66.546875 \nQ 19.921875 64.59375 19.921875 59.515625 \nL 19.921875 54.6875 \nL 34.71875 54.6875 \nL 34.71875 47.703125 \nL 19.921875 47.703125 \nL 19.921875 0 \nL 10.890625 0 \nL 10.890625 47.703125 \nL 2.296875 47.703125 \nL 2.296875 54.6875 \nL 10.890625 54.6875 \nL 10.890625 58.5 \nQ 10.890625 67.625 15.140625 71.796875 \nQ 19.390625 75.984375 28.609375 75.984375 \nz\n\" id=\"DejaVuSans-102\"/>\n      </defs>\n      <use xlink:href=\"#DejaVuSans-112\"/>\n      <use x=\"63.476562\" xlink:href=\"#DejaVuSans-97\"/>\n      <use x=\"124.755859\" xlink:href=\"#DejaVuSans-114\"/>\n      <use x=\"165.869141\" xlink:href=\"#DejaVuSans-97\"/>\n      <use x=\"227.148438\" xlink:href=\"#DejaVuSans-109\"/>\n      <use x=\"324.560547\" xlink:href=\"#DejaVuSans-95\"/>\n      <use x=\"374.560547\" xlink:href=\"#DejaVuSans-109\"/>\n      <use x=\"471.972656\" xlink:href=\"#DejaVuSans-105\"/>\n      <use x=\"499.755859\" xlink:href=\"#DejaVuSans-110\"/>\n      <use x=\"563.134766\" xlink:href=\"#DejaVuSans-95\"/>\n      <use x=\"613.134766\" xlink:href=\"#DejaVuSans-115\"/>\n      <use x=\"665.234375\" xlink:href=\"#DejaVuSans-97\"/>\n      <use x=\"726.513672\" xlink:href=\"#DejaVuSans-109\"/>\n      <use x=\"823.925781\" xlink:href=\"#DejaVuSans-112\"/>\n      <use x=\"887.402344\" xlink:href=\"#DejaVuSans-108\"/>\n      <use x=\"915.185547\" xlink:href=\"#DejaVuSans-101\"/>\n      <use x=\"976.708984\" xlink:href=\"#DejaVuSans-115\"/>\n      <use x=\"1028.808594\" xlink:href=\"#DejaVuSans-95\"/>\n      <use x=\"1078.808594\" xlink:href=\"#DejaVuSans-108\"/>\n      <use x=\"1106.591797\" xlink:href=\"#DejaVuSans-101\"/>\n      <use x=\"1168.115234\" xlink:href=\"#DejaVuSans-97\"/>\n      <use x=\"1229.394531\" xlink:href=\"#DejaVuSans-102\"/>\n     </g>\n    </g>\n   </g>\n   <g id=\"matplotlib.axis_6\">\n    <g id=\"ytick_11\">\n     <g id=\"line2d_35\">\n      <path clip-path=\"url(#p49cbeba73b)\" d=\"M 977.505937 226.318286 \nL 1396.005937 226.318286 \n\" style=\"fill:none;stroke:#cccccc;stroke-linecap:round;\"/>\n     </g>\n    </g>\n    <g id=\"ytick_12\">\n     <g id=\"line2d_36\">\n      <path clip-path=\"url(#p49cbeba73b)\" d=\"M 977.505937 174.938324 \nL 1396.005937 174.938324 \n\" style=\"fill:none;stroke:#cccccc;stroke-linecap:round;\"/>\n     </g>\n    </g>\n    <g id=\"ytick_13\">\n     <g id=\"line2d_37\">\n      <path clip-path=\"url(#p49cbeba73b)\" d=\"M 977.505937 123.558362 \nL 1396.005937 123.558362 \n\" style=\"fill:none;stroke:#cccccc;stroke-linecap:round;\"/>\n     </g>\n    </g>\n    <g id=\"ytick_14\">\n     <g id=\"line2d_38\">\n      <path clip-path=\"url(#p49cbeba73b)\" d=\"M 977.505937 72.1784 \nL 1396.005937 72.1784 \n\" style=\"fill:none;stroke:#cccccc;stroke-linecap:round;\"/>\n     </g>\n    </g>\n    <g id=\"ytick_15\">\n     <g id=\"line2d_39\">\n      <path clip-path=\"url(#p49cbeba73b)\" d=\"M 977.505937 20.798437 \nL 1396.005937 20.798437 \n\" style=\"fill:none;stroke:#cccccc;stroke-linecap:round;\"/>\n     </g>\n    </g>\n   </g>\n   <g id=\"PolyCollection_3\">\n    <defs>\n     <path d=\"M 996.528665 -552.888342 \nL 996.528665 -532.036951 \nL 1010.116327 -516.459525 \nL 1023.703989 -536.630431 \nL 1037.291652 -516.51592 \nL 1050.879314 -536.630431 \nL 1064.466976 -512.363451 \nL 1078.054639 -529.308166 \nL 1091.642301 -524.742831 \nL 1105.229963 -524.567309 \nL 1118.817626 -519.663342 \nL 1132.405288 -490.714734 \nL 1145.99295 -513.403631 \nL 1159.580613 -514.697483 \nL 1173.168275 -489.842398 \nL 1186.755937 -509.995334 \nL 1200.3436 -500.887849 \nL 1213.931262 -489.538991 \nL 1227.518925 -497.940609 \nL 1241.106587 -480.093141 \nL 1254.694249 -463.921692 \nL 1268.281912 -491.775842 \nL 1281.869574 -483.016557 \nL 1295.457236 -479.396307 \nL 1309.044899 -486.854541 \nL 1322.632561 -465.335806 \nL 1336.220223 -468.492144 \nL 1349.807886 -455.337775 \nL 1363.395548 -463.802127 \nL 1376.98321 -470.199491 \nL 1376.98321 -493.471591 \nL 1376.98321 -493.471591 \nL 1363.395548 -491.284822 \nL 1349.807886 -486.491531 \nL 1336.220223 -488.282206 \nL 1322.632561 -493.466664 \nL 1309.044899 -504.490031 \nL 1295.457236 -500.431211 \nL 1281.869574 -501.759695 \nL 1268.281912 -510.352578 \nL 1254.694249 -500.999544 \nL 1241.106587 -499.770893 \nL 1227.518925 -512.666654 \nL 1213.931262 -520.346393 \nL 1200.3436 -515.408273 \nL 1186.755937 -522.283994 \nL 1173.168275 -514.046207 \nL 1159.580613 -528.10349 \nL 1145.99295 -526.225107 \nL 1132.405288 -517.060191 \nL 1118.817626 -532.324833 \nL 1105.229963 -542.661992 \nL 1091.642301 -536.231518 \nL 1078.054639 -537.416437 \nL 1064.466976 -534.894682 \nL 1050.879314 -549.559193 \nL 1037.291652 -549.044153 \nL 1023.703989 -548.470161 \nL 1010.116327 -549.577262 \nL 996.528665 -552.888342 \nz\n\" id=\"m23ecc172f7\" style=\"stroke:#4e2832;stroke-opacity:0.2;\"/>\n    </defs>\n    <g clip-path=\"url(#p49cbeba73b)\">\n     <use style=\"fill:#4e2832;fill-opacity:0.2;stroke:#4e2832;stroke-opacity:0.2;\" x=\"0\" xlink:href=\"#m23ecc172f7\" y=\"607.691875\"/>\n    </g>\n   </g>\n   <g id=\"line2d_40\">\n    <path clip-path=\"url(#p49cbeba73b)\" d=\"M 996.528665 63.801232 \nL 1010.116327 70.864334 \nL 1023.703989 65.253274 \nL 1037.291652 71.18555 \nL 1050.879314 64.35971 \nL 1064.466976 81.918253 \nL 1078.054639 74.246836 \nL 1091.642301 77.124918 \nL 1105.229963 73.965529 \nL 1118.817626 81.965059 \nL 1132.405288 102.042268 \nL 1145.99295 88.168502 \nL 1159.580613 86.495741 \nL 1173.168275 104.07369 \nL 1186.755937 91.338486 \nL 1200.3436 99.543814 \nL 1213.931262 100.866525 \nL 1227.518925 102.437745 \nL 1241.106587 117.200306 \nL 1254.694249 124.370693 \nL 1268.281912 105.922219 \nL 1281.869574 114.995035 \nL 1295.457236 118.039287 \nL 1309.044899 111.395955 \nL 1322.632561 127.763372 \nL 1336.220223 128.664445 \nL 1349.807886 135.968981 \nL 1363.395548 129.589923 \nL 1376.98321 125.989383 \n\" style=\"fill:none;stroke:#4e2832;stroke-linecap:round;stroke-width:1.5;\"/>\n   </g>\n   <g id=\"patch_13\">\n    <path d=\"M 977.505937 257.146264 \nL 977.505937 20.798437 \n\" style=\"fill:none;stroke:#cccccc;stroke-linecap:square;stroke-linejoin:miter;stroke-width:1.25;\"/>\n   </g>\n   <g id=\"patch_14\">\n    <path d=\"M 1396.005937 257.146264 \nL 1396.005937 20.798437 \n\" style=\"fill:none;stroke:#cccccc;stroke-linecap:square;stroke-linejoin:miter;stroke-width:1.25;\"/>\n   </g>\n   <g id=\"patch_15\">\n    <path d=\"M 977.505937 257.146264 \nL 1396.005937 257.146264 \n\" style=\"fill:none;stroke:#cccccc;stroke-linecap:square;stroke-linejoin:miter;stroke-width:1.25;\"/>\n   </g>\n   <g id=\"patch_16\">\n    <path d=\"M 977.505937 20.798437 \nL 1396.005937 20.798437 \n\" style=\"fill:none;stroke:#cccccc;stroke-linecap:square;stroke-linejoin:miter;stroke-width:1.25;\"/>\n   </g>\n   <g id=\"text_34\">\n    <!-- min_samples_leaf -->\n    <g style=\"fill:#262626;\" transform=\"translate(1137.397344 14.798437)scale(0.1 -0.1)\">\n     <defs>\n      <path d=\"M 44.390625 75.984375 \nL 44.390625 64.5 \nL 34.71875 64.5 \nQ 31 64.5 29.53125 63.15625 \nQ 28.078125 61.8125 28.078125 58.5 \nL 28.078125 54.6875 \nL 43.015625 54.6875 \nL 43.015625 42.1875 \nL 28.078125 42.1875 \nL 28.078125 0 \nL 10.59375 0 \nL 10.59375 42.1875 \nL 1.90625 42.1875 \nL 1.90625 54.6875 \nL 10.59375 54.6875 \nL 10.59375 58.5 \nQ 10.59375 67.4375 15.578125 71.703125 \nQ 20.5625 75.984375 31 75.984375 \nz\n\" id=\"DejaVuSans-Bold-102\"/>\n     </defs>\n     <use xlink:href=\"#DejaVuSans-Bold-109\"/>\n     <use x=\"104.199219\" xlink:href=\"#DejaVuSans-Bold-105\"/>\n     <use x=\"138.476562\" xlink:href=\"#DejaVuSans-Bold-110\"/>\n     <use x=\"209.667969\" xlink:href=\"#DejaVuSans-Bold-95\"/>\n     <use x=\"259.667969\" xlink:href=\"#DejaVuSans-Bold-115\"/>\n     <use x=\"319.189453\" xlink:href=\"#DejaVuSans-Bold-97\"/>\n     <use x=\"386.669922\" xlink:href=\"#DejaVuSans-Bold-109\"/>\n     <use x=\"490.869141\" xlink:href=\"#DejaVuSans-Bold-112\"/>\n     <use x=\"562.451172\" xlink:href=\"#DejaVuSans-Bold-108\"/>\n     <use x=\"596.728516\" xlink:href=\"#DejaVuSans-Bold-101\"/>\n     <use x=\"664.550781\" xlink:href=\"#DejaVuSans-Bold-115\"/>\n     <use x=\"724.072266\" xlink:href=\"#DejaVuSans-Bold-95\"/>\n     <use x=\"774.072266\" xlink:href=\"#DejaVuSans-Bold-108\"/>\n     <use x=\"808.349609\" xlink:href=\"#DejaVuSans-Bold-101\"/>\n     <use x=\"876.171875\" xlink:href=\"#DejaVuSans-Bold-97\"/>\n     <use x=\"943.652344\" xlink:href=\"#DejaVuSans-Bold-102\"/>\n    </g>\n   </g>\n  </g>\n  <g id=\"axes_4\">\n   <g id=\"patch_17\">\n    <path d=\"M 56.805938 564.398438 \nL 475.305938 564.398438 \nL 475.305938 328.050611 \nL 56.805938 328.050611 \nz\n\" style=\"fill:#ffffff;\"/>\n   </g>\n   <g id=\"matplotlib.axis_7\">\n    <g id=\"xtick_23\">\n     <g id=\"text_35\">\n      <!-- sqrt -->\n      <g style=\"fill:#262626;\" transform=\"translate(150.656953 582.256719)scale(0.11 -0.11)\">\n       <defs>\n        <path d=\"M 14.796875 27.296875 \nQ 14.796875 17.390625 18.875 11.75 \nQ 22.953125 6.109375 30.078125 6.109375 \nQ 37.203125 6.109375 41.296875 11.75 \nQ 45.40625 17.390625 45.40625 27.296875 \nQ 45.40625 37.203125 41.296875 42.84375 \nQ 37.203125 48.484375 30.078125 48.484375 \nQ 22.953125 48.484375 18.875 42.84375 \nQ 14.796875 37.203125 14.796875 27.296875 \nz\nM 45.40625 8.203125 \nQ 42.578125 3.328125 38.25 0.953125 \nQ 33.9375 -1.421875 27.875 -1.421875 \nQ 17.96875 -1.421875 11.734375 6.484375 \nQ 5.515625 14.40625 5.515625 27.296875 \nQ 5.515625 40.1875 11.734375 48.09375 \nQ 17.96875 56 27.875 56 \nQ 33.9375 56 38.25 53.625 \nQ 42.578125 51.265625 45.40625 46.390625 \nL 45.40625 54.6875 \nL 54.390625 54.6875 \nL 54.390625 -20.796875 \nL 45.40625 -20.796875 \nz\n\" id=\"DejaVuSans-113\"/>\n       </defs>\n       <use xlink:href=\"#DejaVuSans-115\"/>\n       <use x=\"52.099609\" xlink:href=\"#DejaVuSans-113\"/>\n       <use x=\"115.576172\" xlink:href=\"#DejaVuSans-114\"/>\n       <use x=\"156.689453\" xlink:href=\"#DejaVuSans-116\"/>\n      </g>\n     </g>\n    </g>\n    <g id=\"xtick_24\">\n     <g id=\"text_36\">\n      <!-- log2 -->\n      <g style=\"fill:#262626;\" transform=\"translate(358.796641 582.256719)scale(0.11 -0.11)\">\n       <defs>\n        <path d=\"M 45.40625 27.984375 \nQ 45.40625 37.75 41.375 43.109375 \nQ 37.359375 48.484375 30.078125 48.484375 \nQ 22.859375 48.484375 18.828125 43.109375 \nQ 14.796875 37.75 14.796875 27.984375 \nQ 14.796875 18.265625 18.828125 12.890625 \nQ 22.859375 7.515625 30.078125 7.515625 \nQ 37.359375 7.515625 41.375 12.890625 \nQ 45.40625 18.265625 45.40625 27.984375 \nz\nM 54.390625 6.78125 \nQ 54.390625 -7.171875 48.1875 -13.984375 \nQ 42 -20.796875 29.203125 -20.796875 \nQ 24.46875 -20.796875 20.265625 -20.09375 \nQ 16.0625 -19.390625 12.109375 -17.921875 \nL 12.109375 -9.1875 \nQ 16.0625 -11.328125 19.921875 -12.34375 \nQ 23.78125 -13.375 27.78125 -13.375 \nQ 36.625 -13.375 41.015625 -8.765625 \nQ 45.40625 -4.15625 45.40625 5.171875 \nL 45.40625 9.625 \nQ 42.625 4.78125 38.28125 2.390625 \nQ 33.9375 0 27.875 0 \nQ 17.828125 0 11.671875 7.65625 \nQ 5.515625 15.328125 5.515625 27.984375 \nQ 5.515625 40.671875 11.671875 48.328125 \nQ 17.828125 56 27.875 56 \nQ 33.9375 56 38.28125 53.609375 \nQ 42.625 51.21875 45.40625 46.390625 \nL 45.40625 54.6875 \nL 54.390625 54.6875 \nz\n\" id=\"DejaVuSans-103\"/>\n       </defs>\n       <use xlink:href=\"#DejaVuSans-108\"/>\n       <use x=\"27.783203\" xlink:href=\"#DejaVuSans-111\"/>\n       <use x=\"88.964844\" xlink:href=\"#DejaVuSans-103\"/>\n       <use x=\"152.441406\" xlink:href=\"#DejaVuSans-50\"/>\n      </g>\n     </g>\n    </g>\n    <g id=\"text_37\">\n     <!-- param_max_features -->\n     <g style=\"fill:#262626;\" transform=\"translate(202.725 597.6625)scale(0.12 -0.12)\">\n      <defs>\n       <path d=\"M 54.890625 54.6875 \nL 35.109375 28.078125 \nL 55.90625 0 \nL 45.3125 0 \nL 29.390625 21.484375 \nL 13.484375 0 \nL 2.875 0 \nL 24.125 28.609375 \nL 4.6875 54.6875 \nL 15.28125 54.6875 \nL 29.78125 35.203125 \nL 44.28125 54.6875 \nz\n\" id=\"DejaVuSans-120\"/>\n       <path d=\"M 8.5 21.578125 \nL 8.5 54.6875 \nL 17.484375 54.6875 \nL 17.484375 21.921875 \nQ 17.484375 14.15625 20.5 10.265625 \nQ 23.53125 6.390625 29.59375 6.390625 \nQ 36.859375 6.390625 41.078125 11.03125 \nQ 45.3125 15.671875 45.3125 23.6875 \nL 45.3125 54.6875 \nL 54.296875 54.6875 \nL 54.296875 0 \nL 45.3125 0 \nL 45.3125 8.40625 \nQ 42.046875 3.421875 37.71875 1 \nQ 33.40625 -1.421875 27.6875 -1.421875 \nQ 18.265625 -1.421875 13.375 4.4375 \nQ 8.5 10.296875 8.5 21.578125 \nz\nM 31.109375 56 \nz\n\" id=\"DejaVuSans-117\"/>\n      </defs>\n      <use xlink:href=\"#DejaVuSans-112\"/>\n      <use x=\"63.476562\" xlink:href=\"#DejaVuSans-97\"/>\n      <use x=\"124.755859\" xlink:href=\"#DejaVuSans-114\"/>\n      <use x=\"165.869141\" xlink:href=\"#DejaVuSans-97\"/>\n      <use x=\"227.148438\" xlink:href=\"#DejaVuSans-109\"/>\n      <use x=\"324.560547\" xlink:href=\"#DejaVuSans-95\"/>\n      <use x=\"374.560547\" xlink:href=\"#DejaVuSans-109\"/>\n      <use x=\"471.972656\" xlink:href=\"#DejaVuSans-97\"/>\n      <use x=\"533.251953\" xlink:href=\"#DejaVuSans-120\"/>\n      <use x=\"592.431641\" xlink:href=\"#DejaVuSans-95\"/>\n      <use x=\"642.431641\" xlink:href=\"#DejaVuSans-102\"/>\n      <use x=\"677.636719\" xlink:href=\"#DejaVuSans-101\"/>\n      <use x=\"739.160156\" xlink:href=\"#DejaVuSans-97\"/>\n      <use x=\"800.439453\" xlink:href=\"#DejaVuSans-116\"/>\n      <use x=\"839.648438\" xlink:href=\"#DejaVuSans-117\"/>\n      <use x=\"903.027344\" xlink:href=\"#DejaVuSans-114\"/>\n      <use x=\"941.890625\" xlink:href=\"#DejaVuSans-101\"/>\n      <use x=\"1003.414062\" xlink:href=\"#DejaVuSans-115\"/>\n     </g>\n    </g>\n   </g>\n   <g id=\"matplotlib.axis_8\">\n    <g id=\"ytick_16\">\n     <g id=\"line2d_41\">\n      <path clip-path=\"url(#p704bed54b3)\" d=\"M 56.805938 533.57046 \nL 475.305938 533.57046 \n\" style=\"fill:none;stroke:#cccccc;stroke-linecap:round;\"/>\n     </g>\n     <g id=\"text_38\">\n      <!-- 0.75 -->\n      <g style=\"fill:#262626;\" transform=\"translate(22.81375 537.749601)scale(0.11 -0.11)\">\n       <use xlink:href=\"#DejaVuSans-48\"/>\n       <use x=\"63.623047\" xlink:href=\"#DejaVuSans-46\"/>\n       <use x=\"95.410156\" xlink:href=\"#DejaVuSans-55\"/>\n       <use x=\"159.033203\" xlink:href=\"#DejaVuSans-53\"/>\n      </g>\n     </g>\n    </g>\n    <g id=\"ytick_17\">\n     <g id=\"line2d_42\">\n      <path clip-path=\"url(#p704bed54b3)\" d=\"M 56.805938 482.190498 \nL 475.305938 482.190498 \n\" style=\"fill:none;stroke:#cccccc;stroke-linecap:round;\"/>\n     </g>\n     <g id=\"text_39\">\n      <!-- 0.80 -->\n      <g style=\"fill:#262626;\" transform=\"translate(22.81375 486.369639)scale(0.11 -0.11)\">\n       <use xlink:href=\"#DejaVuSans-48\"/>\n       <use x=\"63.623047\" xlink:href=\"#DejaVuSans-46\"/>\n       <use x=\"95.410156\" xlink:href=\"#DejaVuSans-56\"/>\n       <use x=\"159.033203\" xlink:href=\"#DejaVuSans-48\"/>\n      </g>\n     </g>\n    </g>\n    <g id=\"ytick_18\">\n     <g id=\"line2d_43\">\n      <path clip-path=\"url(#p704bed54b3)\" d=\"M 56.805938 430.810536 \nL 475.305938 430.810536 \n\" style=\"fill:none;stroke:#cccccc;stroke-linecap:round;\"/>\n     </g>\n     <g id=\"text_40\">\n      <!-- 0.85 -->\n      <g style=\"fill:#262626;\" transform=\"translate(22.81375 434.989676)scale(0.11 -0.11)\">\n       <use xlink:href=\"#DejaVuSans-48\"/>\n       <use x=\"63.623047\" xlink:href=\"#DejaVuSans-46\"/>\n       <use x=\"95.410156\" xlink:href=\"#DejaVuSans-56\"/>\n       <use x=\"159.033203\" xlink:href=\"#DejaVuSans-53\"/>\n      </g>\n     </g>\n    </g>\n    <g id=\"ytick_19\">\n     <g id=\"line2d_44\">\n      <path clip-path=\"url(#p704bed54b3)\" d=\"M 56.805938 379.430574 \nL 475.305938 379.430574 \n\" style=\"fill:none;stroke:#cccccc;stroke-linecap:round;\"/>\n     </g>\n     <g id=\"text_41\">\n      <!-- 0.90 -->\n      <g style=\"fill:#262626;\" transform=\"translate(22.81375 383.609714)scale(0.11 -0.11)\">\n       <use xlink:href=\"#DejaVuSans-48\"/>\n       <use x=\"63.623047\" xlink:href=\"#DejaVuSans-46\"/>\n       <use x=\"95.410156\" xlink:href=\"#DejaVuSans-57\"/>\n       <use x=\"159.033203\" xlink:href=\"#DejaVuSans-48\"/>\n      </g>\n     </g>\n    </g>\n    <g id=\"ytick_20\">\n     <g id=\"line2d_45\">\n      <path clip-path=\"url(#p704bed54b3)\" d=\"M 56.805938 328.050611 \nL 475.305938 328.050611 \n\" style=\"fill:none;stroke:#cccccc;stroke-linecap:round;\"/>\n     </g>\n     <g id=\"text_42\">\n      <!-- 0.95 -->\n      <g style=\"fill:#262626;\" transform=\"translate(22.81375 332.229752)scale(0.11 -0.11)\">\n       <use xlink:href=\"#DejaVuSans-48\"/>\n       <use x=\"63.623047\" xlink:href=\"#DejaVuSans-46\"/>\n       <use x=\"95.410156\" xlink:href=\"#DejaVuSans-57\"/>\n       <use x=\"159.033203\" xlink:href=\"#DejaVuSans-53\"/>\n      </g>\n     </g>\n    </g>\n    <g id=\"text_43\">\n     <!-- mean_test_score -->\n     <g style=\"fill:#262626;\" transform=\"translate(15.984375 496.881399)rotate(-90)scale(0.12 -0.12)\">\n      <use xlink:href=\"#DejaVuSans-109\"/>\n      <use x=\"97.412109\" xlink:href=\"#DejaVuSans-101\"/>\n      <use x=\"158.935547\" xlink:href=\"#DejaVuSans-97\"/>\n      <use x=\"220.214844\" xlink:href=\"#DejaVuSans-110\"/>\n      <use x=\"283.59375\" xlink:href=\"#DejaVuSans-95\"/>\n      <use x=\"333.59375\" xlink:href=\"#DejaVuSans-116\"/>\n      <use x=\"372.802734\" xlink:href=\"#DejaVuSans-101\"/>\n      <use x=\"434.326172\" xlink:href=\"#DejaVuSans-115\"/>\n      <use x=\"486.425781\" xlink:href=\"#DejaVuSans-116\"/>\n      <use x=\"525.634766\" xlink:href=\"#DejaVuSans-95\"/>\n      <use x=\"575.634766\" xlink:href=\"#DejaVuSans-115\"/>\n      <use x=\"627.734375\" xlink:href=\"#DejaVuSans-99\"/>\n      <use x=\"682.714844\" xlink:href=\"#DejaVuSans-111\"/>\n      <use x=\"743.896484\" xlink:href=\"#DejaVuSans-114\"/>\n      <use x=\"782.759766\" xlink:href=\"#DejaVuSans-101\"/>\n     </g>\n    </g>\n   </g>\n   <g id=\"patch_18\">\n    <path clip-path=\"url(#p704bed54b3)\" d=\"M 77.730938 406.23751 \nL 245.130938 406.23751 \nL 245.130938 374.962751 \nL 77.730938 374.962751 \nL 77.730938 406.23751 \nz\n\" style=\"fill:#4e7a9b;stroke:#464646;stroke-linejoin:miter;stroke-width:1.5;\"/>\n   </g>\n   <g id=\"patch_19\">\n    <path clip-path=\"url(#p704bed54b3)\" d=\"M 286.980938 435.278359 \nL 454.380938 435.278359 \nL 454.380938 390.600131 \nL 286.980938 390.600131 \nL 286.980938 435.278359 \nz\n\" style=\"fill:#4e7a9b;stroke:#464646;stroke-linejoin:miter;stroke-width:1.5;\"/>\n   </g>\n   <g id=\"line2d_46\">\n    <path clip-path=\"url(#p704bed54b3)\" d=\"M 161.430938 406.23751 \nL 161.430938 453.14965 \n\" style=\"fill:none;stroke:#464646;stroke-linecap:round;stroke-width:1.5;\"/>\n   </g>\n   <g id=\"line2d_47\">\n    <path clip-path=\"url(#p704bed54b3)\" d=\"M 161.430938 374.962751 \nL 161.430938 343.687991 \n\" style=\"fill:none;stroke:#464646;stroke-linecap:round;stroke-width:1.5;\"/>\n   </g>\n   <g id=\"line2d_48\">\n    <path clip-path=\"url(#p704bed54b3)\" d=\"M 119.580938 453.14965 \nL 203.280938 453.14965 \n\" style=\"fill:none;stroke:#464646;stroke-linecap:round;stroke-width:1.5;\"/>\n   </g>\n   <g id=\"line2d_49\">\n    <path clip-path=\"url(#p704bed54b3)\" d=\"M 119.580938 343.687991 \nL 203.280938 343.687991 \n\" style=\"fill:none;stroke:#464646;stroke-linecap:round;stroke-width:1.5;\"/>\n   </g>\n   <g id=\"line2d_50\">\n    <defs>\n     <path d=\"M -0 3.535534 \nL 2.12132 0 \nL -0 -3.535534 \nL -2.12132 -0 \nz\n\" id=\"m5e71322876\" style=\"stroke:#464646;stroke-linejoin:miter;\"/>\n    </defs>\n    <g clip-path=\"url(#p704bed54b3)\">\n     <use style=\"fill:#464646;stroke:#464646;stroke-linejoin:miter;\" x=\"161.430938\" xlink:href=\"#m5e71322876\" y=\"520.166992\"/>\n     <use style=\"fill:#464646;stroke:#464646;stroke-linejoin:miter;\" x=\"161.430938\" xlink:href=\"#m5e71322876\" y=\"520.166992\"/>\n     <use style=\"fill:#464646;stroke:#464646;stroke-linejoin:miter;\" x=\"161.430938\" xlink:href=\"#m5e71322876\" y=\"522.400903\"/>\n     <use style=\"fill:#464646;stroke:#464646;stroke-linejoin:miter;\" x=\"161.430938\" xlink:href=\"#m5e71322876\" y=\"522.400903\"/>\n     <use style=\"fill:#464646;stroke:#464646;stroke-linejoin:miter;\" x=\"161.430938\" xlink:href=\"#m5e71322876\" y=\"522.400903\"/>\n     <use style=\"fill:#464646;stroke:#464646;stroke-linejoin:miter;\" x=\"161.430938\" xlink:href=\"#m5e71322876\" y=\"524.634815\"/>\n     <use style=\"fill:#464646;stroke:#464646;stroke-linejoin:miter;\" x=\"161.430938\" xlink:href=\"#m5e71322876\" y=\"526.868726\"/>\n     <use style=\"fill:#464646;stroke:#464646;stroke-linejoin:miter;\" x=\"161.430938\" xlink:href=\"#m5e71322876\" y=\"526.868726\"/>\n     <use style=\"fill:#464646;stroke:#464646;stroke-linejoin:miter;\" x=\"161.430938\" xlink:href=\"#m5e71322876\" y=\"533.57046\"/>\n    </g>\n   </g>\n   <g id=\"line2d_51\">\n    <path clip-path=\"url(#p704bed54b3)\" d=\"M 370.680938 435.278359 \nL 370.680938 482.190498 \n\" style=\"fill:none;stroke:#464646;stroke-linecap:round;stroke-width:1.5;\"/>\n   </g>\n   <g id=\"line2d_52\">\n    <path clip-path=\"url(#p704bed54b3)\" d=\"M 370.680938 390.600131 \nL 370.680938 357.09146 \n\" style=\"fill:none;stroke:#464646;stroke-linecap:round;stroke-width:1.5;\"/>\n   </g>\n   <g id=\"line2d_53\">\n    <path clip-path=\"url(#p704bed54b3)\" d=\"M 328.830938 482.190498 \nL 412.530938 482.190498 \n\" style=\"fill:none;stroke:#464646;stroke-linecap:round;stroke-width:1.5;\"/>\n   </g>\n   <g id=\"line2d_54\">\n    <path clip-path=\"url(#p704bed54b3)\" d=\"M 328.830938 357.09146 \nL 412.530938 357.09146 \n\" style=\"fill:none;stroke:#464646;stroke-linecap:round;stroke-width:1.5;\"/>\n   </g>\n   <g id=\"line2d_55\">\n    <g clip-path=\"url(#p704bed54b3)\">\n     <use style=\"fill:#464646;stroke:#464646;stroke-linejoin:miter;\" x=\"370.680938\" xlink:href=\"#m5e71322876\" y=\"515.699169\"/>\n     <use style=\"fill:#464646;stroke:#464646;stroke-linejoin:miter;\" x=\"370.680938\" xlink:href=\"#m5e71322876\" y=\"522.400903\"/>\n     <use style=\"fill:#464646;stroke:#464646;stroke-linejoin:miter;\" x=\"370.680938\" xlink:href=\"#m5e71322876\" y=\"522.400903\"/>\n     <use style=\"fill:#464646;stroke:#464646;stroke-linejoin:miter;\" x=\"370.680938\" xlink:href=\"#m5e71322876\" y=\"522.400903\"/>\n     <use style=\"fill:#464646;stroke:#464646;stroke-linejoin:miter;\" x=\"370.680938\" xlink:href=\"#m5e71322876\" y=\"526.868726\"/>\n     <use style=\"fill:#464646;stroke:#464646;stroke-linejoin:miter;\" x=\"370.680938\" xlink:href=\"#m5e71322876\" y=\"529.102637\"/>\n     <use style=\"fill:#464646;stroke:#464646;stroke-linejoin:miter;\" x=\"370.680938\" xlink:href=\"#m5e71322876\" y=\"529.102637\"/>\n    </g>\n   </g>\n   <g id=\"line2d_56\">\n    <path clip-path=\"url(#p704bed54b3)\" d=\"M 77.730938 390.600131 \nL 245.130938 390.600131 \n\" style=\"fill:none;stroke:#464646;stroke-linecap:round;stroke-width:1.5;\"/>\n   </g>\n   <g id=\"line2d_57\">\n    <path clip-path=\"url(#p704bed54b3)\" d=\"M 286.980938 412.939245 \nL 454.380938 412.939245 \n\" style=\"fill:none;stroke:#464646;stroke-linecap:round;stroke-width:1.5;\"/>\n   </g>\n   <g id=\"patch_20\">\n    <path d=\"M 56.805938 564.398438 \nL 56.805938 328.050611 \n\" style=\"fill:none;stroke:#cccccc;stroke-linecap:square;stroke-linejoin:miter;stroke-width:1.25;\"/>\n   </g>\n   <g id=\"patch_21\">\n    <path d=\"M 475.305938 564.398438 \nL 475.305938 328.050611 \n\" style=\"fill:none;stroke:#cccccc;stroke-linecap:square;stroke-linejoin:miter;stroke-width:1.25;\"/>\n   </g>\n   <g id=\"patch_22\">\n    <path d=\"M 56.805938 564.398438 \nL 475.305938 564.398438 \n\" style=\"fill:none;stroke:#cccccc;stroke-linecap:square;stroke-linejoin:miter;stroke-width:1.25;\"/>\n   </g>\n   <g id=\"patch_23\">\n    <path d=\"M 56.805938 328.050611 \nL 475.305938 328.050611 \n\" style=\"fill:none;stroke:#cccccc;stroke-linecap:square;stroke-linejoin:miter;stroke-width:1.25;\"/>\n   </g>\n   <g id=\"text_44\">\n    <!-- max_features -->\n    <g style=\"fill:#262626;\" transform=\"translate(228.023906 322.050611)scale(0.1 -0.1)\">\n     <defs>\n      <path d=\"M 22.21875 27.984375 \nL 2.484375 54.6875 \nL 21 54.6875 \nL 32.171875 38.484375 \nL 43.5 54.6875 \nL 62.015625 54.6875 \nL 42.28125 28.078125 \nL 62.984375 0 \nL 44.484375 0 \nL 32.171875 17.28125 \nL 20.015625 0 \nL 1.515625 0 \nz\n\" id=\"DejaVuSans-Bold-120\"/>\n      <path d=\"M 7.8125 21.296875 \nL 7.8125 54.6875 \nL 25.390625 54.6875 \nL 25.390625 49.21875 \nQ 25.390625 44.78125 25.34375 38.0625 \nQ 25.296875 31.34375 25.296875 29.109375 \nQ 25.296875 22.515625 25.640625 19.609375 \nQ 25.984375 16.703125 26.8125 15.375 \nQ 27.875 13.671875 29.609375 12.734375 \nQ 31.34375 11.8125 33.59375 11.8125 \nQ 39.0625 11.8125 42.1875 16.015625 \nQ 45.3125 20.21875 45.3125 27.6875 \nL 45.3125 54.6875 \nL 62.796875 54.6875 \nL 62.796875 0 \nL 45.3125 0 \nL 45.3125 7.90625 \nQ 41.359375 3.125 36.9375 0.84375 \nQ 32.515625 -1.421875 27.203125 -1.421875 \nQ 17.71875 -1.421875 12.765625 4.390625 \nQ 7.8125 10.203125 7.8125 21.296875 \nz\n\" id=\"DejaVuSans-Bold-117\"/>\n     </defs>\n     <use xlink:href=\"#DejaVuSans-Bold-109\"/>\n     <use x=\"104.199219\" xlink:href=\"#DejaVuSans-Bold-97\"/>\n     <use x=\"171.679688\" xlink:href=\"#DejaVuSans-Bold-120\"/>\n     <use x=\"236.181641\" xlink:href=\"#DejaVuSans-Bold-95\"/>\n     <use x=\"286.181641\" xlink:href=\"#DejaVuSans-Bold-102\"/>\n     <use x=\"329.6875\" xlink:href=\"#DejaVuSans-Bold-101\"/>\n     <use x=\"397.509766\" xlink:href=\"#DejaVuSans-Bold-97\"/>\n     <use x=\"464.990234\" xlink:href=\"#DejaVuSans-Bold-116\"/>\n     <use x=\"512.792969\" xlink:href=\"#DejaVuSans-Bold-117\"/>\n     <use x=\"583.984375\" xlink:href=\"#DejaVuSans-Bold-114\"/>\n     <use x=\"633.300781\" xlink:href=\"#DejaVuSans-Bold-101\"/>\n     <use x=\"701.123047\" xlink:href=\"#DejaVuSans-Bold-115\"/>\n    </g>\n   </g>\n  </g>\n  <g id=\"axes_5\">\n   <g id=\"patch_24\">\n    <path d=\"M 517.155938 564.398438 \nL 935.655937 564.398438 \nL 935.655937 328.050611 \nL 517.155938 328.050611 \nz\n\" style=\"fill:#ffffff;\"/>\n   </g>\n   <g id=\"matplotlib.axis_9\">\n    <g id=\"xtick_25\">\n     <g id=\"line2d_58\">\n      <path clip-path=\"url(#pa42c786799)\" d=\"M 533.625279 564.398438 \nL 533.625279 328.050611 \n\" style=\"fill:none;stroke:#cccccc;stroke-linecap:round;\"/>\n     </g>\n     <g id=\"text_45\">\n      <!-- 0 -->\n      <g style=\"fill:#262626;\" transform=\"translate(530.125904 582.256719)scale(0.11 -0.11)\">\n       <use xlink:href=\"#DejaVuSans-48\"/>\n      </g>\n     </g>\n    </g>\n    <g id=\"xtick_26\">\n     <g id=\"line2d_59\">\n      <path clip-path=\"url(#pa42c786799)\" d=\"M 584.693003 564.398438 \nL 584.693003 328.050611 \n\" style=\"fill:none;stroke:#cccccc;stroke-linecap:round;\"/>\n     </g>\n     <g id=\"text_46\">\n      <!-- 20 -->\n      <g style=\"fill:#262626;\" transform=\"translate(577.694253 582.256719)scale(0.11 -0.11)\">\n       <use xlink:href=\"#DejaVuSans-50\"/>\n       <use x=\"63.623047\" xlink:href=\"#DejaVuSans-48\"/>\n      </g>\n     </g>\n    </g>\n    <g id=\"xtick_27\">\n     <g id=\"line2d_60\">\n      <path clip-path=\"url(#pa42c786799)\" d=\"M 635.760727 564.398438 \nL 635.760727 328.050611 \n\" style=\"fill:none;stroke:#cccccc;stroke-linecap:round;\"/>\n     </g>\n     <g id=\"text_47\">\n      <!-- 40 -->\n      <g style=\"fill:#262626;\" transform=\"translate(628.761977 582.256719)scale(0.11 -0.11)\">\n       <use xlink:href=\"#DejaVuSans-52\"/>\n       <use x=\"63.623047\" xlink:href=\"#DejaVuSans-48\"/>\n      </g>\n     </g>\n    </g>\n    <g id=\"xtick_28\">\n     <g id=\"line2d_61\">\n      <path clip-path=\"url(#pa42c786799)\" d=\"M 686.828451 564.398438 \nL 686.828451 328.050611 \n\" style=\"fill:none;stroke:#cccccc;stroke-linecap:round;\"/>\n     </g>\n     <g id=\"text_48\">\n      <!-- 60 -->\n      <g style=\"fill:#262626;\" transform=\"translate(679.829701 582.256719)scale(0.11 -0.11)\">\n       <defs>\n        <path d=\"M 33.015625 40.375 \nQ 26.375 40.375 22.484375 35.828125 \nQ 18.609375 31.296875 18.609375 23.390625 \nQ 18.609375 15.53125 22.484375 10.953125 \nQ 26.375 6.390625 33.015625 6.390625 \nQ 39.65625 6.390625 43.53125 10.953125 \nQ 47.40625 15.53125 47.40625 23.390625 \nQ 47.40625 31.296875 43.53125 35.828125 \nQ 39.65625 40.375 33.015625 40.375 \nz\nM 52.59375 71.296875 \nL 52.59375 62.3125 \nQ 48.875 64.0625 45.09375 64.984375 \nQ 41.3125 65.921875 37.59375 65.921875 \nQ 27.828125 65.921875 22.671875 59.328125 \nQ 17.53125 52.734375 16.796875 39.40625 \nQ 19.671875 43.65625 24.015625 45.921875 \nQ 28.375 48.1875 33.59375 48.1875 \nQ 44.578125 48.1875 50.953125 41.515625 \nQ 57.328125 34.859375 57.328125 23.390625 \nQ 57.328125 12.15625 50.6875 5.359375 \nQ 44.046875 -1.421875 33.015625 -1.421875 \nQ 20.359375 -1.421875 13.671875 8.265625 \nQ 6.984375 17.96875 6.984375 36.375 \nQ 6.984375 53.65625 15.1875 63.9375 \nQ 23.390625 74.21875 37.203125 74.21875 \nQ 40.921875 74.21875 44.703125 73.484375 \nQ 48.484375 72.75 52.59375 71.296875 \nz\n\" id=\"DejaVuSans-54\"/>\n       </defs>\n       <use xlink:href=\"#DejaVuSans-54\"/>\n       <use x=\"63.623047\" xlink:href=\"#DejaVuSans-48\"/>\n      </g>\n     </g>\n    </g>\n    <g id=\"xtick_29\">\n     <g id=\"line2d_62\">\n      <path clip-path=\"url(#pa42c786799)\" d=\"M 737.896175 564.398438 \nL 737.896175 328.050611 \n\" style=\"fill:none;stroke:#cccccc;stroke-linecap:round;\"/>\n     </g>\n     <g id=\"text_49\">\n      <!-- 80 -->\n      <g style=\"fill:#262626;\" transform=\"translate(730.897425 582.256719)scale(0.11 -0.11)\">\n       <use xlink:href=\"#DejaVuSans-56\"/>\n       <use x=\"63.623047\" xlink:href=\"#DejaVuSans-48\"/>\n      </g>\n     </g>\n    </g>\n    <g id=\"xtick_30\">\n     <g id=\"line2d_63\">\n      <path clip-path=\"url(#pa42c786799)\" d=\"M 788.9639 564.398438 \nL 788.9639 328.050611 \n\" style=\"fill:none;stroke:#cccccc;stroke-linecap:round;\"/>\n     </g>\n     <g id=\"text_50\">\n      <!-- 100 -->\n      <g style=\"fill:#262626;\" transform=\"translate(778.465775 582.256719)scale(0.11 -0.11)\">\n       <use xlink:href=\"#DejaVuSans-49\"/>\n       <use x=\"63.623047\" xlink:href=\"#DejaVuSans-48\"/>\n       <use x=\"127.246094\" xlink:href=\"#DejaVuSans-48\"/>\n      </g>\n     </g>\n    </g>\n    <g id=\"xtick_31\">\n     <g id=\"line2d_64\">\n      <path clip-path=\"url(#pa42c786799)\" d=\"M 840.031624 564.398438 \nL 840.031624 328.050611 \n\" style=\"fill:none;stroke:#cccccc;stroke-linecap:round;\"/>\n     </g>\n     <g id=\"text_51\">\n      <!-- 120 -->\n      <g style=\"fill:#262626;\" transform=\"translate(829.533499 582.256719)scale(0.11 -0.11)\">\n       <use xlink:href=\"#DejaVuSans-49\"/>\n       <use x=\"63.623047\" xlink:href=\"#DejaVuSans-50\"/>\n       <use x=\"127.246094\" xlink:href=\"#DejaVuSans-48\"/>\n      </g>\n     </g>\n    </g>\n    <g id=\"xtick_32\">\n     <g id=\"line2d_65\">\n      <path clip-path=\"url(#pa42c786799)\" d=\"M 891.099348 564.398438 \nL 891.099348 328.050611 \n\" style=\"fill:none;stroke:#cccccc;stroke-linecap:round;\"/>\n     </g>\n     <g id=\"text_52\">\n      <!-- 140 -->\n      <g style=\"fill:#262626;\" transform=\"translate(880.601223 582.256719)scale(0.11 -0.11)\">\n       <use xlink:href=\"#DejaVuSans-49\"/>\n       <use x=\"63.623047\" xlink:href=\"#DejaVuSans-52\"/>\n       <use x=\"127.246094\" xlink:href=\"#DejaVuSans-48\"/>\n      </g>\n     </g>\n    </g>\n    <g id=\"text_53\">\n     <!-- param_max_depth -->\n     <g style=\"fill:#262626;\" transform=\"translate(670.395 597.6625)scale(0.12 -0.12)\">\n      <defs>\n       <path d=\"M 45.40625 46.390625 \nL 45.40625 75.984375 \nL 54.390625 75.984375 \nL 54.390625 0 \nL 45.40625 0 \nL 45.40625 8.203125 \nQ 42.578125 3.328125 38.25 0.953125 \nQ 33.9375 -1.421875 27.875 -1.421875 \nQ 17.96875 -1.421875 11.734375 6.484375 \nQ 5.515625 14.40625 5.515625 27.296875 \nQ 5.515625 40.1875 11.734375 48.09375 \nQ 17.96875 56 27.875 56 \nQ 33.9375 56 38.25 53.625 \nQ 42.578125 51.265625 45.40625 46.390625 \nz\nM 14.796875 27.296875 \nQ 14.796875 17.390625 18.875 11.75 \nQ 22.953125 6.109375 30.078125 6.109375 \nQ 37.203125 6.109375 41.296875 11.75 \nQ 45.40625 17.390625 45.40625 27.296875 \nQ 45.40625 37.203125 41.296875 42.84375 \nQ 37.203125 48.484375 30.078125 48.484375 \nQ 22.953125 48.484375 18.875 42.84375 \nQ 14.796875 37.203125 14.796875 27.296875 \nz\n\" id=\"DejaVuSans-100\"/>\n       <path d=\"M 54.890625 33.015625 \nL 54.890625 0 \nL 45.90625 0 \nL 45.90625 32.71875 \nQ 45.90625 40.484375 42.875 44.328125 \nQ 39.84375 48.1875 33.796875 48.1875 \nQ 26.515625 48.1875 22.3125 43.546875 \nQ 18.109375 38.921875 18.109375 30.90625 \nL 18.109375 0 \nL 9.078125 0 \nL 9.078125 75.984375 \nL 18.109375 75.984375 \nL 18.109375 46.1875 \nQ 21.34375 51.125 25.703125 53.5625 \nQ 30.078125 56 35.796875 56 \nQ 45.21875 56 50.046875 50.171875 \nQ 54.890625 44.34375 54.890625 33.015625 \nz\n\" id=\"DejaVuSans-104\"/>\n      </defs>\n      <use xlink:href=\"#DejaVuSans-112\"/>\n      <use x=\"63.476562\" xlink:href=\"#DejaVuSans-97\"/>\n      <use x=\"124.755859\" xlink:href=\"#DejaVuSans-114\"/>\n      <use x=\"165.869141\" xlink:href=\"#DejaVuSans-97\"/>\n      <use x=\"227.148438\" xlink:href=\"#DejaVuSans-109\"/>\n      <use x=\"324.560547\" xlink:href=\"#DejaVuSans-95\"/>\n      <use x=\"374.560547\" xlink:href=\"#DejaVuSans-109\"/>\n      <use x=\"471.972656\" xlink:href=\"#DejaVuSans-97\"/>\n      <use x=\"533.251953\" xlink:href=\"#DejaVuSans-120\"/>\n      <use x=\"592.431641\" xlink:href=\"#DejaVuSans-95\"/>\n      <use x=\"642.431641\" xlink:href=\"#DejaVuSans-100\"/>\n      <use x=\"705.908203\" xlink:href=\"#DejaVuSans-101\"/>\n      <use x=\"767.431641\" xlink:href=\"#DejaVuSans-112\"/>\n      <use x=\"830.908203\" xlink:href=\"#DejaVuSans-116\"/>\n      <use x=\"870.117188\" xlink:href=\"#DejaVuSans-104\"/>\n     </g>\n    </g>\n   </g>\n   <g id=\"matplotlib.axis_10\">\n    <g id=\"ytick_21\">\n     <g id=\"line2d_66\">\n      <path clip-path=\"url(#pa42c786799)\" d=\"M 517.155938 533.57046 \nL 935.655937 533.57046 \n\" style=\"fill:none;stroke:#cccccc;stroke-linecap:round;\"/>\n     </g>\n    </g>\n    <g id=\"ytick_22\">\n     <g id=\"line2d_67\">\n      <path clip-path=\"url(#pa42c786799)\" d=\"M 517.155938 482.190498 \nL 935.655937 482.190498 \n\" style=\"fill:none;stroke:#cccccc;stroke-linecap:round;\"/>\n     </g>\n    </g>\n    <g id=\"ytick_23\">\n     <g id=\"line2d_68\">\n      <path clip-path=\"url(#pa42c786799)\" d=\"M 517.155938 430.810536 \nL 935.655937 430.810536 \n\" style=\"fill:none;stroke:#cccccc;stroke-linecap:round;\"/>\n     </g>\n    </g>\n    <g id=\"ytick_24\">\n     <g id=\"line2d_69\">\n      <path clip-path=\"url(#pa42c786799)\" d=\"M 517.155938 379.430574 \nL 935.655937 379.430574 \n\" style=\"fill:none;stroke:#cccccc;stroke-linecap:round;\"/>\n     </g>\n    </g>\n    <g id=\"ytick_25\">\n     <g id=\"line2d_70\">\n      <path clip-path=\"url(#pa42c786799)\" d=\"M 517.155938 328.050611 \nL 935.655937 328.050611 \n\" style=\"fill:none;stroke:#cccccc;stroke-linecap:round;\"/>\n     </g>\n    </g>\n   </g>\n   <g id=\"PolyCollection_4\">\n    <defs>\n     <path d=\"M 536.178665 -85.570211 \nL 536.178665 -81.381627 \nL 543.838823 -180.790684 \nL 554.052368 -206.781384 \nL 564.265913 -191.467467 \nL 574.479458 -191.898188 \nL 584.693003 -188.039139 \nL 592.353161 -192.518719 \nL 602.566706 -198.320187 \nL 612.780251 -183.364759 \nL 622.993796 -205.516022 \nL 633.207341 -196.53976 \nL 643.420886 -186.065197 \nL 651.081044 -180.489965 \nL 661.294589 -170.626387 \nL 671.508134 -184.141551 \nL 681.721679 -196.403782 \nL 691.935224 -178.553282 \nL 699.595382 -186.928356 \nL 709.808927 -198.300607 \nL 720.022472 -186.189303 \nL 730.236017 -195.105353 \nL 740.449562 -205.062991 \nL 750.663107 -191.201368 \nL 758.323265 -208.620517 \nL 768.53681 -172.732647 \nL 778.750355 -185.677365 \nL 788.9639 -188.518254 \nL 799.177445 -201.640524 \nL 806.837603 -191.387801 \nL 817.051148 -188.050896 \nL 827.264693 -188.981693 \nL 837.478238 -206.804582 \nL 847.691783 -196.981465 \nL 857.905327 -201.196844 \nL 865.565486 -195.304127 \nL 875.779031 -186.695657 \nL 885.992576 -185.067694 \nL 896.206121 -207.367659 \nL 906.419665 -186.332503 \nL 916.63321 -193.021349 \nL 916.63321 -225.344329 \nL 916.63321 -225.344329 \nL 906.419665 -222.938578 \nL 896.206121 -227.344741 \nL 885.992576 -216.719426 \nL 875.779031 -223.346696 \nL 865.565486 -219.697974 \nL 857.905327 -225.161749 \nL 847.691783 -228.667467 \nL 837.478238 -237.196947 \nL 827.264693 -225.468912 \nL 817.051148 -211.506966 \nL 806.837603 -216.815996 \nL 799.177445 -229.75523 \nL 788.9639 -212.156564 \nL 778.750355 -208.714577 \nL 768.53681 -203.688276 \nL 758.323265 -226.85041 \nL 750.663107 -220.643006 \nL 740.449562 -227.573944 \nL 730.236017 -221.441993 \nL 720.022472 -222.308858 \nL 709.808927 -223.136446 \nL 699.595382 -228.93706 \nL 691.935224 -207.039143 \nL 681.721679 -219.133831 \nL 671.508134 -216.905585 \nL 661.294589 -219.772438 \nL 651.081044 -216.752362 \nL 643.420886 -214.488617 \nL 633.207341 -215.307408 \nL 622.993796 -230.094124 \nL 612.780251 -220.34107 \nL 602.566706 -222.185062 \nL 592.353161 -213.819064 \nL 584.693003 -215.804306 \nL 574.479458 -219.325656 \nL 564.265913 -213.28424 \nL 554.052368 -220.876506 \nL 543.838823 -199.223944 \nL 536.178665 -85.570211 \nz\n\" id=\"mb7e418293e\" style=\"stroke:#355a75;stroke-opacity:0.2;\"/>\n    </defs>\n    <g clip-path=\"url(#pa42c786799)\">\n     <use style=\"fill:#355a75;fill-opacity:0.2;stroke:#355a75;stroke-opacity:0.2;\" x=\"0\" xlink:href=\"#mb7e418293e\" y=\"607.691875\"/>\n    </g>\n   </g>\n   <g id=\"line2d_71\">\n    <path clip-path=\"url(#pa42c786799)\" d=\"M 536.178665 524.215956 \nL 543.838823 417.546687 \nL 554.052368 393.34956 \nL 564.265913 405.317665 \nL 574.479458 402.266112 \nL 584.693003 405.296916 \nL 592.353161 404.152526 \nL 602.566706 396.944439 \nL 612.780251 404.612848 \nL 622.993796 389.787799 \nL 633.207341 401.657992 \nL 643.420886 407.354466 \nL 651.081044 408.8151 \nL 661.294589 412.492462 \nL 671.508134 407.726785 \nL 681.721679 399.341523 \nL 691.935224 414.19582 \nL 699.595382 396.4083 \nL 709.808927 397.564678 \nL 720.022472 401.397369 \nL 730.236017 398.242459 \nL 740.449562 391.287488 \nL 750.663107 402.032501 \nL 758.323265 390.012259 \nL 768.53681 419.640979 \nL 778.750355 410.426094 \nL 788.9639 407.06053 \nL 799.177445 391.717086 \nL 806.837603 403.026263 \nL 817.051148 406.23751 \nL 827.264693 400.466573 \nL 837.478238 385.015352 \nL 847.691783 394.661788 \nL 857.905327 394.075104 \nL 865.565486 399.721935 \nL 875.779031 401.02505 \nL 885.992576 406.795988 \nL 896.206121 390.862944 \nL 906.419665 403.316242 \nL 916.63321 397.989222 \n\" style=\"fill:none;stroke:#355a75;stroke-linecap:round;stroke-width:1.5;\"/>\n   </g>\n   <g id=\"patch_25\">\n    <path d=\"M 517.155938 564.398438 \nL 517.155938 328.050611 \n\" style=\"fill:none;stroke:#cccccc;stroke-linecap:square;stroke-linejoin:miter;stroke-width:1.25;\"/>\n   </g>\n   <g id=\"patch_26\">\n    <path d=\"M 935.655937 564.398438 \nL 935.655937 328.050611 \n\" style=\"fill:none;stroke:#cccccc;stroke-linecap:square;stroke-linejoin:miter;stroke-width:1.25;\"/>\n   </g>\n   <g id=\"patch_27\">\n    <path d=\"M 517.155938 564.398438 \nL 935.655937 564.398438 \n\" style=\"fill:none;stroke:#cccccc;stroke-linecap:square;stroke-linejoin:miter;stroke-width:1.25;\"/>\n   </g>\n   <g id=\"patch_28\">\n    <path d=\"M 517.155938 328.050611 \nL 935.655937 328.050611 \n\" style=\"fill:none;stroke:#cccccc;stroke-linecap:square;stroke-linejoin:miter;stroke-width:1.25;\"/>\n   </g>\n   <g id=\"text_54\">\n    <!-- max_depth -->\n    <g style=\"fill:#262626;\" transform=\"translate(695.598125 322.050611)scale(0.1 -0.1)\">\n     <defs>\n      <path d=\"M 45.609375 46.6875 \nL 45.609375 75.984375 \nL 63.1875 75.984375 \nL 63.1875 0 \nL 45.609375 0 \nL 45.609375 7.90625 \nQ 42 3.078125 37.640625 0.828125 \nQ 33.296875 -1.421875 27.59375 -1.421875 \nQ 17.484375 -1.421875 10.984375 6.609375 \nQ 4.5 14.65625 4.5 27.296875 \nQ 4.5 39.9375 10.984375 47.96875 \nQ 17.484375 56 27.59375 56 \nQ 33.25 56 37.625 53.734375 \nQ 42 51.46875 45.609375 46.6875 \nz\nM 34.078125 11.28125 \nQ 39.703125 11.28125 42.65625 15.375 \nQ 45.609375 19.484375 45.609375 27.296875 \nQ 45.609375 35.109375 42.65625 39.203125 \nQ 39.703125 43.3125 34.078125 43.3125 \nQ 28.515625 43.3125 25.5625 39.203125 \nQ 22.609375 35.109375 22.609375 27.296875 \nQ 22.609375 19.484375 25.5625 15.375 \nQ 28.515625 11.28125 34.078125 11.28125 \nz\n\" id=\"DejaVuSans-Bold-100\"/>\n      <path d=\"M 63.375 33.296875 \nL 63.375 0 \nL 45.796875 0 \nL 45.796875 5.421875 \nL 45.796875 25.390625 \nQ 45.796875 32.5625 45.484375 35.25 \nQ 45.171875 37.9375 44.390625 39.203125 \nQ 43.359375 40.921875 41.59375 41.875 \nQ 39.84375 42.828125 37.59375 42.828125 \nQ 32.125 42.828125 29 38.59375 \nQ 25.875 34.375 25.875 26.90625 \nL 25.875 0 \nL 8.40625 0 \nL 8.40625 75.984375 \nL 25.875 75.984375 \nL 25.875 46.6875 \nQ 29.828125 51.46875 34.265625 53.734375 \nQ 38.71875 56 44.09375 56 \nQ 53.5625 56 58.46875 50.1875 \nQ 63.375 44.390625 63.375 33.296875 \nz\n\" id=\"DejaVuSans-Bold-104\"/>\n     </defs>\n     <use xlink:href=\"#DejaVuSans-Bold-109\"/>\n     <use x=\"104.199219\" xlink:href=\"#DejaVuSans-Bold-97\"/>\n     <use x=\"171.679688\" xlink:href=\"#DejaVuSans-Bold-120\"/>\n     <use x=\"236.181641\" xlink:href=\"#DejaVuSans-Bold-95\"/>\n     <use x=\"286.181641\" xlink:href=\"#DejaVuSans-Bold-100\"/>\n     <use x=\"357.763672\" xlink:href=\"#DejaVuSans-Bold-101\"/>\n     <use x=\"425.585938\" xlink:href=\"#DejaVuSans-Bold-112\"/>\n     <use x=\"497.167969\" xlink:href=\"#DejaVuSans-Bold-116\"/>\n     <use x=\"544.970703\" xlink:href=\"#DejaVuSans-Bold-104\"/>\n    </g>\n   </g>\n  </g>\n  <g id=\"axes_6\">\n   <g id=\"patch_29\">\n    <path d=\"M 977.505937 564.398438 \nL 1396.005937 564.398438 \nL 1396.005937 328.050611 \nL 977.505937 328.050611 \nz\n\" style=\"fill:#ffffff;\"/>\n   </g>\n   <g id=\"matplotlib.axis_11\">\n    <g id=\"xtick_33\">\n     <g id=\"text_55\">\n      <!-- False -->\n      <g style=\"fill:#262626;\" transform=\"translate(1068.321641 582.256719)scale(0.11 -0.11)\">\n       <defs>\n        <path d=\"M 9.8125 72.90625 \nL 51.703125 72.90625 \nL 51.703125 64.59375 \nL 19.671875 64.59375 \nL 19.671875 43.109375 \nL 48.578125 43.109375 \nL 48.578125 34.8125 \nL 19.671875 34.8125 \nL 19.671875 0 \nL 9.8125 0 \nz\n\" id=\"DejaVuSans-70\"/>\n       </defs>\n       <use xlink:href=\"#DejaVuSans-70\"/>\n       <use x=\"48.394531\" xlink:href=\"#DejaVuSans-97\"/>\n       <use x=\"109.673828\" xlink:href=\"#DejaVuSans-108\"/>\n       <use x=\"137.457031\" xlink:href=\"#DejaVuSans-115\"/>\n       <use x=\"189.556641\" xlink:href=\"#DejaVuSans-101\"/>\n      </g>\n     </g>\n    </g>\n    <g id=\"xtick_34\">\n     <g id=\"text_56\">\n      <!-- True -->\n      <g style=\"fill:#262626;\" transform=\"translate(1279.702031 582.256719)scale(0.11 -0.11)\">\n       <defs>\n        <path d=\"M -0.296875 72.90625 \nL 61.375 72.90625 \nL 61.375 64.59375 \nL 35.5 64.59375 \nL 35.5 0 \nL 25.59375 0 \nL 25.59375 64.59375 \nL -0.296875 64.59375 \nz\n\" id=\"DejaVuSans-84\"/>\n       </defs>\n       <use xlink:href=\"#DejaVuSans-84\"/>\n       <use x=\"46.333984\" xlink:href=\"#DejaVuSans-114\"/>\n       <use x=\"87.447266\" xlink:href=\"#DejaVuSans-117\"/>\n       <use x=\"150.826172\" xlink:href=\"#DejaVuSans-101\"/>\n      </g>\n     </g>\n    </g>\n    <g id=\"text_57\">\n     <!-- param_bootstrap -->\n     <g style=\"fill:#262626;\" transform=\"translate(1135.348125 597.6625)scale(0.12 -0.12)\">\n      <defs>\n       <path d=\"M 48.6875 27.296875 \nQ 48.6875 37.203125 44.609375 42.84375 \nQ 40.53125 48.484375 33.40625 48.484375 \nQ 26.265625 48.484375 22.1875 42.84375 \nQ 18.109375 37.203125 18.109375 27.296875 \nQ 18.109375 17.390625 22.1875 11.75 \nQ 26.265625 6.109375 33.40625 6.109375 \nQ 40.53125 6.109375 44.609375 11.75 \nQ 48.6875 17.390625 48.6875 27.296875 \nz\nM 18.109375 46.390625 \nQ 20.953125 51.265625 25.265625 53.625 \nQ 29.59375 56 35.59375 56 \nQ 45.5625 56 51.78125 48.09375 \nQ 58.015625 40.1875 58.015625 27.296875 \nQ 58.015625 14.40625 51.78125 6.484375 \nQ 45.5625 -1.421875 35.59375 -1.421875 \nQ 29.59375 -1.421875 25.265625 0.953125 \nQ 20.953125 3.328125 18.109375 8.203125 \nL 18.109375 0 \nL 9.078125 0 \nL 9.078125 75.984375 \nL 18.109375 75.984375 \nz\n\" id=\"DejaVuSans-98\"/>\n      </defs>\n      <use xlink:href=\"#DejaVuSans-112\"/>\n      <use x=\"63.476562\" xlink:href=\"#DejaVuSans-97\"/>\n      <use x=\"124.755859\" xlink:href=\"#DejaVuSans-114\"/>\n      <use x=\"165.869141\" xlink:href=\"#DejaVuSans-97\"/>\n      <use x=\"227.148438\" xlink:href=\"#DejaVuSans-109\"/>\n      <use x=\"324.560547\" xlink:href=\"#DejaVuSans-95\"/>\n      <use x=\"374.560547\" xlink:href=\"#DejaVuSans-98\"/>\n      <use x=\"438.037109\" xlink:href=\"#DejaVuSans-111\"/>\n      <use x=\"499.21875\" xlink:href=\"#DejaVuSans-111\"/>\n      <use x=\"560.400391\" xlink:href=\"#DejaVuSans-116\"/>\n      <use x=\"599.609375\" xlink:href=\"#DejaVuSans-115\"/>\n      <use x=\"651.708984\" xlink:href=\"#DejaVuSans-116\"/>\n      <use x=\"690.917969\" xlink:href=\"#DejaVuSans-114\"/>\n      <use x=\"732.03125\" xlink:href=\"#DejaVuSans-97\"/>\n      <use x=\"793.310547\" xlink:href=\"#DejaVuSans-112\"/>\n     </g>\n    </g>\n   </g>\n   <g id=\"matplotlib.axis_12\">\n    <g id=\"ytick_26\">\n     <g id=\"line2d_72\">\n      <path clip-path=\"url(#pb45775ae52)\" d=\"M 977.505937 533.57046 \nL 1396.005937 533.57046 \n\" style=\"fill:none;stroke:#cccccc;stroke-linecap:round;\"/>\n     </g>\n    </g>\n    <g id=\"ytick_27\">\n     <g id=\"line2d_73\">\n      <path clip-path=\"url(#pb45775ae52)\" d=\"M 977.505937 482.190498 \nL 1396.005937 482.190498 \n\" style=\"fill:none;stroke:#cccccc;stroke-linecap:round;\"/>\n     </g>\n    </g>\n    <g id=\"ytick_28\">\n     <g id=\"line2d_74\">\n      <path clip-path=\"url(#pb45775ae52)\" d=\"M 977.505937 430.810536 \nL 1396.005937 430.810536 \n\" style=\"fill:none;stroke:#cccccc;stroke-linecap:round;\"/>\n     </g>\n    </g>\n    <g id=\"ytick_29\">\n     <g id=\"line2d_75\">\n      <path clip-path=\"url(#pb45775ae52)\" d=\"M 977.505937 379.430574 \nL 1396.005937 379.430574 \n\" style=\"fill:none;stroke:#cccccc;stroke-linecap:round;\"/>\n     </g>\n    </g>\n    <g id=\"ytick_30\">\n     <g id=\"line2d_76\">\n      <path clip-path=\"url(#pb45775ae52)\" d=\"M 977.505937 328.050611 \nL 1396.005937 328.050611 \n\" style=\"fill:none;stroke:#cccccc;stroke-linecap:round;\"/>\n     </g>\n    </g>\n    <g id=\"text_58\">\n     <!-- mean_test_score -->\n     <g style=\"fill:#262626;\" transform=\"translate(970.676562 496.881399)rotate(-90)scale(0.12 -0.12)\">\n      <use xlink:href=\"#DejaVuSans-109\"/>\n      <use x=\"97.412109\" xlink:href=\"#DejaVuSans-101\"/>\n      <use x=\"158.935547\" xlink:href=\"#DejaVuSans-97\"/>\n      <use x=\"220.214844\" xlink:href=\"#DejaVuSans-110\"/>\n      <use x=\"283.59375\" xlink:href=\"#DejaVuSans-95\"/>\n      <use x=\"333.59375\" xlink:href=\"#DejaVuSans-116\"/>\n      <use x=\"372.802734\" xlink:href=\"#DejaVuSans-101\"/>\n      <use x=\"434.326172\" xlink:href=\"#DejaVuSans-115\"/>\n      <use x=\"486.425781\" xlink:href=\"#DejaVuSans-116\"/>\n      <use x=\"525.634766\" xlink:href=\"#DejaVuSans-95\"/>\n      <use x=\"575.634766\" xlink:href=\"#DejaVuSans-115\"/>\n      <use x=\"627.734375\" xlink:href=\"#DejaVuSans-99\"/>\n      <use x=\"682.714844\" xlink:href=\"#DejaVuSans-111\"/>\n      <use x=\"743.896484\" xlink:href=\"#DejaVuSans-114\"/>\n      <use x=\"782.759766\" xlink:href=\"#DejaVuSans-101\"/>\n     </g>\n    </g>\n   </g>\n   <g id=\"patch_30\">\n    <path clip-path=\"url(#pb45775ae52)\" d=\"M 998.430937 401.769688 \nL 1165.830937 401.769688 \nL 1165.830937 374.962751 \nL 998.430937 374.962751 \nL 998.430937 401.769688 \nz\n\" style=\"fill:#2c363e;stroke:#202020;stroke-linejoin:miter;stroke-width:1.5;\"/>\n   </g>\n   <g id=\"patch_31\">\n    <path clip-path=\"url(#pb45775ae52)\" d=\"M 1207.680937 439.746181 \nL 1375.080937 439.746181 \nL 1375.080937 392.834042 \nL 1207.680937 392.834042 \nL 1207.680937 439.746181 \nz\n\" style=\"fill:#2c363e;stroke:#202020;stroke-linejoin:miter;stroke-width:1.5;\"/>\n   </g>\n   <g id=\"line2d_77\">\n    <path clip-path=\"url(#pb45775ae52)\" d=\"M 1082.130937 401.769688 \nL 1082.130937 437.51227 \n\" style=\"fill:none;stroke:#202020;stroke-linecap:round;stroke-width:1.5;\"/>\n   </g>\n   <g id=\"line2d_78\">\n    <path clip-path=\"url(#pb45775ae52)\" d=\"M 1082.130937 374.962751 \nL 1082.130937 343.687991 \n\" style=\"fill:none;stroke:#202020;stroke-linecap:round;stroke-width:1.5;\"/>\n   </g>\n   <g id=\"line2d_79\">\n    <path clip-path=\"url(#pb45775ae52)\" d=\"M 1040.280937 437.51227 \nL 1123.980937 437.51227 \n\" style=\"fill:none;stroke:#202020;stroke-linecap:round;stroke-width:1.5;\"/>\n   </g>\n   <g id=\"line2d_80\">\n    <path clip-path=\"url(#pb45775ae52)\" d=\"M 1040.280937 343.687991 \nL 1123.980937 343.687991 \n\" style=\"fill:none;stroke:#202020;stroke-linecap:round;stroke-width:1.5;\"/>\n   </g>\n   <g id=\"line2d_81\">\n    <defs>\n     <path d=\"M -0 3.535534 \nL 2.12132 0 \nL -0 -3.535534 \nL -2.12132 -0 \nz\n\" id=\"m661bf5e889\" style=\"stroke:#202020;stroke-linejoin:miter;\"/>\n    </defs>\n    <g clip-path=\"url(#pb45775ae52)\">\n     <use style=\"fill:#202020;stroke:#202020;stroke-linejoin:miter;\" x=\"1082.130937\" xlink:href=\"#m661bf5e889\" y=\"515.699169\"/>\n     <use style=\"fill:#202020;stroke:#202020;stroke-linejoin:miter;\" x=\"1082.130937\" xlink:href=\"#m661bf5e889\" y=\"520.166992\"/>\n     <use style=\"fill:#202020;stroke:#202020;stroke-linejoin:miter;\" x=\"1082.130937\" xlink:href=\"#m661bf5e889\" y=\"520.166992\"/>\n     <use style=\"fill:#202020;stroke:#202020;stroke-linejoin:miter;\" x=\"1082.130937\" xlink:href=\"#m661bf5e889\" y=\"522.400903\"/>\n     <use style=\"fill:#202020;stroke:#202020;stroke-linejoin:miter;\" x=\"1082.130937\" xlink:href=\"#m661bf5e889\" y=\"522.400903\"/>\n     <use style=\"fill:#202020;stroke:#202020;stroke-linejoin:miter;\" x=\"1082.130937\" xlink:href=\"#m661bf5e889\" y=\"522.400903\"/>\n     <use style=\"fill:#202020;stroke:#202020;stroke-linejoin:miter;\" x=\"1082.130937\" xlink:href=\"#m661bf5e889\" y=\"524.634815\"/>\n     <use style=\"fill:#202020;stroke:#202020;stroke-linejoin:miter;\" x=\"1082.130937\" xlink:href=\"#m661bf5e889\" y=\"526.868726\"/>\n     <use style=\"fill:#202020;stroke:#202020;stroke-linejoin:miter;\" x=\"1082.130937\" xlink:href=\"#m661bf5e889\" y=\"526.868726\"/>\n     <use style=\"fill:#202020;stroke:#202020;stroke-linejoin:miter;\" x=\"1082.130937\" xlink:href=\"#m661bf5e889\" y=\"529.102637\"/>\n     <use style=\"fill:#202020;stroke:#202020;stroke-linejoin:miter;\" x=\"1082.130937\" xlink:href=\"#m661bf5e889\" y=\"533.57046\"/>\n    </g>\n   </g>\n   <g id=\"line2d_82\">\n    <path clip-path=\"url(#pb45775ae52)\" d=\"M 1291.380937 439.746181 \nL 1291.380937 482.190498 \n\" style=\"fill:none;stroke:#202020;stroke-linecap:round;stroke-width:1.5;\"/>\n   </g>\n   <g id=\"line2d_83\">\n    <path clip-path=\"url(#pb45775ae52)\" d=\"M 1291.380937 392.834042 \nL 1291.380937 359.325371 \n\" style=\"fill:none;stroke:#202020;stroke-linecap:round;stroke-width:1.5;\"/>\n   </g>\n   <g id=\"line2d_84\">\n    <path clip-path=\"url(#pb45775ae52)\" d=\"M 1249.530937 482.190498 \nL 1333.230937 482.190498 \n\" style=\"fill:none;stroke:#202020;stroke-linecap:round;stroke-width:1.5;\"/>\n   </g>\n   <g id=\"line2d_85\">\n    <path clip-path=\"url(#pb45775ae52)\" d=\"M 1249.530937 359.325371 \nL 1333.230937 359.325371 \n\" style=\"fill:none;stroke:#202020;stroke-linecap:round;stroke-width:1.5;\"/>\n   </g>\n   <g id=\"line2d_86\">\n    <g clip-path=\"url(#pb45775ae52)\">\n     <use style=\"fill:#202020;stroke:#202020;stroke-linejoin:miter;\" x=\"1291.380937\" xlink:href=\"#m661bf5e889\" y=\"522.400903\"/>\n     <use style=\"fill:#202020;stroke:#202020;stroke-linejoin:miter;\" x=\"1291.380937\" xlink:href=\"#m661bf5e889\" y=\"522.400903\"/>\n     <use style=\"fill:#202020;stroke:#202020;stroke-linejoin:miter;\" x=\"1291.380937\" xlink:href=\"#m661bf5e889\" y=\"522.400903\"/>\n     <use style=\"fill:#202020;stroke:#202020;stroke-linejoin:miter;\" x=\"1291.380937\" xlink:href=\"#m661bf5e889\" y=\"526.868726\"/>\n     <use style=\"fill:#202020;stroke:#202020;stroke-linejoin:miter;\" x=\"1291.380937\" xlink:href=\"#m661bf5e889\" y=\"529.102637\"/>\n    </g>\n   </g>\n   <g id=\"line2d_87\">\n    <path clip-path=\"url(#pb45775ae52)\" d=\"M 998.430937 388.366219 \nL 1165.830937 388.366219 \n\" style=\"fill:none;stroke:#202020;stroke-linecap:round;stroke-width:1.5;\"/>\n   </g>\n   <g id=\"line2d_88\">\n    <path clip-path=\"url(#pb45775ae52)\" d=\"M 1207.680937 411.822289 \nL 1375.080937 411.822289 \n\" style=\"fill:none;stroke:#202020;stroke-linecap:round;stroke-width:1.5;\"/>\n   </g>\n   <g id=\"patch_32\">\n    <path d=\"M 977.505937 564.398438 \nL 977.505937 328.050611 \n\" style=\"fill:none;stroke:#cccccc;stroke-linecap:square;stroke-linejoin:miter;stroke-width:1.25;\"/>\n   </g>\n   <g id=\"patch_33\">\n    <path d=\"M 1396.005937 564.398438 \nL 1396.005937 328.050611 \n\" style=\"fill:none;stroke:#cccccc;stroke-linecap:square;stroke-linejoin:miter;stroke-width:1.25;\"/>\n   </g>\n   <g id=\"patch_34\">\n    <path d=\"M 977.505937 564.398438 \nL 1396.005937 564.398438 \n\" style=\"fill:none;stroke:#cccccc;stroke-linecap:square;stroke-linejoin:miter;stroke-width:1.25;\"/>\n   </g>\n   <g id=\"patch_35\">\n    <path d=\"M 977.505937 328.050611 \nL 1396.005937 328.050611 \n\" style=\"fill:none;stroke:#cccccc;stroke-linecap:square;stroke-linejoin:miter;stroke-width:1.25;\"/>\n   </g>\n   <g id=\"text_59\">\n    <!-- bootstrap -->\n    <g style=\"fill:#262626;\" transform=\"translate(1159.1325 322.050611)scale(0.1 -0.1)\">\n     <defs>\n      <path d=\"M 37.5 11.28125 \nQ 43.109375 11.28125 46.0625 15.375 \nQ 49.03125 19.484375 49.03125 27.296875 \nQ 49.03125 35.109375 46.0625 39.203125 \nQ 43.109375 43.3125 37.5 43.3125 \nQ 31.890625 43.3125 28.875 39.1875 \nQ 25.875 35.0625 25.875 27.296875 \nQ 25.875 19.53125 28.875 15.40625 \nQ 31.890625 11.28125 37.5 11.28125 \nz\nM 25.875 46.6875 \nQ 29.5 51.46875 33.890625 53.734375 \nQ 38.28125 56 44 56 \nQ 54.109375 56 60.59375 47.96875 \nQ 67.09375 39.9375 67.09375 27.296875 \nQ 67.09375 14.65625 60.59375 6.609375 \nQ 54.109375 -1.421875 44 -1.421875 \nQ 38.28125 -1.421875 33.890625 0.84375 \nQ 29.5 3.125 25.875 7.90625 \nL 25.875 0 \nL 8.40625 0 \nL 8.40625 75.984375 \nL 25.875 75.984375 \nz\n\" id=\"DejaVuSans-Bold-98\"/>\n     </defs>\n     <use xlink:href=\"#DejaVuSans-Bold-98\"/>\n     <use x=\"71.582031\" xlink:href=\"#DejaVuSans-Bold-111\"/>\n     <use x=\"140.283203\" xlink:href=\"#DejaVuSans-Bold-111\"/>\n     <use x=\"208.984375\" xlink:href=\"#DejaVuSans-Bold-116\"/>\n     <use x=\"256.787109\" xlink:href=\"#DejaVuSans-Bold-115\"/>\n     <use x=\"316.308594\" xlink:href=\"#DejaVuSans-Bold-116\"/>\n     <use x=\"364.111328\" xlink:href=\"#DejaVuSans-Bold-114\"/>\n     <use x=\"413.427734\" xlink:href=\"#DejaVuSans-Bold-97\"/>\n     <use x=\"480.908203\" xlink:href=\"#DejaVuSans-Bold-112\"/>\n    </g>\n   </g>\n  </g>\n </g>\n <defs>\n  <clipPath id=\"p8e983fe327\">\n   <rect height=\"236.347826\" width=\"418.5\" x=\"56.805938\" y=\"20.798437\"/>\n  </clipPath>\n  <clipPath id=\"pb18be8ea1f\">\n   <rect height=\"236.347826\" width=\"418.5\" x=\"517.155938\" y=\"20.798437\"/>\n  </clipPath>\n  <clipPath id=\"p49cbeba73b\">\n   <rect height=\"236.347826\" width=\"418.5\" x=\"977.505937\" y=\"20.798437\"/>\n  </clipPath>\n  <clipPath id=\"p704bed54b3\">\n   <rect height=\"236.347826\" width=\"418.5\" x=\"56.805938\" y=\"328.050611\"/>\n  </clipPath>\n  <clipPath id=\"pa42c786799\">\n   <rect height=\"236.347826\" width=\"418.5\" x=\"517.155938\" y=\"328.050611\"/>\n  </clipPath>\n  <clipPath id=\"pb45775ae52\">\n   <rect height=\"236.347826\" width=\"418.5\" x=\"977.505937\" y=\"328.050611\"/>\n  </clipPath>\n </defs>\n</svg>\n",
      "image/png": "[encoded data removed]"
     },
     "metadata": {}
    }
   ],
   "metadata": {}
  },
  {
   "cell_type": "markdown",
   "source": [
    "### Result\n",
    "> Best Model Parameters\n",
    "```\n",
    "{'n_estimators': 345,\n",
    " 'min_samples_split': 5,\n",
    " 'min_samples_leaf': 2,\n",
    " 'max_features': 'sqrt',\n",
    " 'max_depth': 43,\n",
    " 'bootstrap': False}\n",
    "```\n",
    "> Best Parameter values\n",
    "\n",
    "```\n",
    "{'n_estimators': [309 , 347,385],\n",
    " 'min_samples_split': [7,12,44],\n",
    " 'min_samples_leaf': [2,7,12],\n",
    " 'max_features': 'sqrt',\n",
    " 'max_depth': [43 ,85, 100],\n",
    " 'bootstrap': False}\n",
    "```"
   ],
   "metadata": {}
  },
  {
   "cell_type": "markdown",
   "source": [
    "## Grid Search"
   ],
   "metadata": {}
  },
  {
   "cell_type": "code",
   "execution_count": 121,
   "source": [
    "from sklearn.model_selection import GridSearchCV"
   ],
   "outputs": [],
   "metadata": {}
  },
  {
   "cell_type": "code",
   "execution_count": 122,
   "source": [
    "n_estimators = [140 , 170 , 230]\n",
    "max_features = ['sqrt'] \n",
    "bootstrap = [False]\n",
    "max_depth =  [56 ,85, 100]\n",
    "min_samples_leaf = [2,12]\n",
    "min_samples_split = [7,18,28]"
   ],
   "outputs": [],
   "metadata": {}
  },
  {
   "cell_type": "code",
   "execution_count": 20,
   "source": [
    "param_grid = {'n_estimators': n_estimators,\n",
    "               'max_features': max_features,\n",
    "               'max_depth': max_depth,\n",
    "               'min_samples_split': min_samples_split,\n",
    "               'min_samples_leaf': min_samples_leaf,\n",
    "               'bootstrap': bootstrap}\n"
   ],
   "outputs": [],
   "metadata": {}
  },
  {
   "cell_type": "code",
   "execution_count": 24,
   "source": [
    "gs = GridSearchCV(rfc_v2 , param_grid , cv=5 , verbose=5 , n_jobs=-1)\n",
    "gs.fit(data_val , data_label)"
   ],
   "outputs": [
    {
     "output_type": "stream",
     "name": "stdout",
     "text": [
      "Fitting 5 folds for each of 54 candidates, totalling 270 fits\n"
     ]
    },
    {
     "output_type": "execute_result",
     "data": {
      "text/plain": [
       "GridSearchCV(cv=5, estimator=RandomForestClassifier(), n_jobs=-1,\n",
       "             param_grid={'bootstrap': [False], 'max_depth': [56, 85, 100],\n",
       "                         'max_features': ['sqrt'], 'min_samples_leaf': [2, 12],\n",
       "                         'min_samples_split': [7, 18, 28],\n",
       "                         'n_estimators': [140, 170, 230]},\n",
       "             verbose=5)"
      ]
     },
     "metadata": {},
     "execution_count": 24
    }
   ],
   "metadata": {}
  },
  {
   "cell_type": "code",
   "execution_count": 25,
   "source": [
    "gs.best_params_"
   ],
   "outputs": [
    {
     "output_type": "execute_result",
     "data": {
      "text/plain": [
       "{'bootstrap': False,\n",
       " 'max_depth': 56,\n",
       " 'max_features': 'sqrt',\n",
       " 'min_samples_leaf': 2,\n",
       " 'min_samples_split': 7,\n",
       " 'n_estimators': 140}"
      ]
     },
     "metadata": {},
     "execution_count": 25
    }
   ],
   "metadata": {}
  },
  {
   "cell_type": "markdown",
   "source": [
    "# Comparison"
   ],
   "metadata": {}
  },
  {
   "cell_type": "markdown",
   "source": [
    "### Train-test split"
   ],
   "metadata": {}
  },
  {
   "cell_type": "code",
   "execution_count": 2,
   "source": [
    "from sklearn.model_selection import train_test_split\n",
    "from sklearn.metrics import confusion_matrix as cf \n",
    "from sklearn.ensemble import RandomForestClassifier"
   ],
   "outputs": [],
   "metadata": {}
  },
  {
   "cell_type": "code",
   "execution_count": 20,
   "source": [
    "data =  pd.read_csv('processed_data/train_norm_rf_impute' , index_col = 0)\n",
    "np.random.seed(433)\n",
    "data = data.sample(frac=1).reset_index(drop=True)\n",
    "split = int(0.8*(len(data)))\n",
    "info_col = [ 'class' , 'src_n' , 'src_id' , 'significance']\n",
    "data_info = data[info_col]\n",
    "data_val = data.drop(columns=info_col) \n",
    "data_label = data['class']\n",
    "x = data_val.copy()\n",
    "y = data_label.copy()\n",
    "x_train, x_test , y_train , y_test = x_train , x_test , y_train , y_test = train_test_split(x,y , test_size=0.2 , stratify=y)"
   ],
   "outputs": [],
   "metadata": {}
  },
  {
   "cell_type": "markdown",
   "source": [
    "### Monte Carlo Cross Validation "
   ],
   "metadata": {}
  },
  {
   "cell_type": "code",
   "execution_count": 5,
   "source": [
    "from tqdm import tqdm\n",
    "from sklearn.model_selection import train_test_split\n",
    "def mc_validation(model_func , x  , y , model_name = '' , pca=False):\n",
    "    train_acc = []\n",
    "    test_acc = []\n",
    "\n",
    "    for i in tqdm(range(32)):\n",
    "        x_train , x_test , y_train , y_test = train_test_split(x,y , test_size=0.2)\n",
    "        if(pca):\n",
    "            pca = PCA(n_components=7)\n",
    "            x_train = pca.fit_transform(x_train)\n",
    "            x_test = pca.transform(x_test)\n",
    "        clf = model_func\n",
    "        clf.fit(x_train , y_train)\n",
    "        #print('train , test' , y_train.shape , y_test.shape)\n",
    "        #print(clf.score(x_test, y_test))\n",
    "        test_acc.append(clf.score(x_test , y_test))\n",
    "        train_acc.append(clf.score(x_train , y_train))\n",
    "\n",
    "    acc_train =  pd.DataFrame()\n",
    "    acc_test = pd.DataFrame()\n",
    "\n",
    "    \n",
    "    acc_test.insert(0 , 'acc_type' , ['Test_acc']*len(train_acc))\n",
    "    acc_test.insert(1 , 'accuracy' , test_acc)\n",
    "    acc_test = acc_test.reset_index(drop=True)\n",
    "   \n",
    "    acc_train.insert(0 , 'acc_type' , ['Train_acc']*len(train_acc))\n",
    "    acc_train.insert(1 , 'accuracy' , train_acc)\n",
    "    acc_train = acc_train.reset_index(drop=True)\n",
    "\n",
    "    acc = pd.concat([acc_train , acc_test]).reset_index(drop=True)\n",
    "    acc.insert(0 , 'model' , [model_name]*len(acc))\n",
    "    return acc\n"
   ],
   "outputs": [],
   "metadata": {}
  },
  {
   "cell_type": "markdown",
   "source": [
    "## Vanilla RF"
   ],
   "metadata": {}
  },
  {
   "cell_type": "code",
   "execution_count": 6,
   "source": [
    "rf_vanila = RandomForestClassifier(n_estimators=300)\n",
    "rf_vanila.fit(x_train , y_train)\n",
    "y_pred_vanila = rf_vanila.predict(x_test)\n",
    "cf_vanila = cf(y_test , y_pred_vanila)\n",
    "print(cf_vanila) "
   ],
   "outputs": [
    {
     "output_type": "stream",
     "name": "stdout",
     "text": [
      "[[27  5]\n",
      " [ 5 55]]\n"
     ]
    }
   ],
   "metadata": {}
  },
  {
   "cell_type": "code",
   "execution_count": 7,
   "source": [
    "rf_vanila.score(x_test, y_test)"
   ],
   "outputs": [
    {
     "output_type": "execute_result",
     "data": {
      "text/plain": [
       "0.8913043478260869"
      ]
     },
     "metadata": {},
     "execution_count": 7
    }
   ],
   "metadata": {}
  },
  {
   "cell_type": "code",
   "execution_count": 8,
   "source": [
    "print(y_train.shape , y_test.shape)"
   ],
   "outputs": [
    {
     "output_type": "stream",
     "name": "stdout",
     "text": [
      "(368,) (92,)\n"
     ]
    }
   ],
   "metadata": {}
  },
  {
   "cell_type": "code",
   "execution_count": 9,
   "source": [
    "acc_vanila = mc_validation(rf_vanila , data_val , data_label, model_name='Vanila_RF').reset_index(drop=True)\n"
   ],
   "outputs": [
    {
     "output_type": "stream",
     "name": "stderr",
     "text": [
      "100%|██████████| 32/32 [00:24<00:00,  1.28it/s]\n"
     ]
    }
   ],
   "metadata": {}
  },
  {
   "cell_type": "code",
   "execution_count": 10,
   "source": [
    "acc_vanila.to_csv('result/acc_vanila.csv')\n",
    "acc_vanila"
   ],
   "outputs": [
    {
     "output_type": "execute_result",
     "data": {
      "text/plain": [
       "        model   acc_type  accuracy\n",
       "0   Vanila_RF  Train_acc  1.000000\n",
       "1   Vanila_RF  Train_acc  1.000000\n",
       "2   Vanila_RF  Train_acc  1.000000\n",
       "3   Vanila_RF  Train_acc  1.000000\n",
       "4   Vanila_RF  Train_acc  1.000000\n",
       "..        ...        ...       ...\n",
       "59  Vanila_RF   Test_acc  0.913043\n",
       "60  Vanila_RF   Test_acc  0.869565\n",
       "61  Vanila_RF   Test_acc  0.956522\n",
       "62  Vanila_RF   Test_acc  0.923913\n",
       "63  Vanila_RF   Test_acc  0.923913\n",
       "\n",
       "[64 rows x 3 columns]"
      ],
      "text/html": [
       "<div>\n",
       "<style scoped>\n",
       "    .dataframe tbody tr th:only-of-type {\n",
       "        vertical-align: middle;\n",
       "    }\n",
       "\n",
       "    .dataframe tbody tr th {\n",
       "        vertical-align: top;\n",
       "    }\n",
       "\n",
       "    .dataframe thead th {\n",
       "        text-align: right;\n",
       "    }\n",
       "</style>\n",
       "<table border=\"1\" class=\"dataframe\">\n",
       "  <thead>\n",
       "    <tr style=\"text-align: right;\">\n",
       "      <th></th>\n",
       "      <th>model</th>\n",
       "      <th>acc_type</th>\n",
       "      <th>accuracy</th>\n",
       "    </tr>\n",
       "  </thead>\n",
       "  <tbody>\n",
       "    <tr>\n",
       "      <th>0</th>\n",
       "      <td>Vanila_RF</td>\n",
       "      <td>Train_acc</td>\n",
       "      <td>1.000000</td>\n",
       "    </tr>\n",
       "    <tr>\n",
       "      <th>1</th>\n",
       "      <td>Vanila_RF</td>\n",
       "      <td>Train_acc</td>\n",
       "      <td>1.000000</td>\n",
       "    </tr>\n",
       "    <tr>\n",
       "      <th>2</th>\n",
       "      <td>Vanila_RF</td>\n",
       "      <td>Train_acc</td>\n",
       "      <td>1.000000</td>\n",
       "    </tr>\n",
       "    <tr>\n",
       "      <th>3</th>\n",
       "      <td>Vanila_RF</td>\n",
       "      <td>Train_acc</td>\n",
       "      <td>1.000000</td>\n",
       "    </tr>\n",
       "    <tr>\n",
       "      <th>4</th>\n",
       "      <td>Vanila_RF</td>\n",
       "      <td>Train_acc</td>\n",
       "      <td>1.000000</td>\n",
       "    </tr>\n",
       "    <tr>\n",
       "      <th>...</th>\n",
       "      <td>...</td>\n",
       "      <td>...</td>\n",
       "      <td>...</td>\n",
       "    </tr>\n",
       "    <tr>\n",
       "      <th>59</th>\n",
       "      <td>Vanila_RF</td>\n",
       "      <td>Test_acc</td>\n",
       "      <td>0.913043</td>\n",
       "    </tr>\n",
       "    <tr>\n",
       "      <th>60</th>\n",
       "      <td>Vanila_RF</td>\n",
       "      <td>Test_acc</td>\n",
       "      <td>0.869565</td>\n",
       "    </tr>\n",
       "    <tr>\n",
       "      <th>61</th>\n",
       "      <td>Vanila_RF</td>\n",
       "      <td>Test_acc</td>\n",
       "      <td>0.956522</td>\n",
       "    </tr>\n",
       "    <tr>\n",
       "      <th>62</th>\n",
       "      <td>Vanila_RF</td>\n",
       "      <td>Test_acc</td>\n",
       "      <td>0.923913</td>\n",
       "    </tr>\n",
       "    <tr>\n",
       "      <th>63</th>\n",
       "      <td>Vanila_RF</td>\n",
       "      <td>Test_acc</td>\n",
       "      <td>0.923913</td>\n",
       "    </tr>\n",
       "  </tbody>\n",
       "</table>\n",
       "<p>64 rows × 3 columns</p>\n",
       "</div>"
      ]
     },
     "metadata": {},
     "execution_count": 10
    }
   ],
   "metadata": {}
  },
  {
   "cell_type": "markdown",
   "source": [
    "## Vanilla RF with PCA"
   ],
   "metadata": {}
  },
  {
   "cell_type": "code",
   "execution_count": 95,
   "source": [
    "from sklearn.decomposition import PCA"
   ],
   "outputs": [],
   "metadata": {}
  },
  {
   "cell_type": "code",
   "execution_count": 96,
   "source": [
    "pca = PCA(n_components=7 ,svd_solver='full' , random_state=2)\n",
    "pca.fit(x_train)\n",
    "x_train_pca = pca.transform(x_train)\n",
    "x_test_pca = pca.transform(x_test)\n",
    "\n",
    "rf_van_pca = RandomForestClassifier(n_estimators=300)\n",
    "rf_van_pca.fit(x_train_pca , y_train)\n",
    "y_pred_van_pca = rf_van_pca.predict(x_test_pca)\n",
    "cf_van_pca = cf(y_test , y_pred_van_pca)\n",
    "print(cf_van_pca) "
   ],
   "outputs": [
    {
     "output_type": "stream",
     "name": "stdout",
     "text": [
      "[[23  9]\n",
      " [ 8 52]]\n"
     ]
    }
   ],
   "metadata": {}
  },
  {
   "cell_type": "code",
   "execution_count": 97,
   "source": [
    "acc_vanila_pca = mc_validation(rf_van_pca , data_val , data_label ,model_name = 'vanila_rf_PCA' ,  pca=True ,).reset_index(drop=True)"
   ],
   "outputs": [
    {
     "output_type": "stream",
     "name": "stderr",
     "text": [
      "100%|██████████| 32/32 [00:23<00:00,  1.39it/s]\n"
     ]
    }
   ],
   "metadata": {}
  },
  {
   "cell_type": "code",
   "execution_count": 98,
   "source": [
    "acc_vanila_pca.to_csv('result/acc_vanila_pca.csv')"
   ],
   "outputs": [],
   "metadata": {}
  },
  {
   "cell_type": "markdown",
   "source": [
    "## Tuned RF\n",
    "\n",
    "{'n_estimators': 345,\n",
    " 'min_samples_split': 5,\n",
    " 'min_samples_leaf': 2,\n",
    " 'max_features': 'sqrt',\n",
    " 'max_depth': 43,\n",
    " 'bootstrap': False}"
   ],
   "metadata": {}
  },
  {
   "cell_type": "code",
   "execution_count": 127,
   "source": [
    "rf_t = RandomForestClassifier(n_estimators=340 ,\n",
    "        min_samples_split = 5 ,\n",
    "        min_samples_leaf = 2 , \n",
    "        max_depth = 43 , \n",
    "        bootstrap=False , \n",
    "        max_features = 'sqrt',\n",
    "        )\n",
    "rf_t.fit(x_train , y_train)\n"
   ],
   "outputs": [
    {
     "output_type": "execute_result",
     "data": {
      "text/plain": [
       "RandomForestClassifier(bootstrap=False, max_depth=43, max_features='sqrt',\n",
       "                       min_samples_leaf=2, min_samples_split=5,\n",
       "                       n_estimators=340)"
      ]
     },
     "metadata": {},
     "execution_count": 127
    }
   ],
   "metadata": {}
  },
  {
   "cell_type": "code",
   "execution_count": 128,
   "source": [
    "\n",
    "y_pred_t = rf_t.predict(x_test)\n",
    "cf_t = cf(y_test , y_pred_t)\n",
    "(cf_t)"
   ],
   "outputs": [
    {
     "output_type": "execute_result",
     "data": {
      "text/plain": [
       "array([[27,  5],\n",
       "       [ 3, 57]])"
      ]
     },
     "metadata": {},
     "execution_count": 128
    }
   ],
   "metadata": {}
  },
  {
   "cell_type": "code",
   "execution_count": 129,
   "source": [
    "acc_tuned = mc_validation(rf_t , data_val , data_label, model_name='Tuned_RF').reset_index(drop=True)\n",
    "acc_tuned.to_csv('result/acc_tuned.csv')\n",
    "acc_tuned"
   ],
   "outputs": [
    {
     "output_type": "stream",
     "name": "stderr",
     "text": [
      "100%|██████████| 32/32 [00:27<00:00,  1.15it/s]\n"
     ]
    },
    {
     "output_type": "execute_result",
     "data": {
      "text/plain": [
       "       model   acc_type  accuracy\n",
       "0   Tuned_RF  Train_acc  1.000000\n",
       "1   Tuned_RF  Train_acc  1.000000\n",
       "2   Tuned_RF  Train_acc  1.000000\n",
       "3   Tuned_RF  Train_acc  1.000000\n",
       "4   Tuned_RF  Train_acc  1.000000\n",
       "..       ...        ...       ...\n",
       "59  Tuned_RF   Test_acc  0.934783\n",
       "60  Tuned_RF   Test_acc  0.847826\n",
       "61  Tuned_RF   Test_acc  0.902174\n",
       "62  Tuned_RF   Test_acc  0.902174\n",
       "63  Tuned_RF   Test_acc  0.923913\n",
       "\n",
       "[64 rows x 3 columns]"
      ],
      "text/html": [
       "<div>\n",
       "<style scoped>\n",
       "    .dataframe tbody tr th:only-of-type {\n",
       "        vertical-align: middle;\n",
       "    }\n",
       "\n",
       "    .dataframe tbody tr th {\n",
       "        vertical-align: top;\n",
       "    }\n",
       "\n",
       "    .dataframe thead th {\n",
       "        text-align: right;\n",
       "    }\n",
       "</style>\n",
       "<table border=\"1\" class=\"dataframe\">\n",
       "  <thead>\n",
       "    <tr style=\"text-align: right;\">\n",
       "      <th></th>\n",
       "      <th>model</th>\n",
       "      <th>acc_type</th>\n",
       "      <th>accuracy</th>\n",
       "    </tr>\n",
       "  </thead>\n",
       "  <tbody>\n",
       "    <tr>\n",
       "      <th>0</th>\n",
       "      <td>Tuned_RF</td>\n",
       "      <td>Train_acc</td>\n",
       "      <td>1.000000</td>\n",
       "    </tr>\n",
       "    <tr>\n",
       "      <th>1</th>\n",
       "      <td>Tuned_RF</td>\n",
       "      <td>Train_acc</td>\n",
       "      <td>1.000000</td>\n",
       "    </tr>\n",
       "    <tr>\n",
       "      <th>2</th>\n",
       "      <td>Tuned_RF</td>\n",
       "      <td>Train_acc</td>\n",
       "      <td>1.000000</td>\n",
       "    </tr>\n",
       "    <tr>\n",
       "      <th>3</th>\n",
       "      <td>Tuned_RF</td>\n",
       "      <td>Train_acc</td>\n",
       "      <td>1.000000</td>\n",
       "    </tr>\n",
       "    <tr>\n",
       "      <th>4</th>\n",
       "      <td>Tuned_RF</td>\n",
       "      <td>Train_acc</td>\n",
       "      <td>1.000000</td>\n",
       "    </tr>\n",
       "    <tr>\n",
       "      <th>...</th>\n",
       "      <td>...</td>\n",
       "      <td>...</td>\n",
       "      <td>...</td>\n",
       "    </tr>\n",
       "    <tr>\n",
       "      <th>59</th>\n",
       "      <td>Tuned_RF</td>\n",
       "      <td>Test_acc</td>\n",
       "      <td>0.934783</td>\n",
       "    </tr>\n",
       "    <tr>\n",
       "      <th>60</th>\n",
       "      <td>Tuned_RF</td>\n",
       "      <td>Test_acc</td>\n",
       "      <td>0.847826</td>\n",
       "    </tr>\n",
       "    <tr>\n",
       "      <th>61</th>\n",
       "      <td>Tuned_RF</td>\n",
       "      <td>Test_acc</td>\n",
       "      <td>0.902174</td>\n",
       "    </tr>\n",
       "    <tr>\n",
       "      <th>62</th>\n",
       "      <td>Tuned_RF</td>\n",
       "      <td>Test_acc</td>\n",
       "      <td>0.902174</td>\n",
       "    </tr>\n",
       "    <tr>\n",
       "      <th>63</th>\n",
       "      <td>Tuned_RF</td>\n",
       "      <td>Test_acc</td>\n",
       "      <td>0.923913</td>\n",
       "    </tr>\n",
       "  </tbody>\n",
       "</table>\n",
       "<p>64 rows × 3 columns</p>\n",
       "</div>"
      ]
     },
     "metadata": {},
     "execution_count": 129
    }
   ],
   "metadata": {}
  },
  {
   "cell_type": "markdown",
   "source": [
    "## Result"
   ],
   "metadata": {}
  },
  {
   "cell_type": "code",
   "execution_count": 119,
   "source": [
    "acc_vanila = pd.read_csv('result/acc_vanila.csv')\n",
    "acc_tuned = pd.read_csv('result/acc_tuned.csv')\n",
    "acc_vanila_pca = pd.read_csv('result/acc_vanila_pca.csv')"
   ],
   "outputs": [],
   "metadata": {}
  },
  {
   "cell_type": "code",
   "execution_count": 120,
   "source": [
    "acc = acc_vanila.copy()\n",
    "display(acc[acc['acc_type'] == 'Test_acc'][['accuracy']].describe().head(3))\n",
    "acc = acc_vanila_pca.copy()\n",
    "display(acc[acc['acc_type'] == 'Test_acc'][['accuracy']].describe().head(3))\n",
    "acc = acc_tuned.copy()\n",
    "display(acc[acc['acc_type'] == 'Test_acc'][['accuracy']].describe().head(3))"
   ],
   "outputs": [
    {
     "output_type": "display_data",
     "data": {
      "text/plain": [
       "        accuracy\n",
       "count  32.000000\n",
       "mean    0.921196\n",
       "std     0.028155"
      ],
      "text/html": [
       "<div>\n",
       "<style scoped>\n",
       "    .dataframe tbody tr th:only-of-type {\n",
       "        vertical-align: middle;\n",
       "    }\n",
       "\n",
       "    .dataframe tbody tr th {\n",
       "        vertical-align: top;\n",
       "    }\n",
       "\n",
       "    .dataframe thead th {\n",
       "        text-align: right;\n",
       "    }\n",
       "</style>\n",
       "<table border=\"1\" class=\"dataframe\">\n",
       "  <thead>\n",
       "    <tr style=\"text-align: right;\">\n",
       "      <th></th>\n",
       "      <th>accuracy</th>\n",
       "    </tr>\n",
       "  </thead>\n",
       "  <tbody>\n",
       "    <tr>\n",
       "      <th>count</th>\n",
       "      <td>32.000000</td>\n",
       "    </tr>\n",
       "    <tr>\n",
       "      <th>mean</th>\n",
       "      <td>0.921196</td>\n",
       "    </tr>\n",
       "    <tr>\n",
       "      <th>std</th>\n",
       "      <td>0.028155</td>\n",
       "    </tr>\n",
       "  </tbody>\n",
       "</table>\n",
       "</div>"
      ]
     },
     "metadata": {}
    },
    {
     "output_type": "display_data",
     "data": {
      "text/plain": [
       "        accuracy\n",
       "count  32.000000\n",
       "mean    0.827446\n",
       "std     0.041574"
      ],
      "text/html": [
       "<div>\n",
       "<style scoped>\n",
       "    .dataframe tbody tr th:only-of-type {\n",
       "        vertical-align: middle;\n",
       "    }\n",
       "\n",
       "    .dataframe tbody tr th {\n",
       "        vertical-align: top;\n",
       "    }\n",
       "\n",
       "    .dataframe thead th {\n",
       "        text-align: right;\n",
       "    }\n",
       "</style>\n",
       "<table border=\"1\" class=\"dataframe\">\n",
       "  <thead>\n",
       "    <tr style=\"text-align: right;\">\n",
       "      <th></th>\n",
       "      <th>accuracy</th>\n",
       "    </tr>\n",
       "  </thead>\n",
       "  <tbody>\n",
       "    <tr>\n",
       "      <th>count</th>\n",
       "      <td>32.000000</td>\n",
       "    </tr>\n",
       "    <tr>\n",
       "      <th>mean</th>\n",
       "      <td>0.827446</td>\n",
       "    </tr>\n",
       "    <tr>\n",
       "      <th>std</th>\n",
       "      <td>0.041574</td>\n",
       "    </tr>\n",
       "  </tbody>\n",
       "</table>\n",
       "</div>"
      ]
     },
     "metadata": {}
    },
    {
     "output_type": "display_data",
     "data": {
      "text/plain": [
       "        accuracy\n",
       "count  32.000000\n",
       "mean    0.926291\n",
       "std     0.029957"
      ],
      "text/html": [
       "<div>\n",
       "<style scoped>\n",
       "    .dataframe tbody tr th:only-of-type {\n",
       "        vertical-align: middle;\n",
       "    }\n",
       "\n",
       "    .dataframe tbody tr th {\n",
       "        vertical-align: top;\n",
       "    }\n",
       "\n",
       "    .dataframe thead th {\n",
       "        text-align: right;\n",
       "    }\n",
       "</style>\n",
       "<table border=\"1\" class=\"dataframe\">\n",
       "  <thead>\n",
       "    <tr style=\"text-align: right;\">\n",
       "      <th></th>\n",
       "      <th>accuracy</th>\n",
       "    </tr>\n",
       "  </thead>\n",
       "  <tbody>\n",
       "    <tr>\n",
       "      <th>count</th>\n",
       "      <td>32.000000</td>\n",
       "    </tr>\n",
       "    <tr>\n",
       "      <th>mean</th>\n",
       "      <td>0.926291</td>\n",
       "    </tr>\n",
       "    <tr>\n",
       "      <th>std</th>\n",
       "      <td>0.029957</td>\n",
       "    </tr>\n",
       "  </tbody>\n",
       "</table>\n",
       "</div>"
      ]
     },
     "metadata": {}
    }
   ],
   "metadata": {}
  },
  {
   "cell_type": "code",
   "execution_count": 121,
   "source": [
    "acc = pd.concat([acc_vanila, acc_vanila_pca , acc_tuned]).reset_index(drop=True)\n",
    "acc.to_csv('result/acc_sklearn_rf_all.csv')"
   ],
   "outputs": [],
   "metadata": {}
  },
  {
   "cell_type": "code",
   "execution_count": 122,
   "source": [
    "sns.set_style('whitegrid')\n",
    "pal = sns.diverging_palette(240, 10, s=80, l=55, n=3)\n",
    "acc = pd.read_csv('result/acc_sklearn_rf_all.csv')\n",
    "sns.catplot(data = acc[acc['acc_type']=='Test_acc'] , y='accuracy' , x = 'model' ,\n",
    "            kind='box' ,  # hue='acc_type',\n",
    "            palette = 'copper' , \n",
    "            height=6 , aspect=8/6\n",
    "            )\n",
    "plt.savefig('result/param_tuning_res_box.jpg')\n",
    "plt.show()"
   ],
   "outputs": [
    {
     "output_type": "display_data",
     "data": {
      "text/plain": [
       "<Figure size 576x432 with 1 Axes>"
      ],
      "image/svg+xml": "<?xml version=\"1.0\" encoding=\"utf-8\" standalone=\"no\"?>\n<!DOCTYPE svg PUBLIC \"-//W3C//DTD SVG 1.1//EN\"\n  \"http://www.w3.org/Graphics/SVG/1.1/DTD/svg11.dtd\">\n<!-- Created with matplotlib (https://matplotlib.org/) -->\n<svg height=\"423.357784pt\" version=\"1.1\" viewBox=\"0 0 568.49375 423.357784\" width=\"568.49375pt\" xmlns=\"http://www.w3.org/2000/svg\" xmlns:xlink=\"http://www.w3.org/1999/xlink\">\n <metadata>\n  <rdf:RDF xmlns:cc=\"http://creativecommons.org/ns#\" xmlns:dc=\"http://purl.org/dc/elements/1.1/\" xmlns:rdf=\"http://www.w3.org/1999/02/22-rdf-syntax-ns#\">\n   <cc:Work>\n    <dc:type rdf:resource=\"http://purl.org/dc/dcmitype/StillImage\"/>\n    <dc:date>2021-10-15T16:13:17.500291</dc:date>\n    <dc:format>image/svg+xml</dc:format>\n    <dc:creator>\n     <cc:Agent>\n      <dc:title>Matplotlib v3.3.4, https://matplotlib.org/</dc:title>\n     </cc:Agent>\n    </dc:creator>\n   </cc:Work>\n  </rdf:RDF>\n </metadata>\n <defs>\n  <style type=\"text/css\">*{stroke-linecap:butt;stroke-linejoin:round;}</style>\n </defs>\n <g id=\"figure_1\">\n  <g id=\"patch_1\">\n   <path d=\"M 0 423.357784 \nL 568.49375 423.357784 \nL 568.49375 0 \nL 0 0 \nz\n\" style=\"fill:#ffffff;\"/>\n  </g>\n  <g id=\"axes_1\">\n   <g id=\"patch_2\">\n    <path d=\"M 50.14375 385.523409 \nL 561.29375 385.523409 \nL 561.29375 10.186802 \nL 50.14375 10.186802 \nz\n\" style=\"fill:#ffffff;\"/>\n   </g>\n   <g id=\"matplotlib.axis_1\">\n    <g id=\"xtick_1\">\n     <g id=\"text_1\">\n      <!-- Vanila_RF -->\n      <g style=\"fill:#262626;\" transform=\"translate(111.377604 400.121846)scale(0.1 -0.1)\">\n       <defs>\n        <path d=\"M 28.609375 0 \nL 0.78125 72.90625 \nL 11.078125 72.90625 \nL 34.1875 11.53125 \nL 57.328125 72.90625 \nL 67.578125 72.90625 \nL 39.796875 0 \nz\n\" id=\"DejaVuSans-86\"/>\n        <path d=\"M 34.28125 27.484375 \nQ 23.390625 27.484375 19.1875 25 \nQ 14.984375 22.515625 14.984375 16.5 \nQ 14.984375 11.71875 18.140625 8.90625 \nQ 21.296875 6.109375 26.703125 6.109375 \nQ 34.1875 6.109375 38.703125 11.40625 \nQ 43.21875 16.703125 43.21875 25.484375 \nL 43.21875 27.484375 \nz\nM 52.203125 31.203125 \nL 52.203125 0 \nL 43.21875 0 \nL 43.21875 8.296875 \nQ 40.140625 3.328125 35.546875 0.953125 \nQ 30.953125 -1.421875 24.3125 -1.421875 \nQ 15.921875 -1.421875 10.953125 3.296875 \nQ 6 8.015625 6 15.921875 \nQ 6 25.140625 12.171875 29.828125 \nQ 18.359375 34.515625 30.609375 34.515625 \nL 43.21875 34.515625 \nL 43.21875 35.40625 \nQ 43.21875 41.609375 39.140625 45 \nQ 35.0625 48.390625 27.6875 48.390625 \nQ 23 48.390625 18.546875 47.265625 \nQ 14.109375 46.140625 10.015625 43.890625 \nL 10.015625 52.203125 \nQ 14.9375 54.109375 19.578125 55.046875 \nQ 24.21875 56 28.609375 56 \nQ 40.484375 56 46.34375 49.84375 \nQ 52.203125 43.703125 52.203125 31.203125 \nz\n\" id=\"DejaVuSans-97\"/>\n        <path d=\"M 54.890625 33.015625 \nL 54.890625 0 \nL 45.90625 0 \nL 45.90625 32.71875 \nQ 45.90625 40.484375 42.875 44.328125 \nQ 39.84375 48.1875 33.796875 48.1875 \nQ 26.515625 48.1875 22.3125 43.546875 \nQ 18.109375 38.921875 18.109375 30.90625 \nL 18.109375 0 \nL 9.078125 0 \nL 9.078125 54.6875 \nL 18.109375 54.6875 \nL 18.109375 46.1875 \nQ 21.34375 51.125 25.703125 53.5625 \nQ 30.078125 56 35.796875 56 \nQ 45.21875 56 50.046875 50.171875 \nQ 54.890625 44.34375 54.890625 33.015625 \nz\n\" id=\"DejaVuSans-110\"/>\n        <path d=\"M 9.421875 54.6875 \nL 18.40625 54.6875 \nL 18.40625 0 \nL 9.421875 0 \nz\nM 9.421875 75.984375 \nL 18.40625 75.984375 \nL 18.40625 64.59375 \nL 9.421875 64.59375 \nz\n\" id=\"DejaVuSans-105\"/>\n        <path d=\"M 9.421875 75.984375 \nL 18.40625 75.984375 \nL 18.40625 0 \nL 9.421875 0 \nz\n\" id=\"DejaVuSans-108\"/>\n        <path d=\"M 50.984375 -16.609375 \nL 50.984375 -23.578125 \nL -0.984375 -23.578125 \nL -0.984375 -16.609375 \nz\n\" id=\"DejaVuSans-95\"/>\n        <path d=\"M 44.390625 34.1875 \nQ 47.5625 33.109375 50.5625 29.59375 \nQ 53.5625 26.078125 56.59375 19.921875 \nL 66.609375 0 \nL 56 0 \nL 46.6875 18.703125 \nQ 43.0625 26.03125 39.671875 28.421875 \nQ 36.28125 30.8125 30.421875 30.8125 \nL 19.671875 30.8125 \nL 19.671875 0 \nL 9.8125 0 \nL 9.8125 72.90625 \nL 32.078125 72.90625 \nQ 44.578125 72.90625 50.734375 67.671875 \nQ 56.890625 62.453125 56.890625 51.90625 \nQ 56.890625 45.015625 53.6875 40.46875 \nQ 50.484375 35.9375 44.390625 34.1875 \nz\nM 19.671875 64.796875 \nL 19.671875 38.921875 \nL 32.078125 38.921875 \nQ 39.203125 38.921875 42.84375 42.21875 \nQ 46.484375 45.515625 46.484375 51.90625 \nQ 46.484375 58.296875 42.84375 61.546875 \nQ 39.203125 64.796875 32.078125 64.796875 \nz\n\" id=\"DejaVuSans-82\"/>\n        <path d=\"M 9.8125 72.90625 \nL 51.703125 72.90625 \nL 51.703125 64.59375 \nL 19.671875 64.59375 \nL 19.671875 43.109375 \nL 48.578125 43.109375 \nL 48.578125 34.8125 \nL 19.671875 34.8125 \nL 19.671875 0 \nL 9.8125 0 \nz\n\" id=\"DejaVuSans-70\"/>\n       </defs>\n       <use xlink:href=\"#DejaVuSans-86\"/>\n       <use x=\"60.658203\" xlink:href=\"#DejaVuSans-97\"/>\n       <use x=\"121.9375\" xlink:href=\"#DejaVuSans-110\"/>\n       <use x=\"185.316406\" xlink:href=\"#DejaVuSans-105\"/>\n       <use x=\"213.099609\" xlink:href=\"#DejaVuSans-108\"/>\n       <use x=\"240.882812\" xlink:href=\"#DejaVuSans-97\"/>\n       <use x=\"302.162109\" xlink:href=\"#DejaVuSans-95\"/>\n       <use x=\"352.162109\" xlink:href=\"#DejaVuSans-82\"/>\n       <use x=\"421.644531\" xlink:href=\"#DejaVuSans-70\"/>\n      </g>\n     </g>\n    </g>\n    <g id=\"xtick_2\">\n     <g id=\"text_2\">\n      <!-- vanila_rf_PCA -->\n      <g style=\"fill:#262626;\" transform=\"translate(271.942187 400.121846)scale(0.1 -0.1)\">\n       <defs>\n        <path d=\"M 2.984375 54.6875 \nL 12.5 54.6875 \nL 29.59375 8.796875 \nL 46.6875 54.6875 \nL 56.203125 54.6875 \nL 35.6875 0 \nL 23.484375 0 \nz\n\" id=\"DejaVuSans-118\"/>\n        <path d=\"M 41.109375 46.296875 \nQ 39.59375 47.171875 37.8125 47.578125 \nQ 36.03125 48 33.890625 48 \nQ 26.265625 48 22.1875 43.046875 \nQ 18.109375 38.09375 18.109375 28.8125 \nL 18.109375 0 \nL 9.078125 0 \nL 9.078125 54.6875 \nL 18.109375 54.6875 \nL 18.109375 46.1875 \nQ 20.953125 51.171875 25.484375 53.578125 \nQ 30.03125 56 36.53125 56 \nQ 37.453125 56 38.578125 55.875 \nQ 39.703125 55.765625 41.0625 55.515625 \nz\n\" id=\"DejaVuSans-114\"/>\n        <path d=\"M 37.109375 75.984375 \nL 37.109375 68.5 \nL 28.515625 68.5 \nQ 23.6875 68.5 21.796875 66.546875 \nQ 19.921875 64.59375 19.921875 59.515625 \nL 19.921875 54.6875 \nL 34.71875 54.6875 \nL 34.71875 47.703125 \nL 19.921875 47.703125 \nL 19.921875 0 \nL 10.890625 0 \nL 10.890625 47.703125 \nL 2.296875 47.703125 \nL 2.296875 54.6875 \nL 10.890625 54.6875 \nL 10.890625 58.5 \nQ 10.890625 67.625 15.140625 71.796875 \nQ 19.390625 75.984375 28.609375 75.984375 \nz\n\" id=\"DejaVuSans-102\"/>\n        <path d=\"M 19.671875 64.796875 \nL 19.671875 37.40625 \nL 32.078125 37.40625 \nQ 38.96875 37.40625 42.71875 40.96875 \nQ 46.484375 44.53125 46.484375 51.125 \nQ 46.484375 57.671875 42.71875 61.234375 \nQ 38.96875 64.796875 32.078125 64.796875 \nz\nM 9.8125 72.90625 \nL 32.078125 72.90625 \nQ 44.34375 72.90625 50.609375 67.359375 \nQ 56.890625 61.8125 56.890625 51.125 \nQ 56.890625 40.328125 50.609375 34.8125 \nQ 44.34375 29.296875 32.078125 29.296875 \nL 19.671875 29.296875 \nL 19.671875 0 \nL 9.8125 0 \nz\n\" id=\"DejaVuSans-80\"/>\n        <path d=\"M 64.40625 67.28125 \nL 64.40625 56.890625 \nQ 59.421875 61.53125 53.78125 63.8125 \nQ 48.140625 66.109375 41.796875 66.109375 \nQ 29.296875 66.109375 22.65625 58.46875 \nQ 16.015625 50.828125 16.015625 36.375 \nQ 16.015625 21.96875 22.65625 14.328125 \nQ 29.296875 6.6875 41.796875 6.6875 \nQ 48.140625 6.6875 53.78125 8.984375 \nQ 59.421875 11.28125 64.40625 15.921875 \nL 64.40625 5.609375 \nQ 59.234375 2.09375 53.4375 0.328125 \nQ 47.65625 -1.421875 41.21875 -1.421875 \nQ 24.65625 -1.421875 15.125 8.703125 \nQ 5.609375 18.84375 5.609375 36.375 \nQ 5.609375 53.953125 15.125 64.078125 \nQ 24.65625 74.21875 41.21875 74.21875 \nQ 47.75 74.21875 53.53125 72.484375 \nQ 59.328125 70.75 64.40625 67.28125 \nz\n\" id=\"DejaVuSans-67\"/>\n        <path d=\"M 34.1875 63.1875 \nL 20.796875 26.90625 \nL 47.609375 26.90625 \nz\nM 28.609375 72.90625 \nL 39.796875 72.90625 \nL 67.578125 0 \nL 57.328125 0 \nL 50.6875 18.703125 \nL 17.828125 18.703125 \nL 11.1875 0 \nL 0.78125 0 \nz\n\" id=\"DejaVuSans-65\"/>\n       </defs>\n       <use xlink:href=\"#DejaVuSans-118\"/>\n       <use x=\"59.179688\" xlink:href=\"#DejaVuSans-97\"/>\n       <use x=\"120.458984\" xlink:href=\"#DejaVuSans-110\"/>\n       <use x=\"183.837891\" xlink:href=\"#DejaVuSans-105\"/>\n       <use x=\"211.621094\" xlink:href=\"#DejaVuSans-108\"/>\n       <use x=\"239.404297\" xlink:href=\"#DejaVuSans-97\"/>\n       <use x=\"300.683594\" xlink:href=\"#DejaVuSans-95\"/>\n       <use x=\"350.683594\" xlink:href=\"#DejaVuSans-114\"/>\n       <use x=\"391.796875\" xlink:href=\"#DejaVuSans-102\"/>\n       <use x=\"427.001953\" xlink:href=\"#DejaVuSans-95\"/>\n       <use x=\"477.001953\" xlink:href=\"#DejaVuSans-80\"/>\n       <use x=\"537.304688\" xlink:href=\"#DejaVuSans-67\"/>\n       <use x=\"607.128906\" xlink:href=\"#DejaVuSans-65\"/>\n      </g>\n     </g>\n    </g>\n    <g id=\"xtick_3\">\n     <g id=\"text_3\">\n      <!-- Tuned_RF -->\n      <g style=\"fill:#262626;\" transform=\"translate(452.366146 400.121846)scale(0.1 -0.1)\">\n       <defs>\n        <path d=\"M -0.296875 72.90625 \nL 61.375 72.90625 \nL 61.375 64.59375 \nL 35.5 64.59375 \nL 35.5 0 \nL 25.59375 0 \nL 25.59375 64.59375 \nL -0.296875 64.59375 \nz\n\" id=\"DejaVuSans-84\"/>\n        <path d=\"M 8.5 21.578125 \nL 8.5 54.6875 \nL 17.484375 54.6875 \nL 17.484375 21.921875 \nQ 17.484375 14.15625 20.5 10.265625 \nQ 23.53125 6.390625 29.59375 6.390625 \nQ 36.859375 6.390625 41.078125 11.03125 \nQ 45.3125 15.671875 45.3125 23.6875 \nL 45.3125 54.6875 \nL 54.296875 54.6875 \nL 54.296875 0 \nL 45.3125 0 \nL 45.3125 8.40625 \nQ 42.046875 3.421875 37.71875 1 \nQ 33.40625 -1.421875 27.6875 -1.421875 \nQ 18.265625 -1.421875 13.375 4.4375 \nQ 8.5 10.296875 8.5 21.578125 \nz\nM 31.109375 56 \nz\n\" id=\"DejaVuSans-117\"/>\n        <path d=\"M 56.203125 29.59375 \nL 56.203125 25.203125 \nL 14.890625 25.203125 \nQ 15.484375 15.921875 20.484375 11.0625 \nQ 25.484375 6.203125 34.421875 6.203125 \nQ 39.59375 6.203125 44.453125 7.46875 \nQ 49.3125 8.734375 54.109375 11.28125 \nL 54.109375 2.78125 \nQ 49.265625 0.734375 44.1875 -0.34375 \nQ 39.109375 -1.421875 33.890625 -1.421875 \nQ 20.796875 -1.421875 13.15625 6.1875 \nQ 5.515625 13.8125 5.515625 26.8125 \nQ 5.515625 40.234375 12.765625 48.109375 \nQ 20.015625 56 32.328125 56 \nQ 43.359375 56 49.78125 48.890625 \nQ 56.203125 41.796875 56.203125 29.59375 \nz\nM 47.21875 32.234375 \nQ 47.125 39.59375 43.09375 43.984375 \nQ 39.0625 48.390625 32.421875 48.390625 \nQ 24.90625 48.390625 20.390625 44.140625 \nQ 15.875 39.890625 15.1875 32.171875 \nz\n\" id=\"DejaVuSans-101\"/>\n        <path d=\"M 45.40625 46.390625 \nL 45.40625 75.984375 \nL 54.390625 75.984375 \nL 54.390625 0 \nL 45.40625 0 \nL 45.40625 8.203125 \nQ 42.578125 3.328125 38.25 0.953125 \nQ 33.9375 -1.421875 27.875 -1.421875 \nQ 17.96875 -1.421875 11.734375 6.484375 \nQ 5.515625 14.40625 5.515625 27.296875 \nQ 5.515625 40.1875 11.734375 48.09375 \nQ 17.96875 56 27.875 56 \nQ 33.9375 56 38.25 53.625 \nQ 42.578125 51.265625 45.40625 46.390625 \nz\nM 14.796875 27.296875 \nQ 14.796875 17.390625 18.875 11.75 \nQ 22.953125 6.109375 30.078125 6.109375 \nQ 37.203125 6.109375 41.296875 11.75 \nQ 45.40625 17.390625 45.40625 27.296875 \nQ 45.40625 37.203125 41.296875 42.84375 \nQ 37.203125 48.484375 30.078125 48.484375 \nQ 22.953125 48.484375 18.875 42.84375 \nQ 14.796875 37.203125 14.796875 27.296875 \nz\n\" id=\"DejaVuSans-100\"/>\n       </defs>\n       <use xlink:href=\"#DejaVuSans-84\"/>\n       <use x=\"45.958984\" xlink:href=\"#DejaVuSans-117\"/>\n       <use x=\"109.337891\" xlink:href=\"#DejaVuSans-110\"/>\n       <use x=\"172.716797\" xlink:href=\"#DejaVuSans-101\"/>\n       <use x=\"234.240234\" xlink:href=\"#DejaVuSans-100\"/>\n       <use x=\"297.716797\" xlink:href=\"#DejaVuSans-95\"/>\n       <use x=\"347.716797\" xlink:href=\"#DejaVuSans-82\"/>\n       <use x=\"417.199219\" xlink:href=\"#DejaVuSans-70\"/>\n      </g>\n     </g>\n    </g>\n    <g id=\"text_4\">\n     <!-- model -->\n     <g style=\"fill:#262626;\" transform=\"translate(290.149219 414.078096)scale(0.1 -0.1)\">\n      <defs>\n       <path d=\"M 52 44.1875 \nQ 55.375 50.25 60.0625 53.125 \nQ 64.75 56 71.09375 56 \nQ 79.640625 56 84.28125 50.015625 \nQ 88.921875 44.046875 88.921875 33.015625 \nL 88.921875 0 \nL 79.890625 0 \nL 79.890625 32.71875 \nQ 79.890625 40.578125 77.09375 44.375 \nQ 74.3125 48.1875 68.609375 48.1875 \nQ 61.625 48.1875 57.5625 43.546875 \nQ 53.515625 38.921875 53.515625 30.90625 \nL 53.515625 0 \nL 44.484375 0 \nL 44.484375 32.71875 \nQ 44.484375 40.625 41.703125 44.40625 \nQ 38.921875 48.1875 33.109375 48.1875 \nQ 26.21875 48.1875 22.15625 43.53125 \nQ 18.109375 38.875 18.109375 30.90625 \nL 18.109375 0 \nL 9.078125 0 \nL 9.078125 54.6875 \nL 18.109375 54.6875 \nL 18.109375 46.1875 \nQ 21.1875 51.21875 25.484375 53.609375 \nQ 29.78125 56 35.6875 56 \nQ 41.65625 56 45.828125 52.96875 \nQ 50 49.953125 52 44.1875 \nz\n\" id=\"DejaVuSans-109\"/>\n       <path d=\"M 30.609375 48.390625 \nQ 23.390625 48.390625 19.1875 42.75 \nQ 14.984375 37.109375 14.984375 27.296875 \nQ 14.984375 17.484375 19.15625 11.84375 \nQ 23.34375 6.203125 30.609375 6.203125 \nQ 37.796875 6.203125 41.984375 11.859375 \nQ 46.1875 17.53125 46.1875 27.296875 \nQ 46.1875 37.015625 41.984375 42.703125 \nQ 37.796875 48.390625 30.609375 48.390625 \nz\nM 30.609375 56 \nQ 42.328125 56 49.015625 48.375 \nQ 55.71875 40.765625 55.71875 27.296875 \nQ 55.71875 13.875 49.015625 6.21875 \nQ 42.328125 -1.421875 30.609375 -1.421875 \nQ 18.84375 -1.421875 12.171875 6.21875 \nQ 5.515625 13.875 5.515625 27.296875 \nQ 5.515625 40.765625 12.171875 48.375 \nQ 18.84375 56 30.609375 56 \nz\n\" id=\"DejaVuSans-111\"/>\n      </defs>\n      <use xlink:href=\"#DejaVuSans-109\"/>\n      <use x=\"97.412109\" xlink:href=\"#DejaVuSans-111\"/>\n      <use x=\"158.59375\" xlink:href=\"#DejaVuSans-100\"/>\n      <use x=\"222.070312\" xlink:href=\"#DejaVuSans-101\"/>\n      <use x=\"283.59375\" xlink:href=\"#DejaVuSans-108\"/>\n     </g>\n    </g>\n   </g>\n   <g id=\"matplotlib.axis_2\">\n    <g id=\"ytick_1\">\n     <g id=\"line2d_1\">\n      <path clip-path=\"url(#pebdc856ec3)\" d=\"M 50.14375 384.710992 \nL 561.29375 384.710992 \n\" style=\"fill:none;stroke:#cccccc;stroke-linecap:round;stroke-width:0.8;\"/>\n     </g>\n     <g id=\"text_5\">\n      <!-- 0.75 -->\n      <g style=\"fill:#262626;\" transform=\"translate(20.878125 388.510211)scale(0.1 -0.1)\">\n       <defs>\n        <path d=\"M 31.78125 66.40625 \nQ 24.171875 66.40625 20.328125 58.90625 \nQ 16.5 51.421875 16.5 36.375 \nQ 16.5 21.390625 20.328125 13.890625 \nQ 24.171875 6.390625 31.78125 6.390625 \nQ 39.453125 6.390625 43.28125 13.890625 \nQ 47.125 21.390625 47.125 36.375 \nQ 47.125 51.421875 43.28125 58.90625 \nQ 39.453125 66.40625 31.78125 66.40625 \nz\nM 31.78125 74.21875 \nQ 44.046875 74.21875 50.515625 64.515625 \nQ 56.984375 54.828125 56.984375 36.375 \nQ 56.984375 17.96875 50.515625 8.265625 \nQ 44.046875 -1.421875 31.78125 -1.421875 \nQ 19.53125 -1.421875 13.0625 8.265625 \nQ 6.59375 17.96875 6.59375 36.375 \nQ 6.59375 54.828125 13.0625 64.515625 \nQ 19.53125 74.21875 31.78125 74.21875 \nz\n\" id=\"DejaVuSans-48\"/>\n        <path d=\"M 10.6875 12.40625 \nL 21 12.40625 \nL 21 0 \nL 10.6875 0 \nz\n\" id=\"DejaVuSans-46\"/>\n        <path d=\"M 8.203125 72.90625 \nL 55.078125 72.90625 \nL 55.078125 68.703125 \nL 28.609375 0 \nL 18.3125 0 \nL 43.21875 64.59375 \nL 8.203125 64.59375 \nz\n\" id=\"DejaVuSans-55\"/>\n        <path d=\"M 10.796875 72.90625 \nL 49.515625 72.90625 \nL 49.515625 64.59375 \nL 19.828125 64.59375 \nL 19.828125 46.734375 \nQ 21.96875 47.46875 24.109375 47.828125 \nQ 26.265625 48.1875 28.421875 48.1875 \nQ 40.625 48.1875 47.75 41.5 \nQ 54.890625 34.8125 54.890625 23.390625 \nQ 54.890625 11.625 47.5625 5.09375 \nQ 40.234375 -1.421875 26.90625 -1.421875 \nQ 22.3125 -1.421875 17.546875 -0.640625 \nQ 12.796875 0.140625 7.71875 1.703125 \nL 7.71875 11.625 \nQ 12.109375 9.234375 16.796875 8.0625 \nQ 21.484375 6.890625 26.703125 6.890625 \nQ 35.15625 6.890625 40.078125 11.328125 \nQ 45.015625 15.765625 45.015625 23.390625 \nQ 45.015625 31 40.078125 35.4375 \nQ 35.15625 39.890625 26.703125 39.890625 \nQ 22.75 39.890625 18.8125 39.015625 \nQ 14.890625 38.140625 10.796875 36.28125 \nz\n\" id=\"DejaVuSans-53\"/>\n       </defs>\n       <use xlink:href=\"#DejaVuSans-48\"/>\n       <use x=\"63.623047\" xlink:href=\"#DejaVuSans-46\"/>\n       <use x=\"95.410156\" xlink:href=\"#DejaVuSans-55\"/>\n       <use x=\"159.033203\" xlink:href=\"#DejaVuSans-53\"/>\n      </g>\n     </g>\n    </g>\n    <g id=\"ytick_2\">\n     <g id=\"line2d_2\">\n      <path clip-path=\"url(#pebdc856ec3)\" d=\"M 50.14375 309.968637 \nL 561.29375 309.968637 \n\" style=\"fill:none;stroke:#cccccc;stroke-linecap:round;stroke-width:0.8;\"/>\n     </g>\n     <g id=\"text_6\">\n      <!-- 0.80 -->\n      <g style=\"fill:#262626;\" transform=\"translate(20.878125 313.767856)scale(0.1 -0.1)\">\n       <defs>\n        <path d=\"M 31.78125 34.625 \nQ 24.75 34.625 20.71875 30.859375 \nQ 16.703125 27.09375 16.703125 20.515625 \nQ 16.703125 13.921875 20.71875 10.15625 \nQ 24.75 6.390625 31.78125 6.390625 \nQ 38.8125 6.390625 42.859375 10.171875 \nQ 46.921875 13.96875 46.921875 20.515625 \nQ 46.921875 27.09375 42.890625 30.859375 \nQ 38.875 34.625 31.78125 34.625 \nz\nM 21.921875 38.8125 \nQ 15.578125 40.375 12.03125 44.71875 \nQ 8.5 49.078125 8.5 55.328125 \nQ 8.5 64.0625 14.71875 69.140625 \nQ 20.953125 74.21875 31.78125 74.21875 \nQ 42.671875 74.21875 48.875 69.140625 \nQ 55.078125 64.0625 55.078125 55.328125 \nQ 55.078125 49.078125 51.53125 44.71875 \nQ 48 40.375 41.703125 38.8125 \nQ 48.828125 37.15625 52.796875 32.3125 \nQ 56.78125 27.484375 56.78125 20.515625 \nQ 56.78125 9.90625 50.3125 4.234375 \nQ 43.84375 -1.421875 31.78125 -1.421875 \nQ 19.734375 -1.421875 13.25 4.234375 \nQ 6.78125 9.90625 6.78125 20.515625 \nQ 6.78125 27.484375 10.78125 32.3125 \nQ 14.796875 37.15625 21.921875 38.8125 \nz\nM 18.3125 54.390625 \nQ 18.3125 48.734375 21.84375 45.5625 \nQ 25.390625 42.390625 31.78125 42.390625 \nQ 38.140625 42.390625 41.71875 45.5625 \nQ 45.3125 48.734375 45.3125 54.390625 \nQ 45.3125 60.0625 41.71875 63.234375 \nQ 38.140625 66.40625 31.78125 66.40625 \nQ 25.390625 66.40625 21.84375 63.234375 \nQ 18.3125 60.0625 18.3125 54.390625 \nz\n\" id=\"DejaVuSans-56\"/>\n       </defs>\n       <use xlink:href=\"#DejaVuSans-48\"/>\n       <use x=\"63.623047\" xlink:href=\"#DejaVuSans-46\"/>\n       <use x=\"95.410156\" xlink:href=\"#DejaVuSans-56\"/>\n       <use x=\"159.033203\" xlink:href=\"#DejaVuSans-48\"/>\n      </g>\n     </g>\n    </g>\n    <g id=\"ytick_3\">\n     <g id=\"line2d_3\">\n      <path clip-path=\"url(#pebdc856ec3)\" d=\"M 50.14375 235.226283 \nL 561.29375 235.226283 \n\" style=\"fill:none;stroke:#cccccc;stroke-linecap:round;stroke-width:0.8;\"/>\n     </g>\n     <g id=\"text_7\">\n      <!-- 0.85 -->\n      <g style=\"fill:#262626;\" transform=\"translate(20.878125 239.025502)scale(0.1 -0.1)\">\n       <use xlink:href=\"#DejaVuSans-48\"/>\n       <use x=\"63.623047\" xlink:href=\"#DejaVuSans-46\"/>\n       <use x=\"95.410156\" xlink:href=\"#DejaVuSans-56\"/>\n       <use x=\"159.033203\" xlink:href=\"#DejaVuSans-53\"/>\n      </g>\n     </g>\n    </g>\n    <g id=\"ytick_4\">\n     <g id=\"line2d_4\">\n      <path clip-path=\"url(#pebdc856ec3)\" d=\"M 50.14375 160.483928 \nL 561.29375 160.483928 \n\" style=\"fill:none;stroke:#cccccc;stroke-linecap:round;stroke-width:0.8;\"/>\n     </g>\n     <g id=\"text_8\">\n      <!-- 0.90 -->\n      <g style=\"fill:#262626;\" transform=\"translate(20.878125 164.283147)scale(0.1 -0.1)\">\n       <defs>\n        <path d=\"M 10.984375 1.515625 \nL 10.984375 10.5 \nQ 14.703125 8.734375 18.5 7.8125 \nQ 22.3125 6.890625 25.984375 6.890625 \nQ 35.75 6.890625 40.890625 13.453125 \nQ 46.046875 20.015625 46.78125 33.40625 \nQ 43.953125 29.203125 39.59375 26.953125 \nQ 35.25 24.703125 29.984375 24.703125 \nQ 19.046875 24.703125 12.671875 31.3125 \nQ 6.296875 37.9375 6.296875 49.421875 \nQ 6.296875 60.640625 12.9375 67.421875 \nQ 19.578125 74.21875 30.609375 74.21875 \nQ 43.265625 74.21875 49.921875 64.515625 \nQ 56.59375 54.828125 56.59375 36.375 \nQ 56.59375 19.140625 48.40625 8.859375 \nQ 40.234375 -1.421875 26.421875 -1.421875 \nQ 22.703125 -1.421875 18.890625 -0.6875 \nQ 15.09375 0.046875 10.984375 1.515625 \nz\nM 30.609375 32.421875 \nQ 37.25 32.421875 41.125 36.953125 \nQ 45.015625 41.5 45.015625 49.421875 \nQ 45.015625 57.28125 41.125 61.84375 \nQ 37.25 66.40625 30.609375 66.40625 \nQ 23.96875 66.40625 20.09375 61.84375 \nQ 16.21875 57.28125 16.21875 49.421875 \nQ 16.21875 41.5 20.09375 36.953125 \nQ 23.96875 32.421875 30.609375 32.421875 \nz\n\" id=\"DejaVuSans-57\"/>\n       </defs>\n       <use xlink:href=\"#DejaVuSans-48\"/>\n       <use x=\"63.623047\" xlink:href=\"#DejaVuSans-46\"/>\n       <use x=\"95.410156\" xlink:href=\"#DejaVuSans-57\"/>\n       <use x=\"159.033203\" xlink:href=\"#DejaVuSans-48\"/>\n      </g>\n     </g>\n    </g>\n    <g id=\"ytick_5\">\n     <g id=\"line2d_5\">\n      <path clip-path=\"url(#pebdc856ec3)\" d=\"M 50.14375 85.741573 \nL 561.29375 85.741573 \n\" style=\"fill:none;stroke:#cccccc;stroke-linecap:round;stroke-width:0.8;\"/>\n     </g>\n     <g id=\"text_9\">\n      <!-- 0.95 -->\n      <g style=\"fill:#262626;\" transform=\"translate(20.878125 89.540792)scale(0.1 -0.1)\">\n       <use xlink:href=\"#DejaVuSans-48\"/>\n       <use x=\"63.623047\" xlink:href=\"#DejaVuSans-46\"/>\n       <use x=\"95.410156\" xlink:href=\"#DejaVuSans-57\"/>\n       <use x=\"159.033203\" xlink:href=\"#DejaVuSans-53\"/>\n      </g>\n     </g>\n    </g>\n    <g id=\"ytick_6\">\n     <g id=\"line2d_6\">\n      <path clip-path=\"url(#pebdc856ec3)\" d=\"M 50.14375 10.999219 \nL 561.29375 10.999219 \n\" style=\"fill:none;stroke:#cccccc;stroke-linecap:round;stroke-width:0.8;\"/>\n     </g>\n     <g id=\"text_10\">\n      <!-- 1.00 -->\n      <g style=\"fill:#262626;\" transform=\"translate(20.878125 14.798438)scale(0.1 -0.1)\">\n       <defs>\n        <path d=\"M 12.40625 8.296875 \nL 28.515625 8.296875 \nL 28.515625 63.921875 \nL 10.984375 60.40625 \nL 10.984375 69.390625 \nL 28.421875 72.90625 \nL 38.28125 72.90625 \nL 38.28125 8.296875 \nL 54.390625 8.296875 \nL 54.390625 0 \nL 12.40625 0 \nz\n\" id=\"DejaVuSans-49\"/>\n       </defs>\n       <use xlink:href=\"#DejaVuSans-49\"/>\n       <use x=\"63.623047\" xlink:href=\"#DejaVuSans-46\"/>\n       <use x=\"95.410156\" xlink:href=\"#DejaVuSans-48\"/>\n       <use x=\"159.033203\" xlink:href=\"#DejaVuSans-48\"/>\n      </g>\n     </g>\n    </g>\n    <g id=\"text_11\">\n     <!-- accuracy -->\n     <g style=\"fill:#262626;\" transform=\"translate(14.798438 220.41448)rotate(-90)scale(0.1 -0.1)\">\n      <defs>\n       <path d=\"M 48.78125 52.59375 \nL 48.78125 44.1875 \nQ 44.96875 46.296875 41.140625 47.34375 \nQ 37.3125 48.390625 33.40625 48.390625 \nQ 24.65625 48.390625 19.8125 42.84375 \nQ 14.984375 37.3125 14.984375 27.296875 \nQ 14.984375 17.28125 19.8125 11.734375 \nQ 24.65625 6.203125 33.40625 6.203125 \nQ 37.3125 6.203125 41.140625 7.25 \nQ 44.96875 8.296875 48.78125 10.40625 \nL 48.78125 2.09375 \nQ 45.015625 0.34375 40.984375 -0.53125 \nQ 36.96875 -1.421875 32.421875 -1.421875 \nQ 20.0625 -1.421875 12.78125 6.34375 \nQ 5.515625 14.109375 5.515625 27.296875 \nQ 5.515625 40.671875 12.859375 48.328125 \nQ 20.21875 56 33.015625 56 \nQ 37.15625 56 41.109375 55.140625 \nQ 45.0625 54.296875 48.78125 52.59375 \nz\n\" id=\"DejaVuSans-99\"/>\n       <path d=\"M 32.171875 -5.078125 \nQ 28.375 -14.84375 24.75 -17.8125 \nQ 21.140625 -20.796875 15.09375 -20.796875 \nL 7.90625 -20.796875 \nL 7.90625 -13.28125 \nL 13.1875 -13.28125 \nQ 16.890625 -13.28125 18.9375 -11.515625 \nQ 21 -9.765625 23.484375 -3.21875 \nL 25.09375 0.875 \nL 2.984375 54.6875 \nL 12.5 54.6875 \nL 29.59375 11.921875 \nL 46.6875 54.6875 \nL 56.203125 54.6875 \nz\n\" id=\"DejaVuSans-121\"/>\n      </defs>\n      <use xlink:href=\"#DejaVuSans-97\"/>\n      <use x=\"61.279297\" xlink:href=\"#DejaVuSans-99\"/>\n      <use x=\"116.259766\" xlink:href=\"#DejaVuSans-99\"/>\n      <use x=\"171.240234\" xlink:href=\"#DejaVuSans-117\"/>\n      <use x=\"234.619141\" xlink:href=\"#DejaVuSans-114\"/>\n      <use x=\"275.732422\" xlink:href=\"#DejaVuSans-97\"/>\n      <use x=\"337.011719\" xlink:href=\"#DejaVuSans-99\"/>\n      <use x=\"391.992188\" xlink:href=\"#DejaVuSans-121\"/>\n     </g>\n    </g>\n   </g>\n   <g id=\"patch_3\">\n    <path clip-path=\"url(#pebdc856ec3)\" d=\"M 67.182083 145.048007 \nL 203.48875 145.048007 \nL 203.48875 104.427162 \nL 67.182083 104.427162 \nL 67.182083 145.048007 \nz\n\" style=\"fill:#493326;stroke:#212121;stroke-linejoin:miter;stroke-width:1.5;\"/>\n   </g>\n   <g id=\"patch_4\">\n    <path clip-path=\"url(#pebdc856ec3)\" d=\"M 237.565417 319.71764 \nL 373.872083 319.71764 \nL 373.872083 205.979274 \nL 237.565417 205.979274 \nL 237.565417 319.71764 \nz\n\" style=\"fill:#92674b;stroke:#212121;stroke-linejoin:miter;stroke-width:1.5;\"/>\n   </g>\n   <g id=\"patch_5\">\n    <path clip-path=\"url(#pebdc856ec3)\" d=\"M 407.94875 145.048007 \nL 544.255417 145.048007 \nL 544.255417 92.240909 \nL 407.94875 92.240909 \nL 407.94875 145.048007 \nz\n\" style=\"fill:#db9a71;stroke:#212121;stroke-linejoin:miter;stroke-width:1.5;\"/>\n   </g>\n   <g id=\"line2d_7\">\n    <path clip-path=\"url(#pebdc856ec3)\" d=\"M 135.335417 145.048007 \nL 135.335417 189.730936 \n\" style=\"fill:none;stroke:#212121;stroke-linecap:round;stroke-width:1.5;\"/>\n   </g>\n   <g id=\"line2d_8\">\n    <path clip-path=\"url(#pebdc856ec3)\" d=\"M 135.335417 104.427162 \nL 135.335417 75.992571 \n\" style=\"fill:none;stroke:#212121;stroke-linecap:round;stroke-width:1.5;\"/>\n   </g>\n   <g id=\"line2d_9\">\n    <path clip-path=\"url(#pebdc856ec3)\" d=\"M 101.25875 189.730936 \nL 169.412083 189.730936 \n\" style=\"fill:none;stroke:#212121;stroke-linecap:round;stroke-width:1.5;\"/>\n   </g>\n   <g id=\"line2d_10\">\n    <path clip-path=\"url(#pebdc856ec3)\" d=\"M 101.25875 75.992571 \nL 169.412083 75.992571 \n\" style=\"fill:none;stroke:#212121;stroke-linecap:round;stroke-width:1.5;\"/>\n   </g>\n   <g id=\"line2d_11\">\n    <defs>\n     <path d=\"M -0 3.535534 \nL 2.12132 0 \nL -0 -3.535534 \nL -2.12132 -0 \nz\n\" id=\"mfd519e8693\" style=\"stroke:#212121;stroke-linejoin:miter;\"/>\n    </defs>\n    <g clip-path=\"url(#pebdc856ec3)\">\n     <use style=\"fill:#212121;stroke:#212121;stroke-linejoin:miter;\" x=\"135.335417\" xlink:href=\"#mfd519e8693\" y=\"238.47595\"/>\n     <use style=\"fill:#212121;stroke:#212121;stroke-linejoin:miter;\" x=\"135.335417\" xlink:href=\"#mfd519e8693\" y=\"205.979274\"/>\n     <use style=\"fill:#212121;stroke:#212121;stroke-linejoin:miter;\" x=\"135.335417\" xlink:href=\"#mfd519e8693\" y=\"205.979274\"/>\n     <use style=\"fill:#212121;stroke:#212121;stroke-linejoin:miter;\" x=\"135.335417\" xlink:href=\"#mfd519e8693\" y=\"43.495895\"/>\n    </g>\n   </g>\n   <g id=\"line2d_12\">\n    <path clip-path=\"url(#pebdc856ec3)\" d=\"M 305.71875 319.71764 \nL 305.71875 368.462654 \n\" style=\"fill:none;stroke:#212121;stroke-linecap:round;stroke-width:1.5;\"/>\n   </g>\n   <g id=\"line2d_13\">\n    <path clip-path=\"url(#pebdc856ec3)\" d=\"M 305.71875 205.979274 \nL 305.71875 157.23426 \n\" style=\"fill:none;stroke:#212121;stroke-linecap:round;stroke-width:1.5;\"/>\n   </g>\n   <g id=\"line2d_14\">\n    <path clip-path=\"url(#pebdc856ec3)\" d=\"M 271.642083 368.462654 \nL 339.795417 368.462654 \n\" style=\"fill:none;stroke:#212121;stroke-linecap:round;stroke-width:1.5;\"/>\n   </g>\n   <g id=\"line2d_15\">\n    <path clip-path=\"url(#pebdc856ec3)\" d=\"M 271.642083 157.23426 \nL 339.795417 157.23426 \n\" style=\"fill:none;stroke:#212121;stroke-linecap:round;stroke-width:1.5;\"/>\n   </g>\n   <g id=\"line2d_16\"/>\n   <g id=\"line2d_17\">\n    <path clip-path=\"url(#pebdc856ec3)\" d=\"M 476.102083 145.048007 \nL 476.102083 205.979274 \n\" style=\"fill:none;stroke:#212121;stroke-linecap:round;stroke-width:1.5;\"/>\n   </g>\n   <g id=\"line2d_18\">\n    <path clip-path=\"url(#pebdc856ec3)\" d=\"M 476.102083 92.240909 \nL 476.102083 27.247557 \n\" style=\"fill:none;stroke:#212121;stroke-linecap:round;stroke-width:1.5;\"/>\n   </g>\n   <g id=\"line2d_19\">\n    <path clip-path=\"url(#pebdc856ec3)\" d=\"M 442.025417 205.979274 \nL 510.17875 205.979274 \n\" style=\"fill:none;stroke:#212121;stroke-linecap:round;stroke-width:1.5;\"/>\n   </g>\n   <g id=\"line2d_20\">\n    <path clip-path=\"url(#pebdc856ec3)\" d=\"M 442.025417 27.247557 \nL 510.17875 27.247557 \n\" style=\"fill:none;stroke:#212121;stroke-linecap:round;stroke-width:1.5;\"/>\n   </g>\n   <g id=\"line2d_21\">\n    <g clip-path=\"url(#pebdc856ec3)\">\n     <use style=\"fill:#212121;stroke:#212121;stroke-linejoin:miter;\" x=\"476.102083\" xlink:href=\"#mfd519e8693\" y=\"238.47595\"/>\n    </g>\n   </g>\n   <g id=\"line2d_22\">\n    <path clip-path=\"url(#pebdc856ec3)\" d=\"M 67.182083 124.737585 \nL 203.48875 124.737585 \n\" style=\"fill:none;stroke:#212121;stroke-linecap:round;stroke-width:1.5;\"/>\n   </g>\n   <g id=\"line2d_23\">\n    <path clip-path=\"url(#pebdc856ec3)\" d=\"M 237.565417 254.724288 \nL 373.872083 254.724288 \n\" style=\"fill:none;stroke:#212121;stroke-linecap:round;stroke-width:1.5;\"/>\n   </g>\n   <g id=\"line2d_24\">\n    <path clip-path=\"url(#pebdc856ec3)\" d=\"M 407.94875 116.613416 \nL 544.255417 116.613416 \n\" style=\"fill:none;stroke:#212121;stroke-linecap:round;stroke-width:1.5;\"/>\n   </g>\n   <g id=\"patch_6\">\n    <path d=\"M 50.14375 385.523409 \nL 50.14375 10.186802 \n\" style=\"fill:none;stroke:#cccccc;stroke-linecap:square;stroke-linejoin:miter;stroke-width:0.8;\"/>\n   </g>\n   <g id=\"patch_7\">\n    <path d=\"M 50.14375 385.523409 \nL 561.29375 385.523409 \n\" style=\"fill:none;stroke:#cccccc;stroke-linecap:square;stroke-linejoin:miter;stroke-width:0.8;\"/>\n   </g>\n  </g>\n </g>\n <defs>\n  <clipPath id=\"pebdc856ec3\">\n   <rect height=\"375.336607\" width=\"511.15\" x=\"50.14375\" y=\"10.186802\"/>\n  </clipPath>\n </defs>\n</svg>\n",
      "image/png": "[encoded data removed]"
     },
     "metadata": {}
    }
   ],
   "metadata": {}
  },
  {
   "cell_type": "markdown",
   "source": [
    "# Best Random Forest"
   ],
   "metadata": {}
  },
  {
   "cell_type": "markdown",
   "source": [
    "So Now we have identified best random Forest , lets see how its various performance are."
   ],
   "metadata": {}
  },
  {
   "cell_type": "markdown",
   "source": [
    "## Load Data"
   ],
   "metadata": {}
  },
  {
   "cell_type": "code",
   "execution_count": 17,
   "source": [
    "data =  pd.read_csv('processed_data/train_norm_median' , index_col = 0)\n",
    "np.random.seed(433)\n",
    "data = data.sample(frac=1).reset_index(drop=True)\n",
    "data_label = data['class']\n",
    "x = data.copy().reset_index(drop=True)\n",
    "y = data_label.copy().reset_index(drop=True)\n",
    "x_train, x_test , y_train , y_test = train_test_split(x,y , test_size=0.2 , stratify=y)\n",
    "\n",
    "\n",
    "#x_train ,x_test = src_split(x)\n",
    "id_train = x_train['src_id'].reset_index(drop=True)\n",
    "id_test = x_test['src_id'].reset_index(drop=True)\n",
    "n_train = x_train['src_n'].reset_index(drop=True)\n",
    "n_test = x_test['src_n'].reset_index(drop=True)\n",
    "y_train = x_train['class'].reset_index(drop=True)\n",
    "y_test = x_test['class'].reset_index(drop=True)\n",
    "x_train = x_train.drop(columns=[  'class' , 'src_n' ,'src_id' ,'significance' ,  ]).reset_index(drop=True)\n",
    "x_test = x_test.drop(columns=[  'class' , 'src_n' ,'src_id' ,'significance', ]).reset_index(drop=True)\n"
   ],
   "outputs": [],
   "metadata": {}
  },
  {
   "cell_type": "markdown",
   "source": [
    "## Train and save model"
   ],
   "metadata": {}
  },
  {
   "cell_type": "code",
   "execution_count": 18,
   "source": [
    "clf = RandomForestClassifier(n_estimators=340 ,\n",
    "        min_samples_split = 5 ,\n",
    "        min_samples_leaf = 2 , \n",
    "        max_depth = 43 , \n",
    "        bootstrap=False , \n",
    "        max_features = 'sqrt',\n",
    "        random_state=89\n",
    "        )\n",
    "#clf = RandomForestClassifier(n_estimators=300)\n",
    "clf.fit(x_train , y_train)\n"
   ],
   "outputs": [
    {
     "output_type": "execute_result",
     "data": {
      "text/plain": [
       "RandomForestClassifier(bootstrap=False, max_depth=43, max_features='sqrt',\n",
       "                       min_samples_leaf=2, min_samples_split=5,\n",
       "                       n_estimators=340, random_state=89)"
      ]
     },
     "metadata": {},
     "execution_count": 18
    }
   ],
   "metadata": {}
  },
  {
   "cell_type": "code",
   "execution_count": 19,
   "source": [
    "print(clf.score(x_test , y_test))\n",
    "\n",
    "cf = confusion_matrix(y_test , clf.predict(x_test))\n",
    "print(cf)"
   ],
   "outputs": [
    {
     "output_type": "stream",
     "name": "stdout",
     "text": [
      "0.9239130434782609\n",
      "[[28  4]\n",
      " [ 3 57]]\n"
     ]
    }
   ],
   "metadata": {}
  },
  {
   "cell_type": "code",
   "execution_count": null,
   "source": [],
   "outputs": [],
   "metadata": {}
  },
  {
   "cell_type": "markdown",
   "source": [
    "## Feature Importace"
   ],
   "metadata": {}
  },
  {
   "cell_type": "code",
   "execution_count": 54,
   "source": [
    "feat_imp = clf.feature_importances_\n",
    "feat_names = x_train.columns.to_list()\n",
    "feat = pd.DataFrame()\n",
    "feat.insert( 0 , 'feat_name' , feat_names)\n",
    "feat.insert(1 , 'feat_imp' , feat_imp)\n",
    "feat = feat.sort_values(by = 'feat_imp' , ascending=False).reset_index(drop=True)\n",
    "feat_names_sorted = feat['feat_name']\n",
    "display(feat)\n",
    "feat.to_csv('result/feat_imp.csv')"
   ],
   "outputs": [
    {
     "output_type": "display_data",
     "data": {
      "text/plain": [
       "                feat_name  feat_imp\n",
       "0         var_inter_index  0.116844\n",
       "1          var_inter_prob  0.098465\n",
       "2         photflux_aper_u  0.048618\n",
       "3         var_inter_sigma  0.043734\n",
       "4   photflux_aper_hilim_u  0.038030\n",
       "..                    ...       ...\n",
       "87                bb_stat  0.000537\n",
       "88            bb_nh_hilim  0.000342\n",
       "89          flux_bb_lolim  0.000243\n",
       "90                  bb_nh  0.000122\n",
       "91            bb_nh_lolim  0.000073\n",
       "\n",
       "[92 rows x 2 columns]"
      ],
      "text/html": [
       "<div>\n",
       "<style scoped>\n",
       "    .dataframe tbody tr th:only-of-type {\n",
       "        vertical-align: middle;\n",
       "    }\n",
       "\n",
       "    .dataframe tbody tr th {\n",
       "        vertical-align: top;\n",
       "    }\n",
       "\n",
       "    .dataframe thead th {\n",
       "        text-align: right;\n",
       "    }\n",
       "</style>\n",
       "<table border=\"1\" class=\"dataframe\">\n",
       "  <thead>\n",
       "    <tr style=\"text-align: right;\">\n",
       "      <th></th>\n",
       "      <th>feat_name</th>\n",
       "      <th>feat_imp</th>\n",
       "    </tr>\n",
       "  </thead>\n",
       "  <tbody>\n",
       "    <tr>\n",
       "      <th>0</th>\n",
       "      <td>var_inter_index</td>\n",
       "      <td>0.116844</td>\n",
       "    </tr>\n",
       "    <tr>\n",
       "      <th>1</th>\n",
       "      <td>var_inter_prob</td>\n",
       "      <td>0.098465</td>\n",
       "    </tr>\n",
       "    <tr>\n",
       "      <th>2</th>\n",
       "      <td>photflux_aper_u</td>\n",
       "      <td>0.048618</td>\n",
       "    </tr>\n",
       "    <tr>\n",
       "      <th>3</th>\n",
       "      <td>var_inter_sigma</td>\n",
       "      <td>0.043734</td>\n",
       "    </tr>\n",
       "    <tr>\n",
       "      <th>4</th>\n",
       "      <td>photflux_aper_hilim_u</td>\n",
       "      <td>0.038030</td>\n",
       "    </tr>\n",
       "    <tr>\n",
       "      <th>...</th>\n",
       "      <td>...</td>\n",
       "      <td>...</td>\n",
       "    </tr>\n",
       "    <tr>\n",
       "      <th>87</th>\n",
       "      <td>bb_stat</td>\n",
       "      <td>0.000537</td>\n",
       "    </tr>\n",
       "    <tr>\n",
       "      <th>88</th>\n",
       "      <td>bb_nh_hilim</td>\n",
       "      <td>0.000342</td>\n",
       "    </tr>\n",
       "    <tr>\n",
       "      <th>89</th>\n",
       "      <td>flux_bb_lolim</td>\n",
       "      <td>0.000243</td>\n",
       "    </tr>\n",
       "    <tr>\n",
       "      <th>90</th>\n",
       "      <td>bb_nh</td>\n",
       "      <td>0.000122</td>\n",
       "    </tr>\n",
       "    <tr>\n",
       "      <th>91</th>\n",
       "      <td>bb_nh_lolim</td>\n",
       "      <td>0.000073</td>\n",
       "    </tr>\n",
       "  </tbody>\n",
       "</table>\n",
       "<p>92 rows × 2 columns</p>\n",
       "</div>"
      ]
     },
     "metadata": {}
    }
   ],
   "metadata": {}
  },
  {
   "cell_type": "markdown",
   "source": [
    "## Bake Result"
   ],
   "metadata": {}
  },
  {
   "cell_type": "markdown",
   "source": [
    "### Function"
   ],
   "metadata": {}
  },
  {
   "cell_type": "code",
   "execution_count": 130,
   "source": [
    "def create_res_data(x , y , id , n , cl_type):\n",
    "    pred = clf.predict(x)\n",
    "    pred_prob = np.asarray(clf.predict_proba(x))\n",
    "    pred_prob_bh = pred_prob[:,0]\n",
    "    pred_prob_ns = pred_prob[:,1]\n",
    "    pred_prob = [np.amax(pi) for pi in pred_prob]\n",
    "\n",
    "    res =  x[feat_names_sorted].copy().reset_index(drop=True)\n",
    "    res.insert(0 , 'clf_type' , [cl_type]*len(res))\n",
    "    res.insert(0 , 'src_id' , id)\n",
    "    res.insert(1, 'src_n' , n)\n",
    "    res.insert(2 , 'true_class' , y)\n",
    "    res.insert(3 ,'pred_class' , pred)\n",
    "    res.insert(4 , 'pred_prob' , pred_prob)\n",
    "    res.insert(5 , 'BH_prob' , pred_prob_bh)\n",
    "    res.insert(6 , 'NS_prob' , pred_prob_ns)\n",
    "    truth = []\n",
    "    th_class = [] \n",
    "    is_ok = [] \n",
    "    for tc , pc , pp in zip(res['true_class'] , res['pred_class'] , res['pred_prob']):\n",
    "        if(tc==pc): is_ok.append(1)\n",
    "        else: is_ok.append(0)\n",
    "        if(pp > 0.80):\n",
    "            th_class.append(pc)\n",
    "            if(tc==pc):\n",
    "                truth.append(1)\n",
    "            else: truth.append(0)\n",
    "        else :\n",
    "            truth.append(2)\n",
    "            th_class.append('X')\n",
    "    res.insert(5 , 'th_class' , th_class )\n",
    "    res.insert(6 , 'truth' , truth)\n",
    "    res.insert(6 , 'is_ok' , is_ok)\n",
    "    #display(res)\n",
    "    return res\n"
   ],
   "outputs": [],
   "metadata": {}
  },
  {
   "cell_type": "markdown",
   "source": [
    "### Bake it"
   ],
   "metadata": {}
  },
  {
   "cell_type": "code",
   "execution_count": 131,
   "source": [
    "\n",
    "train_res = create_res_data(x_train , y_train , id_train , n_train , cl_type='train')\n",
    "test_res = create_res_data(x_test , y_test , id_test , n_test , cl_type='test')\n",
    "#train_res.to_csv('result/train_res_rf.csv')\n",
    "#test_res.to_csv('result/test_res_rf.csv')\n",
    "res_data = pd.concat([train_res , test_res]).reset_index(drop=True)\n",
    "res_data.to_csv('result/res_rf_tuned_median.csv')"
   ],
   "outputs": [],
   "metadata": {}
  },
  {
   "cell_type": "code",
   "execution_count": null,
   "source": [],
   "outputs": [],
   "metadata": {}
  }
 ],
 "metadata": {
  "orig_nbformat": 4,
  "language_info": {
   "name": "python",
   "version": "3.6.9",
   "mimetype": "text/x-python",
   "codemirror_mode": {
    "name": "ipython",
    "version": 3
   },
   "pygments_lexer": "ipython3",
   "nbconvert_exporter": "python",
   "file_extension": ".py"
  },
  "kernelspec": {
   "name": "python3",
   "display_name": "Python 3.6.9 64-bit"
  },
  "interpreter": {
   "hash": "31f2aee4e71d21fbe5cf8b01ff0e069b9275f58929596ceb00d14d90e3e16cd6"
  }
 },
 "nbformat": 4,
 "nbformat_minor": 2
}