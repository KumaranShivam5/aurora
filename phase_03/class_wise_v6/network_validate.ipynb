{
  "nbformat": 4,
  "nbformat_minor": 0,
  "metadata": {
    "colab": {
      "name": "network_validation.ipynb",
      "provenance": [],
      "collapsed_sections": []
    },
    "kernelspec": {
      "name": "python3",
      "display_name": "Python 3"
    },
    "language_info": {
      "name": "python"
    }
  },
  "cells": [
    {
      "cell_type": "code",
      "metadata": {
        "id": "epzlwXIU8YAJ"
      },
      "source": [
        "import tensorflow as tf \n",
        "from tensorflow import keras \n",
        "from tensorflow.keras import layers\n",
        "from tensorflow.keras.utils import to_categorical"
      ],
      "execution_count": 21,
      "outputs": []
    },
    {
      "cell_type": "code",
      "metadata": {
        "id": "AL8oDv0z86BA"
      },
      "source": [
        "import numpy as np \n",
        "import pandas as pd \n",
        "from matplotlib import pyplot as plt \n",
        "np.random.seed(91828)\n"
      ],
      "execution_count": 22,
      "outputs": []
    },
    {
      "cell_type": "code",
      "metadata": {
        "id": "xN1dnTIo8-RS"
      },
      "source": [
        "def class_to_int(label , cl):\n",
        "    temp = []\n",
        "    for i in range(len(label)):\n",
        "        #print(label[i])\n",
        "        for j in range(len(cl)):\n",
        "            if(label[i]==cl[j]):\n",
        "                temp.append(j) \n",
        "    return temp\n",
        "classes = ['BH' ,'NS' ]\n",
        "ns_n = 0 \n",
        "bh_n = 0\n"
      ],
      "execution_count": 23,
      "outputs": []
    },
    {
      "cell_type": "code",
      "metadata": {
        "id": "FMkGtbNx9GLS"
      },
      "source": [
        "\n",
        "def get_xy(data):\n",
        "    y = data['class']\n",
        "    s = data['significance']\n",
        "    info = data[['src_n' , 'src_id']]\n",
        "    x = data.drop(columns=[ 'class' ,'src_n' ,'src_id' , 'significance'])\n",
        "    #display(x)\n",
        "    y_train_int = class_to_int(y, classes)\n",
        "    one_hot_y_train =  to_categorical(y_train_int)\n",
        "    global ns_n \n",
        "    global bh_n\n",
        "    ns_n = float(y.value_counts()['NS']) \n",
        "    bh_n =  float(y.value_counts()['BH'])    \n",
        "    print(ns_n , bh_n)\n",
        "    return x , one_hot_y_train"
      ],
      "execution_count": 24,
      "outputs": []
    },
    {
      "cell_type": "code",
      "metadata": {
        "id": "tTfUJrBu9dHU"
      },
      "source": [
        "def fit_model(model , x_train , one_hot_y_train , verbose=0 , validation=0.2):\n",
        "    global ns_n \n",
        "    global bh_n \n",
        "    class_weight = {0: (ns_n/bh_n),\n",
        "                    1: 1}\n",
        "    history = model.fit(x_train, one_hot_y_train, batch_size=64, epochs=120, validation_split=validation, class_weight=class_weight, verbose=verbose )\n",
        "    return history"
      ],
      "execution_count": 25,
      "outputs": []
    },
    {
      "cell_type": "code",
      "metadata": {
        "id": "3ai-NNb-9e0B"
      },
      "source": [
        "def res_score(model , x , y ):\n",
        "    y_prob = model.predict(x)\n",
        "    y_pred = np.zeros_like(y_prob)\n",
        "    y_pred[np.arange(len(y_prob)), y_prob.argmax(1)] = 1\n",
        "    cf = np.matrix(np.matmul(y.T , y_pred))\n",
        "    total = cf.sum()\n",
        "    row_sum = cf.sum(axis=0)\n",
        "    acc = np.trace(cf) / total \n",
        "    col_sum = cf.sum(axis=1) \n",
        "    #print(cf)\n",
        "    return cf , acc\n",
        "\n",
        "\n",
        "#_ , score = res_score(model , x , one_hot_y_train)\n",
        "#print(score)"
      ],
      "execution_count": 26,
      "outputs": []
    },
    {
      "cell_type": "code",
      "metadata": {
        "id": "7pKgD1Xv9xQn"
      },
      "source": [
        "from tqdm import tqdm\n",
        "def mc_validation(model_func , x , y , s=0.8 , model_name = '' , d_type = ''):\n",
        "    from sklearn.model_selection import KFold\n",
        "    kfold = KFold(8, True, 1)\n",
        "    #k-fold cross-validation\n",
        "    train_acc = []\n",
        "    test_acc = []\n",
        "    #s =  int(len(x)*s)\n",
        "    x = np.array(x)\n",
        "    y = np.array(y)\n",
        "    index = np.arange(0,len(x))\n",
        "    split_no = int(len(x)*s)\n",
        "    print('split_no' , split_no)\n",
        "    for i in tqdm(range(32)):\n",
        "        np.random.shuffle(index)\n",
        "        train_in ,test_in = index[:split_no] , index[split_no:]\n",
        "        #print('-------------')\n",
        "        #print(len(train_in ) , len(test_in))\n",
        "        xtr  , ytr = x[train_in] , y[train_in]\n",
        "        xtst , ytst = x[test_in] , y[test_in]\n",
        "        model = model_func()\n",
        "        fit_model(model , xtr , ytr , validation=0)\n",
        "        _,train_acc_temp = res_score(model , xtr , ytr)\n",
        "        _,test_acc_temp = res_score(model , xtst , ytst)\n",
        "        train_acc.append(train_acc_temp)\n",
        "        test_acc.append(test_acc_temp)\n",
        "        print('-----------------------------------')\n",
        "        print('training_acc :' , train_acc_temp)\n",
        "        print('test_acc :' , test_acc_temp)\n",
        "    acc_train =  pd.DataFrame()\n",
        "    acc_test = pd.DataFrame()\n",
        "\n",
        "    \n",
        "    acc_test.insert(0 , 'acc_type' , ['Test_acc']*len(train_acc))\n",
        "    acc_test.insert(1 , 'accuracy' , test_acc)\n",
        "    acc_test = acc_test.reset_index(drop=True)\n",
        "   \n",
        "    acc_train.insert(0 , 'acc_type' , ['Train_acc']*len(train_acc))\n",
        "    acc_train.insert(1 , 'accuracy' , train_acc)\n",
        "    acc_train = acc_train.reset_index(drop=True)\n",
        "\n",
        "    acc = pd.concat([acc_train , acc_test]).reset_index(drop=True)\n",
        "    acc.insert(0 , 'model' , [model_name]*len(acc))\n",
        "    acc.insert(1 , 'data_processing' , [d_type]*len(acc))\n",
        "    return acc\n"
      ],
      "execution_count": 27,
      "outputs": []
    },
    {
      "cell_type": "markdown",
      "metadata": {
        "id": "lWvUdFzX_E14"
      },
      "source": [
        "## Load Data"
      ]
    },
    {
      "cell_type": "code",
      "metadata": {
        "colab": {
          "base_uri": "https://localhost:8080/",
          "height": 1000
        },
        "id": "f4Vm4uL-_MOT",
        "outputId": "8263ec0a-b334-4a79-fe5f-baade9693d40"
      },
      "source": [
        "data = pd.read_csv('/content/drive/MyDrive/thesis_data/train_norm' , index_col=0).reset_index(drop=True)\n",
        "data = data.sample(frac=1)\n",
        "data = data.reset_index(drop=True)\n",
        "display(data.describe())\n",
        "x_norm , y_norm = get_xy(data)\n",
        "\n",
        "data = pd.read_csv('/content/drive/MyDrive/thesis_data/train_std' , index_col=0).reset_index(drop=True)\n",
        "data = data.sample(frac=1)\n",
        "data = data.reset_index(drop=True)\n",
        "display(data.describe())\n",
        "x_std , y_std = get_xy(data) \n",
        "\n",
        "data = pd.read_csv('/content/drive/MyDrive/thesis_data/train_og' , index_col=0).reset_index(drop=True)\n",
        "data = data.sample(frac=1)\n",
        "data = data.reset_index(drop=True)\n",
        "display(data.describe())\n",
        "x_og , y_og = get_xy(data)"
      ],
      "execution_count": 28,
      "outputs": [
        {
          "output_type": "display_data",
          "data": {
            "text/html": [
              "<div>\n",
              "<style scoped>\n",
              "    .dataframe tbody tr th:only-of-type {\n",
              "        vertical-align: middle;\n",
              "    }\n",
              "\n",
              "    .dataframe tbody tr th {\n",
              "        vertical-align: top;\n",
              "    }\n",
              "\n",
              "    .dataframe thead th {\n",
              "        text-align: right;\n",
              "    }\n",
              "</style>\n",
              "<table border=\"1\" class=\"dataframe\">\n",
              "  <thead>\n",
              "    <tr style=\"text-align: right;\">\n",
              "      <th></th>\n",
              "      <th>significance</th>\n",
              "      <th>flux_aper_hilim_s</th>\n",
              "      <th>flux_aper_hilim_u</th>\n",
              "      <th>flux_aper_hilim_m</th>\n",
              "      <th>flux_aper_hilim_h</th>\n",
              "      <th>flux_aper_hilim_b</th>\n",
              "      <th>flux_aper_lolim_s</th>\n",
              "      <th>flux_aper_lolim_u</th>\n",
              "      <th>flux_aper_lolim_m</th>\n",
              "      <th>flux_aper_lolim_h</th>\n",
              "      <th>flux_aper_lolim_b</th>\n",
              "      <th>flux_aper_s</th>\n",
              "      <th>flux_aper_u</th>\n",
              "      <th>flux_aper_m</th>\n",
              "      <th>flux_aper_h</th>\n",
              "      <th>flux_aper_b</th>\n",
              "      <th>photflux_aper_hilim_s</th>\n",
              "      <th>photflux_aper_hilim_u</th>\n",
              "      <th>photflux_aper_hilim_m</th>\n",
              "      <th>photflux_aper_hilim_h</th>\n",
              "      <th>photflux_aper_hilim_b</th>\n",
              "      <th>photflux_aper_lolim_s</th>\n",
              "      <th>photflux_aper_lolim_u</th>\n",
              "      <th>photflux_aper_lolim_m</th>\n",
              "      <th>photflux_aper_lolim_h</th>\n",
              "      <th>photflux_aper_lolim_b</th>\n",
              "      <th>photflux_aper_s</th>\n",
              "      <th>photflux_aper_u</th>\n",
              "      <th>photflux_aper_m</th>\n",
              "      <th>photflux_aper_h</th>\n",
              "      <th>photflux_aper_b</th>\n",
              "      <th>flux_aper_hilim</th>\n",
              "      <th>flux_aper_lolim</th>\n",
              "      <th>flux_aper</th>\n",
              "      <th>photflux_aper_hilim</th>\n",
              "      <th>photflux_aper_lolim</th>\n",
              "      <th>photflux_aper</th>\n",
              "      <th>var_index</th>\n",
              "      <th>var_prob</th>\n",
              "      <th>ks_prob</th>\n",
              "      <th>...</th>\n",
              "      <th>hard_hs_hilim</th>\n",
              "      <th>hard_hs_lolim</th>\n",
              "      <th>hard_ms_hilim</th>\n",
              "      <th>hard_ms_lolim</th>\n",
              "      <th>flux_powlaw</th>\n",
              "      <th>flux_powlaw_hilim</th>\n",
              "      <th>flux_powlaw_lolim</th>\n",
              "      <th>powlaw_gamma</th>\n",
              "      <th>powlaw_gamma_hilim</th>\n",
              "      <th>powlaw_gamma_lolim</th>\n",
              "      <th>powlaw_nh</th>\n",
              "      <th>powlaw_nh_hilim</th>\n",
              "      <th>powlaw_nh_lolim</th>\n",
              "      <th>powlaw_ampl</th>\n",
              "      <th>powlaw_ampl_hilim</th>\n",
              "      <th>powlaw_ampl_lolim</th>\n",
              "      <th>powlaw_stat</th>\n",
              "      <th>flux_bb</th>\n",
              "      <th>flux_bb_hilim</th>\n",
              "      <th>flux_bb_lolim</th>\n",
              "      <th>bb_kt</th>\n",
              "      <th>bb_kt_hilim</th>\n",
              "      <th>bb_kt_lolim</th>\n",
              "      <th>bb_nh_hilim</th>\n",
              "      <th>bb_nh_lolim</th>\n",
              "      <th>bb_nh</th>\n",
              "      <th>bb_ampl</th>\n",
              "      <th>bb_ampl_lolim</th>\n",
              "      <th>bb_ampl_hilim</th>\n",
              "      <th>bb_stat</th>\n",
              "      <th>flux_brems</th>\n",
              "      <th>flux_brems_lolim</th>\n",
              "      <th>flux_brems_hilim</th>\n",
              "      <th>brems_kt</th>\n",
              "      <th>brems_kt_hilim</th>\n",
              "      <th>brems_kt_lolim</th>\n",
              "      <th>brems_nh</th>\n",
              "      <th>brems_nh_hilim</th>\n",
              "      <th>brems_nh_lolim</th>\n",
              "      <th>brems_stat</th>\n",
              "    </tr>\n",
              "  </thead>\n",
              "  <tbody>\n",
              "    <tr>\n",
              "      <th>count</th>\n",
              "      <td>460.000000</td>\n",
              "      <td>460.000000</td>\n",
              "      <td>460.000000</td>\n",
              "      <td>460.000000</td>\n",
              "      <td>460.000000</td>\n",
              "      <td>460.000000</td>\n",
              "      <td>460.000000</td>\n",
              "      <td>460.000000</td>\n",
              "      <td>460.000000</td>\n",
              "      <td>460.000000</td>\n",
              "      <td>460.000000</td>\n",
              "      <td>460.000000</td>\n",
              "      <td>460.000000</td>\n",
              "      <td>460.000000</td>\n",
              "      <td>460.000000</td>\n",
              "      <td>460.000000</td>\n",
              "      <td>460.000000</td>\n",
              "      <td>460.000000</td>\n",
              "      <td>460.000000</td>\n",
              "      <td>460.000000</td>\n",
              "      <td>460.000000</td>\n",
              "      <td>460.000000</td>\n",
              "      <td>460.000000</td>\n",
              "      <td>460.000000</td>\n",
              "      <td>460.000000</td>\n",
              "      <td>460.000000</td>\n",
              "      <td>460.000000</td>\n",
              "      <td>460.000000</td>\n",
              "      <td>460.000000</td>\n",
              "      <td>460.000000</td>\n",
              "      <td>460.000000</td>\n",
              "      <td>460.000000</td>\n",
              "      <td>460.000000</td>\n",
              "      <td>460.000000</td>\n",
              "      <td>460.000000</td>\n",
              "      <td>460.000000</td>\n",
              "      <td>460.000000</td>\n",
              "      <td>460.000000</td>\n",
              "      <td>460.000000</td>\n",
              "      <td>460.000000</td>\n",
              "      <td>...</td>\n",
              "      <td>460.000000</td>\n",
              "      <td>460.000000</td>\n",
              "      <td>460.000000</td>\n",
              "      <td>460.000000</td>\n",
              "      <td>460.000000</td>\n",
              "      <td>460.000000</td>\n",
              "      <td>460.000000</td>\n",
              "      <td>460.000000</td>\n",
              "      <td>460.000000</td>\n",
              "      <td>460.000000</td>\n",
              "      <td>460.000000</td>\n",
              "      <td>460.000000</td>\n",
              "      <td>460.000000</td>\n",
              "      <td>460.000000</td>\n",
              "      <td>460.000000</td>\n",
              "      <td>460.000000</td>\n",
              "      <td>460.000000</td>\n",
              "      <td>460.000000</td>\n",
              "      <td>460.000000</td>\n",
              "      <td>460.000000</td>\n",
              "      <td>460.000000</td>\n",
              "      <td>460.000000</td>\n",
              "      <td>460.000000</td>\n",
              "      <td>460.000000</td>\n",
              "      <td>460.000000</td>\n",
              "      <td>460.000000</td>\n",
              "      <td>460.000000</td>\n",
              "      <td>460.000000</td>\n",
              "      <td>460.000000</td>\n",
              "      <td>460.000000</td>\n",
              "      <td>460.000000</td>\n",
              "      <td>460.000000</td>\n",
              "      <td>460.000000</td>\n",
              "      <td>460.000000</td>\n",
              "      <td>460.000000</td>\n",
              "      <td>460.000000</td>\n",
              "      <td>460.000000</td>\n",
              "      <td>460.000000</td>\n",
              "      <td>460.000000</td>\n",
              "      <td>460.000000</td>\n",
              "    </tr>\n",
              "    <tr>\n",
              "      <th>mean</th>\n",
              "      <td>70.680500</td>\n",
              "      <td>0.405772</td>\n",
              "      <td>0.299390</td>\n",
              "      <td>0.412578</td>\n",
              "      <td>0.475729</td>\n",
              "      <td>0.497027</td>\n",
              "      <td>0.330700</td>\n",
              "      <td>0.073759</td>\n",
              "      <td>0.336558</td>\n",
              "      <td>0.396229</td>\n",
              "      <td>0.464286</td>\n",
              "      <td>0.278792</td>\n",
              "      <td>0.071347</td>\n",
              "      <td>0.298304</td>\n",
              "      <td>0.380401</td>\n",
              "      <td>0.443977</td>\n",
              "      <td>0.408158</td>\n",
              "      <td>0.358300</td>\n",
              "      <td>0.442278</td>\n",
              "      <td>0.452250</td>\n",
              "      <td>0.450823</td>\n",
              "      <td>0.343939</td>\n",
              "      <td>0.118870</td>\n",
              "      <td>0.356446</td>\n",
              "      <td>0.386358</td>\n",
              "      <td>0.474684</td>\n",
              "      <td>0.302829</td>\n",
              "      <td>0.103972</td>\n",
              "      <td>0.317784</td>\n",
              "      <td>0.381053</td>\n",
              "      <td>0.437388</td>\n",
              "      <td>0.494853</td>\n",
              "      <td>0.557515</td>\n",
              "      <td>0.520756</td>\n",
              "      <td>0.518434</td>\n",
              "      <td>0.556244</td>\n",
              "      <td>0.511243</td>\n",
              "      <td>0.053737</td>\n",
              "      <td>0.291850</td>\n",
              "      <td>0.349028</td>\n",
              "      <td>...</td>\n",
              "      <td>0.615579</td>\n",
              "      <td>0.396395</td>\n",
              "      <td>0.542737</td>\n",
              "      <td>0.320966</td>\n",
              "      <td>0.022906</td>\n",
              "      <td>0.023155</td>\n",
              "      <td>0.021840</td>\n",
              "      <td>0.048914</td>\n",
              "      <td>0.047728</td>\n",
              "      <td>0.063226</td>\n",
              "      <td>0.011244</td>\n",
              "      <td>0.014108</td>\n",
              "      <td>0.009211</td>\n",
              "      <td>0.002678</td>\n",
              "      <td>0.004596</td>\n",
              "      <td>0.002699</td>\n",
              "      <td>0.017178</td>\n",
              "      <td>0.023085</td>\n",
              "      <td>0.022398</td>\n",
              "      <td>0.021860</td>\n",
              "      <td>0.021469</td>\n",
              "      <td>0.002871</td>\n",
              "      <td>0.018983</td>\n",
              "      <td>0.011187</td>\n",
              "      <td>0.007029</td>\n",
              "      <td>0.008754</td>\n",
              "      <td>0.012551</td>\n",
              "      <td>0.010463</td>\n",
              "      <td>0.014765</td>\n",
              "      <td>0.022803</td>\n",
              "      <td>0.023443</td>\n",
              "      <td>0.022373</td>\n",
              "      <td>0.023921</td>\n",
              "      <td>0.010732</td>\n",
              "      <td>0.014849</td>\n",
              "      <td>0.006533</td>\n",
              "      <td>0.011490</td>\n",
              "      <td>0.012215</td>\n",
              "      <td>0.010280</td>\n",
              "      <td>0.012353</td>\n",
              "    </tr>\n",
              "    <tr>\n",
              "      <th>std</th>\n",
              "      <td>109.946267</td>\n",
              "      <td>0.221633</td>\n",
              "      <td>0.242112</td>\n",
              "      <td>0.202805</td>\n",
              "      <td>0.201697</td>\n",
              "      <td>0.194583</td>\n",
              "      <td>0.293861</td>\n",
              "      <td>0.183519</td>\n",
              "      <td>0.276541</td>\n",
              "      <td>0.268479</td>\n",
              "      <td>0.237701</td>\n",
              "      <td>0.265877</td>\n",
              "      <td>0.170002</td>\n",
              "      <td>0.251260</td>\n",
              "      <td>0.248559</td>\n",
              "      <td>0.222200</td>\n",
              "      <td>0.217087</td>\n",
              "      <td>0.280596</td>\n",
              "      <td>0.214517</td>\n",
              "      <td>0.197441</td>\n",
              "      <td>0.189303</td>\n",
              "      <td>0.298904</td>\n",
              "      <td>0.227551</td>\n",
              "      <td>0.294613</td>\n",
              "      <td>0.259726</td>\n",
              "      <td>0.231129</td>\n",
              "      <td>0.270977</td>\n",
              "      <td>0.210604</td>\n",
              "      <td>0.272386</td>\n",
              "      <td>0.240293</td>\n",
              "      <td>0.213152</td>\n",
              "      <td>0.181428</td>\n",
              "      <td>0.196856</td>\n",
              "      <td>0.182442</td>\n",
              "      <td>0.196519</td>\n",
              "      <td>0.190836</td>\n",
              "      <td>0.180478</td>\n",
              "      <td>0.119511</td>\n",
              "      <td>0.243169</td>\n",
              "      <td>0.308933</td>\n",
              "      <td>...</td>\n",
              "      <td>0.338917</td>\n",
              "      <td>0.331166</td>\n",
              "      <td>0.290747</td>\n",
              "      <td>0.287450</td>\n",
              "      <td>0.104713</td>\n",
              "      <td>0.105950</td>\n",
              "      <td>0.098662</td>\n",
              "      <td>0.151769</td>\n",
              "      <td>0.148985</td>\n",
              "      <td>0.181022</td>\n",
              "      <td>0.068075</td>\n",
              "      <td>0.086694</td>\n",
              "      <td>0.059822</td>\n",
              "      <td>0.046889</td>\n",
              "      <td>0.048036</td>\n",
              "      <td>0.046865</td>\n",
              "      <td>0.064963</td>\n",
              "      <td>0.108088</td>\n",
              "      <td>0.106689</td>\n",
              "      <td>0.103259</td>\n",
              "      <td>0.089343</td>\n",
              "      <td>0.046693</td>\n",
              "      <td>0.076489</td>\n",
              "      <td>0.082876</td>\n",
              "      <td>0.058438</td>\n",
              "      <td>0.066126</td>\n",
              "      <td>0.069716</td>\n",
              "      <td>0.063088</td>\n",
              "      <td>0.078496</td>\n",
              "      <td>0.079581</td>\n",
              "      <td>0.108967</td>\n",
              "      <td>0.105301</td>\n",
              "      <td>0.110320</td>\n",
              "      <td>0.085034</td>\n",
              "      <td>0.077365</td>\n",
              "      <td>0.052629</td>\n",
              "      <td>0.075177</td>\n",
              "      <td>0.080658</td>\n",
              "      <td>0.068562</td>\n",
              "      <td>0.059748</td>\n",
              "    </tr>\n",
              "    <tr>\n",
              "      <th>min</th>\n",
              "      <td>2.110000</td>\n",
              "      <td>0.000000</td>\n",
              "      <td>0.000000</td>\n",
              "      <td>0.000000</td>\n",
              "      <td>0.000000</td>\n",
              "      <td>0.000000</td>\n",
              "      <td>0.000000</td>\n",
              "      <td>0.000000</td>\n",
              "      <td>0.000000</td>\n",
              "      <td>0.000000</td>\n",
              "      <td>0.000000</td>\n",
              "      <td>0.000000</td>\n",
              "      <td>0.000000</td>\n",
              "      <td>0.000000</td>\n",
              "      <td>0.000000</td>\n",
              "      <td>0.000000</td>\n",
              "      <td>0.000000</td>\n",
              "      <td>0.000000</td>\n",
              "      <td>0.000000</td>\n",
              "      <td>0.000000</td>\n",
              "      <td>0.000000</td>\n",
              "      <td>0.000000</td>\n",
              "      <td>0.000000</td>\n",
              "      <td>0.000000</td>\n",
              "      <td>0.000000</td>\n",
              "      <td>0.000000</td>\n",
              "      <td>0.000000</td>\n",
              "      <td>0.000000</td>\n",
              "      <td>0.000000</td>\n",
              "      <td>0.000000</td>\n",
              "      <td>0.000000</td>\n",
              "      <td>0.000000</td>\n",
              "      <td>0.000000</td>\n",
              "      <td>0.000000</td>\n",
              "      <td>0.000000</td>\n",
              "      <td>0.000000</td>\n",
              "      <td>0.000000</td>\n",
              "      <td>0.000000</td>\n",
              "      <td>0.000000</td>\n",
              "      <td>0.000000</td>\n",
              "      <td>...</td>\n",
              "      <td>0.000000</td>\n",
              "      <td>0.000000</td>\n",
              "      <td>0.000000</td>\n",
              "      <td>0.000000</td>\n",
              "      <td>0.000000</td>\n",
              "      <td>0.000000</td>\n",
              "      <td>0.000000</td>\n",
              "      <td>0.000000</td>\n",
              "      <td>0.000000</td>\n",
              "      <td>0.000000</td>\n",
              "      <td>0.000000</td>\n",
              "      <td>0.000000</td>\n",
              "      <td>0.000000</td>\n",
              "      <td>0.000000</td>\n",
              "      <td>0.000000</td>\n",
              "      <td>0.000000</td>\n",
              "      <td>0.000000</td>\n",
              "      <td>0.000000</td>\n",
              "      <td>0.000000</td>\n",
              "      <td>0.000000</td>\n",
              "      <td>0.000000</td>\n",
              "      <td>0.000000</td>\n",
              "      <td>0.000000</td>\n",
              "      <td>0.000000</td>\n",
              "      <td>0.000000</td>\n",
              "      <td>0.000000</td>\n",
              "      <td>0.000000</td>\n",
              "      <td>0.000000</td>\n",
              "      <td>0.000000</td>\n",
              "      <td>0.000000</td>\n",
              "      <td>0.000000</td>\n",
              "      <td>0.000000</td>\n",
              "      <td>0.000000</td>\n",
              "      <td>0.000000</td>\n",
              "      <td>0.000000</td>\n",
              "      <td>0.000000</td>\n",
              "      <td>0.000000</td>\n",
              "      <td>0.000000</td>\n",
              "      <td>0.000000</td>\n",
              "      <td>0.000000</td>\n",
              "    </tr>\n",
              "    <tr>\n",
              "      <th>25%</th>\n",
              "      <td>11.120000</td>\n",
              "      <td>0.270218</td>\n",
              "      <td>0.000000</td>\n",
              "      <td>0.286216</td>\n",
              "      <td>0.324350</td>\n",
              "      <td>0.358846</td>\n",
              "      <td>0.000000</td>\n",
              "      <td>0.000000</td>\n",
              "      <td>0.000000</td>\n",
              "      <td>0.175331</td>\n",
              "      <td>0.349231</td>\n",
              "      <td>0.000000</td>\n",
              "      <td>0.000000</td>\n",
              "      <td>0.000000</td>\n",
              "      <td>0.179433</td>\n",
              "      <td>0.296195</td>\n",
              "      <td>0.268499</td>\n",
              "      <td>0.136117</td>\n",
              "      <td>0.304137</td>\n",
              "      <td>0.293536</td>\n",
              "      <td>0.329136</td>\n",
              "      <td>0.000000</td>\n",
              "      <td>0.000000</td>\n",
              "      <td>0.000000</td>\n",
              "      <td>0.197791</td>\n",
              "      <td>0.372513</td>\n",
              "      <td>0.000000</td>\n",
              "      <td>0.000000</td>\n",
              "      <td>0.000000</td>\n",
              "      <td>0.216927</td>\n",
              "      <td>0.315641</td>\n",
              "      <td>0.361406</td>\n",
              "      <td>0.456039</td>\n",
              "      <td>0.394423</td>\n",
              "      <td>0.350952</td>\n",
              "      <td>0.469145</td>\n",
              "      <td>0.404783</td>\n",
              "      <td>0.000000</td>\n",
              "      <td>0.000000</td>\n",
              "      <td>0.000000</td>\n",
              "      <td>...</td>\n",
              "      <td>0.337702</td>\n",
              "      <td>0.083955</td>\n",
              "      <td>0.357020</td>\n",
              "      <td>0.000000</td>\n",
              "      <td>0.000000</td>\n",
              "      <td>0.000000</td>\n",
              "      <td>0.000000</td>\n",
              "      <td>0.000000</td>\n",
              "      <td>0.000000</td>\n",
              "      <td>0.000000</td>\n",
              "      <td>0.000000</td>\n",
              "      <td>0.000000</td>\n",
              "      <td>0.000000</td>\n",
              "      <td>0.000000</td>\n",
              "      <td>0.000000</td>\n",
              "      <td>0.000000</td>\n",
              "      <td>0.000000</td>\n",
              "      <td>0.000000</td>\n",
              "      <td>0.000000</td>\n",
              "      <td>0.000000</td>\n",
              "      <td>0.000000</td>\n",
              "      <td>0.000000</td>\n",
              "      <td>0.000000</td>\n",
              "      <td>0.000000</td>\n",
              "      <td>0.000000</td>\n",
              "      <td>0.000000</td>\n",
              "      <td>0.000000</td>\n",
              "      <td>0.000000</td>\n",
              "      <td>0.000000</td>\n",
              "      <td>0.000000</td>\n",
              "      <td>0.000000</td>\n",
              "      <td>0.000000</td>\n",
              "      <td>0.000000</td>\n",
              "      <td>0.000000</td>\n",
              "      <td>0.000000</td>\n",
              "      <td>0.000000</td>\n",
              "      <td>0.000000</td>\n",
              "      <td>0.000000</td>\n",
              "      <td>0.000000</td>\n",
              "      <td>0.000000</td>\n",
              "    </tr>\n",
              "    <tr>\n",
              "      <th>50%</th>\n",
              "      <td>23.470000</td>\n",
              "      <td>0.381014</td>\n",
              "      <td>0.295346</td>\n",
              "      <td>0.402127</td>\n",
              "      <td>0.502370</td>\n",
              "      <td>0.504328</td>\n",
              "      <td>0.363721</td>\n",
              "      <td>0.000000</td>\n",
              "      <td>0.360282</td>\n",
              "      <td>0.437503</td>\n",
              "      <td>0.486905</td>\n",
              "      <td>0.255580</td>\n",
              "      <td>0.000000</td>\n",
              "      <td>0.291646</td>\n",
              "      <td>0.425604</td>\n",
              "      <td>0.456638</td>\n",
              "      <td>0.383840</td>\n",
              "      <td>0.297411</td>\n",
              "      <td>0.424143</td>\n",
              "      <td>0.472318</td>\n",
              "      <td>0.437397</td>\n",
              "      <td>0.396537</td>\n",
              "      <td>0.000000</td>\n",
              "      <td>0.380135</td>\n",
              "      <td>0.419945</td>\n",
              "      <td>0.495026</td>\n",
              "      <td>0.298648</td>\n",
              "      <td>0.000000</td>\n",
              "      <td>0.311816</td>\n",
              "      <td>0.418673</td>\n",
              "      <td>0.442862</td>\n",
              "      <td>0.503742</td>\n",
              "      <td>0.573297</td>\n",
              "      <td>0.524461</td>\n",
              "      <td>0.486199</td>\n",
              "      <td>0.565556</td>\n",
              "      <td>0.495839</td>\n",
              "      <td>0.000000</td>\n",
              "      <td>0.344148</td>\n",
              "      <td>0.342762</td>\n",
              "      <td>...</td>\n",
              "      <td>0.626033</td>\n",
              "      <td>0.338323</td>\n",
              "      <td>0.502558</td>\n",
              "      <td>0.289447</td>\n",
              "      <td>0.000000</td>\n",
              "      <td>0.000000</td>\n",
              "      <td>0.000000</td>\n",
              "      <td>0.000000</td>\n",
              "      <td>0.000000</td>\n",
              "      <td>0.000000</td>\n",
              "      <td>0.000000</td>\n",
              "      <td>0.000000</td>\n",
              "      <td>0.000000</td>\n",
              "      <td>0.000000</td>\n",
              "      <td>0.000000</td>\n",
              "      <td>0.000000</td>\n",
              "      <td>0.000000</td>\n",
              "      <td>0.000000</td>\n",
              "      <td>0.000000</td>\n",
              "      <td>0.000000</td>\n",
              "      <td>0.000000</td>\n",
              "      <td>0.000000</td>\n",
              "      <td>0.000000</td>\n",
              "      <td>0.000000</td>\n",
              "      <td>0.000000</td>\n",
              "      <td>0.000000</td>\n",
              "      <td>0.000000</td>\n",
              "      <td>0.000000</td>\n",
              "      <td>0.000000</td>\n",
              "      <td>0.000000</td>\n",
              "      <td>0.000000</td>\n",
              "      <td>0.000000</td>\n",
              "      <td>0.000000</td>\n",
              "      <td>0.000000</td>\n",
              "      <td>0.000000</td>\n",
              "      <td>0.000000</td>\n",
              "      <td>0.000000</td>\n",
              "      <td>0.000000</td>\n",
              "      <td>0.000000</td>\n",
              "      <td>0.000000</td>\n",
              "    </tr>\n",
              "    <tr>\n",
              "      <th>75%</th>\n",
              "      <td>49.260000</td>\n",
              "      <td>0.555333</td>\n",
              "      <td>0.531809</td>\n",
              "      <td>0.533815</td>\n",
              "      <td>0.615238</td>\n",
              "      <td>0.626640</td>\n",
              "      <td>0.549342</td>\n",
              "      <td>0.000000</td>\n",
              "      <td>0.552846</td>\n",
              "      <td>0.599765</td>\n",
              "      <td>0.619847</td>\n",
              "      <td>0.471469</td>\n",
              "      <td>0.000000</td>\n",
              "      <td>0.472996</td>\n",
              "      <td>0.556417</td>\n",
              "      <td>0.589731</td>\n",
              "      <td>0.552487</td>\n",
              "      <td>0.596975</td>\n",
              "      <td>0.580216</td>\n",
              "      <td>0.573391</td>\n",
              "      <td>0.549321</td>\n",
              "      <td>0.577797</td>\n",
              "      <td>0.105315</td>\n",
              "      <td>0.592394</td>\n",
              "      <td>0.575300</td>\n",
              "      <td>0.609491</td>\n",
              "      <td>0.503333</td>\n",
              "      <td>0.102455</td>\n",
              "      <td>0.513559</td>\n",
              "      <td>0.541421</td>\n",
              "      <td>0.548728</td>\n",
              "      <td>0.626165</td>\n",
              "      <td>0.682785</td>\n",
              "      <td>0.638522</td>\n",
              "      <td>0.679650</td>\n",
              "      <td>0.671017</td>\n",
              "      <td>0.627117</td>\n",
              "      <td>0.072464</td>\n",
              "      <td>0.467189</td>\n",
              "      <td>0.602309</td>\n",
              "      <td>...</td>\n",
              "      <td>0.996008</td>\n",
              "      <td>0.698573</td>\n",
              "      <td>0.783223</td>\n",
              "      <td>0.517264</td>\n",
              "      <td>0.000000</td>\n",
              "      <td>0.000000</td>\n",
              "      <td>0.000000</td>\n",
              "      <td>0.000000</td>\n",
              "      <td>0.000000</td>\n",
              "      <td>0.000000</td>\n",
              "      <td>0.000000</td>\n",
              "      <td>0.000000</td>\n",
              "      <td>0.000000</td>\n",
              "      <td>0.000000</td>\n",
              "      <td>0.000000</td>\n",
              "      <td>0.000000</td>\n",
              "      <td>0.000000</td>\n",
              "      <td>0.000000</td>\n",
              "      <td>0.000000</td>\n",
              "      <td>0.000000</td>\n",
              "      <td>0.000000</td>\n",
              "      <td>0.000000</td>\n",
              "      <td>0.000000</td>\n",
              "      <td>0.000000</td>\n",
              "      <td>0.000000</td>\n",
              "      <td>0.000000</td>\n",
              "      <td>0.000000</td>\n",
              "      <td>0.000000</td>\n",
              "      <td>0.000000</td>\n",
              "      <td>0.000000</td>\n",
              "      <td>0.000000</td>\n",
              "      <td>0.000000</td>\n",
              "      <td>0.000000</td>\n",
              "      <td>0.000000</td>\n",
              "      <td>0.000000</td>\n",
              "      <td>0.000000</td>\n",
              "      <td>0.000000</td>\n",
              "      <td>0.000000</td>\n",
              "      <td>0.000000</td>\n",
              "      <td>0.000000</td>\n",
              "    </tr>\n",
              "    <tr>\n",
              "      <th>max</th>\n",
              "      <td>376.060000</td>\n",
              "      <td>1.000000</td>\n",
              "      <td>1.000000</td>\n",
              "      <td>1.000000</td>\n",
              "      <td>1.000000</td>\n",
              "      <td>1.000000</td>\n",
              "      <td>1.000000</td>\n",
              "      <td>1.000000</td>\n",
              "      <td>1.000000</td>\n",
              "      <td>1.000000</td>\n",
              "      <td>1.000000</td>\n",
              "      <td>1.000000</td>\n",
              "      <td>1.000000</td>\n",
              "      <td>1.000000</td>\n",
              "      <td>1.000000</td>\n",
              "      <td>1.000000</td>\n",
              "      <td>1.000000</td>\n",
              "      <td>1.000000</td>\n",
              "      <td>1.000000</td>\n",
              "      <td>1.000000</td>\n",
              "      <td>1.000000</td>\n",
              "      <td>1.000000</td>\n",
              "      <td>1.000000</td>\n",
              "      <td>1.000000</td>\n",
              "      <td>1.000000</td>\n",
              "      <td>1.000000</td>\n",
              "      <td>1.000000</td>\n",
              "      <td>1.000000</td>\n",
              "      <td>1.000000</td>\n",
              "      <td>1.000000</td>\n",
              "      <td>1.000000</td>\n",
              "      <td>1.000000</td>\n",
              "      <td>1.000000</td>\n",
              "      <td>1.000000</td>\n",
              "      <td>1.000000</td>\n",
              "      <td>1.000000</td>\n",
              "      <td>1.000000</td>\n",
              "      <td>1.000000</td>\n",
              "      <td>1.000000</td>\n",
              "      <td>1.000000</td>\n",
              "      <td>...</td>\n",
              "      <td>1.000000</td>\n",
              "      <td>1.000000</td>\n",
              "      <td>1.000000</td>\n",
              "      <td>1.000000</td>\n",
              "      <td>1.000000</td>\n",
              "      <td>1.000000</td>\n",
              "      <td>1.000000</td>\n",
              "      <td>1.000000</td>\n",
              "      <td>1.000000</td>\n",
              "      <td>1.000000</td>\n",
              "      <td>1.000000</td>\n",
              "      <td>1.000000</td>\n",
              "      <td>1.000000</td>\n",
              "      <td>1.000000</td>\n",
              "      <td>1.000000</td>\n",
              "      <td>1.000000</td>\n",
              "      <td>1.000000</td>\n",
              "      <td>1.000000</td>\n",
              "      <td>1.000000</td>\n",
              "      <td>1.000000</td>\n",
              "      <td>1.000000</td>\n",
              "      <td>1.000000</td>\n",
              "      <td>1.000000</td>\n",
              "      <td>1.000000</td>\n",
              "      <td>1.000000</td>\n",
              "      <td>1.000000</td>\n",
              "      <td>1.000000</td>\n",
              "      <td>1.000000</td>\n",
              "      <td>1.000000</td>\n",
              "      <td>1.000000</td>\n",
              "      <td>1.000000</td>\n",
              "      <td>1.000000</td>\n",
              "      <td>1.000000</td>\n",
              "      <td>1.000000</td>\n",
              "      <td>1.000000</td>\n",
              "      <td>1.000000</td>\n",
              "      <td>1.000000</td>\n",
              "      <td>1.000000</td>\n",
              "      <td>1.000000</td>\n",
              "      <td>1.000000</td>\n",
              "    </tr>\n",
              "  </tbody>\n",
              "</table>\n",
              "<p>8 rows × 93 columns</p>\n",
              "</div>"
            ],
            "text/plain": [
              "       significance  flux_aper_hilim_s  ...  brems_nh_lolim  brems_stat\n",
              "count    460.000000         460.000000  ...      460.000000  460.000000\n",
              "mean      70.680500           0.405772  ...        0.010280    0.012353\n",
              "std      109.946267           0.221633  ...        0.068562    0.059748\n",
              "min        2.110000           0.000000  ...        0.000000    0.000000\n",
              "25%       11.120000           0.270218  ...        0.000000    0.000000\n",
              "50%       23.470000           0.381014  ...        0.000000    0.000000\n",
              "75%       49.260000           0.555333  ...        0.000000    0.000000\n",
              "max      376.060000           1.000000  ...        1.000000    1.000000\n",
              "\n",
              "[8 rows x 93 columns]"
            ]
          },
          "metadata": {}
        },
        {
          "output_type": "stream",
          "name": "stdout",
          "text": [
            "302.0 158.0\n"
          ]
        },
        {
          "output_type": "display_data",
          "data": {
            "text/html": [
              "<div>\n",
              "<style scoped>\n",
              "    .dataframe tbody tr th:only-of-type {\n",
              "        vertical-align: middle;\n",
              "    }\n",
              "\n",
              "    .dataframe tbody tr th {\n",
              "        vertical-align: top;\n",
              "    }\n",
              "\n",
              "    .dataframe thead th {\n",
              "        text-align: right;\n",
              "    }\n",
              "</style>\n",
              "<table border=\"1\" class=\"dataframe\">\n",
              "  <thead>\n",
              "    <tr style=\"text-align: right;\">\n",
              "      <th></th>\n",
              "      <th>significance</th>\n",
              "      <th>flux_aper_hilim_s</th>\n",
              "      <th>flux_aper_hilim_u</th>\n",
              "      <th>flux_aper_hilim_m</th>\n",
              "      <th>flux_aper_hilim_h</th>\n",
              "      <th>flux_aper_hilim_b</th>\n",
              "      <th>flux_aper_lolim_s</th>\n",
              "      <th>flux_aper_lolim_u</th>\n",
              "      <th>flux_aper_lolim_m</th>\n",
              "      <th>flux_aper_lolim_h</th>\n",
              "      <th>flux_aper_lolim_b</th>\n",
              "      <th>flux_aper_s</th>\n",
              "      <th>flux_aper_u</th>\n",
              "      <th>flux_aper_m</th>\n",
              "      <th>flux_aper_h</th>\n",
              "      <th>flux_aper_b</th>\n",
              "      <th>photflux_aper_hilim_s</th>\n",
              "      <th>photflux_aper_hilim_u</th>\n",
              "      <th>photflux_aper_hilim_m</th>\n",
              "      <th>photflux_aper_hilim_h</th>\n",
              "      <th>photflux_aper_hilim_b</th>\n",
              "      <th>photflux_aper_lolim_s</th>\n",
              "      <th>photflux_aper_lolim_u</th>\n",
              "      <th>photflux_aper_lolim_m</th>\n",
              "      <th>photflux_aper_lolim_h</th>\n",
              "      <th>photflux_aper_lolim_b</th>\n",
              "      <th>photflux_aper_s</th>\n",
              "      <th>photflux_aper_u</th>\n",
              "      <th>photflux_aper_m</th>\n",
              "      <th>photflux_aper_h</th>\n",
              "      <th>photflux_aper_b</th>\n",
              "      <th>flux_aper_hilim</th>\n",
              "      <th>flux_aper_lolim</th>\n",
              "      <th>flux_aper</th>\n",
              "      <th>photflux_aper_hilim</th>\n",
              "      <th>photflux_aper_lolim</th>\n",
              "      <th>photflux_aper</th>\n",
              "      <th>var_index</th>\n",
              "      <th>var_prob</th>\n",
              "      <th>ks_prob</th>\n",
              "      <th>...</th>\n",
              "      <th>hard_hs_hilim</th>\n",
              "      <th>hard_hs_lolim</th>\n",
              "      <th>hard_ms_hilim</th>\n",
              "      <th>hard_ms_lolim</th>\n",
              "      <th>flux_powlaw</th>\n",
              "      <th>flux_powlaw_hilim</th>\n",
              "      <th>flux_powlaw_lolim</th>\n",
              "      <th>powlaw_gamma</th>\n",
              "      <th>powlaw_gamma_hilim</th>\n",
              "      <th>powlaw_gamma_lolim</th>\n",
              "      <th>powlaw_nh</th>\n",
              "      <th>powlaw_nh_hilim</th>\n",
              "      <th>powlaw_nh_lolim</th>\n",
              "      <th>powlaw_ampl</th>\n",
              "      <th>powlaw_ampl_hilim</th>\n",
              "      <th>powlaw_ampl_lolim</th>\n",
              "      <th>powlaw_stat</th>\n",
              "      <th>flux_bb</th>\n",
              "      <th>flux_bb_hilim</th>\n",
              "      <th>flux_bb_lolim</th>\n",
              "      <th>bb_kt</th>\n",
              "      <th>bb_kt_hilim</th>\n",
              "      <th>bb_kt_lolim</th>\n",
              "      <th>bb_nh_hilim</th>\n",
              "      <th>bb_nh_lolim</th>\n",
              "      <th>bb_nh</th>\n",
              "      <th>bb_ampl</th>\n",
              "      <th>bb_ampl_lolim</th>\n",
              "      <th>bb_ampl_hilim</th>\n",
              "      <th>bb_stat</th>\n",
              "      <th>flux_brems</th>\n",
              "      <th>flux_brems_lolim</th>\n",
              "      <th>flux_brems_hilim</th>\n",
              "      <th>brems_kt</th>\n",
              "      <th>brems_kt_hilim</th>\n",
              "      <th>brems_kt_lolim</th>\n",
              "      <th>brems_nh</th>\n",
              "      <th>brems_nh_hilim</th>\n",
              "      <th>brems_nh_lolim</th>\n",
              "      <th>brems_stat</th>\n",
              "    </tr>\n",
              "  </thead>\n",
              "  <tbody>\n",
              "    <tr>\n",
              "      <th>count</th>\n",
              "      <td>460.000000</td>\n",
              "      <td>4.600000e+02</td>\n",
              "      <td>4.600000e+02</td>\n",
              "      <td>4.600000e+02</td>\n",
              "      <td>4.600000e+02</td>\n",
              "      <td>4.600000e+02</td>\n",
              "      <td>4.600000e+02</td>\n",
              "      <td>4.600000e+02</td>\n",
              "      <td>4.600000e+02</td>\n",
              "      <td>4.600000e+02</td>\n",
              "      <td>4.600000e+02</td>\n",
              "      <td>4.600000e+02</td>\n",
              "      <td>4.600000e+02</td>\n",
              "      <td>4.600000e+02</td>\n",
              "      <td>4.600000e+02</td>\n",
              "      <td>4.600000e+02</td>\n",
              "      <td>4.600000e+02</td>\n",
              "      <td>4.600000e+02</td>\n",
              "      <td>4.600000e+02</td>\n",
              "      <td>4.600000e+02</td>\n",
              "      <td>4.600000e+02</td>\n",
              "      <td>4.600000e+02</td>\n",
              "      <td>4.600000e+02</td>\n",
              "      <td>4.600000e+02</td>\n",
              "      <td>4.600000e+02</td>\n",
              "      <td>4.600000e+02</td>\n",
              "      <td>4.600000e+02</td>\n",
              "      <td>4.600000e+02</td>\n",
              "      <td>4.600000e+02</td>\n",
              "      <td>4.600000e+02</td>\n",
              "      <td>4.600000e+02</td>\n",
              "      <td>4.600000e+02</td>\n",
              "      <td>4.600000e+02</td>\n",
              "      <td>4.600000e+02</td>\n",
              "      <td>4.600000e+02</td>\n",
              "      <td>4.600000e+02</td>\n",
              "      <td>4.600000e+02</td>\n",
              "      <td>4.600000e+02</td>\n",
              "      <td>4.600000e+02</td>\n",
              "      <td>4.600000e+02</td>\n",
              "      <td>...</td>\n",
              "      <td>4.600000e+02</td>\n",
              "      <td>4.600000e+02</td>\n",
              "      <td>4.600000e+02</td>\n",
              "      <td>4.600000e+02</td>\n",
              "      <td>4.600000e+02</td>\n",
              "      <td>4.600000e+02</td>\n",
              "      <td>4.600000e+02</td>\n",
              "      <td>4.600000e+02</td>\n",
              "      <td>4.600000e+02</td>\n",
              "      <td>4.600000e+02</td>\n",
              "      <td>4.600000e+02</td>\n",
              "      <td>4.600000e+02</td>\n",
              "      <td>4.600000e+02</td>\n",
              "      <td>4.600000e+02</td>\n",
              "      <td>4.600000e+02</td>\n",
              "      <td>4.600000e+02</td>\n",
              "      <td>4.600000e+02</td>\n",
              "      <td>4.600000e+02</td>\n",
              "      <td>4.600000e+02</td>\n",
              "      <td>4.600000e+02</td>\n",
              "      <td>4.600000e+02</td>\n",
              "      <td>4.600000e+02</td>\n",
              "      <td>4.600000e+02</td>\n",
              "      <td>4.600000e+02</td>\n",
              "      <td>4.600000e+02</td>\n",
              "      <td>4.600000e+02</td>\n",
              "      <td>4.600000e+02</td>\n",
              "      <td>4.600000e+02</td>\n",
              "      <td>4.600000e+02</td>\n",
              "      <td>4.600000e+02</td>\n",
              "      <td>4.600000e+02</td>\n",
              "      <td>4.600000e+02</td>\n",
              "      <td>4.600000e+02</td>\n",
              "      <td>4.600000e+02</td>\n",
              "      <td>4.600000e+02</td>\n",
              "      <td>4.600000e+02</td>\n",
              "      <td>4.600000e+02</td>\n",
              "      <td>4.600000e+02</td>\n",
              "      <td>4.600000e+02</td>\n",
              "      <td>4.600000e+02</td>\n",
              "    </tr>\n",
              "    <tr>\n",
              "      <th>mean</th>\n",
              "      <td>70.680500</td>\n",
              "      <td>-1.931064e-14</td>\n",
              "      <td>-4.390932e-15</td>\n",
              "      <td>-6.386196e-16</td>\n",
              "      <td>1.666505e-14</td>\n",
              "      <td>7.306474e-15</td>\n",
              "      <td>7.069707e-15</td>\n",
              "      <td>2.503809e-16</td>\n",
              "      <td>-1.143349e-14</td>\n",
              "      <td>-8.084837e-15</td>\n",
              "      <td>6.364625e-15</td>\n",
              "      <td>-3.320291e-15</td>\n",
              "      <td>8.723698e-16</td>\n",
              "      <td>-3.911967e-15</td>\n",
              "      <td>7.966816e-15</td>\n",
              "      <td>1.577965e-14</td>\n",
              "      <td>1.522936e-15</td>\n",
              "      <td>5.082891e-16</td>\n",
              "      <td>-1.124946e-15</td>\n",
              "      <td>-9.635167e-15</td>\n",
              "      <td>1.338686e-15</td>\n",
              "      <td>-9.306565e-16</td>\n",
              "      <td>-5.642829e-16</td>\n",
              "      <td>3.609070e-15</td>\n",
              "      <td>-1.021888e-15</td>\n",
              "      <td>-2.432656e-15</td>\n",
              "      <td>-1.732431e-15</td>\n",
              "      <td>9.694842e-17</td>\n",
              "      <td>-2.221049e-15</td>\n",
              "      <td>-4.433652e-16</td>\n",
              "      <td>7.107690e-16</td>\n",
              "      <td>1.408499e-14</td>\n",
              "      <td>2.223342e-15</td>\n",
              "      <td>4.558853e-15</td>\n",
              "      <td>-3.501788e-15</td>\n",
              "      <td>5.235788e-15</td>\n",
              "      <td>-4.541672e-15</td>\n",
              "      <td>-6.323444e-17</td>\n",
              "      <td>5.111853e-16</td>\n",
              "      <td>4.968248e-16</td>\n",
              "      <td>...</td>\n",
              "      <td>-2.710392e-16</td>\n",
              "      <td>2.413528e-17</td>\n",
              "      <td>2.616265e-16</td>\n",
              "      <td>1.158494e-17</td>\n",
              "      <td>3.330669e-17</td>\n",
              "      <td>1.375711e-17</td>\n",
              "      <td>-3.765104e-17</td>\n",
              "      <td>-4.271945e-17</td>\n",
              "      <td>6.130362e-17</td>\n",
              "      <td>9.461031e-17</td>\n",
              "      <td>1.411914e-17</td>\n",
              "      <td>1.230899e-17</td>\n",
              "      <td>-5.068409e-18</td>\n",
              "      <td>8.990393e-18</td>\n",
              "      <td>-2.051499e-18</td>\n",
              "      <td>-4.525366e-18</td>\n",
              "      <td>-8.604228e-17</td>\n",
              "      <td>1.834282e-17</td>\n",
              "      <td>-3.692698e-17</td>\n",
              "      <td>-4.296080e-17</td>\n",
              "      <td>-1.954958e-17</td>\n",
              "      <td>4.102998e-18</td>\n",
              "      <td>2.220446e-17</td>\n",
              "      <td>1.689470e-18</td>\n",
              "      <td>3.016910e-18</td>\n",
              "      <td>3.740969e-18</td>\n",
              "      <td>-5.068409e-18</td>\n",
              "      <td>-1.632149e-17</td>\n",
              "      <td>2.715219e-17</td>\n",
              "      <td>-7.783629e-18</td>\n",
              "      <td>-2.896234e-18</td>\n",
              "      <td>-4.827057e-19</td>\n",
              "      <td>-1.568793e-17</td>\n",
              "      <td>9.654113e-18</td>\n",
              "      <td>7.723291e-18</td>\n",
              "      <td>-4.585704e-18</td>\n",
              "      <td>-7.602614e-18</td>\n",
              "      <td>-1.206764e-17</td>\n",
              "      <td>-1.206764e-17</td>\n",
              "      <td>1.906687e-17</td>\n",
              "    </tr>\n",
              "    <tr>\n",
              "      <th>std</th>\n",
              "      <td>109.946267</td>\n",
              "      <td>9.667681e-01</td>\n",
              "      <td>8.631906e-01</td>\n",
              "      <td>9.701425e-01</td>\n",
              "      <td>9.868415e-01</td>\n",
              "      <td>9.934426e-01</td>\n",
              "      <td>8.016867e-01</td>\n",
              "      <td>4.122313e-01</td>\n",
              "      <td>8.336601e-01</td>\n",
              "      <td>8.843840e-01</td>\n",
              "      <td>9.439637e-01</td>\n",
              "      <td>8.164966e-01</td>\n",
              "      <td>4.353648e-01</td>\n",
              "      <td>8.504772e-01</td>\n",
              "      <td>9.038769e-01</td>\n",
              "      <td>9.599837e-01</td>\n",
              "      <td>9.746236e-01</td>\n",
              "      <td>9.098828e-01</td>\n",
              "      <td>9.779709e-01</td>\n",
              "      <td>9.967267e-01</td>\n",
              "      <td>9.923454e-01</td>\n",
              "      <td>8.016867e-01</td>\n",
              "      <td>5.155533e-01</td>\n",
              "      <td>8.297308e-01</td>\n",
              "      <td>8.929645e-01</td>\n",
              "      <td>9.497162e-01</td>\n",
              "      <td>8.178296e-01</td>\n",
              "      <td>5.463286e-01</td>\n",
              "      <td>8.440488e-01</td>\n",
              "      <td>9.146591e-01</td>\n",
              "      <td>9.633818e-01</td>\n",
              "      <td>1.001089e+00</td>\n",
              "      <td>9.868415e-01</td>\n",
              "      <td>1.001089e+00</td>\n",
              "      <td>1.001089e+00</td>\n",
              "      <td>9.879448e-01</td>\n",
              "      <td>9.934426e-01</td>\n",
              "      <td>8.284169e-01</td>\n",
              "      <td>8.284169e-01</td>\n",
              "      <td>8.284169e-01</td>\n",
              "      <td>...</td>\n",
              "      <td>9.723856e-01</td>\n",
              "      <td>9.723856e-01</td>\n",
              "      <td>9.622504e-01</td>\n",
              "      <td>9.622504e-01</td>\n",
              "      <td>3.523961e-01</td>\n",
              "      <td>3.523961e-01</td>\n",
              "      <td>3.523961e-01</td>\n",
              "      <td>3.523961e-01</td>\n",
              "      <td>3.523961e-01</td>\n",
              "      <td>3.523961e-01</td>\n",
              "      <td>3.523961e-01</td>\n",
              "      <td>3.523961e-01</td>\n",
              "      <td>3.492912e-01</td>\n",
              "      <td>3.523961e-01</td>\n",
              "      <td>3.492912e-01</td>\n",
              "      <td>3.523961e-01</td>\n",
              "      <td>3.523961e-01</td>\n",
              "      <td>3.523961e-01</td>\n",
              "      <td>3.523961e-01</td>\n",
              "      <td>3.523961e-01</td>\n",
              "      <td>3.523961e-01</td>\n",
              "      <td>3.523961e-01</td>\n",
              "      <td>3.523961e-01</td>\n",
              "      <td>3.523961e-01</td>\n",
              "      <td>2.681332e-01</td>\n",
              "      <td>3.523961e-01</td>\n",
              "      <td>3.523961e-01</td>\n",
              "      <td>3.523961e-01</td>\n",
              "      <td>3.523961e-01</td>\n",
              "      <td>3.523961e-01</td>\n",
              "      <td>3.523961e-01</td>\n",
              "      <td>3.523961e-01</td>\n",
              "      <td>3.523961e-01</td>\n",
              "      <td>3.523961e-01</td>\n",
              "      <td>3.398064e-01</td>\n",
              "      <td>3.523961e-01</td>\n",
              "      <td>3.523961e-01</td>\n",
              "      <td>3.523961e-01</td>\n",
              "      <td>3.429972e-01</td>\n",
              "      <td>3.523961e-01</td>\n",
              "    </tr>\n",
              "    <tr>\n",
              "      <th>min</th>\n",
              "      <td>2.110000</td>\n",
              "      <td>-2.180963e+00</td>\n",
              "      <td>-2.091371e+00</td>\n",
              "      <td>-2.457694e+00</td>\n",
              "      <td>-2.616811e+00</td>\n",
              "      <td>-2.717730e+00</td>\n",
              "      <td>-2.611875e+00</td>\n",
              "      <td>-2.146697e+00</td>\n",
              "      <td>-2.494854e+00</td>\n",
              "      <td>-2.692208e+00</td>\n",
              "      <td>-2.866780e+00</td>\n",
              "      <td>-1.928370e+00</td>\n",
              "      <td>-1.958978e+00</td>\n",
              "      <td>-2.073133e+00</td>\n",
              "      <td>-2.480562e+00</td>\n",
              "      <td>-2.587218e+00</td>\n",
              "      <td>-2.154804e+00</td>\n",
              "      <td>-1.736521e+00</td>\n",
              "      <td>-2.367752e+00</td>\n",
              "      <td>-2.358107e+00</td>\n",
              "      <td>-2.536035e+00</td>\n",
              "      <td>-2.832875e+00</td>\n",
              "      <td>-2.062899e+00</td>\n",
              "      <td>-2.538109e+00</td>\n",
              "      <td>-2.544646e+00</td>\n",
              "      <td>-2.975993e+00</td>\n",
              "      <td>-2.232657e+00</td>\n",
              "      <td>-1.390585e+00</td>\n",
              "      <td>-2.076114e+00</td>\n",
              "      <td>-2.454262e+00</td>\n",
              "      <td>-2.621214e+00</td>\n",
              "      <td>-2.730519e+00</td>\n",
              "      <td>-3.285699e+00</td>\n",
              "      <td>-2.857471e+00</td>\n",
              "      <td>-2.640956e+00</td>\n",
              "      <td>-3.365334e+00</td>\n",
              "      <td>-3.053654e+00</td>\n",
              "      <td>-5.712506e-01</td>\n",
              "      <td>-2.506754e+00</td>\n",
              "      <td>-2.131491e+00</td>\n",
              "      <td>...</td>\n",
              "      <td>-2.090393e+00</td>\n",
              "      <td>-1.290391e+00</td>\n",
              "      <td>-2.303383e+00</td>\n",
              "      <td>-1.227814e+00</td>\n",
              "      <td>-7.652167e-01</td>\n",
              "      <td>-7.641548e-01</td>\n",
              "      <td>-7.791770e-01</td>\n",
              "      <td>-1.783836e+00</td>\n",
              "      <td>-1.744183e+00</td>\n",
              "      <td>-2.697147e+00</td>\n",
              "      <td>-5.229959e-01</td>\n",
              "      <td>-5.134794e-01</td>\n",
              "      <td>-4.852968e-01</td>\n",
              "      <td>-1.643062e-01</td>\n",
              "      <td>-2.840628e-01</td>\n",
              "      <td>-1.657170e-01</td>\n",
              "      <td>-1.058743e+00</td>\n",
              "      <td>-7.382852e-01</td>\n",
              "      <td>-7.199437e-01</td>\n",
              "      <td>-7.288049e-01</td>\n",
              "      <td>-8.890735e-01</td>\n",
              "      <td>-1.772516e-01</td>\n",
              "      <td>-9.401666e-01</td>\n",
              "      <td>-4.113652e-01</td>\n",
              "      <td>-4.988162e-01</td>\n",
              "      <td>-4.022628e-01</td>\n",
              "      <td>-5.833397e-01</td>\n",
              "      <td>-5.256417e-01</td>\n",
              "      <td>-6.179803e-01</td>\n",
              "      <td>-1.260037e+00</td>\n",
              "      <td>-7.463276e-01</td>\n",
              "      <td>-7.326642e-01</td>\n",
              "      <td>-7.551409e-01</td>\n",
              "      <td>-3.810549e-01</td>\n",
              "      <td>-6.687634e-01</td>\n",
              "      <td>-3.740633e-01</td>\n",
              "      <td>-4.758238e-01</td>\n",
              "      <td>-4.706326e-01</td>\n",
              "      <td>-4.806834e-01</td>\n",
              "      <td>-7.042385e-01</td>\n",
              "    </tr>\n",
              "    <tr>\n",
              "      <th>25%</th>\n",
              "      <td>11.120000</td>\n",
              "      <td>-6.286662e-01</td>\n",
              "      <td>-5.462367e-01</td>\n",
              "      <td>-7.043978e-01</td>\n",
              "      <td>-6.980020e-01</td>\n",
              "      <td>-7.355009e-01</td>\n",
              "      <td>-3.484737e-01</td>\n",
              "      <td>0.000000e+00</td>\n",
              "      <td>-4.828962e-01</td>\n",
              "      <td>-4.829426e-01</td>\n",
              "      <td>-6.554558e-01</td>\n",
              "      <td>-5.594511e-01</td>\n",
              "      <td>0.000000e+00</td>\n",
              "      <td>-5.209524e-01</td>\n",
              "      <td>-4.208498e-01</td>\n",
              "      <td>-7.051382e-01</td>\n",
              "      <td>-6.540779e-01</td>\n",
              "      <td>-7.449925e-01</td>\n",
              "      <td>-7.040644e-01</td>\n",
              "      <td>-8.171146e-01</td>\n",
              "      <td>-6.639622e-01</td>\n",
              "      <td>-3.628016e-01</td>\n",
              "      <td>0.000000e+00</td>\n",
              "      <td>-4.805884e-01</td>\n",
              "      <td>-5.860079e-01</td>\n",
              "      <td>-5.311353e-01</td>\n",
              "      <td>-5.485961e-01</td>\n",
              "      <td>0.000000e+00</td>\n",
              "      <td>-5.268120e-01</td>\n",
              "      <td>-4.253838e-01</td>\n",
              "      <td>-6.094087e-01</td>\n",
              "      <td>-7.363398e-01</td>\n",
              "      <td>-6.351467e-01</td>\n",
              "      <td>-6.932101e-01</td>\n",
              "      <td>-8.531721e-01</td>\n",
              "      <td>-5.226561e-01</td>\n",
              "      <td>-6.484733e-01</td>\n",
              "      <td>-5.712506e-01</td>\n",
              "      <td>-1.957220e-01</td>\n",
              "      <td>-3.378905e-01</td>\n",
              "      <td>...</td>\n",
              "      <td>-8.199053e-01</td>\n",
              "      <td>-8.318075e-01</td>\n",
              "      <td>-6.930244e-01</td>\n",
              "      <td>-8.202692e-01</td>\n",
              "      <td>0.000000e+00</td>\n",
              "      <td>0.000000e+00</td>\n",
              "      <td>0.000000e+00</td>\n",
              "      <td>0.000000e+00</td>\n",
              "      <td>0.000000e+00</td>\n",
              "      <td>0.000000e+00</td>\n",
              "      <td>0.000000e+00</td>\n",
              "      <td>0.000000e+00</td>\n",
              "      <td>0.000000e+00</td>\n",
              "      <td>0.000000e+00</td>\n",
              "      <td>0.000000e+00</td>\n",
              "      <td>0.000000e+00</td>\n",
              "      <td>0.000000e+00</td>\n",
              "      <td>0.000000e+00</td>\n",
              "      <td>0.000000e+00</td>\n",
              "      <td>0.000000e+00</td>\n",
              "      <td>0.000000e+00</td>\n",
              "      <td>0.000000e+00</td>\n",
              "      <td>0.000000e+00</td>\n",
              "      <td>0.000000e+00</td>\n",
              "      <td>0.000000e+00</td>\n",
              "      <td>0.000000e+00</td>\n",
              "      <td>0.000000e+00</td>\n",
              "      <td>0.000000e+00</td>\n",
              "      <td>0.000000e+00</td>\n",
              "      <td>0.000000e+00</td>\n",
              "      <td>0.000000e+00</td>\n",
              "      <td>0.000000e+00</td>\n",
              "      <td>0.000000e+00</td>\n",
              "      <td>0.000000e+00</td>\n",
              "      <td>0.000000e+00</td>\n",
              "      <td>0.000000e+00</td>\n",
              "      <td>0.000000e+00</td>\n",
              "      <td>0.000000e+00</td>\n",
              "      <td>0.000000e+00</td>\n",
              "      <td>0.000000e+00</td>\n",
              "    </tr>\n",
              "    <tr>\n",
              "      <th>50%</th>\n",
              "      <td>23.470000</td>\n",
              "      <td>-1.031640e-01</td>\n",
              "      <td>0.000000e+00</td>\n",
              "      <td>-1.117159e-01</td>\n",
              "      <td>6.844730e-02</td>\n",
              "      <td>0.000000e+00</td>\n",
              "      <td>0.000000e+00</td>\n",
              "      <td>0.000000e+00</td>\n",
              "      <td>0.000000e+00</td>\n",
              "      <td>0.000000e+00</td>\n",
              "      <td>0.000000e+00</td>\n",
              "      <td>0.000000e+00</td>\n",
              "      <td>0.000000e+00</td>\n",
              "      <td>0.000000e+00</td>\n",
              "      <td>0.000000e+00</td>\n",
              "      <td>0.000000e+00</td>\n",
              "      <td>-1.263449e-01</td>\n",
              "      <td>0.000000e+00</td>\n",
              "      <td>-1.267924e-01</td>\n",
              "      <td>8.322164e-02</td>\n",
              "      <td>-9.004799e-02</td>\n",
              "      <td>0.000000e+00</td>\n",
              "      <td>0.000000e+00</td>\n",
              "      <td>0.000000e+00</td>\n",
              "      <td>0.000000e+00</td>\n",
              "      <td>0.000000e+00</td>\n",
              "      <td>0.000000e+00</td>\n",
              "      <td>0.000000e+00</td>\n",
              "      <td>0.000000e+00</td>\n",
              "      <td>0.000000e+00</td>\n",
              "      <td>-2.981577e-02</td>\n",
              "      <td>4.905006e-02</td>\n",
              "      <td>1.721485e-03</td>\n",
              "      <td>2.033174e-02</td>\n",
              "      <td>-1.642087e-01</td>\n",
              "      <td>0.000000e+00</td>\n",
              "      <td>-1.068262e-01</td>\n",
              "      <td>0.000000e+00</td>\n",
              "      <td>0.000000e+00</td>\n",
              "      <td>0.000000e+00</td>\n",
              "      <td>...</td>\n",
              "      <td>0.000000e+00</td>\n",
              "      <td>-4.571996e-02</td>\n",
              "      <td>-1.324375e-01</td>\n",
              "      <td>0.000000e+00</td>\n",
              "      <td>0.000000e+00</td>\n",
              "      <td>0.000000e+00</td>\n",
              "      <td>0.000000e+00</td>\n",
              "      <td>0.000000e+00</td>\n",
              "      <td>0.000000e+00</td>\n",
              "      <td>0.000000e+00</td>\n",
              "      <td>0.000000e+00</td>\n",
              "      <td>0.000000e+00</td>\n",
              "      <td>0.000000e+00</td>\n",
              "      <td>0.000000e+00</td>\n",
              "      <td>0.000000e+00</td>\n",
              "      <td>0.000000e+00</td>\n",
              "      <td>0.000000e+00</td>\n",
              "      <td>0.000000e+00</td>\n",
              "      <td>0.000000e+00</td>\n",
              "      <td>0.000000e+00</td>\n",
              "      <td>0.000000e+00</td>\n",
              "      <td>0.000000e+00</td>\n",
              "      <td>0.000000e+00</td>\n",
              "      <td>0.000000e+00</td>\n",
              "      <td>0.000000e+00</td>\n",
              "      <td>0.000000e+00</td>\n",
              "      <td>0.000000e+00</td>\n",
              "      <td>0.000000e+00</td>\n",
              "      <td>0.000000e+00</td>\n",
              "      <td>0.000000e+00</td>\n",
              "      <td>0.000000e+00</td>\n",
              "      <td>0.000000e+00</td>\n",
              "      <td>0.000000e+00</td>\n",
              "      <td>0.000000e+00</td>\n",
              "      <td>0.000000e+00</td>\n",
              "      <td>0.000000e+00</td>\n",
              "      <td>0.000000e+00</td>\n",
              "      <td>0.000000e+00</td>\n",
              "      <td>0.000000e+00</td>\n",
              "      <td>0.000000e+00</td>\n",
              "    </tr>\n",
              "    <tr>\n",
              "      <th>75%</th>\n",
              "      <td>49.260000</td>\n",
              "      <td>6.027119e-01</td>\n",
              "      <td>6.705910e-01</td>\n",
              "      <td>5.286408e-01</td>\n",
              "      <td>6.717481e-01</td>\n",
              "      <td>6.565816e-01</td>\n",
              "      <td>1.705657e-01</td>\n",
              "      <td>0.000000e+00</td>\n",
              "      <td>3.471345e-01</td>\n",
              "      <td>4.881792e-01</td>\n",
              "      <td>5.361994e-01</td>\n",
              "      <td>2.409697e-01</td>\n",
              "      <td>0.000000e+00</td>\n",
              "      <td>2.993663e-01</td>\n",
              "      <td>4.773274e-01</td>\n",
              "      <td>5.729396e-01</td>\n",
              "      <td>6.097817e-01</td>\n",
              "      <td>6.535741e-01</td>\n",
              "      <td>5.966515e-01</td>\n",
              "      <td>6.056511e-01</td>\n",
              "      <td>5.003434e-01</td>\n",
              "      <td>2.191340e-01</td>\n",
              "      <td>0.000000e+00</td>\n",
              "      <td>3.596131e-01</td>\n",
              "      <td>4.701353e-01</td>\n",
              "      <td>4.630411e-01</td>\n",
              "      <td>2.439698e-01</td>\n",
              "      <td>0.000000e+00</td>\n",
              "      <td>3.089479e-01</td>\n",
              "      <td>4.567524e-01</td>\n",
              "      <td>4.241894e-01</td>\n",
              "      <td>7.245606e-01</td>\n",
              "      <td>6.245492e-01</td>\n",
              "      <td>6.462059e-01</td>\n",
              "      <td>8.212484e-01</td>\n",
              "      <td>5.884784e-01</td>\n",
              "      <td>6.351105e-01</td>\n",
              "      <td>0.000000e+00</td>\n",
              "      <td>2.411242e-01</td>\n",
              "      <td>3.873200e-01</td>\n",
              "      <td>...</td>\n",
              "      <td>1.100694e+00</td>\n",
              "      <td>8.551479e-01</td>\n",
              "      <td>7.677107e-01</td>\n",
              "      <td>6.003590e-01</td>\n",
              "      <td>0.000000e+00</td>\n",
              "      <td>0.000000e+00</td>\n",
              "      <td>0.000000e+00</td>\n",
              "      <td>0.000000e+00</td>\n",
              "      <td>0.000000e+00</td>\n",
              "      <td>0.000000e+00</td>\n",
              "      <td>0.000000e+00</td>\n",
              "      <td>0.000000e+00</td>\n",
              "      <td>0.000000e+00</td>\n",
              "      <td>0.000000e+00</td>\n",
              "      <td>0.000000e+00</td>\n",
              "      <td>0.000000e+00</td>\n",
              "      <td>0.000000e+00</td>\n",
              "      <td>0.000000e+00</td>\n",
              "      <td>0.000000e+00</td>\n",
              "      <td>0.000000e+00</td>\n",
              "      <td>0.000000e+00</td>\n",
              "      <td>0.000000e+00</td>\n",
              "      <td>0.000000e+00</td>\n",
              "      <td>0.000000e+00</td>\n",
              "      <td>0.000000e+00</td>\n",
              "      <td>0.000000e+00</td>\n",
              "      <td>0.000000e+00</td>\n",
              "      <td>0.000000e+00</td>\n",
              "      <td>0.000000e+00</td>\n",
              "      <td>0.000000e+00</td>\n",
              "      <td>0.000000e+00</td>\n",
              "      <td>0.000000e+00</td>\n",
              "      <td>0.000000e+00</td>\n",
              "      <td>0.000000e+00</td>\n",
              "      <td>0.000000e+00</td>\n",
              "      <td>0.000000e+00</td>\n",
              "      <td>0.000000e+00</td>\n",
              "      <td>0.000000e+00</td>\n",
              "      <td>0.000000e+00</td>\n",
              "      <td>0.000000e+00</td>\n",
              "    </tr>\n",
              "    <tr>\n",
              "      <th>max</th>\n",
              "      <td>376.060000</td>\n",
              "      <td>2.831663e+00</td>\n",
              "      <td>3.102148e+00</td>\n",
              "      <td>3.136630e+00</td>\n",
              "      <td>2.728367e+00</td>\n",
              "      <td>2.667035e+00</td>\n",
              "      <td>2.453165e+00</td>\n",
              "      <td>2.788378e+00</td>\n",
              "      <td>2.645796e+00</td>\n",
              "      <td>2.610515e+00</td>\n",
              "      <td>2.623248e+00</td>\n",
              "      <td>2.672861e+00</td>\n",
              "      <td>3.233994e+00</td>\n",
              "      <td>2.942768e+00</td>\n",
              "      <td>2.835397e+00</td>\n",
              "      <td>2.771427e+00</td>\n",
              "      <td>2.849089e+00</td>\n",
              "      <td>2.267157e+00</td>\n",
              "      <td>2.741385e+00</td>\n",
              "      <td>2.810715e+00</td>\n",
              "      <td>2.991478e+00</td>\n",
              "      <td>2.449275e+00</td>\n",
              "      <td>2.539743e+00</td>\n",
              "      <td>2.353436e+00</td>\n",
              "      <td>2.695714e+00</td>\n",
              "      <td>2.666481e+00</td>\n",
              "      <td>2.687797e+00</td>\n",
              "      <td>2.592704e+00</td>\n",
              "      <td>2.568069e+00</td>\n",
              "      <td>2.922354e+00</td>\n",
              "      <td>2.928714e+00</td>\n",
              "      <td>2.787325e+00</td>\n",
              "      <td>2.441214e+00</td>\n",
              "      <td>2.629693e+00</td>\n",
              "      <td>2.453142e+00</td>\n",
              "      <td>2.526938e+00</td>\n",
              "      <td>2.828448e+00</td>\n",
              "      <td>6.708269e+00</td>\n",
              "      <td>3.374974e+00</td>\n",
              "      <td>2.050437e+00</td>\n",
              "      <td>...</td>\n",
              "      <td>1.113484e+00</td>\n",
              "      <td>1.780925e+00</td>\n",
              "      <td>1.617717e+00</td>\n",
              "      <td>2.306497e+00</td>\n",
              "      <td>3.374305e+00</td>\n",
              "      <td>3.325118e+00</td>\n",
              "      <td>3.641552e+00</td>\n",
              "      <td>2.735128e+00</td>\n",
              "      <td>2.784156e+00</td>\n",
              "      <td>2.588850e+00</td>\n",
              "      <td>5.240521e+00</td>\n",
              "      <td>3.996452e+00</td>\n",
              "      <td>5.929044e+00</td>\n",
              "      <td>7.439563e+00</td>\n",
              "      <td>7.240665e+00</td>\n",
              "      <td>7.443566e+00</td>\n",
              "      <td>6.578258e+00</td>\n",
              "      <td>3.224668e+00</td>\n",
              "      <td>3.263014e+00</td>\n",
              "      <td>3.402341e+00</td>\n",
              "      <td>4.242323e+00</td>\n",
              "      <td>7.472959e+00</td>\n",
              "      <td>5.196818e+00</td>\n",
              "      <td>4.145044e+00</td>\n",
              "      <td>4.591884e+00</td>\n",
              "      <td>5.292086e+00</td>\n",
              "      <td>5.175747e+00</td>\n",
              "      <td>5.699584e+00</td>\n",
              "      <td>4.568282e+00</td>\n",
              "      <td>5.587085e+00</td>\n",
              "      <td>3.198550e+00</td>\n",
              "      <td>3.325196e+00</td>\n",
              "      <td>3.156517e+00</td>\n",
              "      <td>4.018817e+00</td>\n",
              "      <td>4.520255e+00</td>\n",
              "      <td>6.720366e+00</td>\n",
              "      <td>4.655636e+00</td>\n",
              "      <td>4.303487e+00</td>\n",
              "      <td>5.008494e+00</td>\n",
              "      <td>6.359892e+00</td>\n",
              "    </tr>\n",
              "  </tbody>\n",
              "</table>\n",
              "<p>8 rows × 93 columns</p>\n",
              "</div>"
            ],
            "text/plain": [
              "       significance  flux_aper_hilim_s  ...  brems_nh_lolim    brems_stat\n",
              "count    460.000000       4.600000e+02  ...    4.600000e+02  4.600000e+02\n",
              "mean      70.680500      -1.931064e-14  ...   -1.206764e-17  1.906687e-17\n",
              "std      109.946267       9.667681e-01  ...    3.429972e-01  3.523961e-01\n",
              "min        2.110000      -2.180963e+00  ...   -4.806834e-01 -7.042385e-01\n",
              "25%       11.120000      -6.286662e-01  ...    0.000000e+00  0.000000e+00\n",
              "50%       23.470000      -1.031640e-01  ...    0.000000e+00  0.000000e+00\n",
              "75%       49.260000       6.027119e-01  ...    0.000000e+00  0.000000e+00\n",
              "max      376.060000       2.831663e+00  ...    5.008494e+00  6.359892e+00\n",
              "\n",
              "[8 rows x 93 columns]"
            ]
          },
          "metadata": {}
        },
        {
          "output_type": "stream",
          "name": "stdout",
          "text": [
            "302.0 158.0\n"
          ]
        },
        {
          "output_type": "display_data",
          "data": {
            "text/html": [
              "<div>\n",
              "<style scoped>\n",
              "    .dataframe tbody tr th:only-of-type {\n",
              "        vertical-align: middle;\n",
              "    }\n",
              "\n",
              "    .dataframe tbody tr th {\n",
              "        vertical-align: top;\n",
              "    }\n",
              "\n",
              "    .dataframe thead th {\n",
              "        text-align: right;\n",
              "    }\n",
              "</style>\n",
              "<table border=\"1\" class=\"dataframe\">\n",
              "  <thead>\n",
              "    <tr style=\"text-align: right;\">\n",
              "      <th></th>\n",
              "      <th>significance</th>\n",
              "      <th>flux_aper_hilim_s</th>\n",
              "      <th>flux_aper_hilim_u</th>\n",
              "      <th>flux_aper_hilim_m</th>\n",
              "      <th>flux_aper_hilim_h</th>\n",
              "      <th>flux_aper_hilim_b</th>\n",
              "      <th>flux_aper_lolim_s</th>\n",
              "      <th>flux_aper_lolim_u</th>\n",
              "      <th>flux_aper_lolim_m</th>\n",
              "      <th>flux_aper_lolim_h</th>\n",
              "      <th>flux_aper_lolim_b</th>\n",
              "      <th>flux_aper_s</th>\n",
              "      <th>flux_aper_u</th>\n",
              "      <th>flux_aper_m</th>\n",
              "      <th>flux_aper_h</th>\n",
              "      <th>flux_aper_b</th>\n",
              "      <th>photflux_aper_hilim_s</th>\n",
              "      <th>photflux_aper_hilim_u</th>\n",
              "      <th>photflux_aper_hilim_m</th>\n",
              "      <th>photflux_aper_hilim_h</th>\n",
              "      <th>photflux_aper_hilim_b</th>\n",
              "      <th>photflux_aper_lolim_s</th>\n",
              "      <th>photflux_aper_lolim_u</th>\n",
              "      <th>photflux_aper_lolim_m</th>\n",
              "      <th>photflux_aper_lolim_h</th>\n",
              "      <th>photflux_aper_lolim_b</th>\n",
              "      <th>photflux_aper_s</th>\n",
              "      <th>photflux_aper_u</th>\n",
              "      <th>photflux_aper_m</th>\n",
              "      <th>photflux_aper_h</th>\n",
              "      <th>photflux_aper_b</th>\n",
              "      <th>flux_aper_hilim</th>\n",
              "      <th>flux_aper_lolim</th>\n",
              "      <th>flux_aper</th>\n",
              "      <th>photflux_aper_hilim</th>\n",
              "      <th>photflux_aper_lolim</th>\n",
              "      <th>photflux_aper</th>\n",
              "      <th>var_index</th>\n",
              "      <th>var_prob</th>\n",
              "      <th>ks_prob</th>\n",
              "      <th>...</th>\n",
              "      <th>hard_hs_hilim</th>\n",
              "      <th>hard_hs_lolim</th>\n",
              "      <th>hard_ms_hilim</th>\n",
              "      <th>hard_ms_lolim</th>\n",
              "      <th>flux_powlaw</th>\n",
              "      <th>flux_powlaw_hilim</th>\n",
              "      <th>flux_powlaw_lolim</th>\n",
              "      <th>powlaw_gamma</th>\n",
              "      <th>powlaw_gamma_hilim</th>\n",
              "      <th>powlaw_gamma_lolim</th>\n",
              "      <th>powlaw_nh</th>\n",
              "      <th>powlaw_nh_hilim</th>\n",
              "      <th>powlaw_nh_lolim</th>\n",
              "      <th>powlaw_ampl</th>\n",
              "      <th>powlaw_ampl_hilim</th>\n",
              "      <th>powlaw_ampl_lolim</th>\n",
              "      <th>powlaw_stat</th>\n",
              "      <th>flux_bb</th>\n",
              "      <th>flux_bb_hilim</th>\n",
              "      <th>flux_bb_lolim</th>\n",
              "      <th>bb_kt</th>\n",
              "      <th>bb_kt_hilim</th>\n",
              "      <th>bb_kt_lolim</th>\n",
              "      <th>bb_nh_hilim</th>\n",
              "      <th>bb_nh_lolim</th>\n",
              "      <th>bb_nh</th>\n",
              "      <th>bb_ampl</th>\n",
              "      <th>bb_ampl_lolim</th>\n",
              "      <th>bb_ampl_hilim</th>\n",
              "      <th>bb_stat</th>\n",
              "      <th>flux_brems</th>\n",
              "      <th>flux_brems_lolim</th>\n",
              "      <th>flux_brems_hilim</th>\n",
              "      <th>brems_kt</th>\n",
              "      <th>brems_kt_hilim</th>\n",
              "      <th>brems_kt_lolim</th>\n",
              "      <th>brems_nh</th>\n",
              "      <th>brems_nh_hilim</th>\n",
              "      <th>brems_nh_lolim</th>\n",
              "      <th>brems_stat</th>\n",
              "    </tr>\n",
              "  </thead>\n",
              "  <tbody>\n",
              "    <tr>\n",
              "      <th>count</th>\n",
              "      <td>460.000000</td>\n",
              "      <td>460.000000</td>\n",
              "      <td>460.000000</td>\n",
              "      <td>460.000000</td>\n",
              "      <td>460.000000</td>\n",
              "      <td>460.000000</td>\n",
              "      <td>460.000000</td>\n",
              "      <td>460.000000</td>\n",
              "      <td>460.000000</td>\n",
              "      <td>460.000000</td>\n",
              "      <td>460.000000</td>\n",
              "      <td>460.000000</td>\n",
              "      <td>460.000000</td>\n",
              "      <td>460.000000</td>\n",
              "      <td>460.000000</td>\n",
              "      <td>460.000000</td>\n",
              "      <td>460.000000</td>\n",
              "      <td>460.000000</td>\n",
              "      <td>460.000000</td>\n",
              "      <td>460.000000</td>\n",
              "      <td>460.000000</td>\n",
              "      <td>460.000000</td>\n",
              "      <td>460.000000</td>\n",
              "      <td>460.000000</td>\n",
              "      <td>460.000000</td>\n",
              "      <td>460.000000</td>\n",
              "      <td>460.000000</td>\n",
              "      <td>460.000000</td>\n",
              "      <td>460.000000</td>\n",
              "      <td>460.000000</td>\n",
              "      <td>460.000000</td>\n",
              "      <td>460.000000</td>\n",
              "      <td>460.000000</td>\n",
              "      <td>460.000000</td>\n",
              "      <td>460.000000</td>\n",
              "      <td>460.000000</td>\n",
              "      <td>460.000000</td>\n",
              "      <td>460.000000</td>\n",
              "      <td>460.000000</td>\n",
              "      <td>460.000000</td>\n",
              "      <td>...</td>\n",
              "      <td>460.000000</td>\n",
              "      <td>460.000000</td>\n",
              "      <td>460.000000</td>\n",
              "      <td>460.000000</td>\n",
              "      <td>4.600000e+02</td>\n",
              "      <td>4.600000e+02</td>\n",
              "      <td>4.600000e+02</td>\n",
              "      <td>460.000000</td>\n",
              "      <td>460.000000</td>\n",
              "      <td>460.000000</td>\n",
              "      <td>460.000000</td>\n",
              "      <td>460.000000</td>\n",
              "      <td>460.000000</td>\n",
              "      <td>460.000000</td>\n",
              "      <td>460.000000</td>\n",
              "      <td>460.000000</td>\n",
              "      <td>460.000000</td>\n",
              "      <td>4.600000e+02</td>\n",
              "      <td>4.600000e+02</td>\n",
              "      <td>4.600000e+02</td>\n",
              "      <td>460.000000</td>\n",
              "      <td>460.000000</td>\n",
              "      <td>460.000000</td>\n",
              "      <td>460.000000</td>\n",
              "      <td>460.000000</td>\n",
              "      <td>460.000000</td>\n",
              "      <td>460.000000</td>\n",
              "      <td>460.000000</td>\n",
              "      <td>460.000000</td>\n",
              "      <td>460.000000</td>\n",
              "      <td>4.600000e+02</td>\n",
              "      <td>4.600000e+02</td>\n",
              "      <td>4.600000e+02</td>\n",
              "      <td>460.000000</td>\n",
              "      <td>460.000000</td>\n",
              "      <td>460.000000</td>\n",
              "      <td>460.000000</td>\n",
              "      <td>460.000000</td>\n",
              "      <td>460.000000</td>\n",
              "      <td>460.000000</td>\n",
              "    </tr>\n",
              "    <tr>\n",
              "      <th>mean</th>\n",
              "      <td>70.680500</td>\n",
              "      <td>-13.665727</td>\n",
              "      <td>-10.585485</td>\n",
              "      <td>-13.672153</td>\n",
              "      <td>-13.524028</td>\n",
              "      <td>-13.598865</td>\n",
              "      <td>-9.545423</td>\n",
              "      <td>-2.479007</td>\n",
              "      <td>-10.270777</td>\n",
              "      <td>-11.095915</td>\n",
              "      <td>-12.498400</td>\n",
              "      <td>-9.697621</td>\n",
              "      <td>-2.679656</td>\n",
              "      <td>-10.491571</td>\n",
              "      <td>-11.340224</td>\n",
              "      <td>-12.737676</td>\n",
              "      <td>-5.572660</td>\n",
              "      <td>-4.193685</td>\n",
              "      <td>-5.703923</td>\n",
              "      <td>-5.698617</td>\n",
              "      <td>-5.180575</td>\n",
              "      <td>-3.907787</td>\n",
              "      <td>-1.557560</td>\n",
              "      <td>-4.249623</td>\n",
              "      <td>-4.805794</td>\n",
              "      <td>-5.002329</td>\n",
              "      <td>-3.866819</td>\n",
              "      <td>-1.596052</td>\n",
              "      <td>-4.204678</td>\n",
              "      <td>-4.796025</td>\n",
              "      <td>-4.958673</td>\n",
              "      <td>-13.980383</td>\n",
              "      <td>-14.150584</td>\n",
              "      <td>-14.269228</td>\n",
              "      <td>-5.348413</td>\n",
              "      <td>-5.919781</td>\n",
              "      <td>-5.654965</td>\n",
              "      <td>0.494384</td>\n",
              "      <td>0.305254</td>\n",
              "      <td>0.350833</td>\n",
              "      <td>...</td>\n",
              "      <td>0.304895</td>\n",
              "      <td>-0.151678</td>\n",
              "      <td>0.178714</td>\n",
              "      <td>-0.354552</td>\n",
              "      <td>4.148278e-14</td>\n",
              "      <td>4.365084e-14</td>\n",
              "      <td>3.820060e-14</td>\n",
              "      <td>0.395028</td>\n",
              "      <td>0.437861</td>\n",
              "      <td>0.356772</td>\n",
              "      <td>20.025880</td>\n",
              "      <td>25.727326</td>\n",
              "      <td>15.800296</td>\n",
              "      <td>0.000496</td>\n",
              "      <td>0.000138</td>\n",
              "      <td>0.000366</td>\n",
              "      <td>0.134785</td>\n",
              "      <td>3.794652e-14</td>\n",
              "      <td>4.150991e-14</td>\n",
              "      <td>3.340407e-14</td>\n",
              "      <td>0.079066</td>\n",
              "      <td>0.262875</td>\n",
              "      <td>0.070618</td>\n",
              "      <td>13.858500</td>\n",
              "      <td>7.493357</td>\n",
              "      <td>10.049044</td>\n",
              "      <td>0.000339</td>\n",
              "      <td>0.000265</td>\n",
              "      <td>0.000468</td>\n",
              "      <td>0.218237</td>\n",
              "      <td>3.976932e-14</td>\n",
              "      <td>3.684994e-14</td>\n",
              "      <td>4.187235e-14</td>\n",
              "      <td>1.109605</td>\n",
              "      <td>0.566298</td>\n",
              "      <td>0.565308</td>\n",
              "      <td>16.913367</td>\n",
              "      <td>20.985130</td>\n",
              "      <td>14.195144</td>\n",
              "      <td>0.158613</td>\n",
              "    </tr>\n",
              "    <tr>\n",
              "      <th>std</th>\n",
              "      <td>109.946267</td>\n",
              "      <td>3.758502</td>\n",
              "      <td>6.281784</td>\n",
              "      <td>3.562725</td>\n",
              "      <td>2.445021</td>\n",
              "      <td>1.872480</td>\n",
              "      <td>7.192002</td>\n",
              "      <td>5.508112</td>\n",
              "      <td>6.885564</td>\n",
              "      <td>5.952367</td>\n",
              "      <td>4.500401</td>\n",
              "      <td>6.919272</td>\n",
              "      <td>5.567085</td>\n",
              "      <td>6.557210</td>\n",
              "      <td>5.450454</td>\n",
              "      <td>3.846454</td>\n",
              "      <td>1.527561</td>\n",
              "      <td>2.091813</td>\n",
              "      <td>1.470996</td>\n",
              "      <td>0.945157</td>\n",
              "      <td>1.024494</td>\n",
              "      <td>3.036423</td>\n",
              "      <td>2.636122</td>\n",
              "      <td>2.986940</td>\n",
              "      <td>2.572452</td>\n",
              "      <td>1.899964</td>\n",
              "      <td>2.813596</td>\n",
              "      <td>2.490937</td>\n",
              "      <td>2.770819</td>\n",
              "      <td>2.243113</td>\n",
              "      <td>1.602113</td>\n",
              "      <td>0.752165</td>\n",
              "      <td>2.624883</td>\n",
              "      <td>0.860268</td>\n",
              "      <td>0.783203</td>\n",
              "      <td>1.410366</td>\n",
              "      <td>1.070965</td>\n",
              "      <td>1.099499</td>\n",
              "      <td>0.246826</td>\n",
              "      <td>0.309041</td>\n",
              "      <td>...</td>\n",
              "      <td>0.595774</td>\n",
              "      <td>0.633504</td>\n",
              "      <td>0.482503</td>\n",
              "      <td>0.493585</td>\n",
              "      <td>1.887868e-13</td>\n",
              "      <td>1.974831e-13</td>\n",
              "      <td>1.725618e-13</td>\n",
              "      <td>1.178431</td>\n",
              "      <td>1.293248</td>\n",
              "      <td>1.085263</td>\n",
              "      <td>121.242172</td>\n",
              "      <td>157.649872</td>\n",
              "      <td>102.115153</td>\n",
              "      <td>0.008679</td>\n",
              "      <td>0.001434</td>\n",
              "      <td>0.006350</td>\n",
              "      <td>0.409767</td>\n",
              "      <td>1.760791e-13</td>\n",
              "      <td>1.958238e-13</td>\n",
              "      <td>1.572686e-13</td>\n",
              "      <td>0.274417</td>\n",
              "      <td>3.883612</td>\n",
              "      <td>0.236322</td>\n",
              "      <td>102.602843</td>\n",
              "      <td>62.295068</td>\n",
              "      <td>75.913177</td>\n",
              "      <td>0.001884</td>\n",
              "      <td>0.001597</td>\n",
              "      <td>0.002486</td>\n",
              "      <td>0.693169</td>\n",
              "      <td>1.828352e-13</td>\n",
              "      <td>1.716889e-13</td>\n",
              "      <td>1.908868e-13</td>\n",
              "      <td>8.512305</td>\n",
              "      <td>2.798337</td>\n",
              "      <td>4.297048</td>\n",
              "      <td>110.659935</td>\n",
              "      <td>138.121021</td>\n",
              "      <td>94.621092</td>\n",
              "      <td>0.603954</td>\n",
              "    </tr>\n",
              "    <tr>\n",
              "      <th>min</th>\n",
              "      <td>2.110000</td>\n",
              "      <td>-16.403623</td>\n",
              "      <td>-16.286762</td>\n",
              "      <td>-16.438660</td>\n",
              "      <td>-16.050805</td>\n",
              "      <td>-16.001523</td>\n",
              "      <td>-17.513428</td>\n",
              "      <td>-16.808549</td>\n",
              "      <td>-17.283162</td>\n",
              "      <td>-16.795609</td>\n",
              "      <td>-16.656394</td>\n",
              "      <td>-16.151749</td>\n",
              "      <td>-15.850473</td>\n",
              "      <td>-16.201833</td>\n",
              "      <td>-15.840433</td>\n",
              "      <td>-15.890759</td>\n",
              "      <td>-7.620694</td>\n",
              "      <td>-6.633017</td>\n",
              "      <td>-7.858550</td>\n",
              "      <td>-7.593119</td>\n",
              "      <td>-7.207678</td>\n",
              "      <td>-8.964170</td>\n",
              "      <td>-7.720789</td>\n",
              "      <td>-8.698102</td>\n",
              "      <td>-8.377682</td>\n",
              "      <td>-8.401647</td>\n",
              "      <td>-7.621784</td>\n",
              "      <td>-6.456180</td>\n",
              "      <td>-7.603104</td>\n",
              "      <td>-7.583193</td>\n",
              "      <td>-7.462055</td>\n",
              "      <td>-16.031949</td>\n",
              "      <td>-17.980053</td>\n",
              "      <td>-16.724746</td>\n",
              "      <td>-7.414567</td>\n",
              "      <td>-9.566230</td>\n",
              "      <td>-8.223844</td>\n",
              "      <td>0.000000</td>\n",
              "      <td>0.000000</td>\n",
              "      <td>0.000000</td>\n",
              "      <td>...</td>\n",
              "      <td>-0.947500</td>\n",
              "      <td>-1.000000</td>\n",
              "      <td>-0.955000</td>\n",
              "      <td>-1.000000</td>\n",
              "      <td>0.000000e+00</td>\n",
              "      <td>0.000000e+00</td>\n",
              "      <td>0.000000e+00</td>\n",
              "      <td>0.000000</td>\n",
              "      <td>0.000000</td>\n",
              "      <td>-1.141000</td>\n",
              "      <td>0.000000</td>\n",
              "      <td>0.000000</td>\n",
              "      <td>0.000000</td>\n",
              "      <td>0.000000</td>\n",
              "      <td>0.000000</td>\n",
              "      <td>0.000000</td>\n",
              "      <td>0.000000</td>\n",
              "      <td>0.000000e+00</td>\n",
              "      <td>0.000000e+00</td>\n",
              "      <td>0.000000e+00</td>\n",
              "      <td>0.000000</td>\n",
              "      <td>0.000000</td>\n",
              "      <td>0.000000</td>\n",
              "      <td>0.000000</td>\n",
              "      <td>0.000000</td>\n",
              "      <td>0.000000</td>\n",
              "      <td>0.000000</td>\n",
              "      <td>0.000000</td>\n",
              "      <td>0.000000</td>\n",
              "      <td>0.000000</td>\n",
              "      <td>0.000000e+00</td>\n",
              "      <td>0.000000e+00</td>\n",
              "      <td>0.000000e+00</td>\n",
              "      <td>0.000000</td>\n",
              "      <td>0.000000</td>\n",
              "      <td>0.000000</td>\n",
              "      <td>0.000000</td>\n",
              "      <td>0.000000</td>\n",
              "      <td>0.000000</td>\n",
              "      <td>0.000000</td>\n",
              "    </tr>\n",
              "    <tr>\n",
              "      <th>25%</th>\n",
              "      <td>11.120000</td>\n",
              "      <td>-15.157782</td>\n",
              "      <td>-14.772950</td>\n",
              "      <td>-15.097236</td>\n",
              "      <td>-14.486419</td>\n",
              "      <td>-14.402365</td>\n",
              "      <td>-15.235153</td>\n",
              "      <td>0.000000</td>\n",
              "      <td>-15.289121</td>\n",
              "      <td>-14.680062</td>\n",
              "      <td>-14.651229</td>\n",
              "      <td>-15.034658</td>\n",
              "      <td>0.000000</td>\n",
              "      <td>-14.954988</td>\n",
              "      <td>-14.238076</td>\n",
              "      <td>-14.407546</td>\n",
              "      <td>-6.407968</td>\n",
              "      <td>-5.744306</td>\n",
              "      <td>-6.536332</td>\n",
              "      <td>-6.387753</td>\n",
              "      <td>-5.778979</td>\n",
              "      <td>-6.461140</td>\n",
              "      <td>-4.278179</td>\n",
              "      <td>-6.661793</td>\n",
              "      <td>-6.578399</td>\n",
              "      <td>-6.065633</td>\n",
              "      <td>-6.243061</td>\n",
              "      <td>-4.572136</td>\n",
              "      <td>-6.343234</td>\n",
              "      <td>-6.063801</td>\n",
              "      <td>-5.844438</td>\n",
              "      <td>-14.533629</td>\n",
              "      <td>-15.222830</td>\n",
              "      <td>-14.864926</td>\n",
              "      <td>-6.015893</td>\n",
              "      <td>-6.620035</td>\n",
              "      <td>-6.269319</td>\n",
              "      <td>0.000000</td>\n",
              "      <td>0.000000</td>\n",
              "      <td>0.000000</td>\n",
              "      <td>...</td>\n",
              "      <td>-0.175225</td>\n",
              "      <td>-0.701750</td>\n",
              "      <td>-0.152100</td>\n",
              "      <td>-0.795450</td>\n",
              "      <td>0.000000e+00</td>\n",
              "      <td>0.000000e+00</td>\n",
              "      <td>0.000000e+00</td>\n",
              "      <td>0.000000</td>\n",
              "      <td>0.000000</td>\n",
              "      <td>0.000000</td>\n",
              "      <td>0.000000</td>\n",
              "      <td>0.000000</td>\n",
              "      <td>0.000000</td>\n",
              "      <td>0.000000</td>\n",
              "      <td>0.000000</td>\n",
              "      <td>0.000000</td>\n",
              "      <td>0.000000</td>\n",
              "      <td>0.000000e+00</td>\n",
              "      <td>0.000000e+00</td>\n",
              "      <td>0.000000e+00</td>\n",
              "      <td>0.000000</td>\n",
              "      <td>0.000000</td>\n",
              "      <td>0.000000</td>\n",
              "      <td>0.000000</td>\n",
              "      <td>0.000000</td>\n",
              "      <td>0.000000</td>\n",
              "      <td>0.000000</td>\n",
              "      <td>0.000000</td>\n",
              "      <td>0.000000</td>\n",
              "      <td>0.000000</td>\n",
              "      <td>0.000000e+00</td>\n",
              "      <td>0.000000e+00</td>\n",
              "      <td>0.000000e+00</td>\n",
              "      <td>0.000000</td>\n",
              "      <td>0.000000</td>\n",
              "      <td>0.000000</td>\n",
              "      <td>0.000000</td>\n",
              "      <td>0.000000</td>\n",
              "      <td>0.000000</td>\n",
              "      <td>0.000000</td>\n",
              "    </tr>\n",
              "    <tr>\n",
              "      <th>50%</th>\n",
              "      <td>23.470000</td>\n",
              "      <td>-14.736025</td>\n",
              "      <td>-13.558464</td>\n",
              "      <td>-14.643783</td>\n",
              "      <td>-13.813854</td>\n",
              "      <td>-13.795609</td>\n",
              "      <td>-14.031779</td>\n",
              "      <td>0.000000</td>\n",
              "      <td>-14.179348</td>\n",
              "      <td>-13.784101</td>\n",
              "      <td>-13.930149</td>\n",
              "      <td>-13.977172</td>\n",
              "      <td>0.000000</td>\n",
              "      <td>-14.164436</td>\n",
              "      <td>-13.659857</td>\n",
              "      <td>-13.808581</td>\n",
              "      <td>-5.981510</td>\n",
              "      <td>-4.889760</td>\n",
              "      <td>-6.077544</td>\n",
              "      <td>-5.669485</td>\n",
              "      <td>-5.340988</td>\n",
              "      <td>-5.196647</td>\n",
              "      <td>0.000000</td>\n",
              "      <td>-5.468630</td>\n",
              "      <td>-5.701586</td>\n",
              "      <td>-5.505568</td>\n",
              "      <td>-5.163157</td>\n",
              "      <td>0.000000</td>\n",
              "      <td>-5.424467</td>\n",
              "      <td>-5.584444</td>\n",
              "      <td>-5.378409</td>\n",
              "      <td>-13.943529</td>\n",
              "      <td>-14.483203</td>\n",
              "      <td>-14.251757</td>\n",
              "      <td>-5.476882</td>\n",
              "      <td>-6.036892</td>\n",
              "      <td>-5.829159</td>\n",
              "      <td>0.000000</td>\n",
              "      <td>0.367750</td>\n",
              "      <td>0.346500</td>\n",
              "      <td>...</td>\n",
              "      <td>0.271700</td>\n",
              "      <td>-0.190500</td>\n",
              "      <td>0.027500</td>\n",
              "      <td>-0.369150</td>\n",
              "      <td>0.000000e+00</td>\n",
              "      <td>0.000000e+00</td>\n",
              "      <td>0.000000e+00</td>\n",
              "      <td>0.000000</td>\n",
              "      <td>0.000000</td>\n",
              "      <td>0.000000</td>\n",
              "      <td>0.000000</td>\n",
              "      <td>0.000000</td>\n",
              "      <td>0.000000</td>\n",
              "      <td>0.000000</td>\n",
              "      <td>0.000000</td>\n",
              "      <td>0.000000</td>\n",
              "      <td>0.000000</td>\n",
              "      <td>0.000000e+00</td>\n",
              "      <td>0.000000e+00</td>\n",
              "      <td>0.000000e+00</td>\n",
              "      <td>0.000000</td>\n",
              "      <td>0.000000</td>\n",
              "      <td>0.000000</td>\n",
              "      <td>0.000000</td>\n",
              "      <td>0.000000</td>\n",
              "      <td>0.000000</td>\n",
              "      <td>0.000000</td>\n",
              "      <td>0.000000</td>\n",
              "      <td>0.000000</td>\n",
              "      <td>0.000000</td>\n",
              "      <td>0.000000e+00</td>\n",
              "      <td>0.000000e+00</td>\n",
              "      <td>0.000000e+00</td>\n",
              "      <td>0.000000</td>\n",
              "      <td>0.000000</td>\n",
              "      <td>0.000000</td>\n",
              "      <td>0.000000</td>\n",
              "      <td>0.000000</td>\n",
              "      <td>0.000000</td>\n",
              "      <td>0.000000</td>\n",
              "    </tr>\n",
              "    <tr>\n",
              "      <th>75%</th>\n",
              "      <td>49.260000</td>\n",
              "      <td>-13.884391</td>\n",
              "      <td>0.000000</td>\n",
              "      <td>-13.880179</td>\n",
              "      <td>-13.312095</td>\n",
              "      <td>-13.246092</td>\n",
              "      <td>0.000000</td>\n",
              "      <td>0.000000</td>\n",
              "      <td>0.000000</td>\n",
              "      <td>-12.544880</td>\n",
              "      <td>-13.097168</td>\n",
              "      <td>0.000000</td>\n",
              "      <td>0.000000</td>\n",
              "      <td>0.000000</td>\n",
              "      <td>-12.887760</td>\n",
              "      <td>-13.109274</td>\n",
              "      <td>-5.185554</td>\n",
              "      <td>-3.732694</td>\n",
              "      <td>-5.292579</td>\n",
              "      <td>-5.230150</td>\n",
              "      <td>-4.769658</td>\n",
              "      <td>0.000000</td>\n",
              "      <td>0.000000</td>\n",
              "      <td>0.000000</td>\n",
              "      <td>-4.672489</td>\n",
              "      <td>-4.559335</td>\n",
              "      <td>0.000000</td>\n",
              "      <td>0.000000</td>\n",
              "      <td>0.000000</td>\n",
              "      <td>-4.795031</td>\n",
              "      <td>-4.590241</td>\n",
              "      <td>-13.435987</td>\n",
              "      <td>-13.776207</td>\n",
              "      <td>-13.713923</td>\n",
              "      <td>-4.705908</td>\n",
              "      <td>-5.298723</td>\n",
              "      <td>-5.130278</td>\n",
              "      <td>0.666667</td>\n",
              "      <td>0.484750</td>\n",
              "      <td>0.604333</td>\n",
              "      <td>...</td>\n",
              "      <td>0.992225</td>\n",
              "      <td>0.395400</td>\n",
              "      <td>0.576200</td>\n",
              "      <td>0.000000</td>\n",
              "      <td>0.000000e+00</td>\n",
              "      <td>0.000000e+00</td>\n",
              "      <td>0.000000e+00</td>\n",
              "      <td>0.000000</td>\n",
              "      <td>0.000000</td>\n",
              "      <td>0.000000</td>\n",
              "      <td>0.000000</td>\n",
              "      <td>0.000000</td>\n",
              "      <td>0.000000</td>\n",
              "      <td>0.000000</td>\n",
              "      <td>0.000000</td>\n",
              "      <td>0.000000</td>\n",
              "      <td>0.000000</td>\n",
              "      <td>0.000000e+00</td>\n",
              "      <td>0.000000e+00</td>\n",
              "      <td>0.000000e+00</td>\n",
              "      <td>0.000000</td>\n",
              "      <td>0.000000</td>\n",
              "      <td>0.000000</td>\n",
              "      <td>0.000000</td>\n",
              "      <td>0.000000</td>\n",
              "      <td>0.000000</td>\n",
              "      <td>0.000000</td>\n",
              "      <td>0.000000</td>\n",
              "      <td>0.000000</td>\n",
              "      <td>0.000000</td>\n",
              "      <td>0.000000e+00</td>\n",
              "      <td>0.000000e+00</td>\n",
              "      <td>0.000000e+00</td>\n",
              "      <td>0.000000</td>\n",
              "      <td>0.000000</td>\n",
              "      <td>0.000000</td>\n",
              "      <td>0.000000</td>\n",
              "      <td>0.000000</td>\n",
              "      <td>0.000000</td>\n",
              "      <td>0.000000</td>\n",
              "    </tr>\n",
              "    <tr>\n",
              "      <th>max</th>\n",
              "      <td>376.060000</td>\n",
              "      <td>0.000000</td>\n",
              "      <td>0.000000</td>\n",
              "      <td>0.000000</td>\n",
              "      <td>0.000000</td>\n",
              "      <td>0.000000</td>\n",
              "      <td>0.000000</td>\n",
              "      <td>0.000000</td>\n",
              "      <td>0.000000</td>\n",
              "      <td>0.000000</td>\n",
              "      <td>0.000000</td>\n",
              "      <td>0.000000</td>\n",
              "      <td>0.000000</td>\n",
              "      <td>0.000000</td>\n",
              "      <td>0.000000</td>\n",
              "      <td>0.000000</td>\n",
              "      <td>0.000000</td>\n",
              "      <td>0.000000</td>\n",
              "      <td>0.000000</td>\n",
              "      <td>0.000000</td>\n",
              "      <td>0.000000</td>\n",
              "      <td>0.000000</td>\n",
              "      <td>0.000000</td>\n",
              "      <td>0.000000</td>\n",
              "      <td>0.000000</td>\n",
              "      <td>0.000000</td>\n",
              "      <td>0.000000</td>\n",
              "      <td>0.000000</td>\n",
              "      <td>0.000000</td>\n",
              "      <td>0.000000</td>\n",
              "      <td>0.000000</td>\n",
              "      <td>-11.886136</td>\n",
              "      <td>0.000000</td>\n",
              "      <td>-12.009448</td>\n",
              "      <td>-3.429194</td>\n",
              "      <td>0.000000</td>\n",
              "      <td>0.000000</td>\n",
              "      <td>9.200000</td>\n",
              "      <td>0.991400</td>\n",
              "      <td>0.999400</td>\n",
              "      <td>...</td>\n",
              "      <td>1.000000</td>\n",
              "      <td>0.997500</td>\n",
              "      <td>1.000000</td>\n",
              "      <td>0.773900</td>\n",
              "      <td>1.801000e-12</td>\n",
              "      <td>1.859000e-12</td>\n",
              "      <td>1.749000e-12</td>\n",
              "      <td>7.317000</td>\n",
              "      <td>7.961000</td>\n",
              "      <td>6.738000</td>\n",
              "      <td>1781.000000</td>\n",
              "      <td>1818.000000</td>\n",
              "      <td>1706.000000</td>\n",
              "      <td>0.185100</td>\n",
              "      <td>0.029840</td>\n",
              "      <td>0.135500</td>\n",
              "      <td>4.783000</td>\n",
              "      <td>1.626000e-12</td>\n",
              "      <td>1.832000e-12</td>\n",
              "      <td>1.522000e-12</td>\n",
              "      <td>2.758000</td>\n",
              "      <td>83.130000</td>\n",
              "      <td>2.682000</td>\n",
              "      <td>1238.000000</td>\n",
              "      <td>1066.000000</td>\n",
              "      <td>1148.000000</td>\n",
              "      <td>0.027020</td>\n",
              "      <td>0.025310</td>\n",
              "      <td>0.031670</td>\n",
              "      <td>7.757000</td>\n",
              "      <td>1.674000e-12</td>\n",
              "      <td>1.627000e-12</td>\n",
              "      <td>1.726000e-12</td>\n",
              "      <td>100.000000</td>\n",
              "      <td>35.720000</td>\n",
              "      <td>81.320000</td>\n",
              "      <td>1472.000000</td>\n",
              "      <td>1712.000000</td>\n",
              "      <td>1380.000000</td>\n",
              "      <td>9.074000</td>\n",
              "    </tr>\n",
              "  </tbody>\n",
              "</table>\n",
              "<p>8 rows × 93 columns</p>\n",
              "</div>"
            ],
            "text/plain": [
              "       significance  flux_aper_hilim_s  ...  brems_nh_lolim  brems_stat\n",
              "count    460.000000         460.000000  ...      460.000000  460.000000\n",
              "mean      70.680500         -13.665727  ...       14.195144    0.158613\n",
              "std      109.946267           3.758502  ...       94.621092    0.603954\n",
              "min        2.110000         -16.403623  ...        0.000000    0.000000\n",
              "25%       11.120000         -15.157782  ...        0.000000    0.000000\n",
              "50%       23.470000         -14.736025  ...        0.000000    0.000000\n",
              "75%       49.260000         -13.884391  ...        0.000000    0.000000\n",
              "max      376.060000           0.000000  ...     1380.000000    9.074000\n",
              "\n",
              "[8 rows x 93 columns]"
            ]
          },
          "metadata": {}
        },
        {
          "output_type": "stream",
          "name": "stdout",
          "text": [
            "302.0 158.0\n"
          ]
        }
      ]
    },
    {
      "cell_type": "markdown",
      "metadata": {
        "id": "dh_JVmzs_-kF"
      },
      "source": [
        "# Convolution Neural Network"
      ]
    },
    {
      "cell_type": "code",
      "metadata": {
        "id": "x2HhGKcB9obn"
      },
      "source": [
        "def gen_model_cnn():\n",
        "\n",
        "    visible = layers.Input(shape=(92,1))\n",
        "    x = layers.BatchNormalization(axis=-1)(visible)\n",
        "    #x = tf.keras.layers.LeakyReLU(alpha=0.3)(visible)\n",
        "    x = layers.Conv1D(32, kernel_size=3, activation='relu' , kernel_regularizer= 'l2', kernel_initializer='he_normal')(x)\n",
        "    x = layers.MaxPool1D(pool_size=(2))(x)\n",
        "\n",
        "    #x = layers.Conv1D(32, kernel_size=4, activation='relu' ,   kernel_regularizer= 'l2', kernel_initializer='he_normal')(x)\n",
        "    #x = layers.MaxPool1D(pool_size=(2))(x)\n",
        "    x = layers.Conv1D(16, kernel_size=3, activation='relu' , kernel_regularizer= 'l2', kernel_initializer='he_normal')(x)\n",
        "    x = layers.MaxPooling1D(pool_size=(2))(x)\n",
        "    #x = layers.Conv1D(32, kernel_size=4, activation='relu')(x)\n",
        "    x = layers.MaxPooling1D(pool_size=(2))(x)\n",
        "    x = layers.Flatten()(x)\n",
        "    #x = layers.BatchNormalization(axis=-1)(x)\n",
        "    x = layers.Dense(16, activation='relu' ,  kernel_regularizer= 'l2',kernel_initializer='he_normal')(x)\n",
        "    x = layers.Dropout(0.1)(x)\n",
        "    x = layers.Dense(16, activation='relu')(x)\n",
        "    output = layers.Dense(2, activation='softmax' , kernel_regularizer= 'l2' , kernel_initializer='he_normal')(x)\n",
        "    model_cnn = keras.Model(inputs=visible, outputs=output)\n",
        "    # summarize layers\n",
        "    #print(model_cnn.summary())\n",
        "    model_cnn.compile(\n",
        "            loss = \"categorical_crossentropy\",\n",
        "            optimizer = keras.optimizers.Adam(learning_rate=0.0005),\n",
        "            metrics = [\"accuracy\"], \n",
        "        )\n",
        "    \n",
        "    return model_cnn\n"
      ],
      "execution_count": 29,
      "outputs": []
    },
    {
      "cell_type": "markdown",
      "metadata": {
        "id": "PDIgD1NKACZw"
      },
      "source": [
        "# Fully Connected network"
      ]
    },
    {
      "cell_type": "code",
      "metadata": {
        "id": "LqN7HM_fAF0n"
      },
      "source": [
        "\n",
        "def gen_model_fc():\n",
        "\n",
        "    inputs =  keras.Input(shape=(92,))\n",
        "    dense =  layers.Dense(32, activation='relu')\n",
        "    x = dense(inputs)\n",
        "    x = layers.Dense(32, activation='relu')(x)\n",
        "    x = layers.Dense(32, activation='relu')(x)\n",
        "    x = layers.Dense(16, activation='relu')(x)\n",
        "    outputs = layers.Dense(2 , activation='softmax')(x)\n",
        "    model = keras.Model(inputs=inputs , outputs=outputs , name='trial_model')\n",
        "    model.compile(\n",
        "        loss = \"categorical_crossentropy\",\n",
        "        optimizer = keras.optimizers.Adam(learning_rate=0.0005),\n",
        "        metrics = [\"accuracy\"],\n",
        "    )\n",
        "    return model\n"
      ],
      "execution_count": 30,
      "outputs": []
    },
    {
      "cell_type": "code",
      "metadata": {
        "colab": {
          "base_uri": "https://localhost:8080/"
        },
        "id": "EFqltFp1_BJ8",
        "outputId": "86a974b6-0ae2-4408-c150-ca8b40421162"
      },
      "source": [
        "acc_norm_cnn = mc_validation(gen_model_cnn , x_norm , y_norm , model_name = 'CNN' , d_type='Normalized')\n",
        "acc_std_cnn = mc_validation(gen_model_cnn , x_std , y_std ,  model_name = 'CNN' , d_type = 'Standardized')\n",
        "acc_og_cnn = mc_validation(gen_model_cnn , x_og , y_og ,  model_name = 'CNN' , d_type = 'None')\n",
        "\n",
        "acc_norm_fc = mc_validation(gen_model_fc , x_norm , y_norm , model_name = 'FC' , d_type='Normalized')\n",
        "acc_std_fc = mc_validation(gen_model_fc , x_std , y_std ,  model_name = 'FC'  , d_type = 'Standardized')\n",
        "acc_og_fc = mc_validation(gen_model_fc , x_og , y_og ,  model_name = 'FC' , d_type = 'None')\n"
      ],
      "execution_count": 31,
      "outputs": [
        {
          "output_type": "stream",
          "name": "stdout",
          "text": [
            "split_no 368\n"
          ]
        },
        {
          "output_type": "stream",
          "name": "stderr",
          "text": [
            "  3%|▎         | 1/32 [00:06<03:09,  6.11s/it]"
          ]
        },
        {
          "output_type": "stream",
          "name": "stdout",
          "text": [
            "-----------------------------------\n",
            "training_acc : 0.9701087\n",
            "test_acc : 0.8913044\n"
          ]
        },
        {
          "output_type": "stream",
          "name": "stderr",
          "text": [
            "\r  6%|▋         | 2/32 [00:12<03:01,  6.06s/it]"
          ]
        },
        {
          "output_type": "stream",
          "name": "stdout",
          "text": [
            "-----------------------------------\n",
            "training_acc : 0.9320652\n",
            "test_acc : 0.8695652\n"
          ]
        },
        {
          "output_type": "stream",
          "name": "stderr",
          "text": [
            "\r  9%|▉         | 3/32 [00:18<02:55,  6.06s/it]"
          ]
        },
        {
          "output_type": "stream",
          "name": "stdout",
          "text": [
            "-----------------------------------\n",
            "training_acc : 0.97282606\n",
            "test_acc : 0.9130435\n"
          ]
        },
        {
          "output_type": "stream",
          "name": "stderr",
          "text": [
            "\r 12%|█▎        | 4/32 [00:24<02:52,  6.16s/it]"
          ]
        },
        {
          "output_type": "stream",
          "name": "stdout",
          "text": [
            "-----------------------------------\n",
            "training_acc : 0.9673913\n",
            "test_acc : 0.8369565\n"
          ]
        },
        {
          "output_type": "stream",
          "name": "stderr",
          "text": [
            "\r 16%|█▌        | 5/32 [00:30<02:44,  6.11s/it]"
          ]
        },
        {
          "output_type": "stream",
          "name": "stdout",
          "text": [
            "-----------------------------------\n",
            "training_acc : 0.98097825\n",
            "test_acc : 0.8369565\n"
          ]
        },
        {
          "output_type": "stream",
          "name": "stderr",
          "text": [
            "\r 19%|█▉        | 6/32 [00:36<02:38,  6.10s/it]"
          ]
        },
        {
          "output_type": "stream",
          "name": "stdout",
          "text": [
            "-----------------------------------\n",
            "training_acc : 0.96467394\n",
            "test_acc : 0.8695652\n"
          ]
        },
        {
          "output_type": "stream",
          "name": "stderr",
          "text": [
            "\r 22%|██▏       | 7/32 [00:42<02:32,  6.08s/it]"
          ]
        },
        {
          "output_type": "stream",
          "name": "stdout",
          "text": [
            "-----------------------------------\n",
            "training_acc : 0.9320652\n",
            "test_acc : 0.8586956\n"
          ]
        },
        {
          "output_type": "stream",
          "name": "stderr",
          "text": [
            "\r 25%|██▌       | 8/32 [00:48<02:25,  6.08s/it]"
          ]
        },
        {
          "output_type": "stream",
          "name": "stdout",
          "text": [
            "-----------------------------------\n",
            "training_acc : 0.96467394\n",
            "test_acc : 0.8152174\n"
          ]
        },
        {
          "output_type": "stream",
          "name": "stderr",
          "text": [
            "\r 28%|██▊       | 9/32 [00:55<02:22,  6.19s/it]"
          ]
        },
        {
          "output_type": "stream",
          "name": "stdout",
          "text": [
            "-----------------------------------\n",
            "training_acc : 0.9211956\n",
            "test_acc : 0.9130435\n"
          ]
        },
        {
          "output_type": "stream",
          "name": "stderr",
          "text": [
            "\r 31%|███▏      | 10/32 [01:01<02:16,  6.18s/it]"
          ]
        },
        {
          "output_type": "stream",
          "name": "stdout",
          "text": [
            "-----------------------------------\n",
            "training_acc : 0.9592391\n",
            "test_acc : 0.8369565\n"
          ]
        },
        {
          "output_type": "stream",
          "name": "stderr",
          "text": [
            "\r 34%|███▍      | 11/32 [01:07<02:09,  6.18s/it]"
          ]
        },
        {
          "output_type": "stream",
          "name": "stdout",
          "text": [
            "-----------------------------------\n",
            "training_acc : 0.9782609\n",
            "test_acc : 0.84782606\n"
          ]
        },
        {
          "output_type": "stream",
          "name": "stderr",
          "text": [
            "\r 38%|███▊      | 12/32 [01:13<02:03,  6.15s/it]"
          ]
        },
        {
          "output_type": "stream",
          "name": "stdout",
          "text": [
            "-----------------------------------\n",
            "training_acc : 0.92663044\n",
            "test_acc : 0.8586956\n"
          ]
        },
        {
          "output_type": "stream",
          "name": "stderr",
          "text": [
            "\r 41%|████      | 13/32 [01:19<01:56,  6.14s/it]"
          ]
        },
        {
          "output_type": "stream",
          "name": "stdout",
          "text": [
            "-----------------------------------\n",
            "training_acc : 0.92391306\n",
            "test_acc : 0.8695652\n"
          ]
        },
        {
          "output_type": "stream",
          "name": "stderr",
          "text": [
            "\r 44%|████▍     | 14/32 [01:25<01:50,  6.14s/it]"
          ]
        },
        {
          "output_type": "stream",
          "name": "stdout",
          "text": [
            "-----------------------------------\n",
            "training_acc : 0.98097825\n",
            "test_acc : 0.8804348\n"
          ]
        },
        {
          "output_type": "stream",
          "name": "stderr",
          "text": [
            "\r 47%|████▋     | 15/32 [01:32<01:47,  6.30s/it]"
          ]
        },
        {
          "output_type": "stream",
          "name": "stdout",
          "text": [
            "-----------------------------------\n",
            "training_acc : 0.9402174\n",
            "test_acc : 0.8586956\n"
          ]
        },
        {
          "output_type": "stream",
          "name": "stderr",
          "text": [
            "\r 50%|█████     | 16/32 [01:39<01:41,  6.36s/it]"
          ]
        },
        {
          "output_type": "stream",
          "name": "stdout",
          "text": [
            "-----------------------------------\n",
            "training_acc : 0.9673913\n",
            "test_acc : 0.82608694\n"
          ]
        },
        {
          "output_type": "stream",
          "name": "stderr",
          "text": [
            "\r 53%|█████▎    | 17/32 [01:45<01:35,  6.38s/it]"
          ]
        },
        {
          "output_type": "stream",
          "name": "stdout",
          "text": [
            "-----------------------------------\n",
            "training_acc : 0.94836956\n",
            "test_acc : 0.8695652\n"
          ]
        },
        {
          "output_type": "stream",
          "name": "stderr",
          "text": [
            "\r 56%|█████▋    | 18/32 [01:51<01:29,  6.38s/it]"
          ]
        },
        {
          "output_type": "stream",
          "name": "stdout",
          "text": [
            "-----------------------------------\n",
            "training_acc : 0.9538044\n",
            "test_acc : 0.8695652\n"
          ]
        },
        {
          "output_type": "stream",
          "name": "stderr",
          "text": [
            "\r 59%|█████▉    | 19/32 [01:58<01:23,  6.39s/it]"
          ]
        },
        {
          "output_type": "stream",
          "name": "stdout",
          "text": [
            "-----------------------------------\n",
            "training_acc : 0.98641306\n",
            "test_acc : 0.8913044\n"
          ]
        },
        {
          "output_type": "stream",
          "name": "stderr",
          "text": [
            "\r 62%|██████▎   | 20/32 [02:04<01:16,  6.38s/it]"
          ]
        },
        {
          "output_type": "stream",
          "name": "stdout",
          "text": [
            "-----------------------------------\n",
            "training_acc : 0.96467394\n",
            "test_acc : 0.8804348\n"
          ]
        },
        {
          "output_type": "stream",
          "name": "stderr",
          "text": [
            "\r 66%|██████▌   | 21/32 [02:11<01:11,  6.47s/it]"
          ]
        },
        {
          "output_type": "stream",
          "name": "stdout",
          "text": [
            "-----------------------------------\n",
            "training_acc : 0.95652175\n",
            "test_acc : 0.84782606\n"
          ]
        },
        {
          "output_type": "stream",
          "name": "stderr",
          "text": [
            "\r 69%|██████▉   | 22/32 [02:17<01:04,  6.47s/it]"
          ]
        },
        {
          "output_type": "stream",
          "name": "stdout",
          "text": [
            "-----------------------------------\n",
            "training_acc : 0.9592391\n",
            "test_acc : 0.84782606\n"
          ]
        },
        {
          "output_type": "stream",
          "name": "stderr",
          "text": [
            "\r 72%|███████▏  | 23/32 [02:24<00:58,  6.45s/it]"
          ]
        },
        {
          "output_type": "stream",
          "name": "stdout",
          "text": [
            "-----------------------------------\n",
            "training_acc : 0.9673913\n",
            "test_acc : 0.90217394\n"
          ]
        },
        {
          "output_type": "stream",
          "name": "stderr",
          "text": [
            "\r 75%|███████▌  | 24/32 [02:30<00:51,  6.43s/it]"
          ]
        },
        {
          "output_type": "stream",
          "name": "stdout",
          "text": [
            "-----------------------------------\n",
            "training_acc : 0.9592391\n",
            "test_acc : 0.8586956\n"
          ]
        },
        {
          "output_type": "stream",
          "name": "stderr",
          "text": [
            "\r 78%|███████▊  | 25/32 [02:37<00:45,  6.46s/it]"
          ]
        },
        {
          "output_type": "stream",
          "name": "stdout",
          "text": [
            "-----------------------------------\n",
            "training_acc : 0.9945652\n",
            "test_acc : 0.8369565\n"
          ]
        },
        {
          "output_type": "stream",
          "name": "stderr",
          "text": [
            "\r 81%|████████▏ | 26/32 [02:43<00:38,  6.47s/it]"
          ]
        },
        {
          "output_type": "stream",
          "name": "stdout",
          "text": [
            "-----------------------------------\n",
            "training_acc : 0.96467394\n",
            "test_acc : 0.8586956\n"
          ]
        },
        {
          "output_type": "stream",
          "name": "stderr",
          "text": [
            "\r 84%|████████▍ | 27/32 [02:50<00:32,  6.56s/it]"
          ]
        },
        {
          "output_type": "stream",
          "name": "stdout",
          "text": [
            "-----------------------------------\n",
            "training_acc : 0.92663044\n",
            "test_acc : 0.8695652\n"
          ]
        },
        {
          "output_type": "stream",
          "name": "stderr",
          "text": [
            "\r 88%|████████▊ | 28/32 [02:56<00:26,  6.53s/it]"
          ]
        },
        {
          "output_type": "stream",
          "name": "stdout",
          "text": [
            "-----------------------------------\n",
            "training_acc : 0.9347826\n",
            "test_acc : 0.84782606\n"
          ]
        },
        {
          "output_type": "stream",
          "name": "stderr",
          "text": [
            "\r 91%|█████████ | 29/32 [03:03<00:19,  6.48s/it]"
          ]
        },
        {
          "output_type": "stream",
          "name": "stdout",
          "text": [
            "-----------------------------------\n",
            "training_acc : 0.97282606\n",
            "test_acc : 0.8913044\n"
          ]
        },
        {
          "output_type": "stream",
          "name": "stderr",
          "text": [
            "\r 94%|█████████▍| 30/32 [03:09<00:12,  6.45s/it]"
          ]
        },
        {
          "output_type": "stream",
          "name": "stdout",
          "text": [
            "-----------------------------------\n",
            "training_acc : 0.9347826\n",
            "test_acc : 0.8586956\n"
          ]
        },
        {
          "output_type": "stream",
          "name": "stderr",
          "text": [
            "\r 97%|█████████▋| 31/32 [03:15<00:06,  6.43s/it]"
          ]
        },
        {
          "output_type": "stream",
          "name": "stdout",
          "text": [
            "-----------------------------------\n",
            "training_acc : 0.9755435\n",
            "test_acc : 0.90217394\n"
          ]
        },
        {
          "output_type": "stream",
          "name": "stderr",
          "text": [
            "100%|██████████| 32/32 [03:22<00:00,  6.32s/it]\n"
          ]
        },
        {
          "output_type": "stream",
          "name": "stdout",
          "text": [
            "-----------------------------------\n",
            "training_acc : 0.97282606\n",
            "test_acc : 0.8695652\n",
            "split_no 368\n"
          ]
        },
        {
          "output_type": "stream",
          "name": "stderr",
          "text": [
            "  3%|▎         | 1/32 [00:06<03:26,  6.66s/it]"
          ]
        },
        {
          "output_type": "stream",
          "name": "stdout",
          "text": [
            "-----------------------------------\n",
            "training_acc : 0.9782609\n",
            "test_acc : 0.82608694\n"
          ]
        },
        {
          "output_type": "stream",
          "name": "stderr",
          "text": [
            "\r  6%|▋         | 2/32 [00:13<03:16,  6.55s/it]"
          ]
        },
        {
          "output_type": "stream",
          "name": "stdout",
          "text": [
            "-----------------------------------\n",
            "training_acc : 0.9755435\n",
            "test_acc : 0.8804348\n"
          ]
        },
        {
          "output_type": "stream",
          "name": "stderr",
          "text": [
            "\r  9%|▉         | 3/32 [00:19<03:08,  6.52s/it]"
          ]
        },
        {
          "output_type": "stream",
          "name": "stdout",
          "text": [
            "-----------------------------------\n",
            "training_acc : 0.98097825\n",
            "test_acc : 0.7826087\n"
          ]
        },
        {
          "output_type": "stream",
          "name": "stderr",
          "text": [
            "\r 12%|█▎        | 4/32 [00:26<03:02,  6.52s/it]"
          ]
        },
        {
          "output_type": "stream",
          "name": "stdout",
          "text": [
            "-----------------------------------\n",
            "training_acc : 0.9782609\n",
            "test_acc : 0.8804348\n"
          ]
        },
        {
          "output_type": "stream",
          "name": "stderr",
          "text": [
            "\r 16%|█▌        | 5/32 [00:32<02:57,  6.56s/it]"
          ]
        },
        {
          "output_type": "stream",
          "name": "stdout",
          "text": [
            "-----------------------------------\n",
            "training_acc : 0.96467394\n",
            "test_acc : 0.8152174\n"
          ]
        },
        {
          "output_type": "stream",
          "name": "stderr",
          "text": [
            "\r 19%|█▉        | 6/32 [00:39<02:52,  6.64s/it]"
          ]
        },
        {
          "output_type": "stream",
          "name": "stdout",
          "text": [
            "-----------------------------------\n",
            "training_acc : 0.98641306\n",
            "test_acc : 0.8369565\n"
          ]
        },
        {
          "output_type": "stream",
          "name": "stderr",
          "text": [
            "\r 22%|██▏       | 7/32 [00:46<02:44,  6.58s/it]"
          ]
        },
        {
          "output_type": "stream",
          "name": "stdout",
          "text": [
            "-----------------------------------\n",
            "training_acc : 0.98097825\n",
            "test_acc : 0.8369565\n"
          ]
        },
        {
          "output_type": "stream",
          "name": "stderr",
          "text": [
            "\r 25%|██▌       | 8/32 [00:52<02:37,  6.58s/it]"
          ]
        },
        {
          "output_type": "stream",
          "name": "stdout",
          "text": [
            "-----------------------------------\n",
            "training_acc : 0.9782609\n",
            "test_acc : 0.8369565\n"
          ]
        },
        {
          "output_type": "stream",
          "name": "stderr",
          "text": [
            "\r 28%|██▊       | 9/32 [00:59<02:31,  6.57s/it]"
          ]
        },
        {
          "output_type": "stream",
          "name": "stdout",
          "text": [
            "-----------------------------------\n",
            "training_acc : 0.9918478\n",
            "test_acc : 0.8586956\n"
          ]
        },
        {
          "output_type": "stream",
          "name": "stderr",
          "text": [
            "\r 31%|███▏      | 10/32 [01:05<02:24,  6.56s/it]"
          ]
        },
        {
          "output_type": "stream",
          "name": "stdout",
          "text": [
            "-----------------------------------\n",
            "training_acc : 0.9836956\n",
            "test_acc : 0.7826087\n"
          ]
        },
        {
          "output_type": "stream",
          "name": "stderr",
          "text": [
            "\r 34%|███▍      | 11/32 [01:12<02:16,  6.52s/it]"
          ]
        },
        {
          "output_type": "stream",
          "name": "stdout",
          "text": [
            "-----------------------------------\n",
            "training_acc : 0.9673913\n",
            "test_acc : 0.82608694\n"
          ]
        },
        {
          "output_type": "stream",
          "name": "stderr",
          "text": [
            "\r 38%|███▊      | 12/32 [01:19<02:13,  6.68s/it]"
          ]
        },
        {
          "output_type": "stream",
          "name": "stdout",
          "text": [
            "-----------------------------------\n",
            "training_acc : 0.9701087\n",
            "test_acc : 0.8043478\n"
          ]
        },
        {
          "output_type": "stream",
          "name": "stderr",
          "text": [
            "\r 41%|████      | 13/32 [01:25<02:07,  6.71s/it]"
          ]
        },
        {
          "output_type": "stream",
          "name": "stdout",
          "text": [
            "-----------------------------------\n",
            "training_acc : 0.96467394\n",
            "test_acc : 0.90217394\n"
          ]
        },
        {
          "output_type": "stream",
          "name": "stderr",
          "text": [
            "\r 44%|████▍     | 14/32 [01:32<02:00,  6.69s/it]"
          ]
        },
        {
          "output_type": "stream",
          "name": "stdout",
          "text": [
            "-----------------------------------\n",
            "training_acc : 0.9701087\n",
            "test_acc : 0.8152174\n"
          ]
        },
        {
          "output_type": "stream",
          "name": "stderr",
          "text": [
            "\r 47%|████▋     | 15/32 [01:39<01:53,  6.70s/it]"
          ]
        },
        {
          "output_type": "stream",
          "name": "stdout",
          "text": [
            "-----------------------------------\n",
            "training_acc : 0.9782609\n",
            "test_acc : 0.84782606\n"
          ]
        },
        {
          "output_type": "stream",
          "name": "stderr",
          "text": [
            "\r 50%|█████     | 16/32 [01:46<01:47,  6.70s/it]"
          ]
        },
        {
          "output_type": "stream",
          "name": "stdout",
          "text": [
            "-----------------------------------\n",
            "training_acc : 0.98913044\n",
            "test_acc : 0.84782606\n"
          ]
        },
        {
          "output_type": "stream",
          "name": "stderr",
          "text": [
            "\r 53%|█████▎    | 17/32 [01:52<01:40,  6.71s/it]"
          ]
        },
        {
          "output_type": "stream",
          "name": "stdout",
          "text": [
            "-----------------------------------\n",
            "training_acc : 0.9456522\n",
            "test_acc : 0.8695652\n"
          ]
        },
        {
          "output_type": "stream",
          "name": "stderr",
          "text": [
            "\r 56%|█████▋    | 18/32 [01:59<01:35,  6.80s/it]"
          ]
        },
        {
          "output_type": "stream",
          "name": "stdout",
          "text": [
            "-----------------------------------\n",
            "training_acc : 0.97282606\n",
            "test_acc : 0.8804348\n"
          ]
        },
        {
          "output_type": "stream",
          "name": "stderr",
          "text": [
            "\r 59%|█████▉    | 19/32 [02:06<01:27,  6.75s/it]"
          ]
        },
        {
          "output_type": "stream",
          "name": "stdout",
          "text": [
            "-----------------------------------\n",
            "training_acc : 0.9592391\n",
            "test_acc : 0.8804348\n"
          ]
        },
        {
          "output_type": "stream",
          "name": "stderr",
          "text": [
            "\r 62%|██████▎   | 20/32 [02:13<01:20,  6.73s/it]"
          ]
        },
        {
          "output_type": "stream",
          "name": "stdout",
          "text": [
            "-----------------------------------\n",
            "training_acc : 0.9918478\n",
            "test_acc : 0.7173913\n"
          ]
        },
        {
          "output_type": "stream",
          "name": "stderr",
          "text": [
            "\r 66%|██████▌   | 21/32 [02:19<01:13,  6.69s/it]"
          ]
        },
        {
          "output_type": "stream",
          "name": "stdout",
          "text": [
            "-----------------------------------\n",
            "training_acc : 0.95108694\n",
            "test_acc : 0.8369565\n"
          ]
        },
        {
          "output_type": "stream",
          "name": "stderr",
          "text": [
            "\r 69%|██████▉   | 22/32 [02:26<01:06,  6.70s/it]"
          ]
        },
        {
          "output_type": "stream",
          "name": "stdout",
          "text": [
            "-----------------------------------\n",
            "training_acc : 0.9755435\n",
            "test_acc : 0.8152174\n"
          ]
        },
        {
          "output_type": "stream",
          "name": "stderr",
          "text": [
            "\r 72%|███████▏  | 23/32 [02:32<00:59,  6.65s/it]"
          ]
        },
        {
          "output_type": "stream",
          "name": "stdout",
          "text": [
            "-----------------------------------\n",
            "training_acc : 0.9755435\n",
            "test_acc : 0.8152174\n"
          ]
        },
        {
          "output_type": "stream",
          "name": "stderr",
          "text": [
            "\r 75%|███████▌  | 24/32 [02:39<00:53,  6.70s/it]"
          ]
        },
        {
          "output_type": "stream",
          "name": "stdout",
          "text": [
            "-----------------------------------\n",
            "training_acc : 0.98913044\n",
            "test_acc : 0.8369565\n"
          ]
        },
        {
          "output_type": "stream",
          "name": "stderr",
          "text": [
            "\r 78%|███████▊  | 25/32 [02:46<00:46,  6.68s/it]"
          ]
        },
        {
          "output_type": "stream",
          "name": "stdout",
          "text": [
            "-----------------------------------\n",
            "training_acc : 0.9945652\n",
            "test_acc : 0.82608694\n"
          ]
        },
        {
          "output_type": "stream",
          "name": "stderr",
          "text": [
            "\r 81%|████████▏ | 26/32 [02:52<00:39,  6.64s/it]"
          ]
        },
        {
          "output_type": "stream",
          "name": "stdout",
          "text": [
            "-----------------------------------\n",
            "training_acc : 0.95652175\n",
            "test_acc : 0.8695652\n"
          ]
        },
        {
          "output_type": "stream",
          "name": "stderr",
          "text": [
            "\r 84%|████████▍ | 27/32 [02:59<00:33,  6.62s/it]"
          ]
        },
        {
          "output_type": "stream",
          "name": "stdout",
          "text": [
            "-----------------------------------\n",
            "training_acc : 0.97282606\n",
            "test_acc : 0.8586956\n"
          ]
        },
        {
          "output_type": "stream",
          "name": "stderr",
          "text": [
            "\r 88%|████████▊ | 28/32 [03:06<00:26,  6.61s/it]"
          ]
        },
        {
          "output_type": "stream",
          "name": "stdout",
          "text": [
            "-----------------------------------\n",
            "training_acc : 0.98913044\n",
            "test_acc : 0.84782606\n"
          ]
        },
        {
          "output_type": "stream",
          "name": "stderr",
          "text": [
            "\r 91%|█████████ | 29/32 [03:12<00:19,  6.61s/it]"
          ]
        },
        {
          "output_type": "stream",
          "name": "stdout",
          "text": [
            "-----------------------------------\n",
            "training_acc : 0.98913044\n",
            "test_acc : 0.9130435\n"
          ]
        },
        {
          "output_type": "stream",
          "name": "stderr",
          "text": [
            "\r 94%|█████████▍| 30/32 [03:19<00:13,  6.71s/it]"
          ]
        },
        {
          "output_type": "stream",
          "name": "stdout",
          "text": [
            "-----------------------------------\n",
            "training_acc : 0.97282606\n",
            "test_acc : 0.82608694\n"
          ]
        },
        {
          "output_type": "stream",
          "name": "stderr",
          "text": [
            "\r 97%|█████████▋| 31/32 [03:26<00:06,  6.72s/it]"
          ]
        },
        {
          "output_type": "stream",
          "name": "stdout",
          "text": [
            "-----------------------------------\n",
            "training_acc : 0.98641306\n",
            "test_acc : 0.8369565\n"
          ]
        },
        {
          "output_type": "stream",
          "name": "stderr",
          "text": [
            "100%|██████████| 32/32 [03:32<00:00,  6.65s/it]\n"
          ]
        },
        {
          "output_type": "stream",
          "name": "stdout",
          "text": [
            "-----------------------------------\n",
            "training_acc : 0.97282606\n",
            "test_acc : 0.8369565\n",
            "split_no 368\n"
          ]
        },
        {
          "output_type": "stream",
          "name": "stderr",
          "text": [
            "  3%|▎         | 1/32 [00:06<03:17,  6.37s/it]"
          ]
        },
        {
          "output_type": "stream",
          "name": "stdout",
          "text": [
            "-----------------------------------\n",
            "training_acc : 0.80163044\n",
            "test_acc : 0.7826087\n"
          ]
        },
        {
          "output_type": "stream",
          "name": "stderr",
          "text": [
            "\r  6%|▋         | 2/32 [00:12<03:12,  6.43s/it]"
          ]
        },
        {
          "output_type": "stream",
          "name": "stdout",
          "text": [
            "-----------------------------------\n",
            "training_acc : 0.8206522\n",
            "test_acc : 0.75\n"
          ]
        },
        {
          "output_type": "stream",
          "name": "stderr",
          "text": [
            "\r  9%|▉         | 3/32 [00:19<03:07,  6.45s/it]"
          ]
        },
        {
          "output_type": "stream",
          "name": "stdout",
          "text": [
            "-----------------------------------\n",
            "training_acc : 0.7717391\n",
            "test_acc : 0.7282609\n"
          ]
        },
        {
          "output_type": "stream",
          "name": "stderr",
          "text": [
            "\r 12%|█▎        | 4/32 [00:26<03:04,  6.58s/it]"
          ]
        },
        {
          "output_type": "stream",
          "name": "stdout",
          "text": [
            "-----------------------------------\n",
            "training_acc : 0.7907609\n",
            "test_acc : 0.7173913\n"
          ]
        },
        {
          "output_type": "stream",
          "name": "stderr",
          "text": [
            "\r 16%|█▌        | 5/32 [00:32<02:55,  6.51s/it]"
          ]
        },
        {
          "output_type": "stream",
          "name": "stdout",
          "text": [
            "-----------------------------------\n",
            "training_acc : 0.8125\n",
            "test_acc : 0.7826087\n"
          ]
        },
        {
          "output_type": "stream",
          "name": "stderr",
          "text": [
            "\r 19%|█▉        | 6/32 [00:38<02:49,  6.51s/it]"
          ]
        },
        {
          "output_type": "stream",
          "name": "stdout",
          "text": [
            "-----------------------------------\n",
            "training_acc : 0.7581522\n",
            "test_acc : 0.7282609\n"
          ]
        },
        {
          "output_type": "stream",
          "name": "stderr",
          "text": [
            "\r 22%|██▏       | 7/32 [00:45<02:41,  6.47s/it]"
          ]
        },
        {
          "output_type": "stream",
          "name": "stdout",
          "text": [
            "-----------------------------------\n",
            "training_acc : 0.7554348\n",
            "test_acc : 0.7826087\n"
          ]
        },
        {
          "output_type": "stream",
          "name": "stderr",
          "text": [
            "\r 25%|██▌       | 8/32 [00:51<02:34,  6.45s/it]"
          ]
        },
        {
          "output_type": "stream",
          "name": "stdout",
          "text": [
            "-----------------------------------\n",
            "training_acc : 0.8097826\n",
            "test_acc : 0.7282609\n"
          ]
        },
        {
          "output_type": "stream",
          "name": "stderr",
          "text": [
            "\r 28%|██▊       | 9/32 [00:58<02:28,  6.46s/it]"
          ]
        },
        {
          "output_type": "stream",
          "name": "stdout",
          "text": [
            "-----------------------------------\n",
            "training_acc : 0.73641306\n",
            "test_acc : 0.6847826\n"
          ]
        },
        {
          "output_type": "stream",
          "name": "stderr",
          "text": [
            "\r 31%|███▏      | 10/32 [01:04<02:23,  6.54s/it]"
          ]
        },
        {
          "output_type": "stream",
          "name": "stdout",
          "text": [
            "-----------------------------------\n",
            "training_acc : 0.8043478\n",
            "test_acc : 0.76086956\n"
          ]
        },
        {
          "output_type": "stream",
          "name": "stderr",
          "text": [
            "\r 34%|███▍      | 11/32 [01:11<02:17,  6.55s/it]"
          ]
        },
        {
          "output_type": "stream",
          "name": "stdout",
          "text": [
            "-----------------------------------\n",
            "training_acc : 0.7826087\n",
            "test_acc : 0.73913044\n"
          ]
        },
        {
          "output_type": "stream",
          "name": "stderr",
          "text": [
            "\r 38%|███▊      | 12/32 [01:18<02:10,  6.53s/it]"
          ]
        },
        {
          "output_type": "stream",
          "name": "stdout",
          "text": [
            "-----------------------------------\n",
            "training_acc : 0.7663044\n",
            "test_acc : 0.7282609\n"
          ]
        },
        {
          "output_type": "stream",
          "name": "stderr",
          "text": [
            "\r 41%|████      | 13/32 [01:24<02:03,  6.48s/it]"
          ]
        },
        {
          "output_type": "stream",
          "name": "stdout",
          "text": [
            "-----------------------------------\n",
            "training_acc : 0.78532606\n",
            "test_acc : 0.6847826\n"
          ]
        },
        {
          "output_type": "stream",
          "name": "stderr",
          "text": [
            "\r 44%|████▍     | 14/32 [01:30<01:55,  6.42s/it]"
          ]
        },
        {
          "output_type": "stream",
          "name": "stdout",
          "text": [
            "-----------------------------------\n",
            "training_acc : 0.7554348\n",
            "test_acc : 0.7717391\n"
          ]
        },
        {
          "output_type": "stream",
          "name": "stderr",
          "text": [
            "\r 47%|████▋     | 15/32 [01:37<01:48,  6.39s/it]"
          ]
        },
        {
          "output_type": "stream",
          "name": "stdout",
          "text": [
            "-----------------------------------\n",
            "training_acc : 0.7527174\n",
            "test_acc : 0.7173913\n"
          ]
        },
        {
          "output_type": "stream",
          "name": "stderr",
          "text": [
            "\r 50%|█████     | 16/32 [01:43<01:43,  6.47s/it]"
          ]
        },
        {
          "output_type": "stream",
          "name": "stdout",
          "text": [
            "-----------------------------------\n",
            "training_acc : 0.7255435\n",
            "test_acc : 0.6086956\n"
          ]
        },
        {
          "output_type": "stream",
          "name": "stderr",
          "text": [
            "\r 53%|█████▎    | 17/32 [01:50<01:36,  6.46s/it]"
          ]
        },
        {
          "output_type": "stream",
          "name": "stdout",
          "text": [
            "-----------------------------------\n",
            "training_acc : 0.76086956\n",
            "test_acc : 0.70652175\n"
          ]
        },
        {
          "output_type": "stream",
          "name": "stderr",
          "text": [
            "\r 56%|█████▋    | 18/32 [01:56<01:29,  6.41s/it]"
          ]
        },
        {
          "output_type": "stream",
          "name": "stdout",
          "text": [
            "-----------------------------------\n",
            "training_acc : 0.79347825\n",
            "test_acc : 0.7717391\n"
          ]
        },
        {
          "output_type": "stream",
          "name": "stderr",
          "text": [
            "\r 59%|█████▉    | 19/32 [02:02<01:22,  6.38s/it]"
          ]
        },
        {
          "output_type": "stream",
          "name": "stdout",
          "text": [
            "-----------------------------------\n",
            "training_acc : 0.7663044\n",
            "test_acc : 0.75\n"
          ]
        },
        {
          "output_type": "stream",
          "name": "stderr",
          "text": [
            "\r 62%|██████▎   | 20/32 [02:09<01:16,  6.38s/it]"
          ]
        },
        {
          "output_type": "stream",
          "name": "stdout",
          "text": [
            "-----------------------------------\n",
            "training_acc : 0.7581522\n",
            "test_acc : 0.73913044\n"
          ]
        },
        {
          "output_type": "stream",
          "name": "stderr",
          "text": [
            "\r 66%|██████▌   | 21/32 [02:15<01:09,  6.35s/it]"
          ]
        },
        {
          "output_type": "stream",
          "name": "stdout",
          "text": [
            "-----------------------------------\n",
            "training_acc : 0.7907609\n",
            "test_acc : 0.7173913\n"
          ]
        },
        {
          "output_type": "stream",
          "name": "stderr",
          "text": [
            "\r 69%|██████▉   | 22/32 [02:21<01:04,  6.43s/it]"
          ]
        },
        {
          "output_type": "stream",
          "name": "stdout",
          "text": [
            "-----------------------------------\n",
            "training_acc : 0.76902175\n",
            "test_acc : 0.82608694\n"
          ]
        },
        {
          "output_type": "stream",
          "name": "stderr",
          "text": [
            "\r 72%|███████▏  | 23/32 [02:28<00:57,  6.40s/it]"
          ]
        },
        {
          "output_type": "stream",
          "name": "stdout",
          "text": [
            "-----------------------------------\n",
            "training_acc : 0.8043478\n",
            "test_acc : 0.75\n"
          ]
        },
        {
          "output_type": "stream",
          "name": "stderr",
          "text": [
            "\r 75%|███████▌  | 24/32 [02:34<00:50,  6.36s/it]"
          ]
        },
        {
          "output_type": "stream",
          "name": "stdout",
          "text": [
            "-----------------------------------\n",
            "training_acc : 0.7663044\n",
            "test_acc : 0.7282609\n"
          ]
        },
        {
          "output_type": "stream",
          "name": "stderr",
          "text": [
            "\r 78%|███████▊  | 25/32 [02:40<00:44,  6.37s/it]"
          ]
        },
        {
          "output_type": "stream",
          "name": "stdout",
          "text": [
            "-----------------------------------\n",
            "training_acc : 0.79891306\n",
            "test_acc : 0.7826087\n"
          ]
        },
        {
          "output_type": "stream",
          "name": "stderr",
          "text": [
            "\r 81%|████████▏ | 26/32 [02:47<00:38,  6.34s/it]"
          ]
        },
        {
          "output_type": "stream",
          "name": "stdout",
          "text": [
            "-----------------------------------\n",
            "training_acc : 0.7880435\n",
            "test_acc : 0.65217394\n"
          ]
        },
        {
          "output_type": "stream",
          "name": "stderr",
          "text": [
            "\r 84%|████████▍ | 27/32 [02:53<00:32,  6.44s/it]"
          ]
        },
        {
          "output_type": "stream",
          "name": "stdout",
          "text": [
            "-----------------------------------\n",
            "training_acc : 0.79891306\n",
            "test_acc : 0.6195652\n"
          ]
        },
        {
          "output_type": "stream",
          "name": "stderr",
          "text": [
            "\r 88%|████████▊ | 28/32 [03:00<00:25,  6.43s/it]"
          ]
        },
        {
          "output_type": "stream",
          "name": "stdout",
          "text": [
            "-----------------------------------\n",
            "training_acc : 0.7554348\n",
            "test_acc : 0.73913044\n"
          ]
        },
        {
          "output_type": "stream",
          "name": "stderr",
          "text": [
            "\r 91%|█████████ | 29/32 [03:06<00:19,  6.43s/it]"
          ]
        },
        {
          "output_type": "stream",
          "name": "stdout",
          "text": [
            "-----------------------------------\n",
            "training_acc : 0.7554348\n",
            "test_acc : 0.6956522\n"
          ]
        },
        {
          "output_type": "stream",
          "name": "stderr",
          "text": [
            "\r 94%|█████████▍| 30/32 [03:13<00:12,  6.42s/it]"
          ]
        },
        {
          "output_type": "stream",
          "name": "stdout",
          "text": [
            "-----------------------------------\n",
            "training_acc : 0.8423913\n",
            "test_acc : 0.6630435\n"
          ]
        },
        {
          "output_type": "stream",
          "name": "stderr",
          "text": [
            "\r 97%|█████████▋| 31/32 [03:19<00:06,  6.42s/it]"
          ]
        },
        {
          "output_type": "stream",
          "name": "stdout",
          "text": [
            "-----------------------------------\n",
            "training_acc : 0.75\n",
            "test_acc : 0.7173913\n"
          ]
        },
        {
          "output_type": "stream",
          "name": "stderr",
          "text": [
            "100%|██████████| 32/32 [03:26<00:00,  6.44s/it]\n"
          ]
        },
        {
          "output_type": "stream",
          "name": "stdout",
          "text": [
            "-----------------------------------\n",
            "training_acc : 0.79891306\n",
            "test_acc : 0.6847826\n",
            "split_no 368\n"
          ]
        },
        {
          "output_type": "stream",
          "name": "stderr",
          "text": [
            "  3%|▎         | 1/32 [00:01<00:59,  1.92s/it]"
          ]
        },
        {
          "output_type": "stream",
          "name": "stdout",
          "text": [
            "-----------------------------------\n",
            "training_acc : 0.9673913\n",
            "test_acc : 0.8369565\n"
          ]
        },
        {
          "output_type": "stream",
          "name": "stderr",
          "text": [
            "\r  6%|▋         | 2/32 [00:03<00:59,  1.97s/it]"
          ]
        },
        {
          "output_type": "stream",
          "name": "stdout",
          "text": [
            "-----------------------------------\n",
            "training_acc : 0.97282606\n",
            "test_acc : 0.8804348\n"
          ]
        },
        {
          "output_type": "stream",
          "name": "stderr",
          "text": [
            "\r  9%|▉         | 3/32 [00:05<00:56,  1.94s/it]"
          ]
        },
        {
          "output_type": "stream",
          "name": "stdout",
          "text": [
            "-----------------------------------\n",
            "training_acc : 0.94836956\n",
            "test_acc : 0.8152174\n"
          ]
        },
        {
          "output_type": "stream",
          "name": "stderr",
          "text": [
            "\r 12%|█▎        | 4/32 [00:07<00:52,  1.86s/it]"
          ]
        },
        {
          "output_type": "stream",
          "name": "stdout",
          "text": [
            "-----------------------------------\n",
            "training_acc : 0.9782609\n",
            "test_acc : 0.84782606\n"
          ]
        },
        {
          "output_type": "stream",
          "name": "stderr",
          "text": [
            "\r 16%|█▌        | 5/32 [00:09<00:48,  1.81s/it]"
          ]
        },
        {
          "output_type": "stream",
          "name": "stdout",
          "text": [
            "-----------------------------------\n",
            "training_acc : 0.98913044\n",
            "test_acc : 0.8913044\n"
          ]
        },
        {
          "output_type": "stream",
          "name": "stderr",
          "text": [
            "\r 19%|█▉        | 6/32 [00:11<00:47,  1.84s/it]"
          ]
        },
        {
          "output_type": "stream",
          "name": "stdout",
          "text": [
            "-----------------------------------\n",
            "training_acc : 0.9782609\n",
            "test_acc : 0.8152174\n"
          ]
        },
        {
          "output_type": "stream",
          "name": "stderr",
          "text": [
            "\r 22%|██▏       | 7/32 [00:12<00:44,  1.80s/it]"
          ]
        },
        {
          "output_type": "stream",
          "name": "stdout",
          "text": [
            "-----------------------------------\n",
            "training_acc : 0.98097825\n",
            "test_acc : 0.84782606\n"
          ]
        },
        {
          "output_type": "stream",
          "name": "stderr",
          "text": [
            "\r 25%|██▌       | 8/32 [00:14<00:44,  1.84s/it]"
          ]
        },
        {
          "output_type": "stream",
          "name": "stdout",
          "text": [
            "-----------------------------------\n",
            "training_acc : 0.98097825\n",
            "test_acc : 0.8695652\n"
          ]
        },
        {
          "output_type": "stream",
          "name": "stderr",
          "text": [
            "\r 28%|██▊       | 9/32 [00:16<00:41,  1.79s/it]"
          ]
        },
        {
          "output_type": "stream",
          "name": "stdout",
          "text": [
            "-----------------------------------\n",
            "training_acc : 0.98641306\n",
            "test_acc : 0.8586956\n"
          ]
        },
        {
          "output_type": "stream",
          "name": "stderr",
          "text": [
            "\r 31%|███▏      | 10/32 [00:18<00:40,  1.82s/it]"
          ]
        },
        {
          "output_type": "stream",
          "name": "stdout",
          "text": [
            "-----------------------------------\n",
            "training_acc : 0.9836956\n",
            "test_acc : 0.79347825\n"
          ]
        },
        {
          "output_type": "stream",
          "name": "stderr",
          "text": [
            "\r 34%|███▍      | 11/32 [00:20<00:39,  1.88s/it]"
          ]
        },
        {
          "output_type": "stream",
          "name": "stdout",
          "text": [
            "-----------------------------------\n",
            "training_acc : 0.98097825\n",
            "test_acc : 0.8913044\n"
          ]
        },
        {
          "output_type": "stream",
          "name": "stderr",
          "text": [
            "\r 38%|███▊      | 12/32 [00:22<00:37,  1.89s/it]"
          ]
        },
        {
          "output_type": "stream",
          "name": "stdout",
          "text": [
            "-----------------------------------\n",
            "training_acc : 0.9836956\n",
            "test_acc : 0.8152174\n"
          ]
        },
        {
          "output_type": "stream",
          "name": "stderr",
          "text": [
            "\r 41%|████      | 13/32 [00:24<00:34,  1.83s/it]"
          ]
        },
        {
          "output_type": "stream",
          "name": "stdout",
          "text": [
            "-----------------------------------\n",
            "training_acc : 0.9782609\n",
            "test_acc : 0.8695652\n"
          ]
        },
        {
          "output_type": "stream",
          "name": "stderr",
          "text": [
            "\r 44%|████▍     | 14/32 [00:25<00:33,  1.86s/it]"
          ]
        },
        {
          "output_type": "stream",
          "name": "stdout",
          "text": [
            "-----------------------------------\n",
            "training_acc : 0.9755435\n",
            "test_acc : 0.8586956\n"
          ]
        },
        {
          "output_type": "stream",
          "name": "stderr",
          "text": [
            "\r 47%|████▋     | 15/32 [00:27<00:30,  1.81s/it]"
          ]
        },
        {
          "output_type": "stream",
          "name": "stdout",
          "text": [
            "-----------------------------------\n",
            "training_acc : 0.9701087\n",
            "test_acc : 0.8043478\n"
          ]
        },
        {
          "output_type": "stream",
          "name": "stderr",
          "text": [
            "\r 50%|█████     | 16/32 [00:29<00:28,  1.78s/it]"
          ]
        },
        {
          "output_type": "stream",
          "name": "stdout",
          "text": [
            "-----------------------------------\n",
            "training_acc : 0.9701087\n",
            "test_acc : 0.8695652\n"
          ]
        },
        {
          "output_type": "stream",
          "name": "stderr",
          "text": [
            "\r 53%|█████▎    | 17/32 [00:31<00:27,  1.82s/it]"
          ]
        },
        {
          "output_type": "stream",
          "name": "stdout",
          "text": [
            "-----------------------------------\n",
            "training_acc : 0.98097825\n",
            "test_acc : 0.84782606\n"
          ]
        },
        {
          "output_type": "stream",
          "name": "stderr",
          "text": [
            "\r 56%|█████▋    | 18/32 [00:32<00:24,  1.78s/it]"
          ]
        },
        {
          "output_type": "stream",
          "name": "stdout",
          "text": [
            "-----------------------------------\n",
            "training_acc : 0.98097825\n",
            "test_acc : 0.82608694\n"
          ]
        },
        {
          "output_type": "stream",
          "name": "stderr",
          "text": [
            "\r 59%|█████▉    | 19/32 [00:34<00:23,  1.82s/it]"
          ]
        },
        {
          "output_type": "stream",
          "name": "stdout",
          "text": [
            "-----------------------------------\n",
            "training_acc : 0.9836956\n",
            "test_acc : 0.84782606\n"
          ]
        },
        {
          "output_type": "stream",
          "name": "stderr",
          "text": [
            "\r 62%|██████▎   | 20/32 [00:37<00:23,  1.94s/it]"
          ]
        },
        {
          "output_type": "stream",
          "name": "stdout",
          "text": [
            "-----------------------------------\n",
            "training_acc : 0.9592391\n",
            "test_acc : 0.9130435\n"
          ]
        },
        {
          "output_type": "stream",
          "name": "stderr",
          "text": [
            "\r 66%|██████▌   | 21/32 [00:38<00:20,  1.87s/it]"
          ]
        },
        {
          "output_type": "stream",
          "name": "stdout",
          "text": [
            "-----------------------------------\n",
            "training_acc : 0.98913044\n",
            "test_acc : 0.8369565\n"
          ]
        },
        {
          "output_type": "stream",
          "name": "stderr",
          "text": [
            "\r 69%|██████▉   | 22/32 [00:40<00:18,  1.89s/it]"
          ]
        },
        {
          "output_type": "stream",
          "name": "stdout",
          "text": [
            "-----------------------------------\n",
            "training_acc : 0.9836956\n",
            "test_acc : 0.8369565\n"
          ]
        },
        {
          "output_type": "stream",
          "name": "stderr",
          "text": [
            "\r 72%|███████▏  | 23/32 [00:42<00:17,  1.89s/it]"
          ]
        },
        {
          "output_type": "stream",
          "name": "stdout",
          "text": [
            "-----------------------------------\n",
            "training_acc : 0.9701087\n",
            "test_acc : 0.8586956\n"
          ]
        },
        {
          "output_type": "stream",
          "name": "stderr",
          "text": [
            "\r 75%|███████▌  | 24/32 [00:44<00:14,  1.83s/it]"
          ]
        },
        {
          "output_type": "stream",
          "name": "stdout",
          "text": [
            "-----------------------------------\n",
            "training_acc : 0.98097825\n",
            "test_acc : 0.8369565\n"
          ]
        },
        {
          "output_type": "stream",
          "name": "stderr",
          "text": [
            "\r 78%|███████▊  | 25/32 [00:46<00:12,  1.80s/it]"
          ]
        },
        {
          "output_type": "stream",
          "name": "stdout",
          "text": [
            "-----------------------------------\n",
            "training_acc : 0.9782609\n",
            "test_acc : 0.8913044\n"
          ]
        },
        {
          "output_type": "stream",
          "name": "stderr",
          "text": [
            "\r 81%|████████▏ | 26/32 [00:47<00:10,  1.83s/it]"
          ]
        },
        {
          "output_type": "stream",
          "name": "stdout",
          "text": [
            "-----------------------------------\n",
            "training_acc : 0.98097825\n",
            "test_acc : 0.8695652\n"
          ]
        },
        {
          "output_type": "stream",
          "name": "stderr",
          "text": [
            "\r 84%|████████▍ | 27/32 [00:49<00:09,  1.86s/it]"
          ]
        },
        {
          "output_type": "stream",
          "name": "stdout",
          "text": [
            "-----------------------------------\n",
            "training_acc : 0.96467394\n",
            "test_acc : 0.84782606\n"
          ]
        },
        {
          "output_type": "stream",
          "name": "stderr",
          "text": [
            "\r 88%|████████▊ | 28/32 [00:51<00:07,  1.87s/it]"
          ]
        },
        {
          "output_type": "stream",
          "name": "stdout",
          "text": [
            "-----------------------------------\n",
            "training_acc : 0.98097825\n",
            "test_acc : 0.84782606\n"
          ]
        },
        {
          "output_type": "stream",
          "name": "stderr",
          "text": [
            "\r 91%|█████████ | 29/32 [00:53<00:05,  1.91s/it]"
          ]
        },
        {
          "output_type": "stream",
          "name": "stdout",
          "text": [
            "-----------------------------------\n",
            "training_acc : 0.9945652\n",
            "test_acc : 0.8152174\n"
          ]
        },
        {
          "output_type": "stream",
          "name": "stderr",
          "text": [
            "\r 94%|█████████▍| 30/32 [00:55<00:03,  1.85s/it]"
          ]
        },
        {
          "output_type": "stream",
          "name": "stdout",
          "text": [
            "-----------------------------------\n",
            "training_acc : 0.9836956\n",
            "test_acc : 0.8695652\n"
          ]
        },
        {
          "output_type": "stream",
          "name": "stderr",
          "text": [
            "\r 97%|█████████▋| 31/32 [00:57<00:01,  1.82s/it]"
          ]
        },
        {
          "output_type": "stream",
          "name": "stdout",
          "text": [
            "-----------------------------------\n",
            "training_acc : 0.9755435\n",
            "test_acc : 0.82608694\n"
          ]
        },
        {
          "output_type": "stream",
          "name": "stderr",
          "text": [
            "100%|██████████| 32/32 [00:58<00:00,  1.84s/it]\n"
          ]
        },
        {
          "output_type": "stream",
          "name": "stdout",
          "text": [
            "-----------------------------------\n",
            "training_acc : 0.9755435\n",
            "test_acc : 0.8804348\n",
            "split_no 368\n"
          ]
        },
        {
          "output_type": "stream",
          "name": "stderr",
          "text": [
            "  3%|▎         | 1/32 [00:01<00:53,  1.73s/it]"
          ]
        },
        {
          "output_type": "stream",
          "name": "stdout",
          "text": [
            "-----------------------------------\n",
            "training_acc : 1.0\n",
            "test_acc : 0.9347826\n"
          ]
        },
        {
          "output_type": "stream",
          "name": "stderr",
          "text": [
            "\r  6%|▋         | 2/32 [00:03<00:54,  1.83s/it]"
          ]
        },
        {
          "output_type": "stream",
          "name": "stdout",
          "text": [
            "-----------------------------------\n",
            "training_acc : 1.0\n",
            "test_acc : 0.8913044\n"
          ]
        },
        {
          "output_type": "stream",
          "name": "stderr",
          "text": [
            "\r  9%|▉         | 3/32 [00:05<00:51,  1.77s/it]"
          ]
        },
        {
          "output_type": "stream",
          "name": "stdout",
          "text": [
            "-----------------------------------\n",
            "training_acc : 1.0\n",
            "test_acc : 0.8804348\n"
          ]
        },
        {
          "output_type": "stream",
          "name": "stderr",
          "text": [
            "\r 12%|█▎        | 4/32 [00:07<00:49,  1.76s/it]"
          ]
        },
        {
          "output_type": "stream",
          "name": "stdout",
          "text": [
            "-----------------------------------\n",
            "training_acc : 1.0\n",
            "test_acc : 0.8804348\n"
          ]
        },
        {
          "output_type": "stream",
          "name": "stderr",
          "text": [
            "\r 16%|█▌        | 5/32 [00:08<00:48,  1.81s/it]"
          ]
        },
        {
          "output_type": "stream",
          "name": "stdout",
          "text": [
            "-----------------------------------\n",
            "training_acc : 1.0\n",
            "test_acc : 0.84782606\n"
          ]
        },
        {
          "output_type": "stream",
          "name": "stderr",
          "text": [
            "\r 19%|█▉        | 6/32 [00:11<00:49,  1.89s/it]"
          ]
        },
        {
          "output_type": "stream",
          "name": "stdout",
          "text": [
            "-----------------------------------\n",
            "training_acc : 1.0\n",
            "test_acc : 0.90217394\n"
          ]
        },
        {
          "output_type": "stream",
          "name": "stderr",
          "text": [
            "\r 22%|██▏       | 7/32 [00:12<00:47,  1.90s/it]"
          ]
        },
        {
          "output_type": "stream",
          "name": "stdout",
          "text": [
            "-----------------------------------\n",
            "training_acc : 1.0\n",
            "test_acc : 0.8804348\n"
          ]
        },
        {
          "output_type": "stream",
          "name": "stderr",
          "text": [
            "\r 25%|██▌       | 8/32 [00:14<00:44,  1.84s/it]"
          ]
        },
        {
          "output_type": "stream",
          "name": "stdout",
          "text": [
            "-----------------------------------\n",
            "training_acc : 1.0\n",
            "test_acc : 0.8152174\n"
          ]
        },
        {
          "output_type": "stream",
          "name": "stderr",
          "text": [
            "\r 28%|██▊       | 9/32 [00:16<00:41,  1.80s/it]"
          ]
        },
        {
          "output_type": "stream",
          "name": "stdout",
          "text": [
            "-----------------------------------\n",
            "training_acc : 1.0\n",
            "test_acc : 0.8804348\n"
          ]
        },
        {
          "output_type": "stream",
          "name": "stderr",
          "text": [
            "\r 31%|███▏      | 10/32 [00:18<00:40,  1.84s/it]"
          ]
        },
        {
          "output_type": "stream",
          "name": "stdout",
          "text": [
            "-----------------------------------\n",
            "training_acc : 1.0\n",
            "test_acc : 0.9456522\n"
          ]
        },
        {
          "output_type": "stream",
          "name": "stderr",
          "text": [
            "\r 34%|███▍      | 11/32 [00:20<00:37,  1.81s/it]"
          ]
        },
        {
          "output_type": "stream",
          "name": "stdout",
          "text": [
            "-----------------------------------\n",
            "training_acc : 1.0\n",
            "test_acc : 0.9347826\n"
          ]
        },
        {
          "output_type": "stream",
          "name": "stderr",
          "text": [
            "\r 38%|███▊      | 12/32 [00:21<00:35,  1.78s/it]"
          ]
        },
        {
          "output_type": "stream",
          "name": "stdout",
          "text": [
            "-----------------------------------\n",
            "training_acc : 0.9972826\n",
            "test_acc : 0.8913044\n"
          ]
        },
        {
          "output_type": "stream",
          "name": "stderr",
          "text": [
            "\r 41%|████      | 13/32 [00:23<00:34,  1.82s/it]"
          ]
        },
        {
          "output_type": "stream",
          "name": "stdout",
          "text": [
            "-----------------------------------\n",
            "training_acc : 1.0\n",
            "test_acc : 0.84782606\n"
          ]
        },
        {
          "output_type": "stream",
          "name": "stderr",
          "text": [
            "\r 44%|████▍     | 14/32 [00:25<00:32,  1.79s/it]"
          ]
        },
        {
          "output_type": "stream",
          "name": "stdout",
          "text": [
            "-----------------------------------\n",
            "training_acc : 1.0\n",
            "test_acc : 0.8695652\n"
          ]
        },
        {
          "output_type": "stream",
          "name": "stderr",
          "text": [
            "\r 47%|████▋     | 15/32 [00:27<00:31,  1.86s/it]"
          ]
        },
        {
          "output_type": "stream",
          "name": "stdout",
          "text": [
            "-----------------------------------\n",
            "training_acc : 1.0\n",
            "test_acc : 0.90217394\n"
          ]
        },
        {
          "output_type": "stream",
          "name": "stderr",
          "text": [
            "\r 50%|█████     | 16/32 [00:29<00:30,  1.88s/it]"
          ]
        },
        {
          "output_type": "stream",
          "name": "stdout",
          "text": [
            "-----------------------------------\n",
            "training_acc : 1.0\n",
            "test_acc : 0.8586956\n"
          ]
        },
        {
          "output_type": "stream",
          "name": "stderr",
          "text": [
            "\r 53%|█████▎    | 17/32 [00:31<00:27,  1.84s/it]"
          ]
        },
        {
          "output_type": "stream",
          "name": "stdout",
          "text": [
            "-----------------------------------\n",
            "training_acc : 1.0\n",
            "test_acc : 0.8913044\n"
          ]
        },
        {
          "output_type": "stream",
          "name": "stderr",
          "text": [
            "\r 56%|█████▋    | 18/32 [00:32<00:25,  1.80s/it]"
          ]
        },
        {
          "output_type": "stream",
          "name": "stdout",
          "text": [
            "-----------------------------------\n",
            "training_acc : 1.0\n",
            "test_acc : 0.8586956\n"
          ]
        },
        {
          "output_type": "stream",
          "name": "stderr",
          "text": [
            "\r 59%|█████▉    | 19/32 [00:34<00:23,  1.79s/it]"
          ]
        },
        {
          "output_type": "stream",
          "name": "stdout",
          "text": [
            "-----------------------------------\n",
            "training_acc : 1.0\n",
            "test_acc : 0.84782606\n"
          ]
        },
        {
          "output_type": "stream",
          "name": "stderr",
          "text": [
            "\r 62%|██████▎   | 20/32 [00:36<00:21,  1.83s/it]"
          ]
        },
        {
          "output_type": "stream",
          "name": "stdout",
          "text": [
            "-----------------------------------\n",
            "training_acc : 1.0\n",
            "test_acc : 0.92391306\n"
          ]
        },
        {
          "output_type": "stream",
          "name": "stderr",
          "text": [
            "\r 66%|██████▌   | 21/32 [00:38<00:20,  1.85s/it]"
          ]
        },
        {
          "output_type": "stream",
          "name": "stdout",
          "text": [
            "-----------------------------------\n",
            "training_acc : 1.0\n",
            "test_acc : 0.8695652\n"
          ]
        },
        {
          "output_type": "stream",
          "name": "stderr",
          "text": [
            "\r 69%|██████▉   | 22/32 [00:40<00:18,  1.82s/it]"
          ]
        },
        {
          "output_type": "stream",
          "name": "stdout",
          "text": [
            "-----------------------------------\n",
            "training_acc : 1.0\n",
            "test_acc : 0.8586956\n"
          ]
        },
        {
          "output_type": "stream",
          "name": "stderr",
          "text": [
            "\r 72%|███████▏  | 23/32 [00:42<00:16,  1.85s/it]"
          ]
        },
        {
          "output_type": "stream",
          "name": "stdout",
          "text": [
            "-----------------------------------\n",
            "training_acc : 1.0\n",
            "test_acc : 0.8586956\n"
          ]
        },
        {
          "output_type": "stream",
          "name": "stderr",
          "text": [
            "\r 75%|███████▌  | 24/32 [00:44<00:15,  1.90s/it]"
          ]
        },
        {
          "output_type": "stream",
          "name": "stdout",
          "text": [
            "-----------------------------------\n",
            "training_acc : 1.0\n",
            "test_acc : 0.8695652\n"
          ]
        },
        {
          "output_type": "stream",
          "name": "stderr",
          "text": [
            "\r 78%|███████▊  | 25/32 [00:45<00:12,  1.85s/it]"
          ]
        },
        {
          "output_type": "stream",
          "name": "stdout",
          "text": [
            "-----------------------------------\n",
            "training_acc : 1.0\n",
            "test_acc : 0.90217394\n"
          ]
        },
        {
          "output_type": "stream",
          "name": "stderr",
          "text": [
            "\r 81%|████████▏ | 26/32 [00:47<00:10,  1.82s/it]"
          ]
        },
        {
          "output_type": "stream",
          "name": "stdout",
          "text": [
            "-----------------------------------\n",
            "training_acc : 1.0\n",
            "test_acc : 0.8804348\n"
          ]
        },
        {
          "output_type": "stream",
          "name": "stderr",
          "text": [
            "\r 84%|████████▍ | 27/32 [00:49<00:09,  1.85s/it]"
          ]
        },
        {
          "output_type": "stream",
          "name": "stdout",
          "text": [
            "-----------------------------------\n",
            "training_acc : 1.0\n",
            "test_acc : 0.8913044\n"
          ]
        },
        {
          "output_type": "stream",
          "name": "stderr",
          "text": [
            "\r 88%|████████▊ | 28/32 [00:51<00:07,  1.81s/it]"
          ]
        },
        {
          "output_type": "stream",
          "name": "stdout",
          "text": [
            "-----------------------------------\n",
            "training_acc : 1.0\n",
            "test_acc : 0.9130435\n"
          ]
        },
        {
          "output_type": "stream",
          "name": "stderr",
          "text": [
            "\r 91%|█████████ | 29/32 [00:53<00:05,  1.85s/it]"
          ]
        },
        {
          "output_type": "stream",
          "name": "stdout",
          "text": [
            "-----------------------------------\n",
            "training_acc : 1.0\n",
            "test_acc : 0.8369565\n"
          ]
        },
        {
          "output_type": "stream",
          "name": "stderr",
          "text": [
            "\r 94%|█████████▍| 30/32 [00:54<00:03,  1.82s/it]"
          ]
        },
        {
          "output_type": "stream",
          "name": "stdout",
          "text": [
            "-----------------------------------\n",
            "training_acc : 1.0\n",
            "test_acc : 0.8913044\n"
          ]
        },
        {
          "output_type": "stream",
          "name": "stderr",
          "text": [
            "\r 97%|█████████▋| 31/32 [00:56<00:01,  1.79s/it]"
          ]
        },
        {
          "output_type": "stream",
          "name": "stdout",
          "text": [
            "-----------------------------------\n",
            "training_acc : 1.0\n",
            "test_acc : 0.84782606\n"
          ]
        },
        {
          "output_type": "stream",
          "name": "stderr",
          "text": [
            "100%|██████████| 32/32 [00:58<00:00,  1.82s/it]\n"
          ]
        },
        {
          "output_type": "stream",
          "name": "stdout",
          "text": [
            "-----------------------------------\n",
            "training_acc : 1.0\n",
            "test_acc : 0.8695652\n",
            "split_no 368\n"
          ]
        },
        {
          "output_type": "stream",
          "name": "stderr",
          "text": [
            "  3%|▎         | 1/32 [00:02<01:09,  2.23s/it]"
          ]
        },
        {
          "output_type": "stream",
          "name": "stdout",
          "text": [
            "-----------------------------------\n",
            "training_acc : 0.9456522\n",
            "test_acc : 0.8043478\n"
          ]
        },
        {
          "output_type": "stream",
          "name": "stderr",
          "text": [
            "\r  6%|▋         | 2/32 [00:03<00:57,  1.92s/it]"
          ]
        },
        {
          "output_type": "stream",
          "name": "stdout",
          "text": [
            "-----------------------------------\n",
            "training_acc : 0.9538044\n",
            "test_acc : 0.8043478\n"
          ]
        },
        {
          "output_type": "stream",
          "name": "stderr",
          "text": [
            "\r  9%|▉         | 3/32 [00:05<00:55,  1.92s/it]"
          ]
        },
        {
          "output_type": "stream",
          "name": "stdout",
          "text": [
            "-----------------------------------\n",
            "training_acc : 0.96467394\n",
            "test_acc : 0.7717391\n"
          ]
        },
        {
          "output_type": "stream",
          "name": "stderr",
          "text": [
            "\r 12%|█▎        | 4/32 [00:07<00:53,  1.91s/it]"
          ]
        },
        {
          "output_type": "stream",
          "name": "stdout",
          "text": [
            "-----------------------------------\n",
            "training_acc : 0.9701087\n",
            "test_acc : 0.84782606\n"
          ]
        },
        {
          "output_type": "stream",
          "name": "stderr",
          "text": [
            "\r 16%|█▌        | 5/32 [00:09<00:50,  1.86s/it]"
          ]
        },
        {
          "output_type": "stream",
          "name": "stdout",
          "text": [
            "-----------------------------------\n",
            "training_acc : 0.92663044\n",
            "test_acc : 0.7173913\n"
          ]
        },
        {
          "output_type": "stream",
          "name": "stderr",
          "text": [
            "\r 19%|█▉        | 6/32 [00:11<00:47,  1.82s/it]"
          ]
        },
        {
          "output_type": "stream",
          "name": "stdout",
          "text": [
            "-----------------------------------\n",
            "training_acc : 0.8913044\n",
            "test_acc : 0.79347825\n"
          ]
        },
        {
          "output_type": "stream",
          "name": "stderr",
          "text": [
            "\r 22%|██▏       | 7/32 [00:13<00:46,  1.85s/it]"
          ]
        },
        {
          "output_type": "stream",
          "name": "stdout",
          "text": [
            "-----------------------------------\n",
            "training_acc : 0.96467394\n",
            "test_acc : 0.8043478\n"
          ]
        },
        {
          "output_type": "stream",
          "name": "stderr",
          "text": [
            "\r 25%|██▌       | 8/32 [00:15<00:45,  1.88s/it]"
          ]
        },
        {
          "output_type": "stream",
          "name": "stdout",
          "text": [
            "-----------------------------------\n",
            "training_acc : 0.9293478\n",
            "test_acc : 0.7282609\n"
          ]
        },
        {
          "output_type": "stream",
          "name": "stderr",
          "text": [
            "\r 28%|██▊       | 9/32 [00:17<00:43,  1.89s/it]"
          ]
        },
        {
          "output_type": "stream",
          "name": "stdout",
          "text": [
            "-----------------------------------\n",
            "training_acc : 0.9402174\n",
            "test_acc : 0.79347825\n"
          ]
        },
        {
          "output_type": "stream",
          "name": "stderr",
          "text": [
            "\r 31%|███▏      | 10/32 [00:19<00:42,  1.93s/it]"
          ]
        },
        {
          "output_type": "stream",
          "name": "stdout",
          "text": [
            "-----------------------------------\n",
            "training_acc : 0.9375\n",
            "test_acc : 0.75\n"
          ]
        },
        {
          "output_type": "stream",
          "name": "stderr",
          "text": [
            "\r 34%|███▍      | 11/32 [00:20<00:39,  1.88s/it]"
          ]
        },
        {
          "output_type": "stream",
          "name": "stdout",
          "text": [
            "-----------------------------------\n",
            "training_acc : 0.9293478\n",
            "test_acc : 0.75\n"
          ]
        },
        {
          "output_type": "stream",
          "name": "stderr",
          "text": [
            "\r 38%|███▊      | 12/32 [00:22<00:37,  1.89s/it]"
          ]
        },
        {
          "output_type": "stream",
          "name": "stdout",
          "text": [
            "-----------------------------------\n",
            "training_acc : 0.9157609\n",
            "test_acc : 0.70652175\n"
          ]
        },
        {
          "output_type": "stream",
          "name": "stderr",
          "text": [
            "\r 41%|████      | 13/32 [00:24<00:36,  1.90s/it]"
          ]
        },
        {
          "output_type": "stream",
          "name": "stdout",
          "text": [
            "-----------------------------------\n",
            "training_acc : 0.91847825\n",
            "test_acc : 0.8043478\n"
          ]
        },
        {
          "output_type": "stream",
          "name": "stderr",
          "text": [
            "\r 44%|████▍     | 14/32 [00:26<00:33,  1.85s/it]"
          ]
        },
        {
          "output_type": "stream",
          "name": "stdout",
          "text": [
            "-----------------------------------\n",
            "training_acc : 0.97282606\n",
            "test_acc : 0.7826087\n"
          ]
        },
        {
          "output_type": "stream",
          "name": "stderr",
          "text": [
            "\r 47%|████▋     | 15/32 [00:28<00:30,  1.81s/it]"
          ]
        },
        {
          "output_type": "stream",
          "name": "stdout",
          "text": [
            "-----------------------------------\n",
            "training_acc : 0.9320652\n",
            "test_acc : 0.7826087\n"
          ]
        },
        {
          "output_type": "stream",
          "name": "stderr",
          "text": [
            "\r 50%|█████     | 16/32 [00:30<00:29,  1.85s/it]"
          ]
        },
        {
          "output_type": "stream",
          "name": "stdout",
          "text": [
            "-----------------------------------\n",
            "training_acc : 0.97282606\n",
            "test_acc : 0.8043478\n"
          ]
        },
        {
          "output_type": "stream",
          "name": "stderr",
          "text": [
            "\r 53%|█████▎    | 17/32 [00:31<00:27,  1.81s/it]"
          ]
        },
        {
          "output_type": "stream",
          "name": "stdout",
          "text": [
            "-----------------------------------\n",
            "training_acc : 0.9130435\n",
            "test_acc : 0.84782606\n"
          ]
        },
        {
          "output_type": "stream",
          "name": "stderr",
          "text": [
            "\r 56%|█████▋    | 18/32 [00:33<00:24,  1.78s/it]"
          ]
        },
        {
          "output_type": "stream",
          "name": "stdout",
          "text": [
            "-----------------------------------\n",
            "training_acc : 0.92663044\n",
            "test_acc : 0.8369565\n"
          ]
        },
        {
          "output_type": "stream",
          "name": "stderr",
          "text": [
            "\r 59%|█████▉    | 19/32 [00:35<00:23,  1.84s/it]"
          ]
        },
        {
          "output_type": "stream",
          "name": "stdout",
          "text": [
            "-----------------------------------\n",
            "training_acc : 0.96467394\n",
            "test_acc : 0.76086956\n"
          ]
        },
        {
          "output_type": "stream",
          "name": "stderr",
          "text": [
            "\r 62%|██████▎   | 20/32 [00:37<00:22,  1.86s/it]"
          ]
        },
        {
          "output_type": "stream",
          "name": "stdout",
          "text": [
            "-----------------------------------\n",
            "training_acc : 0.95108694\n",
            "test_acc : 0.7717391\n"
          ]
        },
        {
          "output_type": "stream",
          "name": "stderr",
          "text": [
            "\r 66%|██████▌   | 21/32 [00:39<00:20,  1.88s/it]"
          ]
        },
        {
          "output_type": "stream",
          "name": "stdout",
          "text": [
            "-----------------------------------\n",
            "training_acc : 0.9619565\n",
            "test_acc : 0.82608694\n"
          ]
        },
        {
          "output_type": "stream",
          "name": "stderr",
          "text": [
            "\r 69%|██████▉   | 22/32 [00:41<00:18,  1.89s/it]"
          ]
        },
        {
          "output_type": "stream",
          "name": "stdout",
          "text": [
            "-----------------------------------\n",
            "training_acc : 0.9347826\n",
            "test_acc : 0.7717391\n"
          ]
        },
        {
          "output_type": "stream",
          "name": "stderr",
          "text": [
            "\r 72%|███████▏  | 23/32 [00:42<00:16,  1.84s/it]"
          ]
        },
        {
          "output_type": "stream",
          "name": "stdout",
          "text": [
            "-----------------------------------\n",
            "training_acc : 0.9320652\n",
            "test_acc : 0.75\n"
          ]
        },
        {
          "output_type": "stream",
          "name": "stderr",
          "text": [
            "\r 75%|███████▌  | 24/32 [00:44<00:14,  1.80s/it]"
          ]
        },
        {
          "output_type": "stream",
          "name": "stdout",
          "text": [
            "-----------------------------------\n",
            "training_acc : 0.91847825\n",
            "test_acc : 0.8043478\n"
          ]
        },
        {
          "output_type": "stream",
          "name": "stderr",
          "text": [
            "\r 78%|███████▊  | 25/32 [00:46<00:12,  1.77s/it]"
          ]
        },
        {
          "output_type": "stream",
          "name": "stdout",
          "text": [
            "-----------------------------------\n",
            "training_acc : 0.9592391\n",
            "test_acc : 0.7826087\n"
          ]
        },
        {
          "output_type": "stream",
          "name": "stderr",
          "text": [
            "\r 81%|████████▏ | 26/32 [00:48<00:10,  1.82s/it]"
          ]
        },
        {
          "output_type": "stream",
          "name": "stdout",
          "text": [
            "-----------------------------------\n",
            "training_acc : 0.9429348\n",
            "test_acc : 0.73913044\n"
          ]
        },
        {
          "output_type": "stream",
          "name": "stderr",
          "text": [
            "\r 84%|████████▍ | 27/32 [00:50<00:08,  1.79s/it]"
          ]
        },
        {
          "output_type": "stream",
          "name": "stdout",
          "text": [
            "-----------------------------------\n",
            "training_acc : 0.9320652\n",
            "test_acc : 0.84782606\n"
          ]
        },
        {
          "output_type": "stream",
          "name": "stderr",
          "text": [
            "\r 88%|████████▊ | 28/32 [00:52<00:07,  1.85s/it]"
          ]
        },
        {
          "output_type": "stream",
          "name": "stdout",
          "text": [
            "-----------------------------------\n",
            "training_acc : 0.95652175\n",
            "test_acc : 0.8152174\n"
          ]
        },
        {
          "output_type": "stream",
          "name": "stderr",
          "text": [
            "\r 91%|█████████ | 29/32 [00:53<00:05,  1.88s/it]"
          ]
        },
        {
          "output_type": "stream",
          "name": "stdout",
          "text": [
            "-----------------------------------\n",
            "training_acc : 0.94836956\n",
            "test_acc : 0.8152174\n"
          ]
        },
        {
          "output_type": "stream",
          "name": "stderr",
          "text": [
            "\r 94%|█████████▍| 30/32 [00:55<00:03,  1.84s/it]"
          ]
        },
        {
          "output_type": "stream",
          "name": "stdout",
          "text": [
            "-----------------------------------\n",
            "training_acc : 0.9619565\n",
            "test_acc : 0.8695652\n"
          ]
        },
        {
          "output_type": "stream",
          "name": "stderr",
          "text": [
            "\r 97%|█████████▋| 31/32 [00:57<00:01,  1.86s/it]"
          ]
        },
        {
          "output_type": "stream",
          "name": "stdout",
          "text": [
            "-----------------------------------\n",
            "training_acc : 0.9402174\n",
            "test_acc : 0.79347825\n"
          ]
        },
        {
          "output_type": "stream",
          "name": "stderr",
          "text": [
            "100%|██████████| 32/32 [00:59<00:00,  1.85s/it]"
          ]
        },
        {
          "output_type": "stream",
          "name": "stdout",
          "text": [
            "-----------------------------------\n",
            "training_acc : 0.9538044\n",
            "test_acc : 0.84782606\n"
          ]
        },
        {
          "output_type": "stream",
          "name": "stderr",
          "text": [
            "\n"
          ]
        }
      ]
    },
    {
      "cell_type": "code",
      "metadata": {
        "colab": {
          "base_uri": "https://localhost:8080/",
          "height": 419
        },
        "id": "UVzr0GoSRlFF",
        "outputId": "0735a5e8-4d10-4710-d12d-c01177f295a2"
      },
      "source": [
        "display(acc_std_fc)"
      ],
      "execution_count": 32,
      "outputs": [
        {
          "output_type": "display_data",
          "data": {
            "text/html": [
              "<div>\n",
              "<style scoped>\n",
              "    .dataframe tbody tr th:only-of-type {\n",
              "        vertical-align: middle;\n",
              "    }\n",
              "\n",
              "    .dataframe tbody tr th {\n",
              "        vertical-align: top;\n",
              "    }\n",
              "\n",
              "    .dataframe thead th {\n",
              "        text-align: right;\n",
              "    }\n",
              "</style>\n",
              "<table border=\"1\" class=\"dataframe\">\n",
              "  <thead>\n",
              "    <tr style=\"text-align: right;\">\n",
              "      <th></th>\n",
              "      <th>model</th>\n",
              "      <th>data_processing</th>\n",
              "      <th>acc_type</th>\n",
              "      <th>accuracy</th>\n",
              "    </tr>\n",
              "  </thead>\n",
              "  <tbody>\n",
              "    <tr>\n",
              "      <th>0</th>\n",
              "      <td>FC</td>\n",
              "      <td>Standardized</td>\n",
              "      <td>Train_acc</td>\n",
              "      <td>1.000000</td>\n",
              "    </tr>\n",
              "    <tr>\n",
              "      <th>1</th>\n",
              "      <td>FC</td>\n",
              "      <td>Standardized</td>\n",
              "      <td>Train_acc</td>\n",
              "      <td>1.000000</td>\n",
              "    </tr>\n",
              "    <tr>\n",
              "      <th>2</th>\n",
              "      <td>FC</td>\n",
              "      <td>Standardized</td>\n",
              "      <td>Train_acc</td>\n",
              "      <td>1.000000</td>\n",
              "    </tr>\n",
              "    <tr>\n",
              "      <th>3</th>\n",
              "      <td>FC</td>\n",
              "      <td>Standardized</td>\n",
              "      <td>Train_acc</td>\n",
              "      <td>1.000000</td>\n",
              "    </tr>\n",
              "    <tr>\n",
              "      <th>4</th>\n",
              "      <td>FC</td>\n",
              "      <td>Standardized</td>\n",
              "      <td>Train_acc</td>\n",
              "      <td>1.000000</td>\n",
              "    </tr>\n",
              "    <tr>\n",
              "      <th>...</th>\n",
              "      <td>...</td>\n",
              "      <td>...</td>\n",
              "      <td>...</td>\n",
              "      <td>...</td>\n",
              "    </tr>\n",
              "    <tr>\n",
              "      <th>59</th>\n",
              "      <td>FC</td>\n",
              "      <td>Standardized</td>\n",
              "      <td>Test_acc</td>\n",
              "      <td>0.913043</td>\n",
              "    </tr>\n",
              "    <tr>\n",
              "      <th>60</th>\n",
              "      <td>FC</td>\n",
              "      <td>Standardized</td>\n",
              "      <td>Test_acc</td>\n",
              "      <td>0.836957</td>\n",
              "    </tr>\n",
              "    <tr>\n",
              "      <th>61</th>\n",
              "      <td>FC</td>\n",
              "      <td>Standardized</td>\n",
              "      <td>Test_acc</td>\n",
              "      <td>0.891304</td>\n",
              "    </tr>\n",
              "    <tr>\n",
              "      <th>62</th>\n",
              "      <td>FC</td>\n",
              "      <td>Standardized</td>\n",
              "      <td>Test_acc</td>\n",
              "      <td>0.847826</td>\n",
              "    </tr>\n",
              "    <tr>\n",
              "      <th>63</th>\n",
              "      <td>FC</td>\n",
              "      <td>Standardized</td>\n",
              "      <td>Test_acc</td>\n",
              "      <td>0.869565</td>\n",
              "    </tr>\n",
              "  </tbody>\n",
              "</table>\n",
              "<p>64 rows × 4 columns</p>\n",
              "</div>"
            ],
            "text/plain": [
              "   model data_processing   acc_type  accuracy\n",
              "0     FC    Standardized  Train_acc  1.000000\n",
              "1     FC    Standardized  Train_acc  1.000000\n",
              "2     FC    Standardized  Train_acc  1.000000\n",
              "3     FC    Standardized  Train_acc  1.000000\n",
              "4     FC    Standardized  Train_acc  1.000000\n",
              "..   ...             ...        ...       ...\n",
              "59    FC    Standardized   Test_acc  0.913043\n",
              "60    FC    Standardized   Test_acc  0.836957\n",
              "61    FC    Standardized   Test_acc  0.891304\n",
              "62    FC    Standardized   Test_acc  0.847826\n",
              "63    FC    Standardized   Test_acc  0.869565\n",
              "\n",
              "[64 rows x 4 columns]"
            ]
          },
          "metadata": {}
        }
      ]
    },
    {
      "cell_type": "code",
      "metadata": {
        "id": "kNnIekr8W663"
      },
      "source": [
        "acc_norm_cnn = acc_norm_cnn.reset_index(drop=True)\n",
        "acc_std_cnn =  acc_std_cnn.reset_index(drop=True)\n",
        "acc_og_cnn =  acc_og_cnn.reset_index(drop=True)\n",
        "\n",
        "acc_norm_fc = acc_norm_fc.reset_index(drop=True)\n",
        "acc_std_fc =  acc_std_fc.reset_index(drop=True)\n",
        "acc_og_fc =  acc_og_fc.reset_index(drop=True)"
      ],
      "execution_count": 33,
      "outputs": []
    },
    {
      "cell_type": "code",
      "metadata": {
        "colab": {
          "base_uri": "https://localhost:8080/"
        },
        "id": "CIbxjmjcXSRW",
        "outputId": "c78f9d28-1f18-43a5-92b7-e86e6e856cde"
      },
      "source": [
        "acc_data = pd.concat([acc_norm_cnn , acc_norm_fc , acc_std_cnn , acc_std_fc , acc_og_cnn , acc_og_fc]).reset_index(drop=True)\n",
        "print(acc_data)"
      ],
      "execution_count": 35,
      "outputs": [
        {
          "output_type": "stream",
          "name": "stdout",
          "text": [
            "    model data_processing   acc_type  accuracy\n",
            "0     CNN      Normalized  Train_acc  0.970109\n",
            "1     CNN      Normalized  Train_acc  0.932065\n",
            "2     CNN      Normalized  Train_acc  0.972826\n",
            "3     CNN      Normalized  Train_acc  0.967391\n",
            "4     CNN      Normalized  Train_acc  0.980978\n",
            "..    ...             ...        ...       ...\n",
            "379    FC            None   Test_acc  0.815217\n",
            "380    FC            None   Test_acc  0.815217\n",
            "381    FC            None   Test_acc  0.869565\n",
            "382    FC            None   Test_acc  0.793478\n",
            "383    FC            None   Test_acc  0.847826\n",
            "\n",
            "[384 rows x 4 columns]\n"
          ]
        }
      ]
    },
    {
      "cell_type": "code",
      "metadata": {
        "id": "_DjgPt2jY0vQ"
      },
      "source": [
        "acc_data.to_csv('/content/drive/MyDrive/thesis_data/accuracy_result')"
      ],
      "execution_count": 46,
      "outputs": []
    },
    {
      "cell_type": "code",
      "metadata": {
        "id": "W0EFNyEUX4SV"
      },
      "source": [
        "import seaborn as sns"
      ],
      "execution_count": 37,
      "outputs": []
    },
    {
      "cell_type": "code",
      "metadata": {
        "colab": {
          "base_uri": "https://localhost:8080/",
          "height": 441
        },
        "id": "FpbLca7dXh13",
        "outputId": "5ba384f2-47e0-416b-cb2f-0228f2e9594d"
      },
      "source": [
        "sns.set_style('whitegrid')\n",
        "sns.catplot(data = acc_data , y='accuracy' , x = 'data_processing' ,\n",
        "            hue= 'acc_type' , col = 'model' , kind='box' ,\n",
        "            palette = 'crest' , height=6 , aspect=8/6\n",
        "            )\n",
        "plt.savefig('/content/drive/MyDrive/thesis_data/acc_result_plot.jpg')\n",
        "plt.show()"
      ],
      "execution_count": 50,
      "outputs": [
        {
          "output_type": "display_data",
          "data": {
            "image/png": "[encoded data removed]",
            "text/plain": [
              "<Figure size 1234.12x432 with 2 Axes>"
            ]
          },
          "metadata": {}
        }
      ]
    },
    {
      "cell_type": "code",
      "metadata": {
        "id": "Xms50iVCKuYZ"
      },
      "source": [
        "acc_data_fc = pd.concat([acc_norm_fc , acc_std_fc , acc_og_fc]).reset_index(drop=True)"
      ],
      "execution_count": 75,
      "outputs": []
    },
    {
      "cell_type": "code",
      "metadata": {
        "id": "egPMzeJtLu_q"
      },
      "source": [
        "acc_data_cnn = pd.concat([acc_norm_cnn , acc_std_cnn , acc_og_cnn]).reset_index(drop=True)"
      ],
      "execution_count": null,
      "outputs": []
    },
    {
      "cell_type": "code",
      "metadata": {
        "colab": {
          "base_uri": "https://localhost:8080/",
          "height": 419
        },
        "id": "c0k4b5HrLDTg",
        "outputId": "cdf4f25d-bab0-46f7-c920-afdc6b5fee73"
      },
      "source": [
        "display(acc_data_cnn)"
      ],
      "execution_count": 66,
      "outputs": [
        {
          "output_type": "display_data",
          "data": {
            "text/html": [
              "<div>\n",
              "<style scoped>\n",
              "    .dataframe tbody tr th:only-of-type {\n",
              "        vertical-align: middle;\n",
              "    }\n",
              "\n",
              "    .dataframe tbody tr th {\n",
              "        vertical-align: top;\n",
              "    }\n",
              "\n",
              "    .dataframe thead th {\n",
              "        text-align: right;\n",
              "    }\n",
              "</style>\n",
              "<table border=\"1\" class=\"dataframe\">\n",
              "  <thead>\n",
              "    <tr style=\"text-align: right;\">\n",
              "      <th></th>\n",
              "      <th>data_processing</th>\n",
              "      <th>model</th>\n",
              "      <th>train_acc</th>\n",
              "      <th>test_acc</th>\n",
              "    </tr>\n",
              "  </thead>\n",
              "  <tbody>\n",
              "    <tr>\n",
              "      <th>0</th>\n",
              "      <td>Normalized</td>\n",
              "      <td>CNN</td>\n",
              "      <td>0.972826</td>\n",
              "      <td>0.880435</td>\n",
              "    </tr>\n",
              "    <tr>\n",
              "      <th>1</th>\n",
              "      <td>Normalized</td>\n",
              "      <td>CNN</td>\n",
              "      <td>0.921196</td>\n",
              "      <td>0.891304</td>\n",
              "    </tr>\n",
              "    <tr>\n",
              "      <th>2</th>\n",
              "      <td>Normalized</td>\n",
              "      <td>CNN</td>\n",
              "      <td>0.959239</td>\n",
              "      <td>0.847826</td>\n",
              "    </tr>\n",
              "    <tr>\n",
              "      <th>3</th>\n",
              "      <td>Normalized</td>\n",
              "      <td>CNN</td>\n",
              "      <td>0.967391</td>\n",
              "      <td>0.913043</td>\n",
              "    </tr>\n",
              "    <tr>\n",
              "      <th>4</th>\n",
              "      <td>Normalized</td>\n",
              "      <td>CNN</td>\n",
              "      <td>0.945652</td>\n",
              "      <td>0.880435</td>\n",
              "    </tr>\n",
              "    <tr>\n",
              "      <th>...</th>\n",
              "      <td>...</td>\n",
              "      <td>...</td>\n",
              "      <td>...</td>\n",
              "      <td>...</td>\n",
              "    </tr>\n",
              "    <tr>\n",
              "      <th>91</th>\n",
              "      <td>None</td>\n",
              "      <td>CNN</td>\n",
              "      <td>0.967391</td>\n",
              "      <td>0.880435</td>\n",
              "    </tr>\n",
              "    <tr>\n",
              "      <th>92</th>\n",
              "      <td>None</td>\n",
              "      <td>CNN</td>\n",
              "      <td>0.959239</td>\n",
              "      <td>0.836957</td>\n",
              "    </tr>\n",
              "    <tr>\n",
              "      <th>93</th>\n",
              "      <td>None</td>\n",
              "      <td>CNN</td>\n",
              "      <td>0.980978</td>\n",
              "      <td>0.793478</td>\n",
              "    </tr>\n",
              "    <tr>\n",
              "      <th>94</th>\n",
              "      <td>None</td>\n",
              "      <td>CNN</td>\n",
              "      <td>0.948370</td>\n",
              "      <td>0.847826</td>\n",
              "    </tr>\n",
              "    <tr>\n",
              "      <th>95</th>\n",
              "      <td>None</td>\n",
              "      <td>CNN</td>\n",
              "      <td>0.964674</td>\n",
              "      <td>0.869565</td>\n",
              "    </tr>\n",
              "  </tbody>\n",
              "</table>\n",
              "<p>96 rows × 4 columns</p>\n",
              "</div>"
            ],
            "text/plain": [
              "   data_processing model  train_acc  test_acc\n",
              "0       Normalized   CNN   0.972826  0.880435\n",
              "1       Normalized   CNN   0.921196  0.891304\n",
              "2       Normalized   CNN   0.959239  0.847826\n",
              "3       Normalized   CNN   0.967391  0.913043\n",
              "4       Normalized   CNN   0.945652  0.880435\n",
              "..             ...   ...        ...       ...\n",
              "91            None   CNN   0.967391  0.880435\n",
              "92            None   CNN   0.959239  0.836957\n",
              "93            None   CNN   0.980978  0.793478\n",
              "94            None   CNN   0.948370  0.847826\n",
              "95            None   CNN   0.964674  0.869565\n",
              "\n",
              "[96 rows x 4 columns]"
            ]
          },
          "metadata": {}
        }
      ]
    },
    {
      "cell_type": "code",
      "metadata": {
        "colab": {
          "base_uri": "https://localhost:8080/",
          "height": 285
        },
        "id": "RLxGXuhVJ8N7",
        "outputId": "5c592ddd-4189-4c83-e52e-3ddd47e8ccf0"
      },
      "source": [
        "import seaborn as sns\n",
        "sns.set_theme(style=\"whitegrid\")\n",
        "ax = sns.boxplot(data= acc_data_cnn , y='test_acc' , x='data_processing' , palette='copper' , dodge=True)\n",
        "#ax = sns.swarmplot(data= acc_data , y='acc' , x='model' , hue='type' , palette='copper' , dodge=False , color=\".25\")\n",
        "plt.show()"
      ],
      "execution_count": 70,
      "outputs": [
        {
          "output_type": "display_data",
          "data": {
            "image/png": "[encoded data removed]",
            "text/plain": [
              "<Figure size 432x288 with 1 Axes>"
            ]
          },
          "metadata": {}
        }
      ]
    },
    {
      "cell_type": "code",
      "metadata": {
        "colab": {
          "base_uri": "https://localhost:8080/",
          "height": 285
        },
        "id": "lwWttcl2L_GE",
        "outputId": "c2d7d920-366c-4e47-fd4d-5a5968fbae94"
      },
      "source": [
        "import seaborn as sns\n",
        "sns.set_theme(style=\"whitegrid\")\n",
        "ax = sns.boxplot(data= acc_data_fc , y='test_acc' , x='data_processing' , palette='copper' , dodge=True)\n",
        "#ax = sns.swarmplot(data= acc_data , y='acc' , x='model' , hue='type' , palette='copper' , dodge=False , color=\".25\")\n",
        "plt.show()"
      ],
      "execution_count": 79,
      "outputs": [
        {
          "output_type": "display_data",
          "data": {
            "image/png": "[encoded data removed]",
            "text/plain": [
              "<Figure size 432x288 with 1 Axes>"
            ]
          },
          "metadata": {}
        }
      ]
    },
    {
      "cell_type": "code",
      "metadata": {
        "id": "pwgq4uNeLciG"
      },
      "source": [
        ""
      ],
      "execution_count": null,
      "outputs": []
    }
  ]
}