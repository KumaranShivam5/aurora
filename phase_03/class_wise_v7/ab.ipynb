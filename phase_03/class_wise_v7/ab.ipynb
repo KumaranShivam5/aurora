{
 "cells": [
  {
   "cell_type": "code",
   "execution_count": 1,
   "source": [
    "import numpy as np\n",
    "import pandas as pd "
   ],
   "outputs": [],
   "metadata": {}
  },
  {
   "cell_type": "code",
   "execution_count": 113,
   "source": [
    "def comp(theta , pos):\n",
    "    val = (np.sin(theta - pos)/2)**2\n",
    "    return val "
   ],
   "outputs": [],
   "metadata": {}
  },
  {
   "cell_type": "code",
   "execution_count": 114,
   "source": [
    "def update_temp(th , temp , pos):\n",
    "    if(comp(th , temp ) > comp(th , pos)):\n",
    "        temp = temp+pos \n",
    "    else: temp = temp-pos\n",
    "    return temp "
   ],
   "outputs": [],
   "metadata": {}
  },
  {
   "cell_type": "code",
   "execution_count": 127,
   "source": [
    "def calc_phi(th):\n",
    "    temp = 0\n",
    "    for k in range(len(pos)):\n",
    "        temp = update_temp(th , temp , pos[k])\n",
    "    #print(temp)\n",
    "    return temp"
   ],
   "outputs": [],
   "metadata": {}
  },
  {
   "cell_type": "code",
   "execution_count": 125,
   "source": [
    "calc_phi(1)"
   ],
   "outputs": [
    {
     "output_type": "stream",
     "name": "stdout",
     "text": [
      "16.177343000822646\n"
     ]
    },
    {
     "output_type": "execute_result",
     "data": {
      "text/plain": [
       "16.177343000822646"
      ]
     },
     "metadata": {},
     "execution_count": 125
    }
   ],
   "metadata": {}
  },
  {
   "cell_type": "code",
   "execution_count": 134,
   "source": [
    "dim = 90\n",
    "pos = np.random.uniform(0,1 , (dim))\n",
    "pos = np.append( [0] , pos )\n",
    "temp = 0 \n",
    "\n",
    "theta =  np.random.uniform(0, np.pi , size= (10*dim**2))\n",
    "ph_arr = [calc_phi(th) for th in theta]\n",
    "\n",
    "print(len(ph_arr))"
   ],
   "outputs": [
    {
     "output_type": "stream",
     "name": "stdout",
     "text": [
      "81000\n"
     ]
    }
   ],
   "metadata": {}
  },
  {
   "cell_type": "code",
   "execution_count": 131,
   "source": [
    "theta = []\n",
    "phi = []\n",
    "for i in range(10*dim**2):\n",
    "    th = np.random.uniform(0,np.pi)\n",
    "    theta.append(th)\n",
    "    phi.append(calc_phi(th))"
   ],
   "outputs": [],
   "metadata": {}
  },
  {
   "cell_type": "code",
   "execution_count": 97,
   "source": [
    "calc_phi(1)"
   ],
   "outputs": [
    {
     "output_type": "execute_result",
     "data": {
      "text/plain": [
       "-46.92492021048233"
      ]
     },
     "metadata": {},
     "execution_count": 97
    }
   ],
   "metadata": {}
  },
  {
   "cell_type": "code",
   "execution_count": 130,
   "source": [
    "for x, y in zip(theta[:10] , ph_arr[:10]):\n",
    "    print(x,y)"
   ],
   "outputs": [
    {
     "output_type": "stream",
     "name": "stdout",
     "text": [
      "1.4355908440298921 0.11521950607908416\n",
      "2.5165052516522084 -20.587013401977377\n",
      "0.6847402639725253 25.587125857291046\n",
      "2.506272255942073 -17.08179156035107\n",
      "1.386201629026889 0.11521950607908416\n",
      "1.8851374747145635 -16.94662205031469\n",
      "2.564652099886438 -14.196615455028509\n",
      "0.39348677909082014 17.07553381767617\n",
      "2.7275763561285005 -7.192020783167795\n",
      "2.317369440670384 -33.41664165267228\n"
     ]
    }
   ],
   "metadata": {}
  }
 ],
 "metadata": {
  "orig_nbformat": 4,
  "language_info": {
   "name": "python",
   "version": "3.6.9",
   "mimetype": "text/x-python",
   "codemirror_mode": {
    "name": "ipython",
    "version": 3
   },
   "pygments_lexer": "ipython3",
   "nbconvert_exporter": "python",
   "file_extension": ".py"
  },
  "kernelspec": {
   "name": "python3",
   "display_name": "Python 3.6.9 64-bit"
  },
  "interpreter": {
   "hash": "31f2aee4e71d21fbe5cf8b01ff0e069b9275f58929596ceb00d14d90e3e16cd6"
  }
 },
 "nbformat": 4,
 "nbformat_minor": 2
}